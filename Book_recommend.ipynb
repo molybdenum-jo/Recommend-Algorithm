{
  "cells": [
    {
      "cell_type": "markdown",
      "metadata": {
        "id": "view-in-github",
        "colab_type": "text"
      },
      "source": [
        "<a href=\"https://colab.research.google.com/github/molybdenum-jo/Recommend-Algorithm/blob/main/Book_recommend.ipynb\" target=\"_parent\"><img src=\"https://colab.research.google.com/assets/colab-badge.svg\" alt=\"Open In Colab\"/></a>"
      ]
    },
    {
      "cell_type": "code",
      "execution_count": null,
      "metadata": {
        "id": "U4pY0x4TU3-k"
      },
      "outputs": [],
      "source": [
        "!pip install transformers --upgrade --q\n",
        "!pip install accelerate --q\n",
        "!pip install datasets --q"
      ]
    },
    {
      "cell_type": "code",
      "execution_count": null,
      "metadata": {
        "colab": {
          "base_uri": "https://localhost:8080/"
        },
        "id": "tlq7DLP7U6Zr",
        "outputId": "4578abc0-267c-47fc-e9fa-031128375826"
      },
      "outputs": [
        {
          "output_type": "execute_result",
          "data": {
            "text/plain": [
              "1682585046.1753964"
            ]
          },
          "metadata": {},
          "execution_count": 2
        }
      ],
      "source": [
        "import time\n",
        "start_time = time.time()\n",
        "start_time"
      ]
    },
    {
      "cell_type": "code",
      "execution_count": null,
      "metadata": {
        "id": "2-TSGC_iR8xp"
      },
      "outputs": [],
      "source": [
        "import pandas as pd\n",
        "import numpy as np\n",
        "import seaborn as sns\n",
        "import matplotlib.pyplot as plt\n"
      ]
    },
    {
      "cell_type": "code",
      "source": [
        "!pip install scikit-surprise\n"
      ],
      "metadata": {
        "colab": {
          "base_uri": "https://localhost:8080/"
        },
        "id": "Jv7hvX_BJdcP",
        "outputId": "e83fb1c6-cd8e-4f48-f6f2-275cefc4960c"
      },
      "execution_count": null,
      "outputs": [
        {
          "output_type": "stream",
          "name": "stdout",
          "text": [
            "Looking in indexes: https://pypi.org/simple, https://us-python.pkg.dev/colab-wheels/public/simple/\n",
            "Requirement already satisfied: scikit-surprise in /usr/local/lib/python3.9/dist-packages (1.1.3)\n",
            "Requirement already satisfied: scipy>=1.3.2 in /usr/local/lib/python3.9/dist-packages (from scikit-surprise) (1.10.1)\n",
            "Requirement already satisfied: numpy>=1.17.3 in /usr/local/lib/python3.9/dist-packages (from scikit-surprise) (1.22.4)\n",
            "Requirement already satisfied: joblib>=1.0.0 in /usr/local/lib/python3.9/dist-packages (from scikit-surprise) (1.2.0)\n"
          ]
        }
      ]
    },
    {
      "cell_type": "code",
      "source": [
        "from surprise import SVD\n",
        "from surprise import Dataset\n",
        "from surprise import accuracy\n",
        "from surprise import Reader\n",
        "import pandas as pd\n",
        "from collections import defaultdict"
      ],
      "metadata": {
        "id": "7xdGDLp3JROl"
      },
      "execution_count": null,
      "outputs": []
    },
    {
      "cell_type": "code",
      "execution_count": null,
      "metadata": {
        "colab": {
          "base_uri": "https://localhost:8080/"
        },
        "id": "GaNmHxBxeXN9",
        "outputId": "472115bc-8fa8-4a12-edbd-56a04eb76ce1"
      },
      "outputs": [
        {
          "output_type": "execute_result",
          "data": {
            "text/plain": [
              "((613080, 10), (159621, 9), (159621, 1))"
            ]
          },
          "metadata": {},
          "execution_count": 6
        }
      ],
      "source": [
        "base_path = \"data\"\n",
        "\n",
        "train = pd.read_csv(f'{base_path}/train.csv')\n",
        "test = pd.read_csv(f'{base_path}/test.csv')\n",
        "submission = pd.read_csv(f'{base_path}/sample_submission.csv', index_col='ID')\n",
        "\n",
        "train.shape, test.shape, submission.shape"
      ]
    },
    {
      "cell_type": "markdown",
      "metadata": {
        "id": "M3tZszjdgaIO"
      },
      "source": [
        "* ID : 샘플 고유 ID\n",
        "* User-ID : 유저 고유 ID\n",
        "* Book-ID : 도서 고유 ID\n",
        "* 유저 정보\n",
        "* Age : 나이\n",
        "* Location : 지역\n",
        "* 도서 정보\n",
        "* Book-Title : 도서 명\n",
        "* Book-Author : 도서 저자\n",
        "* Year-Of-Publication : 도서 출판 년도 (-1일 경우 결측 혹은 알 수 없음):\n",
        "* Publisher : 출판사\n",
        "* Book-Rating : 유저가 도서에 부여한 평점 (0점 ~ 10점)"
      ]
    },
    {
      "cell_type": "code",
      "execution_count": null,
      "metadata": {
        "colab": {
          "base_uri": "https://localhost:8080/",
          "height": 354
        },
        "id": "_1qaxnO1eqsI",
        "outputId": "0dac4634-bfd3-4880-9ab3-a4eef011774b"
      },
      "outputs": [
        {
          "output_type": "execute_result",
          "data": {
            "text/plain": [
              "             ID     User-ID      Book-ID  Book-Rating   Age  \\\n",
              "0  TRAIN_000000  USER_00000  BOOK_044368          8.0  23.0   \n",
              "1  TRAIN_000001  USER_00000  BOOK_081205          8.0  23.0   \n",
              "2  TRAIN_000002  USER_00000  BOOK_086781          0.0  23.0   \n",
              "3  TRAIN_000003  USER_00000  BOOK_098622          0.0  23.0   \n",
              "4  TRAIN_000004  USER_00000  BOOK_180810          8.0  23.0   \n",
              "\n",
              "                           Location                          Book-Title  \\\n",
              "0  sackville, new brunswick, canada                          Road Taken   \n",
              "1  sackville, new brunswick, canada   Macbeth (New Penguin Shakespeare)   \n",
              "2  sackville, new brunswick, canada  Waverley (Penguin English Library)   \n",
              "3  sackville, new brunswick, canada             Mother Earth Father Sky   \n",
              "4  sackville, new brunswick, canada                   She Who Remembers   \n",
              "\n",
              "           Book-Author  Year-Of-Publication      Publisher  \n",
              "0           Rona Jaffe               2001.0           Mira  \n",
              "1  William Shakespeare               1981.0  Penguin Books  \n",
              "2         Walter Scott               1981.0  Penguin Books  \n",
              "3         Sue Harrison               1991.0           Avon  \n",
              "4     Linda Lay Shuler               1989.0    Signet Book  "
            ],
            "text/html": [
              "\n",
              "  <div id=\"df-4af2dd6d-914d-4be2-9282-880a0d785755\">\n",
              "    <div class=\"colab-df-container\">\n",
              "      <div>\n",
              "<style scoped>\n",
              "    .dataframe tbody tr th:only-of-type {\n",
              "        vertical-align: middle;\n",
              "    }\n",
              "\n",
              "    .dataframe tbody tr th {\n",
              "        vertical-align: top;\n",
              "    }\n",
              "\n",
              "    .dataframe thead th {\n",
              "        text-align: right;\n",
              "    }\n",
              "</style>\n",
              "<table border=\"1\" class=\"dataframe\">\n",
              "  <thead>\n",
              "    <tr style=\"text-align: right;\">\n",
              "      <th></th>\n",
              "      <th>ID</th>\n",
              "      <th>User-ID</th>\n",
              "      <th>Book-ID</th>\n",
              "      <th>Book-Rating</th>\n",
              "      <th>Age</th>\n",
              "      <th>Location</th>\n",
              "      <th>Book-Title</th>\n",
              "      <th>Book-Author</th>\n",
              "      <th>Year-Of-Publication</th>\n",
              "      <th>Publisher</th>\n",
              "    </tr>\n",
              "  </thead>\n",
              "  <tbody>\n",
              "    <tr>\n",
              "      <th>0</th>\n",
              "      <td>TRAIN_000000</td>\n",
              "      <td>USER_00000</td>\n",
              "      <td>BOOK_044368</td>\n",
              "      <td>8.0</td>\n",
              "      <td>23.0</td>\n",
              "      <td>sackville, new brunswick, canada</td>\n",
              "      <td>Road Taken</td>\n",
              "      <td>Rona Jaffe</td>\n",
              "      <td>2001.0</td>\n",
              "      <td>Mira</td>\n",
              "    </tr>\n",
              "    <tr>\n",
              "      <th>1</th>\n",
              "      <td>TRAIN_000001</td>\n",
              "      <td>USER_00000</td>\n",
              "      <td>BOOK_081205</td>\n",
              "      <td>8.0</td>\n",
              "      <td>23.0</td>\n",
              "      <td>sackville, new brunswick, canada</td>\n",
              "      <td>Macbeth (New Penguin Shakespeare)</td>\n",
              "      <td>William Shakespeare</td>\n",
              "      <td>1981.0</td>\n",
              "      <td>Penguin Books</td>\n",
              "    </tr>\n",
              "    <tr>\n",
              "      <th>2</th>\n",
              "      <td>TRAIN_000002</td>\n",
              "      <td>USER_00000</td>\n",
              "      <td>BOOK_086781</td>\n",
              "      <td>0.0</td>\n",
              "      <td>23.0</td>\n",
              "      <td>sackville, new brunswick, canada</td>\n",
              "      <td>Waverley (Penguin English Library)</td>\n",
              "      <td>Walter Scott</td>\n",
              "      <td>1981.0</td>\n",
              "      <td>Penguin Books</td>\n",
              "    </tr>\n",
              "    <tr>\n",
              "      <th>3</th>\n",
              "      <td>TRAIN_000003</td>\n",
              "      <td>USER_00000</td>\n",
              "      <td>BOOK_098622</td>\n",
              "      <td>0.0</td>\n",
              "      <td>23.0</td>\n",
              "      <td>sackville, new brunswick, canada</td>\n",
              "      <td>Mother Earth Father Sky</td>\n",
              "      <td>Sue Harrison</td>\n",
              "      <td>1991.0</td>\n",
              "      <td>Avon</td>\n",
              "    </tr>\n",
              "    <tr>\n",
              "      <th>4</th>\n",
              "      <td>TRAIN_000004</td>\n",
              "      <td>USER_00000</td>\n",
              "      <td>BOOK_180810</td>\n",
              "      <td>8.0</td>\n",
              "      <td>23.0</td>\n",
              "      <td>sackville, new brunswick, canada</td>\n",
              "      <td>She Who Remembers</td>\n",
              "      <td>Linda Lay Shuler</td>\n",
              "      <td>1989.0</td>\n",
              "      <td>Signet Book</td>\n",
              "    </tr>\n",
              "  </tbody>\n",
              "</table>\n",
              "</div>\n",
              "      <button class=\"colab-df-convert\" onclick=\"convertToInteractive('df-4af2dd6d-914d-4be2-9282-880a0d785755')\"\n",
              "              title=\"Convert this dataframe to an interactive table.\"\n",
              "              style=\"display:none;\">\n",
              "        \n",
              "  <svg xmlns=\"http://www.w3.org/2000/svg\" height=\"24px\"viewBox=\"0 0 24 24\"\n",
              "       width=\"24px\">\n",
              "    <path d=\"M0 0h24v24H0V0z\" fill=\"none\"/>\n",
              "    <path d=\"M18.56 5.44l.94 2.06.94-2.06 2.06-.94-2.06-.94-.94-2.06-.94 2.06-2.06.94zm-11 1L8.5 8.5l.94-2.06 2.06-.94-2.06-.94L8.5 2.5l-.94 2.06-2.06.94zm10 10l.94 2.06.94-2.06 2.06-.94-2.06-.94-.94-2.06-.94 2.06-2.06.94z\"/><path d=\"M17.41 7.96l-1.37-1.37c-.4-.4-.92-.59-1.43-.59-.52 0-1.04.2-1.43.59L10.3 9.45l-7.72 7.72c-.78.78-.78 2.05 0 2.83L4 21.41c.39.39.9.59 1.41.59.51 0 1.02-.2 1.41-.59l7.78-7.78 2.81-2.81c.8-.78.8-2.07 0-2.86zM5.41 20L4 18.59l7.72-7.72 1.47 1.35L5.41 20z\"/>\n",
              "  </svg>\n",
              "      </button>\n",
              "      \n",
              "  <style>\n",
              "    .colab-df-container {\n",
              "      display:flex;\n",
              "      flex-wrap:wrap;\n",
              "      gap: 12px;\n",
              "    }\n",
              "\n",
              "    .colab-df-convert {\n",
              "      background-color: #E8F0FE;\n",
              "      border: none;\n",
              "      border-radius: 50%;\n",
              "      cursor: pointer;\n",
              "      display: none;\n",
              "      fill: #1967D2;\n",
              "      height: 32px;\n",
              "      padding: 0 0 0 0;\n",
              "      width: 32px;\n",
              "    }\n",
              "\n",
              "    .colab-df-convert:hover {\n",
              "      background-color: #E2EBFA;\n",
              "      box-shadow: 0px 1px 2px rgba(60, 64, 67, 0.3), 0px 1px 3px 1px rgba(60, 64, 67, 0.15);\n",
              "      fill: #174EA6;\n",
              "    }\n",
              "\n",
              "    [theme=dark] .colab-df-convert {\n",
              "      background-color: #3B4455;\n",
              "      fill: #D2E3FC;\n",
              "    }\n",
              "\n",
              "    [theme=dark] .colab-df-convert:hover {\n",
              "      background-color: #434B5C;\n",
              "      box-shadow: 0px 1px 3px 1px rgba(0, 0, 0, 0.15);\n",
              "      filter: drop-shadow(0px 1px 2px rgba(0, 0, 0, 0.3));\n",
              "      fill: #FFFFFF;\n",
              "    }\n",
              "  </style>\n",
              "\n",
              "      <script>\n",
              "        const buttonEl =\n",
              "          document.querySelector('#df-4af2dd6d-914d-4be2-9282-880a0d785755 button.colab-df-convert');\n",
              "        buttonEl.style.display =\n",
              "          google.colab.kernel.accessAllowed ? 'block' : 'none';\n",
              "\n",
              "        async function convertToInteractive(key) {\n",
              "          const element = document.querySelector('#df-4af2dd6d-914d-4be2-9282-880a0d785755');\n",
              "          const dataTable =\n",
              "            await google.colab.kernel.invokeFunction('convertToInteractive',\n",
              "                                                     [key], {});\n",
              "          if (!dataTable) return;\n",
              "\n",
              "          const docLinkHtml = 'Like what you see? Visit the ' +\n",
              "            '<a target=\"_blank\" href=https://colab.research.google.com/notebooks/data_table.ipynb>data table notebook</a>'\n",
              "            + ' to learn more about interactive tables.';\n",
              "          element.innerHTML = '';\n",
              "          dataTable['output_type'] = 'display_data';\n",
              "          await google.colab.output.renderOutput(dataTable, element);\n",
              "          const docLink = document.createElement('div');\n",
              "          docLink.innerHTML = docLinkHtml;\n",
              "          element.appendChild(docLink);\n",
              "        }\n",
              "      </script>\n",
              "    </div>\n",
              "  </div>\n",
              "  "
            ]
          },
          "metadata": {},
          "execution_count": 7
        }
      ],
      "source": [
        "train.head()"
      ]
    },
    {
      "cell_type": "code",
      "execution_count": null,
      "metadata": {
        "colab": {
          "base_uri": "https://localhost:8080/",
          "height": 250
        },
        "id": "6SN9iD6Hez1G",
        "outputId": "93697cf0-363b-4714-9379-7288e0298592"
      },
      "outputs": [
        {
          "output_type": "execute_result",
          "data": {
            "text/plain": [
              "            ID     User-ID      Book-ID   Age              Location  \\\n",
              "0  TEST_000000  USER_00008  BOOK_047966  37.0  vermilion, ohio, usa   \n",
              "1  TEST_000001  USER_00008  BOOK_119494  37.0  vermilion, ohio, usa   \n",
              "2  TEST_000002  USER_00008  BOOK_151775  37.0  vermilion, ohio, usa   \n",
              "3  TEST_000003  USER_00008  BOOK_176255  37.0  vermilion, ohio, usa   \n",
              "4  TEST_000004  USER_00008  BOOK_187307  37.0  vermilion, ohio, usa   \n",
              "\n",
              "                                          Book-Title     Book-Author  \\\n",
              "0                 Birds of Prey: A Novel of Suspense      J.A. Jance   \n",
              "1                                    Midnight Voices       JOHN SAUL   \n",
              "2  Breaking Free : A Prescription for Personal an...  David M.  Noer   \n",
              "3                                     Bitter Harvest        Ann Rule   \n",
              "4                              Embraced by the Light  Betty J. Eadie   \n",
              "\n",
              "   Year-Of-Publication         Publisher  \n",
              "0               2002.0              Avon  \n",
              "1               2003.0  Ballantine Books  \n",
              "2               1996.0       Jossey-Bass  \n",
              "3               1999.0            Pocket  \n",
              "4               1994.0      Bantam Books  "
            ],
            "text/html": [
              "\n",
              "  <div id=\"df-719809bf-3e99-40e2-9c81-f6cea7424318\">\n",
              "    <div class=\"colab-df-container\">\n",
              "      <div>\n",
              "<style scoped>\n",
              "    .dataframe tbody tr th:only-of-type {\n",
              "        vertical-align: middle;\n",
              "    }\n",
              "\n",
              "    .dataframe tbody tr th {\n",
              "        vertical-align: top;\n",
              "    }\n",
              "\n",
              "    .dataframe thead th {\n",
              "        text-align: right;\n",
              "    }\n",
              "</style>\n",
              "<table border=\"1\" class=\"dataframe\">\n",
              "  <thead>\n",
              "    <tr style=\"text-align: right;\">\n",
              "      <th></th>\n",
              "      <th>ID</th>\n",
              "      <th>User-ID</th>\n",
              "      <th>Book-ID</th>\n",
              "      <th>Age</th>\n",
              "      <th>Location</th>\n",
              "      <th>Book-Title</th>\n",
              "      <th>Book-Author</th>\n",
              "      <th>Year-Of-Publication</th>\n",
              "      <th>Publisher</th>\n",
              "    </tr>\n",
              "  </thead>\n",
              "  <tbody>\n",
              "    <tr>\n",
              "      <th>0</th>\n",
              "      <td>TEST_000000</td>\n",
              "      <td>USER_00008</td>\n",
              "      <td>BOOK_047966</td>\n",
              "      <td>37.0</td>\n",
              "      <td>vermilion, ohio, usa</td>\n",
              "      <td>Birds of Prey: A Novel of Suspense</td>\n",
              "      <td>J.A. Jance</td>\n",
              "      <td>2002.0</td>\n",
              "      <td>Avon</td>\n",
              "    </tr>\n",
              "    <tr>\n",
              "      <th>1</th>\n",
              "      <td>TEST_000001</td>\n",
              "      <td>USER_00008</td>\n",
              "      <td>BOOK_119494</td>\n",
              "      <td>37.0</td>\n",
              "      <td>vermilion, ohio, usa</td>\n",
              "      <td>Midnight Voices</td>\n",
              "      <td>JOHN SAUL</td>\n",
              "      <td>2003.0</td>\n",
              "      <td>Ballantine Books</td>\n",
              "    </tr>\n",
              "    <tr>\n",
              "      <th>2</th>\n",
              "      <td>TEST_000002</td>\n",
              "      <td>USER_00008</td>\n",
              "      <td>BOOK_151775</td>\n",
              "      <td>37.0</td>\n",
              "      <td>vermilion, ohio, usa</td>\n",
              "      <td>Breaking Free : A Prescription for Personal an...</td>\n",
              "      <td>David M.  Noer</td>\n",
              "      <td>1996.0</td>\n",
              "      <td>Jossey-Bass</td>\n",
              "    </tr>\n",
              "    <tr>\n",
              "      <th>3</th>\n",
              "      <td>TEST_000003</td>\n",
              "      <td>USER_00008</td>\n",
              "      <td>BOOK_176255</td>\n",
              "      <td>37.0</td>\n",
              "      <td>vermilion, ohio, usa</td>\n",
              "      <td>Bitter Harvest</td>\n",
              "      <td>Ann Rule</td>\n",
              "      <td>1999.0</td>\n",
              "      <td>Pocket</td>\n",
              "    </tr>\n",
              "    <tr>\n",
              "      <th>4</th>\n",
              "      <td>TEST_000004</td>\n",
              "      <td>USER_00008</td>\n",
              "      <td>BOOK_187307</td>\n",
              "      <td>37.0</td>\n",
              "      <td>vermilion, ohio, usa</td>\n",
              "      <td>Embraced by the Light</td>\n",
              "      <td>Betty J. Eadie</td>\n",
              "      <td>1994.0</td>\n",
              "      <td>Bantam Books</td>\n",
              "    </tr>\n",
              "  </tbody>\n",
              "</table>\n",
              "</div>\n",
              "      <button class=\"colab-df-convert\" onclick=\"convertToInteractive('df-719809bf-3e99-40e2-9c81-f6cea7424318')\"\n",
              "              title=\"Convert this dataframe to an interactive table.\"\n",
              "              style=\"display:none;\">\n",
              "        \n",
              "  <svg xmlns=\"http://www.w3.org/2000/svg\" height=\"24px\"viewBox=\"0 0 24 24\"\n",
              "       width=\"24px\">\n",
              "    <path d=\"M0 0h24v24H0V0z\" fill=\"none\"/>\n",
              "    <path d=\"M18.56 5.44l.94 2.06.94-2.06 2.06-.94-2.06-.94-.94-2.06-.94 2.06-2.06.94zm-11 1L8.5 8.5l.94-2.06 2.06-.94-2.06-.94L8.5 2.5l-.94 2.06-2.06.94zm10 10l.94 2.06.94-2.06 2.06-.94-2.06-.94-.94-2.06-.94 2.06-2.06.94z\"/><path d=\"M17.41 7.96l-1.37-1.37c-.4-.4-.92-.59-1.43-.59-.52 0-1.04.2-1.43.59L10.3 9.45l-7.72 7.72c-.78.78-.78 2.05 0 2.83L4 21.41c.39.39.9.59 1.41.59.51 0 1.02-.2 1.41-.59l7.78-7.78 2.81-2.81c.8-.78.8-2.07 0-2.86zM5.41 20L4 18.59l7.72-7.72 1.47 1.35L5.41 20z\"/>\n",
              "  </svg>\n",
              "      </button>\n",
              "      \n",
              "  <style>\n",
              "    .colab-df-container {\n",
              "      display:flex;\n",
              "      flex-wrap:wrap;\n",
              "      gap: 12px;\n",
              "    }\n",
              "\n",
              "    .colab-df-convert {\n",
              "      background-color: #E8F0FE;\n",
              "      border: none;\n",
              "      border-radius: 50%;\n",
              "      cursor: pointer;\n",
              "      display: none;\n",
              "      fill: #1967D2;\n",
              "      height: 32px;\n",
              "      padding: 0 0 0 0;\n",
              "      width: 32px;\n",
              "    }\n",
              "\n",
              "    .colab-df-convert:hover {\n",
              "      background-color: #E2EBFA;\n",
              "      box-shadow: 0px 1px 2px rgba(60, 64, 67, 0.3), 0px 1px 3px 1px rgba(60, 64, 67, 0.15);\n",
              "      fill: #174EA6;\n",
              "    }\n",
              "\n",
              "    [theme=dark] .colab-df-convert {\n",
              "      background-color: #3B4455;\n",
              "      fill: #D2E3FC;\n",
              "    }\n",
              "\n",
              "    [theme=dark] .colab-df-convert:hover {\n",
              "      background-color: #434B5C;\n",
              "      box-shadow: 0px 1px 3px 1px rgba(0, 0, 0, 0.15);\n",
              "      filter: drop-shadow(0px 1px 2px rgba(0, 0, 0, 0.3));\n",
              "      fill: #FFFFFF;\n",
              "    }\n",
              "  </style>\n",
              "\n",
              "      <script>\n",
              "        const buttonEl =\n",
              "          document.querySelector('#df-719809bf-3e99-40e2-9c81-f6cea7424318 button.colab-df-convert');\n",
              "        buttonEl.style.display =\n",
              "          google.colab.kernel.accessAllowed ? 'block' : 'none';\n",
              "\n",
              "        async function convertToInteractive(key) {\n",
              "          const element = document.querySelector('#df-719809bf-3e99-40e2-9c81-f6cea7424318');\n",
              "          const dataTable =\n",
              "            await google.colab.kernel.invokeFunction('convertToInteractive',\n",
              "                                                     [key], {});\n",
              "          if (!dataTable) return;\n",
              "\n",
              "          const docLinkHtml = 'Like what you see? Visit the ' +\n",
              "            '<a target=\"_blank\" href=https://colab.research.google.com/notebooks/data_table.ipynb>data table notebook</a>'\n",
              "            + ' to learn more about interactive tables.';\n",
              "          element.innerHTML = '';\n",
              "          dataTable['output_type'] = 'display_data';\n",
              "          await google.colab.output.renderOutput(dataTable, element);\n",
              "          const docLink = document.createElement('div');\n",
              "          docLink.innerHTML = docLinkHtml;\n",
              "          element.appendChild(docLink);\n",
              "        }\n",
              "      </script>\n",
              "    </div>\n",
              "  </div>\n",
              "  "
            ]
          },
          "metadata": {},
          "execution_count": 8
        }
      ],
      "source": [
        "test.head()"
      ]
    },
    {
      "cell_type": "code",
      "source": [
        "train.isnull().sum()"
      ],
      "metadata": {
        "colab": {
          "base_uri": "https://localhost:8080/"
        },
        "id": "wutN3wnlK4EQ",
        "outputId": "2ea707b2-5a58-43b9-a2c0-fc357051faa3"
      },
      "execution_count": null,
      "outputs": [
        {
          "output_type": "execute_result",
          "data": {
            "text/plain": [
              "ID                     0\n",
              "User-ID                0\n",
              "Book-ID                1\n",
              "Book-Rating            1\n",
              "Age                    1\n",
              "Location               1\n",
              "Book-Title             1\n",
              "Book-Author            1\n",
              "Year-Of-Publication    1\n",
              "Publisher              1\n",
              "dtype: int64"
            ]
          },
          "metadata": {},
          "execution_count": 9
        }
      ]
    },
    {
      "cell_type": "code",
      "execution_count": null,
      "metadata": {
        "colab": {
          "base_uri": "https://localhost:8080/"
        },
        "id": "GrCEMppOrJXj",
        "outputId": "28cbd3a2-70e8-42fc-80f5-7e2b2b1e3a47"
      },
      "outputs": [
        {
          "output_type": "stream",
          "name": "stdout",
          "text": [
            "<class 'pandas.core.frame.DataFrame'>\n",
            "RangeIndex: 613080 entries, 0 to 613079\n",
            "Data columns (total 10 columns):\n",
            " #   Column               Non-Null Count   Dtype  \n",
            "---  ------               --------------   -----  \n",
            " 0   ID                   613080 non-null  object \n",
            " 1   User-ID              613080 non-null  object \n",
            " 2   Book-ID              613079 non-null  object \n",
            " 3   Book-Rating          613079 non-null  float64\n",
            " 4   Age                  613079 non-null  float64\n",
            " 5   Location             613079 non-null  object \n",
            " 6   Book-Title           613079 non-null  object \n",
            " 7   Book-Author          613079 non-null  object \n",
            " 8   Year-Of-Publication  613079 non-null  float64\n",
            " 9   Publisher            613079 non-null  object \n",
            "dtypes: float64(3), object(7)\n",
            "memory usage: 46.8+ MB\n"
          ]
        }
      ],
      "source": [
        "train.info()"
      ]
    },
    {
      "cell_type": "code",
      "source": [
        "train.isnull().sum().sum()"
      ],
      "metadata": {
        "colab": {
          "base_uri": "https://localhost:8080/"
        },
        "id": "4f3gciHPVf81",
        "outputId": "a63aec37-051e-4957-b507-43dc7010458c"
      },
      "execution_count": null,
      "outputs": [
        {
          "output_type": "execute_result",
          "data": {
            "text/plain": [
              "8"
            ]
          },
          "metadata": {},
          "execution_count": 11
        }
      ]
    },
    {
      "cell_type": "code",
      "source": [
        "test.isnull().sum().sum()"
      ],
      "metadata": {
        "colab": {
          "base_uri": "https://localhost:8080/"
        },
        "id": "mFVih6MPVvA7",
        "outputId": "a885471f-383b-4f6a-f1bf-18d1918a832f"
      },
      "execution_count": null,
      "outputs": [
        {
          "output_type": "execute_result",
          "data": {
            "text/plain": [
              "0"
            ]
          },
          "metadata": {},
          "execution_count": 12
        }
      ]
    },
    {
      "cell_type": "code",
      "source": [
        "train.dropna(inplace=True)"
      ],
      "metadata": {
        "id": "8cZ-XqFCWLGw"
      },
      "execution_count": null,
      "outputs": []
    },
    {
      "cell_type": "code",
      "source": [
        "train.isnull().sum()"
      ],
      "metadata": {
        "colab": {
          "base_uri": "https://localhost:8080/"
        },
        "id": "kVBhMJOEWmZo",
        "outputId": "6c9aa0d5-c21e-42ce-9666-15c7fa5dcee9"
      },
      "execution_count": null,
      "outputs": [
        {
          "output_type": "execute_result",
          "data": {
            "text/plain": [
              "ID                     0\n",
              "User-ID                0\n",
              "Book-ID                0\n",
              "Book-Rating            0\n",
              "Age                    0\n",
              "Location               0\n",
              "Book-Title             0\n",
              "Book-Author            0\n",
              "Year-Of-Publication    0\n",
              "Publisher              0\n",
              "dtype: int64"
            ]
          },
          "metadata": {},
          "execution_count": 14
        }
      ]
    },
    {
      "cell_type": "code",
      "source": [
        "train['Age'] = train['Age'].astype(int)\n",
        "train['Year-Of-Publication'] = train['Year-Of-Publication'].astype(int)"
      ],
      "metadata": {
        "id": "Ta0Fqa59KNii"
      },
      "execution_count": null,
      "outputs": []
    },
    {
      "cell_type": "code",
      "source": [
        "fig,ax = plt.subplots(figsize=(12,6))\n",
        "sns.boxplot(data=train)"
      ],
      "metadata": {
        "colab": {
          "base_uri": "https://localhost:8080/",
          "height": 540
        },
        "id": "IiT48zfPH2kh",
        "outputId": "6d06b786-e1c7-4d45-9d6e-01cbf22f28c2"
      },
      "execution_count": null,
      "outputs": [
        {
          "output_type": "execute_result",
          "data": {
            "text/plain": [
              "<Axes: >"
            ]
          },
          "metadata": {},
          "execution_count": 16
        },
        {
          "output_type": "display_data",
          "data": {
            "text/plain": [
              "<Figure size 1200x600 with 1 Axes>"
            ],
            "image/png": "[encoded data removed]"
          },
          "metadata": {}
        }
      ]
    },
    {
      "cell_type": "code",
      "source": [
        "train.info()"
      ],
      "metadata": {
        "colab": {
          "base_uri": "https://localhost:8080/"
        },
        "id": "NBiMImgxKJcY",
        "outputId": "c679c392-3c89-46b7-b0df-e77a49705cac"
      },
      "execution_count": null,
      "outputs": [
        {
          "output_type": "stream",
          "name": "stdout",
          "text": [
            "<class 'pandas.core.frame.DataFrame'>\n",
            "Int64Index: 613079 entries, 0 to 613078\n",
            "Data columns (total 10 columns):\n",
            " #   Column               Non-Null Count   Dtype  \n",
            "---  ------               --------------   -----  \n",
            " 0   ID                   613079 non-null  object \n",
            " 1   User-ID              613079 non-null  object \n",
            " 2   Book-ID              613079 non-null  object \n",
            " 3   Book-Rating          613079 non-null  float64\n",
            " 4   Age                  613079 non-null  int64  \n",
            " 5   Location             613079 non-null  object \n",
            " 6   Book-Title           613079 non-null  object \n",
            " 7   Book-Author          613079 non-null  object \n",
            " 8   Year-Of-Publication  613079 non-null  int64  \n",
            " 9   Publisher            613079 non-null  object \n",
            "dtypes: float64(1), int64(2), object(7)\n",
            "memory usage: 51.5+ MB\n"
          ]
        }
      ]
    },
    {
      "cell_type": "markdown",
      "source": [
        "# EDA"
      ],
      "metadata": {
        "id": "MhJzJJzx_TXI"
      }
    },
    {
      "cell_type": "markdown",
      "source": [
        "나이별 분포"
      ],
      "metadata": {
        "id": "UR8qkD-0_Vsw"
      }
    },
    {
      "cell_type": "code",
      "source": [
        "max_age = train['Age'].max() # Age 열의 최대값 찾기\n",
        "min_age = train['Age'].min() # Age 열의 최소값 찾기\n",
        "\n",
        "print('Maximum Age:', max_age)\n",
        "print('Minimum Age:', min_age)"
      ],
      "metadata": {
        "colab": {
          "base_uri": "https://localhost:8080/"
        },
        "id": "U86X5Xi2aFJx",
        "outputId": "c46201d7-3d33-42cc-fb5d-a4dbacf31f04"
      },
      "execution_count": null,
      "outputs": [
        {
          "output_type": "stream",
          "name": "stdout",
          "text": [
            "Maximum Age: 244\n",
            "Minimum Age: 0\n"
          ]
        }
      ]
    },
    {
      "cell_type": "code",
      "source": [
        "iid = 244\n",
        "train[train[\"Age\"] == iid]"
      ],
      "metadata": {
        "colab": {
          "base_uri": "https://localhost:8080/",
          "height": 573
        },
        "id": "QXNifLwOakbo",
        "outputId": "10ea49e7-8b71-4107-86af-8f018d414651"
      },
      "execution_count": null,
      "outputs": [
        {
          "output_type": "execute_result",
          "data": {
            "text/plain": [
              "                  ID     User-ID      Book-ID  Book-Rating  Age  \\\n",
              "604950  TRAIN_604950  USER_63071  BOOK_055682          8.0  244   \n",
              "604951  TRAIN_604951  USER_63071  BOOK_096177          0.0  244   \n",
              "604952  TRAIN_604952  USER_63071  BOOK_148270          0.0  244   \n",
              "604953  TRAIN_604953  USER_63071  BOOK_152432          0.0  244   \n",
              "604954  TRAIN_604954  USER_63071  BOOK_245261          8.0  244   \n",
              "604955  TRAIN_604955  USER_63071  BOOK_254526          0.0  244   \n",
              "604956  TRAIN_604956  USER_63071  BOOK_266466          6.0  244   \n",
              "\n",
              "                                      Location  \\\n",
              "604950  stuttgart, baden-wuerttemberg, germany   \n",
              "604951  stuttgart, baden-wuerttemberg, germany   \n",
              "604952  stuttgart, baden-wuerttemberg, germany   \n",
              "604953  stuttgart, baden-wuerttemberg, germany   \n",
              "604954  stuttgart, baden-wuerttemberg, germany   \n",
              "604955  stuttgart, baden-wuerttemberg, germany   \n",
              "604956  stuttgart, baden-wuerttemberg, germany   \n",
              "\n",
              "                                               Book-Title  \\\n",
              "604950                     Die Entdeckung der Currywurst.   \n",
              "604951                                   Das Blutgericht.   \n",
              "604952                           Dies Ist Nicht Mein Land   \n",
              "604953                                 Wer Dornen sÃ?Â¤t.   \n",
              "604954  Who Put the Pizza in the Vcr: Laughing Your Wa...   \n",
              "604955                         Die Tote im falschen Grab.   \n",
              "604956                                           Topkapi.   \n",
              "\n",
              "                     Book-Author  Year-Of-Publication  \\\n",
              "604950                  Uwe Timm                 2000   \n",
              "604951  Kari KÃ?Â¶ster-LÃ?Â¶sche                 2003   \n",
              "604952               Fleischmann                   -1   \n",
              "604953             Rebecca Ryman                 2000   \n",
              "604954             Martha Bolton                 1996   \n",
              "604955              Ruth Rendell                 2000   \n",
              "604956               Eric Ambler                 1978   \n",
              "\n",
              "                                    Publisher  \n",
              "604950                                    Dtv  \n",
              "604951                 ECON-Taschenbuchverlag  \n",
              "604952  Wilhelm Heyne Verlag GmbH &amp; Co KG  \n",
              "604953               Fischer (Tb.), Frankfurt  \n",
              "604954                     Gospel Light Pubns  \n",
              "604955                               Goldmann  \n",
              "604956                        Diogenes Verlag  "
            ],
            "text/html": [
              "\n",
              "  <div id=\"df-eb96786b-bd8a-4e6e-b62e-156009976906\">\n",
              "    <div class=\"colab-df-container\">\n",
              "      <div>\n",
              "<style scoped>\n",
              "    .dataframe tbody tr th:only-of-type {\n",
              "        vertical-align: middle;\n",
              "    }\n",
              "\n",
              "    .dataframe tbody tr th {\n",
              "        vertical-align: top;\n",
              "    }\n",
              "\n",
              "    .dataframe thead th {\n",
              "        text-align: right;\n",
              "    }\n",
              "</style>\n",
              "<table border=\"1\" class=\"dataframe\">\n",
              "  <thead>\n",
              "    <tr style=\"text-align: right;\">\n",
              "      <th></th>\n",
              "      <th>ID</th>\n",
              "      <th>User-ID</th>\n",
              "      <th>Book-ID</th>\n",
              "      <th>Book-Rating</th>\n",
              "      <th>Age</th>\n",
              "      <th>Location</th>\n",
              "      <th>Book-Title</th>\n",
              "      <th>Book-Author</th>\n",
              "      <th>Year-Of-Publication</th>\n",
              "      <th>Publisher</th>\n",
              "    </tr>\n",
              "  </thead>\n",
              "  <tbody>\n",
              "    <tr>\n",
              "      <th>604950</th>\n",
              "      <td>TRAIN_604950</td>\n",
              "      <td>USER_63071</td>\n",
              "      <td>BOOK_055682</td>\n",
              "      <td>8.0</td>\n",
              "      <td>244</td>\n",
              "      <td>stuttgart, baden-wuerttemberg, germany</td>\n",
              "      <td>Die Entdeckung der Currywurst.</td>\n",
              "      <td>Uwe Timm</td>\n",
              "      <td>2000</td>\n",
              "      <td>Dtv</td>\n",
              "    </tr>\n",
              "    <tr>\n",
              "      <th>604951</th>\n",
              "      <td>TRAIN_604951</td>\n",
              "      <td>USER_63071</td>\n",
              "      <td>BOOK_096177</td>\n",
              "      <td>0.0</td>\n",
              "      <td>244</td>\n",
              "      <td>stuttgart, baden-wuerttemberg, germany</td>\n",
              "      <td>Das Blutgericht.</td>\n",
              "      <td>Kari KÃ?Â¶ster-LÃ?Â¶sche</td>\n",
              "      <td>2003</td>\n",
              "      <td>ECON-Taschenbuchverlag</td>\n",
              "    </tr>\n",
              "    <tr>\n",
              "      <th>604952</th>\n",
              "      <td>TRAIN_604952</td>\n",
              "      <td>USER_63071</td>\n",
              "      <td>BOOK_148270</td>\n",
              "      <td>0.0</td>\n",
              "      <td>244</td>\n",
              "      <td>stuttgart, baden-wuerttemberg, germany</td>\n",
              "      <td>Dies Ist Nicht Mein Land</td>\n",
              "      <td>Fleischmann</td>\n",
              "      <td>-1</td>\n",
              "      <td>Wilhelm Heyne Verlag GmbH &amp;amp; Co KG</td>\n",
              "    </tr>\n",
              "    <tr>\n",
              "      <th>604953</th>\n",
              "      <td>TRAIN_604953</td>\n",
              "      <td>USER_63071</td>\n",
              "      <td>BOOK_152432</td>\n",
              "      <td>0.0</td>\n",
              "      <td>244</td>\n",
              "      <td>stuttgart, baden-wuerttemberg, germany</td>\n",
              "      <td>Wer Dornen sÃ?Â¤t.</td>\n",
              "      <td>Rebecca Ryman</td>\n",
              "      <td>2000</td>\n",
              "      <td>Fischer (Tb.), Frankfurt</td>\n",
              "    </tr>\n",
              "    <tr>\n",
              "      <th>604954</th>\n",
              "      <td>TRAIN_604954</td>\n",
              "      <td>USER_63071</td>\n",
              "      <td>BOOK_245261</td>\n",
              "      <td>8.0</td>\n",
              "      <td>244</td>\n",
              "      <td>stuttgart, baden-wuerttemberg, germany</td>\n",
              "      <td>Who Put the Pizza in the Vcr: Laughing Your Wa...</td>\n",
              "      <td>Martha Bolton</td>\n",
              "      <td>1996</td>\n",
              "      <td>Gospel Light Pubns</td>\n",
              "    </tr>\n",
              "    <tr>\n",
              "      <th>604955</th>\n",
              "      <td>TRAIN_604955</td>\n",
              "      <td>USER_63071</td>\n",
              "      <td>BOOK_254526</td>\n",
              "      <td>0.0</td>\n",
              "      <td>244</td>\n",
              "      <td>stuttgart, baden-wuerttemberg, germany</td>\n",
              "      <td>Die Tote im falschen Grab.</td>\n",
              "      <td>Ruth Rendell</td>\n",
              "      <td>2000</td>\n",
              "      <td>Goldmann</td>\n",
              "    </tr>\n",
              "    <tr>\n",
              "      <th>604956</th>\n",
              "      <td>TRAIN_604956</td>\n",
              "      <td>USER_63071</td>\n",
              "      <td>BOOK_266466</td>\n",
              "      <td>6.0</td>\n",
              "      <td>244</td>\n",
              "      <td>stuttgart, baden-wuerttemberg, germany</td>\n",
              "      <td>Topkapi.</td>\n",
              "      <td>Eric Ambler</td>\n",
              "      <td>1978</td>\n",
              "      <td>Diogenes Verlag</td>\n",
              "    </tr>\n",
              "  </tbody>\n",
              "</table>\n",
              "</div>\n",
              "      <button class=\"colab-df-convert\" onclick=\"convertToInteractive('df-eb96786b-bd8a-4e6e-b62e-156009976906')\"\n",
              "              title=\"Convert this dataframe to an interactive table.\"\n",
              "              style=\"display:none;\">\n",
              "        \n",
              "  <svg xmlns=\"http://www.w3.org/2000/svg\" height=\"24px\"viewBox=\"0 0 24 24\"\n",
              "       width=\"24px\">\n",
              "    <path d=\"M0 0h24v24H0V0z\" fill=\"none\"/>\n",
              "    <path d=\"M18.56 5.44l.94 2.06.94-2.06 2.06-.94-2.06-.94-.94-2.06-.94 2.06-2.06.94zm-11 1L8.5 8.5l.94-2.06 2.06-.94-2.06-.94L8.5 2.5l-.94 2.06-2.06.94zm10 10l.94 2.06.94-2.06 2.06-.94-2.06-.94-.94-2.06-.94 2.06-2.06.94z\"/><path d=\"M17.41 7.96l-1.37-1.37c-.4-.4-.92-.59-1.43-.59-.52 0-1.04.2-1.43.59L10.3 9.45l-7.72 7.72c-.78.78-.78 2.05 0 2.83L4 21.41c.39.39.9.59 1.41.59.51 0 1.02-.2 1.41-.59l7.78-7.78 2.81-2.81c.8-.78.8-2.07 0-2.86zM5.41 20L4 18.59l7.72-7.72 1.47 1.35L5.41 20z\"/>\n",
              "  </svg>\n",
              "      </button>\n",
              "      \n",
              "  <style>\n",
              "    .colab-df-container {\n",
              "      display:flex;\n",
              "      flex-wrap:wrap;\n",
              "      gap: 12px;\n",
              "    }\n",
              "\n",
              "    .colab-df-convert {\n",
              "      background-color: #E8F0FE;\n",
              "      border: none;\n",
              "      border-radius: 50%;\n",
              "      cursor: pointer;\n",
              "      display: none;\n",
              "      fill: #1967D2;\n",
              "      height: 32px;\n",
              "      padding: 0 0 0 0;\n",
              "      width: 32px;\n",
              "    }\n",
              "\n",
              "    .colab-df-convert:hover {\n",
              "      background-color: #E2EBFA;\n",
              "      box-shadow: 0px 1px 2px rgba(60, 64, 67, 0.3), 0px 1px 3px 1px rgba(60, 64, 67, 0.15);\n",
              "      fill: #174EA6;\n",
              "    }\n",
              "\n",
              "    [theme=dark] .colab-df-convert {\n",
              "      background-color: #3B4455;\n",
              "      fill: #D2E3FC;\n",
              "    }\n",
              "\n",
              "    [theme=dark] .colab-df-convert:hover {\n",
              "      background-color: #434B5C;\n",
              "      box-shadow: 0px 1px 3px 1px rgba(0, 0, 0, 0.15);\n",
              "      filter: drop-shadow(0px 1px 2px rgba(0, 0, 0, 0.3));\n",
              "      fill: #FFFFFF;\n",
              "    }\n",
              "  </style>\n",
              "\n",
              "      <script>\n",
              "        const buttonEl =\n",
              "          document.querySelector('#df-eb96786b-bd8a-4e6e-b62e-156009976906 button.colab-df-convert');\n",
              "        buttonEl.style.display =\n",
              "          google.colab.kernel.accessAllowed ? 'block' : 'none';\n",
              "\n",
              "        async function convertToInteractive(key) {\n",
              "          const element = document.querySelector('#df-eb96786b-bd8a-4e6e-b62e-156009976906');\n",
              "          const dataTable =\n",
              "            await google.colab.kernel.invokeFunction('convertToInteractive',\n",
              "                                                     [key], {});\n",
              "          if (!dataTable) return;\n",
              "\n",
              "          const docLinkHtml = 'Like what you see? Visit the ' +\n",
              "            '<a target=\"_blank\" href=https://colab.research.google.com/notebooks/data_table.ipynb>data table notebook</a>'\n",
              "            + ' to learn more about interactive tables.';\n",
              "          element.innerHTML = '';\n",
              "          dataTable['output_type'] = 'display_data';\n",
              "          await google.colab.output.renderOutput(dataTable, element);\n",
              "          const docLink = document.createElement('div');\n",
              "          docLink.innerHTML = docLinkHtml;\n",
              "          element.appendChild(docLink);\n",
              "        }\n",
              "      </script>\n",
              "    </div>\n",
              "  </div>\n",
              "  "
            ]
          },
          "metadata": {},
          "execution_count": 19
        }
      ]
    },
    {
      "cell_type": "code",
      "source": [
        "train['Age'] = np.where((train['Age'] < 0) | (train['Age'] > 100), np.nan, train['Age'])\n",
        "\n",
        "# 결측치를 평균값으로 대체하기\n",
        "mean_Age = train['Age'].mean()\n",
        "train['Age'] = train['Age'].fillna(mean_Age)\n",
        "\n",
        "print(train)"
      ],
      "metadata": {
        "colab": {
          "base_uri": "https://localhost:8080/"
        },
        "id": "5jieU7TtbWSM",
        "outputId": "a6682f4d-b6e2-46e8-980f-66d8dff26d42"
      },
      "execution_count": null,
      "outputs": [
        {
          "output_type": "stream",
          "name": "stdout",
          "text": [
            "                  ID     User-ID      Book-ID  Book-Rating   Age  \\\n",
            "0       TRAIN_000000  USER_00000  BOOK_044368          8.0  23.0   \n",
            "1       TRAIN_000001  USER_00000  BOOK_081205          8.0  23.0   \n",
            "2       TRAIN_000002  USER_00000  BOOK_086781          0.0  23.0   \n",
            "3       TRAIN_000003  USER_00000  BOOK_098622          0.0  23.0   \n",
            "4       TRAIN_000004  USER_00000  BOOK_180810          8.0  23.0   \n",
            "...              ...         ...          ...          ...   ...   \n",
            "613074  TRAIN_613074  USER_64056  BOOK_164028          0.0  35.0   \n",
            "613075  TRAIN_613075  USER_64056  BOOK_164342          0.0  35.0   \n",
            "613076  TRAIN_613076  USER_64056  BOOK_164782          9.0  35.0   \n",
            "613077  TRAIN_613077  USER_64056  BOOK_165556          0.0  35.0   \n",
            "613078  TRAIN_613078  USER_64056  BOOK_165574          0.0  35.0   \n",
            "\n",
            "                                Location  \\\n",
            "0       sackville, new brunswick, canada   \n",
            "1       sackville, new brunswick, canada   \n",
            "2       sackville, new brunswick, canada   \n",
            "3       sackville, new brunswick, canada   \n",
            "4       sackville, new brunswick, canada   \n",
            "...                                  ...   \n",
            "613074  summerville, south carolina, usa   \n",
            "613075  summerville, south carolina, usa   \n",
            "613076  summerville, south carolina, usa   \n",
            "613077  summerville, south carolina, usa   \n",
            "613078  summerville, south carolina, usa   \n",
            "\n",
            "                                               Book-Title  \\\n",
            "0                                              Road Taken   \n",
            "1                       Macbeth (New Penguin Shakespeare)   \n",
            "2                      Waverley (Penguin English Library)   \n",
            "3                                 Mother Earth Father Sky   \n",
            "4                                       She Who Remembers   \n",
            "...                                                   ...   \n",
            "613074                            The Secret Life of Bees   \n",
            "613075  Shooting at Loons (Deborah Knott Mysteries (Pa...   \n",
            "613076                                           Hit List   \n",
            "613077                                         Going Home   \n",
            "613078                                      Dark Paradise   \n",
            "\n",
            "                Book-Author  Year-Of-Publication                     Publisher  \n",
            "0                Rona Jaffe                 2001                          Mira  \n",
            "1       William Shakespeare                 1981                 Penguin Books  \n",
            "2              Walter Scott                 1981                 Penguin Books  \n",
            "3              Sue Harrison                 1991                          Avon  \n",
            "4          Linda Lay Shuler                 1989                   Signet Book  \n",
            "...                     ...                  ...                           ...  \n",
            "613074        Sue Monk Kidd                 2002                  Viking Books  \n",
            "613075       Margaret Maron                 1995                  Warner Books  \n",
            "613076       Lawrence Block                 2000  William Morrow &amp; Company  \n",
            "613077       Danielle Steel                 1991                        Pocket  \n",
            "613078            TAMI HOAG                 1994                        Bantam  \n",
            "\n",
            "[613079 rows x 10 columns]\n"
          ]
        }
      ]
    },
    {
      "cell_type": "code",
      "source": [
        "train['Age'].plot.hist(bins=30) # 히스토그램 그리기\n",
        "plt.title('Age Distribution') # 그래프 제목 설정\n",
        "plt.xlabel('Age') # x축 레이블 설정\n",
        "plt.ylabel('Count') # y축 레이블 설정\n",
        "plt.show() # 그래프 보이기"
      ],
      "metadata": {
        "colab": {
          "base_uri": "https://localhost:8080/",
          "height": 472
        },
        "id": "4oHPDlQ4-8za",
        "outputId": "7812aa13-df4b-4502-bc49-9dfa4129c183"
      },
      "execution_count": null,
      "outputs": [
        {
          "output_type": "display_data",
          "data": {
            "text/plain": [
              "<Figure size 640x480 with 1 Axes>"
            ],
            "image/png": "[encoded data removed]"
          },
          "metadata": {}
        }
      ]
    },
    {
      "cell_type": "markdown",
      "source": [
        "출판연도별 분포"
      ],
      "metadata": {
        "id": "vG1SFTxP_XYN"
      }
    },
    {
      "cell_type": "code",
      "source": [
        "year = -1\n",
        "train[train[\"Year-Of-Publication\"] == year]"
      ],
      "metadata": {
        "colab": {
          "base_uri": "https://localhost:8080/",
          "height": 658
        },
        "id": "9U7DOPbJcIja",
        "outputId": "204d2796-befc-4607-e563-746f2308f574"
      },
      "execution_count": null,
      "outputs": [
        {
          "output_type": "execute_result",
          "data": {
            "text/plain": [
              "                  ID     User-ID      Book-ID  Book-Rating   Age  \\\n",
              "184     TRAIN_000184  USER_00049  BOOK_121460          0.0  37.0   \n",
              "186     TRAIN_000186  USER_00049  BOOK_175661         10.0  37.0   \n",
              "191     TRAIN_000191  USER_00049  BOOK_230275          0.0  37.0   \n",
              "231     TRAIN_000231  USER_00054  BOOK_122689          0.0  39.0   \n",
              "290     TRAIN_000290  USER_00060  BOOK_165427          0.0  27.0   \n",
              "...              ...         ...          ...          ...   ...   \n",
              "612705  TRAIN_612705  USER_64037  BOOK_103002          8.0  49.0   \n",
              "612710  TRAIN_612710  USER_64037  BOOK_171600          0.0  49.0   \n",
              "612734  TRAIN_612734  USER_64049  BOOK_039385          3.0  31.0   \n",
              "612760  TRAIN_612760  USER_64056  BOOK_011020          0.0  35.0   \n",
              "612937  TRAIN_612937  USER_64056  BOOK_100343          0.0  35.0   \n",
              "\n",
              "                                     Location  \\\n",
              "184                    gaylord, michigan, usa   \n",
              "186                    gaylord, michigan, usa   \n",
              "191                    gaylord, michigan, usa   \n",
              "231                        spring, texas, usa   \n",
              "290              los angeles, california, usa   \n",
              "...                                       ...   \n",
              "612705      camberley, surrey, united kingdom   \n",
              "612710      camberley, surrey, united kingdom   \n",
              "612734  krefeld, nordrhein-westfalen, germany   \n",
              "612760       summerville, south carolina, usa   \n",
              "612937       summerville, south carolina, usa   \n",
              "\n",
              "                                          Book-Title          Book-Author  \\\n",
              "184                             Bxc Blue Bay Mystery  Gertrude Cha Warner   \n",
              "186                               Lighthouse Mystery    Gertrude C Warner   \n",
              "191                                   Mike's Mystery  Gertrude Cha Warner   \n",
              "231                                   Charming Billy      Alice Mcdermott   \n",
              "290                                      Moon Palace          Paul Auster   \n",
              "...                                              ...                  ...   \n",
              "612705                         84 Charing Cross Road         Helene Hanff   \n",
              "612710              Life,the Universe and Everything        Douglas Adams   \n",
              "612734  Herr Der Fliegen (Fiction, Poetry and Drama)              Golding   \n",
              "612760                        More Tales of the City               Maupin   \n",
              "612937                                   Memory Cure       Thomas H Crook   \n",
              "\n",
              "        Year-Of-Publication                        Publisher  \n",
              "184                      -1                   Scholastic Inc  \n",
              "186                      -1                   Scholastic Inc  \n",
              "191                      -1                   Scholastic Inc  \n",
              "231                      -1            Farrar, Straus Giroux  \n",
              "290                      -1                  Faber Faber Inc  \n",
              "...                     ...                              ...  \n",
              "612705                   -1      Warner Books> C/o Little Br  \n",
              "612710                   -1                    Pan Books Ltd  \n",
              "612734                   -1  Fischer Taschenbuch Verlag GmbH  \n",
              "612760                   -1            Bantam Doubleday Dell  \n",
              "612937                   -1                     Pocket Books  \n",
              "\n",
              "[8035 rows x 10 columns]"
            ],
            "text/html": [
              "\n",
              "  <div id=\"df-cd6b919f-6668-41c3-8991-979c8c8524c1\">\n",
              "    <div class=\"colab-df-container\">\n",
              "      <div>\n",
              "<style scoped>\n",
              "    .dataframe tbody tr th:only-of-type {\n",
              "        vertical-align: middle;\n",
              "    }\n",
              "\n",
              "    .dataframe tbody tr th {\n",
              "        vertical-align: top;\n",
              "    }\n",
              "\n",
              "    .dataframe thead th {\n",
              "        text-align: right;\n",
              "    }\n",
              "</style>\n",
              "<table border=\"1\" class=\"dataframe\">\n",
              "  <thead>\n",
              "    <tr style=\"text-align: right;\">\n",
              "      <th></th>\n",
              "      <th>ID</th>\n",
              "      <th>User-ID</th>\n",
              "      <th>Book-ID</th>\n",
              "      <th>Book-Rating</th>\n",
              "      <th>Age</th>\n",
              "      <th>Location</th>\n",
              "      <th>Book-Title</th>\n",
              "      <th>Book-Author</th>\n",
              "      <th>Year-Of-Publication</th>\n",
              "      <th>Publisher</th>\n",
              "    </tr>\n",
              "  </thead>\n",
              "  <tbody>\n",
              "    <tr>\n",
              "      <th>184</th>\n",
              "      <td>TRAIN_000184</td>\n",
              "      <td>USER_00049</td>\n",
              "      <td>BOOK_121460</td>\n",
              "      <td>0.0</td>\n",
              "      <td>37.0</td>\n",
              "      <td>gaylord, michigan, usa</td>\n",
              "      <td>Bxc Blue Bay Mystery</td>\n",
              "      <td>Gertrude Cha Warner</td>\n",
              "      <td>-1</td>\n",
              "      <td>Scholastic Inc</td>\n",
              "    </tr>\n",
              "    <tr>\n",
              "      <th>186</th>\n",
              "      <td>TRAIN_000186</td>\n",
              "      <td>USER_00049</td>\n",
              "      <td>BOOK_175661</td>\n",
              "      <td>10.0</td>\n",
              "      <td>37.0</td>\n",
              "      <td>gaylord, michigan, usa</td>\n",
              "      <td>Lighthouse Mystery</td>\n",
              "      <td>Gertrude C Warner</td>\n",
              "      <td>-1</td>\n",
              "      <td>Scholastic Inc</td>\n",
              "    </tr>\n",
              "    <tr>\n",
              "      <th>191</th>\n",
              "      <td>TRAIN_000191</td>\n",
              "      <td>USER_00049</td>\n",
              "      <td>BOOK_230275</td>\n",
              "      <td>0.0</td>\n",
              "      <td>37.0</td>\n",
              "      <td>gaylord, michigan, usa</td>\n",
              "      <td>Mike's Mystery</td>\n",
              "      <td>Gertrude Cha Warner</td>\n",
              "      <td>-1</td>\n",
              "      <td>Scholastic Inc</td>\n",
              "    </tr>\n",
              "    <tr>\n",
              "      <th>231</th>\n",
              "      <td>TRAIN_000231</td>\n",
              "      <td>USER_00054</td>\n",
              "      <td>BOOK_122689</td>\n",
              "      <td>0.0</td>\n",
              "      <td>39.0</td>\n",
              "      <td>spring, texas, usa</td>\n",
              "      <td>Charming Billy</td>\n",
              "      <td>Alice Mcdermott</td>\n",
              "      <td>-1</td>\n",
              "      <td>Farrar, Straus Giroux</td>\n",
              "    </tr>\n",
              "    <tr>\n",
              "      <th>290</th>\n",
              "      <td>TRAIN_000290</td>\n",
              "      <td>USER_00060</td>\n",
              "      <td>BOOK_165427</td>\n",
              "      <td>0.0</td>\n",
              "      <td>27.0</td>\n",
              "      <td>los angeles, california, usa</td>\n",
              "      <td>Moon Palace</td>\n",
              "      <td>Paul Auster</td>\n",
              "      <td>-1</td>\n",
              "      <td>Faber Faber Inc</td>\n",
              "    </tr>\n",
              "    <tr>\n",
              "      <th>...</th>\n",
              "      <td>...</td>\n",
              "      <td>...</td>\n",
              "      <td>...</td>\n",
              "      <td>...</td>\n",
              "      <td>...</td>\n",
              "      <td>...</td>\n",
              "      <td>...</td>\n",
              "      <td>...</td>\n",
              "      <td>...</td>\n",
              "      <td>...</td>\n",
              "    </tr>\n",
              "    <tr>\n",
              "      <th>612705</th>\n",
              "      <td>TRAIN_612705</td>\n",
              "      <td>USER_64037</td>\n",
              "      <td>BOOK_103002</td>\n",
              "      <td>8.0</td>\n",
              "      <td>49.0</td>\n",
              "      <td>camberley, surrey, united kingdom</td>\n",
              "      <td>84 Charing Cross Road</td>\n",
              "      <td>Helene Hanff</td>\n",
              "      <td>-1</td>\n",
              "      <td>Warner Books&gt; C/o Little Br</td>\n",
              "    </tr>\n",
              "    <tr>\n",
              "      <th>612710</th>\n",
              "      <td>TRAIN_612710</td>\n",
              "      <td>USER_64037</td>\n",
              "      <td>BOOK_171600</td>\n",
              "      <td>0.0</td>\n",
              "      <td>49.0</td>\n",
              "      <td>camberley, surrey, united kingdom</td>\n",
              "      <td>Life,the Universe and Everything</td>\n",
              "      <td>Douglas Adams</td>\n",
              "      <td>-1</td>\n",
              "      <td>Pan Books Ltd</td>\n",
              "    </tr>\n",
              "    <tr>\n",
              "      <th>612734</th>\n",
              "      <td>TRAIN_612734</td>\n",
              "      <td>USER_64049</td>\n",
              "      <td>BOOK_039385</td>\n",
              "      <td>3.0</td>\n",
              "      <td>31.0</td>\n",
              "      <td>krefeld, nordrhein-westfalen, germany</td>\n",
              "      <td>Herr Der Fliegen (Fiction, Poetry and Drama)</td>\n",
              "      <td>Golding</td>\n",
              "      <td>-1</td>\n",
              "      <td>Fischer Taschenbuch Verlag GmbH</td>\n",
              "    </tr>\n",
              "    <tr>\n",
              "      <th>612760</th>\n",
              "      <td>TRAIN_612760</td>\n",
              "      <td>USER_64056</td>\n",
              "      <td>BOOK_011020</td>\n",
              "      <td>0.0</td>\n",
              "      <td>35.0</td>\n",
              "      <td>summerville, south carolina, usa</td>\n",
              "      <td>More Tales of the City</td>\n",
              "      <td>Maupin</td>\n",
              "      <td>-1</td>\n",
              "      <td>Bantam Doubleday Dell</td>\n",
              "    </tr>\n",
              "    <tr>\n",
              "      <th>612937</th>\n",
              "      <td>TRAIN_612937</td>\n",
              "      <td>USER_64056</td>\n",
              "      <td>BOOK_100343</td>\n",
              "      <td>0.0</td>\n",
              "      <td>35.0</td>\n",
              "      <td>summerville, south carolina, usa</td>\n",
              "      <td>Memory Cure</td>\n",
              "      <td>Thomas H Crook</td>\n",
              "      <td>-1</td>\n",
              "      <td>Pocket Books</td>\n",
              "    </tr>\n",
              "  </tbody>\n",
              "</table>\n",
              "<p>8035 rows × 10 columns</p>\n",
              "</div>\n",
              "      <button class=\"colab-df-convert\" onclick=\"convertToInteractive('df-cd6b919f-6668-41c3-8991-979c8c8524c1')\"\n",
              "              title=\"Convert this dataframe to an interactive table.\"\n",
              "              style=\"display:none;\">\n",
              "        \n",
              "  <svg xmlns=\"http://www.w3.org/2000/svg\" height=\"24px\"viewBox=\"0 0 24 24\"\n",
              "       width=\"24px\">\n",
              "    <path d=\"M0 0h24v24H0V0z\" fill=\"none\"/>\n",
              "    <path d=\"M18.56 5.44l.94 2.06.94-2.06 2.06-.94-2.06-.94-.94-2.06-.94 2.06-2.06.94zm-11 1L8.5 8.5l.94-2.06 2.06-.94-2.06-.94L8.5 2.5l-.94 2.06-2.06.94zm10 10l.94 2.06.94-2.06 2.06-.94-2.06-.94-.94-2.06-.94 2.06-2.06.94z\"/><path d=\"M17.41 7.96l-1.37-1.37c-.4-.4-.92-.59-1.43-.59-.52 0-1.04.2-1.43.59L10.3 9.45l-7.72 7.72c-.78.78-.78 2.05 0 2.83L4 21.41c.39.39.9.59 1.41.59.51 0 1.02-.2 1.41-.59l7.78-7.78 2.81-2.81c.8-.78.8-2.07 0-2.86zM5.41 20L4 18.59l7.72-7.72 1.47 1.35L5.41 20z\"/>\n",
              "  </svg>\n",
              "      </button>\n",
              "      \n",
              "  <style>\n",
              "    .colab-df-container {\n",
              "      display:flex;\n",
              "      flex-wrap:wrap;\n",
              "      gap: 12px;\n",
              "    }\n",
              "\n",
              "    .colab-df-convert {\n",
              "      background-color: #E8F0FE;\n",
              "      border: none;\n",
              "      border-radius: 50%;\n",
              "      cursor: pointer;\n",
              "      display: none;\n",
              "      fill: #1967D2;\n",
              "      height: 32px;\n",
              "      padding: 0 0 0 0;\n",
              "      width: 32px;\n",
              "    }\n",
              "\n",
              "    .colab-df-convert:hover {\n",
              "      background-color: #E2EBFA;\n",
              "      box-shadow: 0px 1px 2px rgba(60, 64, 67, 0.3), 0px 1px 3px 1px rgba(60, 64, 67, 0.15);\n",
              "      fill: #174EA6;\n",
              "    }\n",
              "\n",
              "    [theme=dark] .colab-df-convert {\n",
              "      background-color: #3B4455;\n",
              "      fill: #D2E3FC;\n",
              "    }\n",
              "\n",
              "    [theme=dark] .colab-df-convert:hover {\n",
              "      background-color: #434B5C;\n",
              "      box-shadow: 0px 1px 3px 1px rgba(0, 0, 0, 0.15);\n",
              "      filter: drop-shadow(0px 1px 2px rgba(0, 0, 0, 0.3));\n",
              "      fill: #FFFFFF;\n",
              "    }\n",
              "  </style>\n",
              "\n",
              "      <script>\n",
              "        const buttonEl =\n",
              "          document.querySelector('#df-cd6b919f-6668-41c3-8991-979c8c8524c1 button.colab-df-convert');\n",
              "        buttonEl.style.display =\n",
              "          google.colab.kernel.accessAllowed ? 'block' : 'none';\n",
              "\n",
              "        async function convertToInteractive(key) {\n",
              "          const element = document.querySelector('#df-cd6b919f-6668-41c3-8991-979c8c8524c1');\n",
              "          const dataTable =\n",
              "            await google.colab.kernel.invokeFunction('convertToInteractive',\n",
              "                                                     [key], {});\n",
              "          if (!dataTable) return;\n",
              "\n",
              "          const docLinkHtml = 'Like what you see? Visit the ' +\n",
              "            '<a target=\"_blank\" href=https://colab.research.google.com/notebooks/data_table.ipynb>data table notebook</a>'\n",
              "            + ' to learn more about interactive tables.';\n",
              "          element.innerHTML = '';\n",
              "          dataTable['output_type'] = 'display_data';\n",
              "          await google.colab.output.renderOutput(dataTable, element);\n",
              "          const docLink = document.createElement('div');\n",
              "          docLink.innerHTML = docLinkHtml;\n",
              "          element.appendChild(docLink);\n",
              "        }\n",
              "      </script>\n",
              "    </div>\n",
              "  </div>\n",
              "  "
            ]
          },
          "metadata": {},
          "execution_count": 22
        }
      ]
    },
    {
      "cell_type": "code",
      "source": [
        "train['Year-Of-Publication'] = np.where((train['Year-Of-Publication'] < 1950) | (train['Year-Of-Publication'] > 2023), np.nan, train['Year-Of-Publication'])\n",
        "\n",
        "# 결측치를 평균값으로 대체하기\n",
        "mean_Year = train['Year-Of-Publication'].mean()\n",
        "train['Year-Of-Publication'] = train['Year-Of-Publication'].fillna(mean_Year)\n",
        "\n",
        "print(train)"
      ],
      "metadata": {
        "colab": {
          "base_uri": "https://localhost:8080/"
        },
        "id": "OrorGaGYcW-V",
        "outputId": "5295ab3b-7c41-484c-ab19-d56a81ef57f1"
      },
      "execution_count": null,
      "outputs": [
        {
          "output_type": "stream",
          "name": "stdout",
          "text": [
            "                  ID     User-ID      Book-ID  Book-Rating   Age  \\\n",
            "0       TRAIN_000000  USER_00000  BOOK_044368          8.0  23.0   \n",
            "1       TRAIN_000001  USER_00000  BOOK_081205          8.0  23.0   \n",
            "2       TRAIN_000002  USER_00000  BOOK_086781          0.0  23.0   \n",
            "3       TRAIN_000003  USER_00000  BOOK_098622          0.0  23.0   \n",
            "4       TRAIN_000004  USER_00000  BOOK_180810          8.0  23.0   \n",
            "...              ...         ...          ...          ...   ...   \n",
            "613074  TRAIN_613074  USER_64056  BOOK_164028          0.0  35.0   \n",
            "613075  TRAIN_613075  USER_64056  BOOK_164342          0.0  35.0   \n",
            "613076  TRAIN_613076  USER_64056  BOOK_164782          9.0  35.0   \n",
            "613077  TRAIN_613077  USER_64056  BOOK_165556          0.0  35.0   \n",
            "613078  TRAIN_613078  USER_64056  BOOK_165574          0.0  35.0   \n",
            "\n",
            "                                Location  \\\n",
            "0       sackville, new brunswick, canada   \n",
            "1       sackville, new brunswick, canada   \n",
            "2       sackville, new brunswick, canada   \n",
            "3       sackville, new brunswick, canada   \n",
            "4       sackville, new brunswick, canada   \n",
            "...                                  ...   \n",
            "613074  summerville, south carolina, usa   \n",
            "613075  summerville, south carolina, usa   \n",
            "613076  summerville, south carolina, usa   \n",
            "613077  summerville, south carolina, usa   \n",
            "613078  summerville, south carolina, usa   \n",
            "\n",
            "                                               Book-Title  \\\n",
            "0                                              Road Taken   \n",
            "1                       Macbeth (New Penguin Shakespeare)   \n",
            "2                      Waverley (Penguin English Library)   \n",
            "3                                 Mother Earth Father Sky   \n",
            "4                                       She Who Remembers   \n",
            "...                                                   ...   \n",
            "613074                            The Secret Life of Bees   \n",
            "613075  Shooting at Loons (Deborah Knott Mysteries (Pa...   \n",
            "613076                                           Hit List   \n",
            "613077                                         Going Home   \n",
            "613078                                      Dark Paradise   \n",
            "\n",
            "                Book-Author  Year-Of-Publication                     Publisher  \n",
            "0                Rona Jaffe               2001.0                          Mira  \n",
            "1       William Shakespeare               1981.0                 Penguin Books  \n",
            "2              Walter Scott               1981.0                 Penguin Books  \n",
            "3              Sue Harrison               1991.0                          Avon  \n",
            "4          Linda Lay Shuler               1989.0                   Signet Book  \n",
            "...                     ...                  ...                           ...  \n",
            "613074        Sue Monk Kidd               2002.0                  Viking Books  \n",
            "613075       Margaret Maron               1995.0                  Warner Books  \n",
            "613076       Lawrence Block               2000.0  William Morrow &amp; Company  \n",
            "613077       Danielle Steel               1991.0                        Pocket  \n",
            "613078            TAMI HOAG               1994.0                        Bantam  \n",
            "\n",
            "[613079 rows x 10 columns]\n"
          ]
        }
      ]
    },
    {
      "cell_type": "code",
      "source": [
        "sns.histplot(train['Year-Of-Publication'], kde=False, bins=50)"
      ],
      "metadata": {
        "colab": {
          "base_uri": "https://localhost:8080/",
          "height": 467
        },
        "id": "-MBVkp3Q_ZFK",
        "outputId": "1d440add-715b-4389-8ed9-9205a0b781bc"
      },
      "execution_count": null,
      "outputs": [
        {
          "output_type": "execute_result",
          "data": {
            "text/plain": [
              "<Axes: xlabel='Year-Of-Publication', ylabel='Count'>"
            ]
          },
          "metadata": {},
          "execution_count": 24
        },
        {
          "output_type": "display_data",
          "data": {
            "text/plain": [
              "<Figure size 640x480 with 1 Axes>"
            ],
            "image/png": "[encoded data removed]"
          },
          "metadata": {}
        }
      ]
    },
    {
      "cell_type": "code",
      "source": [
        "plt.figure(figsize=(10,10))\n",
        "sns.heatmap(train.corr(), annot=True, annot_kws={'size': 20}) #annot 크기 조정\n",
        "plt.tick_params(labelsize=25)"
      ],
      "metadata": {
        "colab": {
          "base_uri": "https://localhost:8080/",
          "height": 913
        },
        "id": "8SyUwpCXicgc",
        "outputId": "d708b966-060d-416f-d1f6-879e033515e1"
      },
      "execution_count": null,
      "outputs": [
        {
          "output_type": "stream",
          "name": "stderr",
          "text": [
            "<ipython-input-25-0bd63cb06207>:2: FutureWarning: The default value of numeric_only in DataFrame.corr is deprecated. In a future version, it will default to False. Select only valid columns or specify the value of numeric_only to silence this warning.\n",
            "  sns.heatmap(train.corr(), annot=True, annot_kws={'size': 20}) #annot 크기 조정\n"
          ]
        },
        {
          "output_type": "display_data",
          "data": {
            "text/plain": [
              "<Figure size 1000x1000 with 2 Axes>"
            ],
            "image/png": "[encoded data removed]"
          },
          "metadata": {}
        }
      ]
    },
    {
      "cell_type": "code",
      "source": [
        "train"
      ],
      "metadata": {
        "colab": {
          "base_uri": "https://localhost:8080/",
          "height": 658
        },
        "id": "qXVywgQ8iP5h",
        "outputId": "b2313638-d387-4ea8-8b6c-42a4539e467f"
      },
      "execution_count": null,
      "outputs": [
        {
          "output_type": "execute_result",
          "data": {
            "text/plain": [
              "                  ID     User-ID      Book-ID  Book-Rating   Age  \\\n",
              "0       TRAIN_000000  USER_00000  BOOK_044368          8.0  23.0   \n",
              "1       TRAIN_000001  USER_00000  BOOK_081205          8.0  23.0   \n",
              "2       TRAIN_000002  USER_00000  BOOK_086781          0.0  23.0   \n",
              "3       TRAIN_000003  USER_00000  BOOK_098622          0.0  23.0   \n",
              "4       TRAIN_000004  USER_00000  BOOK_180810          8.0  23.0   \n",
              "...              ...         ...          ...          ...   ...   \n",
              "613074  TRAIN_613074  USER_64056  BOOK_164028          0.0  35.0   \n",
              "613075  TRAIN_613075  USER_64056  BOOK_164342          0.0  35.0   \n",
              "613076  TRAIN_613076  USER_64056  BOOK_164782          9.0  35.0   \n",
              "613077  TRAIN_613077  USER_64056  BOOK_165556          0.0  35.0   \n",
              "613078  TRAIN_613078  USER_64056  BOOK_165574          0.0  35.0   \n",
              "\n",
              "                                Location  \\\n",
              "0       sackville, new brunswick, canada   \n",
              "1       sackville, new brunswick, canada   \n",
              "2       sackville, new brunswick, canada   \n",
              "3       sackville, new brunswick, canada   \n",
              "4       sackville, new brunswick, canada   \n",
              "...                                  ...   \n",
              "613074  summerville, south carolina, usa   \n",
              "613075  summerville, south carolina, usa   \n",
              "613076  summerville, south carolina, usa   \n",
              "613077  summerville, south carolina, usa   \n",
              "613078  summerville, south carolina, usa   \n",
              "\n",
              "                                               Book-Title  \\\n",
              "0                                              Road Taken   \n",
              "1                       Macbeth (New Penguin Shakespeare)   \n",
              "2                      Waverley (Penguin English Library)   \n",
              "3                                 Mother Earth Father Sky   \n",
              "4                                       She Who Remembers   \n",
              "...                                                   ...   \n",
              "613074                            The Secret Life of Bees   \n",
              "613075  Shooting at Loons (Deborah Knott Mysteries (Pa...   \n",
              "613076                                           Hit List   \n",
              "613077                                         Going Home   \n",
              "613078                                      Dark Paradise   \n",
              "\n",
              "                Book-Author  Year-Of-Publication                     Publisher  \n",
              "0                Rona Jaffe               2001.0                          Mira  \n",
              "1       William Shakespeare               1981.0                 Penguin Books  \n",
              "2              Walter Scott               1981.0                 Penguin Books  \n",
              "3              Sue Harrison               1991.0                          Avon  \n",
              "4          Linda Lay Shuler               1989.0                   Signet Book  \n",
              "...                     ...                  ...                           ...  \n",
              "613074        Sue Monk Kidd               2002.0                  Viking Books  \n",
              "613075       Margaret Maron               1995.0                  Warner Books  \n",
              "613076       Lawrence Block               2000.0  William Morrow &amp; Company  \n",
              "613077       Danielle Steel               1991.0                        Pocket  \n",
              "613078            TAMI HOAG               1994.0                        Bantam  \n",
              "\n",
              "[613079 rows x 10 columns]"
            ],
            "text/html": [
              "\n",
              "  <div id=\"df-4e6be7e7-6f78-4e4b-8848-90ede5e7dba0\">\n",
              "    <div class=\"colab-df-container\">\n",
              "      <div>\n",
              "<style scoped>\n",
              "    .dataframe tbody tr th:only-of-type {\n",
              "        vertical-align: middle;\n",
              "    }\n",
              "\n",
              "    .dataframe tbody tr th {\n",
              "        vertical-align: top;\n",
              "    }\n",
              "\n",
              "    .dataframe thead th {\n",
              "        text-align: right;\n",
              "    }\n",
              "</style>\n",
              "<table border=\"1\" class=\"dataframe\">\n",
              "  <thead>\n",
              "    <tr style=\"text-align: right;\">\n",
              "      <th></th>\n",
              "      <th>ID</th>\n",
              "      <th>User-ID</th>\n",
              "      <th>Book-ID</th>\n",
              "      <th>Book-Rating</th>\n",
              "      <th>Age</th>\n",
              "      <th>Location</th>\n",
              "      <th>Book-Title</th>\n",
              "      <th>Book-Author</th>\n",
              "      <th>Year-Of-Publication</th>\n",
              "      <th>Publisher</th>\n",
              "    </tr>\n",
              "  </thead>\n",
              "  <tbody>\n",
              "    <tr>\n",
              "      <th>0</th>\n",
              "      <td>TRAIN_000000</td>\n",
              "      <td>USER_00000</td>\n",
              "      <td>BOOK_044368</td>\n",
              "      <td>8.0</td>\n",
              "      <td>23.0</td>\n",
              "      <td>sackville, new brunswick, canada</td>\n",
              "      <td>Road Taken</td>\n",
              "      <td>Rona Jaffe</td>\n",
              "      <td>2001.0</td>\n",
              "      <td>Mira</td>\n",
              "    </tr>\n",
              "    <tr>\n",
              "      <th>1</th>\n",
              "      <td>TRAIN_000001</td>\n",
              "      <td>USER_00000</td>\n",
              "      <td>BOOK_081205</td>\n",
              "      <td>8.0</td>\n",
              "      <td>23.0</td>\n",
              "      <td>sackville, new brunswick, canada</td>\n",
              "      <td>Macbeth (New Penguin Shakespeare)</td>\n",
              "      <td>William Shakespeare</td>\n",
              "      <td>1981.0</td>\n",
              "      <td>Penguin Books</td>\n",
              "    </tr>\n",
              "    <tr>\n",
              "      <th>2</th>\n",
              "      <td>TRAIN_000002</td>\n",
              "      <td>USER_00000</td>\n",
              "      <td>BOOK_086781</td>\n",
              "      <td>0.0</td>\n",
              "      <td>23.0</td>\n",
              "      <td>sackville, new brunswick, canada</td>\n",
              "      <td>Waverley (Penguin English Library)</td>\n",
              "      <td>Walter Scott</td>\n",
              "      <td>1981.0</td>\n",
              "      <td>Penguin Books</td>\n",
              "    </tr>\n",
              "    <tr>\n",
              "      <th>3</th>\n",
              "      <td>TRAIN_000003</td>\n",
              "      <td>USER_00000</td>\n",
              "      <td>BOOK_098622</td>\n",
              "      <td>0.0</td>\n",
              "      <td>23.0</td>\n",
              "      <td>sackville, new brunswick, canada</td>\n",
              "      <td>Mother Earth Father Sky</td>\n",
              "      <td>Sue Harrison</td>\n",
              "      <td>1991.0</td>\n",
              "      <td>Avon</td>\n",
              "    </tr>\n",
              "    <tr>\n",
              "      <th>4</th>\n",
              "      <td>TRAIN_000004</td>\n",
              "      <td>USER_00000</td>\n",
              "      <td>BOOK_180810</td>\n",
              "      <td>8.0</td>\n",
              "      <td>23.0</td>\n",
              "      <td>sackville, new brunswick, canada</td>\n",
              "      <td>She Who Remembers</td>\n",
              "      <td>Linda Lay Shuler</td>\n",
              "      <td>1989.0</td>\n",
              "      <td>Signet Book</td>\n",
              "    </tr>\n",
              "    <tr>\n",
              "      <th>...</th>\n",
              "      <td>...</td>\n",
              "      <td>...</td>\n",
              "      <td>...</td>\n",
              "      <td>...</td>\n",
              "      <td>...</td>\n",
              "      <td>...</td>\n",
              "      <td>...</td>\n",
              "      <td>...</td>\n",
              "      <td>...</td>\n",
              "      <td>...</td>\n",
              "    </tr>\n",
              "    <tr>\n",
              "      <th>613074</th>\n",
              "      <td>TRAIN_613074</td>\n",
              "      <td>USER_64056</td>\n",
              "      <td>BOOK_164028</td>\n",
              "      <td>0.0</td>\n",
              "      <td>35.0</td>\n",
              "      <td>summerville, south carolina, usa</td>\n",
              "      <td>The Secret Life of Bees</td>\n",
              "      <td>Sue Monk Kidd</td>\n",
              "      <td>2002.0</td>\n",
              "      <td>Viking Books</td>\n",
              "    </tr>\n",
              "    <tr>\n",
              "      <th>613075</th>\n",
              "      <td>TRAIN_613075</td>\n",
              "      <td>USER_64056</td>\n",
              "      <td>BOOK_164342</td>\n",
              "      <td>0.0</td>\n",
              "      <td>35.0</td>\n",
              "      <td>summerville, south carolina, usa</td>\n",
              "      <td>Shooting at Loons (Deborah Knott Mysteries (Pa...</td>\n",
              "      <td>Margaret Maron</td>\n",
              "      <td>1995.0</td>\n",
              "      <td>Warner Books</td>\n",
              "    </tr>\n",
              "    <tr>\n",
              "      <th>613076</th>\n",
              "      <td>TRAIN_613076</td>\n",
              "      <td>USER_64056</td>\n",
              "      <td>BOOK_164782</td>\n",
              "      <td>9.0</td>\n",
              "      <td>35.0</td>\n",
              "      <td>summerville, south carolina, usa</td>\n",
              "      <td>Hit List</td>\n",
              "      <td>Lawrence Block</td>\n",
              "      <td>2000.0</td>\n",
              "      <td>William Morrow &amp;amp; Company</td>\n",
              "    </tr>\n",
              "    <tr>\n",
              "      <th>613077</th>\n",
              "      <td>TRAIN_613077</td>\n",
              "      <td>USER_64056</td>\n",
              "      <td>BOOK_165556</td>\n",
              "      <td>0.0</td>\n",
              "      <td>35.0</td>\n",
              "      <td>summerville, south carolina, usa</td>\n",
              "      <td>Going Home</td>\n",
              "      <td>Danielle Steel</td>\n",
              "      <td>1991.0</td>\n",
              "      <td>Pocket</td>\n",
              "    </tr>\n",
              "    <tr>\n",
              "      <th>613078</th>\n",
              "      <td>TRAIN_613078</td>\n",
              "      <td>USER_64056</td>\n",
              "      <td>BOOK_165574</td>\n",
              "      <td>0.0</td>\n",
              "      <td>35.0</td>\n",
              "      <td>summerville, south carolina, usa</td>\n",
              "      <td>Dark Paradise</td>\n",
              "      <td>TAMI HOAG</td>\n",
              "      <td>1994.0</td>\n",
              "      <td>Bantam</td>\n",
              "    </tr>\n",
              "  </tbody>\n",
              "</table>\n",
              "<p>613079 rows × 10 columns</p>\n",
              "</div>\n",
              "      <button class=\"colab-df-convert\" onclick=\"convertToInteractive('df-4e6be7e7-6f78-4e4b-8848-90ede5e7dba0')\"\n",
              "              title=\"Convert this dataframe to an interactive table.\"\n",
              "              style=\"display:none;\">\n",
              "        \n",
              "  <svg xmlns=\"http://www.w3.org/2000/svg\" height=\"24px\"viewBox=\"0 0 24 24\"\n",
              "       width=\"24px\">\n",
              "    <path d=\"M0 0h24v24H0V0z\" fill=\"none\"/>\n",
              "    <path d=\"M18.56 5.44l.94 2.06.94-2.06 2.06-.94-2.06-.94-.94-2.06-.94 2.06-2.06.94zm-11 1L8.5 8.5l.94-2.06 2.06-.94-2.06-.94L8.5 2.5l-.94 2.06-2.06.94zm10 10l.94 2.06.94-2.06 2.06-.94-2.06-.94-.94-2.06-.94 2.06-2.06.94z\"/><path d=\"M17.41 7.96l-1.37-1.37c-.4-.4-.92-.59-1.43-.59-.52 0-1.04.2-1.43.59L10.3 9.45l-7.72 7.72c-.78.78-.78 2.05 0 2.83L4 21.41c.39.39.9.59 1.41.59.51 0 1.02-.2 1.41-.59l7.78-7.78 2.81-2.81c.8-.78.8-2.07 0-2.86zM5.41 20L4 18.59l7.72-7.72 1.47 1.35L5.41 20z\"/>\n",
              "  </svg>\n",
              "      </button>\n",
              "      \n",
              "  <style>\n",
              "    .colab-df-container {\n",
              "      display:flex;\n",
              "      flex-wrap:wrap;\n",
              "      gap: 12px;\n",
              "    }\n",
              "\n",
              "    .colab-df-convert {\n",
              "      background-color: #E8F0FE;\n",
              "      border: none;\n",
              "      border-radius: 50%;\n",
              "      cursor: pointer;\n",
              "      display: none;\n",
              "      fill: #1967D2;\n",
              "      height: 32px;\n",
              "      padding: 0 0 0 0;\n",
              "      width: 32px;\n",
              "    }\n",
              "\n",
              "    .colab-df-convert:hover {\n",
              "      background-color: #E2EBFA;\n",
              "      box-shadow: 0px 1px 2px rgba(60, 64, 67, 0.3), 0px 1px 3px 1px rgba(60, 64, 67, 0.15);\n",
              "      fill: #174EA6;\n",
              "    }\n",
              "\n",
              "    [theme=dark] .colab-df-convert {\n",
              "      background-color: #3B4455;\n",
              "      fill: #D2E3FC;\n",
              "    }\n",
              "\n",
              "    [theme=dark] .colab-df-convert:hover {\n",
              "      background-color: #434B5C;\n",
              "      box-shadow: 0px 1px 3px 1px rgba(0, 0, 0, 0.15);\n",
              "      filter: drop-shadow(0px 1px 2px rgba(0, 0, 0, 0.3));\n",
              "      fill: #FFFFFF;\n",
              "    }\n",
              "  </style>\n",
              "\n",
              "      <script>\n",
              "        const buttonEl =\n",
              "          document.querySelector('#df-4e6be7e7-6f78-4e4b-8848-90ede5e7dba0 button.colab-df-convert');\n",
              "        buttonEl.style.display =\n",
              "          google.colab.kernel.accessAllowed ? 'block' : 'none';\n",
              "\n",
              "        async function convertToInteractive(key) {\n",
              "          const element = document.querySelector('#df-4e6be7e7-6f78-4e4b-8848-90ede5e7dba0');\n",
              "          const dataTable =\n",
              "            await google.colab.kernel.invokeFunction('convertToInteractive',\n",
              "                                                     [key], {});\n",
              "          if (!dataTable) return;\n",
              "\n",
              "          const docLinkHtml = 'Like what you see? Visit the ' +\n",
              "            '<a target=\"_blank\" href=https://colab.research.google.com/notebooks/data_table.ipynb>data table notebook</a>'\n",
              "            + ' to learn more about interactive tables.';\n",
              "          element.innerHTML = '';\n",
              "          dataTable['output_type'] = 'display_data';\n",
              "          await google.colab.output.renderOutput(dataTable, element);\n",
              "          const docLink = document.createElement('div');\n",
              "          docLink.innerHTML = docLinkHtml;\n",
              "          element.appendChild(docLink);\n",
              "        }\n",
              "      </script>\n",
              "    </div>\n",
              "  </div>\n",
              "  "
            ]
          },
          "metadata": {},
          "execution_count": 26
        }
      ]
    },
    {
      "cell_type": "code",
      "source": [
        "from geopy.geocoders import Nominatim\n",
        "import pandas as pd\n",
        "\n",
        "# 나라와 도시명이 저장된 데이터프레임 생성\n",
        "\n",
        "# geopy의 Nominatim 객체 생성\n",
        "geolocator = Nominatim(user_agent='my_application')\n",
        "\n",
        "# 위도, 경도를 저장할 빈 리스트 생성\n",
        "latitudes = []\n",
        "longitudes = []\n",
        "\n",
        "# 각 도시별 위도와 경도를 구하여 리스트에 저장\n",
        "for index, row in train.iterrows():\n",
        "    location = geolocator.geocode(row['City'] + ', ' + row['Country'])\n"
      ],
      "metadata": {
        "colab": {
          "base_uri": "https://localhost:8080/",
          "height": 530
        },
        "id": "tM8yxO8qkahD",
        "outputId": "a13ffca8-7075-44bd-eb3b-931bbbed9b80"
      },
      "execution_count": null,
      "outputs": [
        {
          "output_type": "error",
          "ename": "KeyError",
          "evalue": "ignored",
          "traceback": [
            "\u001b[0;31m---------------------------------------------------------------------------\u001b[0m",
            "\u001b[0;31mKeyError\u001b[0m                                  Traceback (most recent call last)",
            "\u001b[0;32m/usr/local/lib/python3.9/dist-packages/pandas/core/indexes/base.py\u001b[0m in \u001b[0;36mget_loc\u001b[0;34m(self, key, method, tolerance)\u001b[0m\n\u001b[1;32m   3801\u001b[0m             \u001b[0;32mtry\u001b[0m\u001b[0;34m:\u001b[0m\u001b[0;34m\u001b[0m\u001b[0;34m\u001b[0m\u001b[0m\n\u001b[0;32m-> 3802\u001b[0;31m                 \u001b[0;32mreturn\u001b[0m \u001b[0mself\u001b[0m\u001b[0;34m.\u001b[0m\u001b[0m_engine\u001b[0m\u001b[0;34m.\u001b[0m\u001b[0mget_loc\u001b[0m\u001b[0;34m(\u001b[0m\u001b[0mcasted_key\u001b[0m\u001b[0;34m)\u001b[0m\u001b[0;34m\u001b[0m\u001b[0;34m\u001b[0m\u001b[0m\n\u001b[0m\u001b[1;32m   3803\u001b[0m             \u001b[0;32mexcept\u001b[0m \u001b[0mKeyError\u001b[0m \u001b[0;32mas\u001b[0m \u001b[0merr\u001b[0m\u001b[0;34m:\u001b[0m\u001b[0;34m\u001b[0m\u001b[0;34m\u001b[0m\u001b[0m\n",
            "\u001b[0;32m/usr/local/lib/python3.9/dist-packages/pandas/_libs/index.pyx\u001b[0m in \u001b[0;36mpandas._libs.index.IndexEngine.get_loc\u001b[0;34m()\u001b[0m\n",
            "\u001b[0;32m/usr/local/lib/python3.9/dist-packages/pandas/_libs/index.pyx\u001b[0m in \u001b[0;36mpandas._libs.index.IndexEngine.get_loc\u001b[0;34m()\u001b[0m\n",
            "\u001b[0;32mpandas/_libs/hashtable_class_helper.pxi\u001b[0m in \u001b[0;36mpandas._libs.hashtable.PyObjectHashTable.get_item\u001b[0;34m()\u001b[0m\n",
            "\u001b[0;32mpandas/_libs/hashtable_class_helper.pxi\u001b[0m in \u001b[0;36mpandas._libs.hashtable.PyObjectHashTable.get_item\u001b[0;34m()\u001b[0m\n",
            "\u001b[0;31mKeyError\u001b[0m: 'City'",
            "\nThe above exception was the direct cause of the following exception:\n",
            "\u001b[0;31mKeyError\u001b[0m                                  Traceback (most recent call last)",
            "\u001b[0;32m<ipython-input-27-04fd889f2024>\u001b[0m in \u001b[0;36m<cell line: 14>\u001b[0;34m()\u001b[0m\n\u001b[1;32m     13\u001b[0m \u001b[0;31m# 각 도시별 위도와 경도를 구하여 리스트에 저장\u001b[0m\u001b[0;34m\u001b[0m\u001b[0;34m\u001b[0m\u001b[0m\n\u001b[1;32m     14\u001b[0m \u001b[0;32mfor\u001b[0m \u001b[0mindex\u001b[0m\u001b[0;34m,\u001b[0m \u001b[0mrow\u001b[0m \u001b[0;32min\u001b[0m \u001b[0mtrain\u001b[0m\u001b[0;34m.\u001b[0m\u001b[0miterrows\u001b[0m\u001b[0;34m(\u001b[0m\u001b[0;34m)\u001b[0m\u001b[0;34m:\u001b[0m\u001b[0;34m\u001b[0m\u001b[0;34m\u001b[0m\u001b[0m\n\u001b[0;32m---> 15\u001b[0;31m     \u001b[0mlocation\u001b[0m \u001b[0;34m=\u001b[0m \u001b[0mgeolocator\u001b[0m\u001b[0;34m.\u001b[0m\u001b[0mgeocode\u001b[0m\u001b[0;34m(\u001b[0m\u001b[0mrow\u001b[0m\u001b[0;34m[\u001b[0m\u001b[0;34m'City'\u001b[0m\u001b[0;34m]\u001b[0m \u001b[0;34m+\u001b[0m \u001b[0;34m', '\u001b[0m \u001b[0;34m+\u001b[0m \u001b[0mrow\u001b[0m\u001b[0;34m[\u001b[0m\u001b[0;34m'Country'\u001b[0m\u001b[0;34m]\u001b[0m\u001b[0;34m)\u001b[0m\u001b[0;34m\u001b[0m\u001b[0;34m\u001b[0m\u001b[0m\n\u001b[0m",
            "\u001b[0;32m/usr/local/lib/python3.9/dist-packages/pandas/core/series.py\u001b[0m in \u001b[0;36m__getitem__\u001b[0;34m(self, key)\u001b[0m\n\u001b[1;32m    979\u001b[0m \u001b[0;34m\u001b[0m\u001b[0m\n\u001b[1;32m    980\u001b[0m         \u001b[0;32melif\u001b[0m \u001b[0mkey_is_scalar\u001b[0m\u001b[0;34m:\u001b[0m\u001b[0;34m\u001b[0m\u001b[0;34m\u001b[0m\u001b[0m\n\u001b[0;32m--> 981\u001b[0;31m             \u001b[0;32mreturn\u001b[0m \u001b[0mself\u001b[0m\u001b[0;34m.\u001b[0m\u001b[0m_get_value\u001b[0m\u001b[0;34m(\u001b[0m\u001b[0mkey\u001b[0m\u001b[0;34m)\u001b[0m\u001b[0;34m\u001b[0m\u001b[0;34m\u001b[0m\u001b[0m\n\u001b[0m\u001b[1;32m    982\u001b[0m \u001b[0;34m\u001b[0m\u001b[0m\n\u001b[1;32m    983\u001b[0m         \u001b[0;32mif\u001b[0m \u001b[0mis_hashable\u001b[0m\u001b[0;34m(\u001b[0m\u001b[0mkey\u001b[0m\u001b[0;34m)\u001b[0m\u001b[0;34m:\u001b[0m\u001b[0;34m\u001b[0m\u001b[0;34m\u001b[0m\u001b[0m\n",
            "\u001b[0;32m/usr/local/lib/python3.9/dist-packages/pandas/core/series.py\u001b[0m in \u001b[0;36m_get_value\u001b[0;34m(self, label, takeable)\u001b[0m\n\u001b[1;32m   1087\u001b[0m \u001b[0;34m\u001b[0m\u001b[0m\n\u001b[1;32m   1088\u001b[0m         \u001b[0;31m# Similar to Index.get_value, but we do not fall back to positional\u001b[0m\u001b[0;34m\u001b[0m\u001b[0;34m\u001b[0m\u001b[0m\n\u001b[0;32m-> 1089\u001b[0;31m         \u001b[0mloc\u001b[0m \u001b[0;34m=\u001b[0m \u001b[0mself\u001b[0m\u001b[0;34m.\u001b[0m\u001b[0mindex\u001b[0m\u001b[0;34m.\u001b[0m\u001b[0mget_loc\u001b[0m\u001b[0;34m(\u001b[0m\u001b[0mlabel\u001b[0m\u001b[0;34m)\u001b[0m\u001b[0;34m\u001b[0m\u001b[0;34m\u001b[0m\u001b[0m\n\u001b[0m\u001b[1;32m   1090\u001b[0m         \u001b[0;32mreturn\u001b[0m \u001b[0mself\u001b[0m\u001b[0;34m.\u001b[0m\u001b[0mindex\u001b[0m\u001b[0;34m.\u001b[0m\u001b[0m_get_values_for_loc\u001b[0m\u001b[0;34m(\u001b[0m\u001b[0mself\u001b[0m\u001b[0;34m,\u001b[0m \u001b[0mloc\u001b[0m\u001b[0;34m,\u001b[0m \u001b[0mlabel\u001b[0m\u001b[0;34m)\u001b[0m\u001b[0;34m\u001b[0m\u001b[0;34m\u001b[0m\u001b[0m\n\u001b[1;32m   1091\u001b[0m \u001b[0;34m\u001b[0m\u001b[0m\n",
            "\u001b[0;32m/usr/local/lib/python3.9/dist-packages/pandas/core/indexes/base.py\u001b[0m in \u001b[0;36mget_loc\u001b[0;34m(self, key, method, tolerance)\u001b[0m\n\u001b[1;32m   3802\u001b[0m                 \u001b[0;32mreturn\u001b[0m \u001b[0mself\u001b[0m\u001b[0;34m.\u001b[0m\u001b[0m_engine\u001b[0m\u001b[0;34m.\u001b[0m\u001b[0mget_loc\u001b[0m\u001b[0;34m(\u001b[0m\u001b[0mcasted_key\u001b[0m\u001b[0;34m)\u001b[0m\u001b[0;34m\u001b[0m\u001b[0;34m\u001b[0m\u001b[0m\n\u001b[1;32m   3803\u001b[0m             \u001b[0;32mexcept\u001b[0m \u001b[0mKeyError\u001b[0m \u001b[0;32mas\u001b[0m \u001b[0merr\u001b[0m\u001b[0;34m:\u001b[0m\u001b[0;34m\u001b[0m\u001b[0;34m\u001b[0m\u001b[0m\n\u001b[0;32m-> 3804\u001b[0;31m                 \u001b[0;32mraise\u001b[0m \u001b[0mKeyError\u001b[0m\u001b[0;34m(\u001b[0m\u001b[0mkey\u001b[0m\u001b[0;34m)\u001b[0m \u001b[0;32mfrom\u001b[0m \u001b[0merr\u001b[0m\u001b[0;34m\u001b[0m\u001b[0;34m\u001b[0m\u001b[0m\n\u001b[0m\u001b[1;32m   3805\u001b[0m             \u001b[0;32mexcept\u001b[0m \u001b[0mTypeError\u001b[0m\u001b[0;34m:\u001b[0m\u001b[0;34m\u001b[0m\u001b[0;34m\u001b[0m\u001b[0m\n\u001b[1;32m   3806\u001b[0m                 \u001b[0;31m# If we have a listlike key, _check_indexing_error will raise\u001b[0m\u001b[0;34m\u001b[0m\u001b[0;34m\u001b[0m\u001b[0m\n",
            "\u001b[0;31mKeyError\u001b[0m: 'City'"
          ]
        }
      ]
    },
    {
      "cell_type": "code",
      "source": [
        "import folium\n",
        "\n",
        "# City, State, Country 열 추가하기\n",
        "location_split = train['Location'].str.split(', ', expand=True)\n",
        "train[['City', 'State', 'Country']] = location_split\n",
        "\n",
        "# 지도에 마커 추가하기\n",
        "m = folium.Map(location=[0, 0], zoom_start=2)\n",
        "for i, row in train.iterrows():\n",
        "    city = row['City']\n",
        "    state = row['State']\n",
        "    country = row['Country']\n",
        "    tooltip = f\"{city}, {state}, {country}\"\n",
        "    location = f\"{city}, {country}\"\n",
        "    try:\n",
        "        geocode = geolocator.geocode(location)\n",
        "        latitude = geocode.latitude\n",
        "        longitude = geocode.longitude\n",
        "        folium.Marker(\n",
        "            location=[latitude, longitude],\n",
        "            tooltip=tooltip\n",
        "        ).add_to(m)\n",
        "    except:\n",
        "        pass\n",
        "\n",
        "m\n"
      ],
      "metadata": {
        "colab": {
          "base_uri": "https://localhost:8080/",
          "height": 401
        },
        "id": "Sv4XzoekGjjI",
        "outputId": "4aff3662-899a-4869-e11c-f9f3d8a7a770"
      },
      "execution_count": null,
      "outputs": [
        {
          "output_type": "error",
          "ename": "ValueError",
          "evalue": "ignored",
          "traceback": [
            "\u001b[0;31m---------------------------------------------------------------------------\u001b[0m",
            "\u001b[0;31mValueError\u001b[0m                                Traceback (most recent call last)",
            "\u001b[0;32m<ipython-input-28-ccbe6bd09f17>\u001b[0m in \u001b[0;36m<cell line: 5>\u001b[0;34m()\u001b[0m\n\u001b[1;32m      3\u001b[0m \u001b[0;31m# City, State, Country 열 추가하기\u001b[0m\u001b[0;34m\u001b[0m\u001b[0;34m\u001b[0m\u001b[0m\n\u001b[1;32m      4\u001b[0m \u001b[0mlocation_split\u001b[0m \u001b[0;34m=\u001b[0m \u001b[0mtrain\u001b[0m\u001b[0;34m[\u001b[0m\u001b[0;34m'Location'\u001b[0m\u001b[0;34m]\u001b[0m\u001b[0;34m.\u001b[0m\u001b[0mstr\u001b[0m\u001b[0;34m.\u001b[0m\u001b[0msplit\u001b[0m\u001b[0;34m(\u001b[0m\u001b[0;34m', '\u001b[0m\u001b[0;34m,\u001b[0m \u001b[0mexpand\u001b[0m\u001b[0;34m=\u001b[0m\u001b[0;32mTrue\u001b[0m\u001b[0;34m)\u001b[0m\u001b[0;34m\u001b[0m\u001b[0;34m\u001b[0m\u001b[0m\n\u001b[0;32m----> 5\u001b[0;31m \u001b[0mtrain\u001b[0m\u001b[0;34m[\u001b[0m\u001b[0;34m[\u001b[0m\u001b[0;34m'City'\u001b[0m\u001b[0;34m,\u001b[0m \u001b[0;34m'State'\u001b[0m\u001b[0;34m,\u001b[0m \u001b[0;34m'Country'\u001b[0m\u001b[0;34m]\u001b[0m\u001b[0;34m]\u001b[0m \u001b[0;34m=\u001b[0m \u001b[0mlocation_split\u001b[0m\u001b[0;34m\u001b[0m\u001b[0;34m\u001b[0m\u001b[0m\n\u001b[0m\u001b[1;32m      6\u001b[0m \u001b[0;34m\u001b[0m\u001b[0m\n\u001b[1;32m      7\u001b[0m \u001b[0;31m# 지도에 마커 추가하기\u001b[0m\u001b[0;34m\u001b[0m\u001b[0;34m\u001b[0m\u001b[0m\n",
            "\u001b[0;32m/usr/local/lib/python3.9/dist-packages/pandas/core/frame.py\u001b[0m in \u001b[0;36m__setitem__\u001b[0;34m(self, key, value)\u001b[0m\n\u001b[1;32m   3966\u001b[0m             \u001b[0mself\u001b[0m\u001b[0;34m.\u001b[0m\u001b[0m_setitem_frame\u001b[0m\u001b[0;34m(\u001b[0m\u001b[0mkey\u001b[0m\u001b[0;34m,\u001b[0m \u001b[0mvalue\u001b[0m\u001b[0;34m)\u001b[0m\u001b[0;34m\u001b[0m\u001b[0;34m\u001b[0m\u001b[0m\n\u001b[1;32m   3967\u001b[0m         \u001b[0;32melif\u001b[0m \u001b[0misinstance\u001b[0m\u001b[0;34m(\u001b[0m\u001b[0mkey\u001b[0m\u001b[0;34m,\u001b[0m \u001b[0;34m(\u001b[0m\u001b[0mSeries\u001b[0m\u001b[0;34m,\u001b[0m \u001b[0mnp\u001b[0m\u001b[0;34m.\u001b[0m\u001b[0mndarray\u001b[0m\u001b[0;34m,\u001b[0m \u001b[0mlist\u001b[0m\u001b[0;34m,\u001b[0m \u001b[0mIndex\u001b[0m\u001b[0;34m)\u001b[0m\u001b[0;34m)\u001b[0m\u001b[0;34m:\u001b[0m\u001b[0;34m\u001b[0m\u001b[0;34m\u001b[0m\u001b[0m\n\u001b[0;32m-> 3968\u001b[0;31m             \u001b[0mself\u001b[0m\u001b[0;34m.\u001b[0m\u001b[0m_setitem_array\u001b[0m\u001b[0;34m(\u001b[0m\u001b[0mkey\u001b[0m\u001b[0;34m,\u001b[0m \u001b[0mvalue\u001b[0m\u001b[0;34m)\u001b[0m\u001b[0;34m\u001b[0m\u001b[0;34m\u001b[0m\u001b[0m\n\u001b[0m\u001b[1;32m   3969\u001b[0m         \u001b[0;32melif\u001b[0m \u001b[0misinstance\u001b[0m\u001b[0;34m(\u001b[0m\u001b[0mvalue\u001b[0m\u001b[0;34m,\u001b[0m \u001b[0mDataFrame\u001b[0m\u001b[0;34m)\u001b[0m\u001b[0;34m:\u001b[0m\u001b[0;34m\u001b[0m\u001b[0;34m\u001b[0m\u001b[0m\n\u001b[1;32m   3970\u001b[0m             \u001b[0mself\u001b[0m\u001b[0;34m.\u001b[0m\u001b[0m_set_item_frame_value\u001b[0m\u001b[0;34m(\u001b[0m\u001b[0mkey\u001b[0m\u001b[0;34m,\u001b[0m \u001b[0mvalue\u001b[0m\u001b[0;34m)\u001b[0m\u001b[0;34m\u001b[0m\u001b[0;34m\u001b[0m\u001b[0m\n",
            "\u001b[0;32m/usr/local/lib/python3.9/dist-packages/pandas/core/frame.py\u001b[0m in \u001b[0;36m_setitem_array\u001b[0;34m(self, key, value)\u001b[0m\n\u001b[1;32m   4008\u001b[0m \u001b[0;34m\u001b[0m\u001b[0m\n\u001b[1;32m   4009\u001b[0m             \u001b[0;32mif\u001b[0m \u001b[0misinstance\u001b[0m\u001b[0;34m(\u001b[0m\u001b[0mvalue\u001b[0m\u001b[0;34m,\u001b[0m \u001b[0mDataFrame\u001b[0m\u001b[0;34m)\u001b[0m\u001b[0;34m:\u001b[0m\u001b[0;34m\u001b[0m\u001b[0;34m\u001b[0m\u001b[0m\n\u001b[0;32m-> 4010\u001b[0;31m                 \u001b[0mcheck_key_length\u001b[0m\u001b[0;34m(\u001b[0m\u001b[0mself\u001b[0m\u001b[0;34m.\u001b[0m\u001b[0mcolumns\u001b[0m\u001b[0;34m,\u001b[0m \u001b[0mkey\u001b[0m\u001b[0;34m,\u001b[0m \u001b[0mvalue\u001b[0m\u001b[0;34m)\u001b[0m\u001b[0;34m\u001b[0m\u001b[0;34m\u001b[0m\u001b[0m\n\u001b[0m\u001b[1;32m   4011\u001b[0m                 \u001b[0;32mfor\u001b[0m \u001b[0mk1\u001b[0m\u001b[0;34m,\u001b[0m \u001b[0mk2\u001b[0m \u001b[0;32min\u001b[0m \u001b[0mzip\u001b[0m\u001b[0;34m(\u001b[0m\u001b[0mkey\u001b[0m\u001b[0;34m,\u001b[0m \u001b[0mvalue\u001b[0m\u001b[0;34m.\u001b[0m\u001b[0mcolumns\u001b[0m\u001b[0;34m)\u001b[0m\u001b[0;34m:\u001b[0m\u001b[0;34m\u001b[0m\u001b[0;34m\u001b[0m\u001b[0m\n\u001b[1;32m   4012\u001b[0m                     \u001b[0mself\u001b[0m\u001b[0;34m[\u001b[0m\u001b[0mk1\u001b[0m\u001b[0;34m]\u001b[0m \u001b[0;34m=\u001b[0m \u001b[0mvalue\u001b[0m\u001b[0;34m[\u001b[0m\u001b[0mk2\u001b[0m\u001b[0;34m]\u001b[0m\u001b[0;34m\u001b[0m\u001b[0;34m\u001b[0m\u001b[0m\n",
            "\u001b[0;32m/usr/local/lib/python3.9/dist-packages/pandas/core/indexers/utils.py\u001b[0m in \u001b[0;36mcheck_key_length\u001b[0;34m(columns, key, value)\u001b[0m\n\u001b[1;32m    399\u001b[0m     \u001b[0;32mif\u001b[0m \u001b[0mcolumns\u001b[0m\u001b[0;34m.\u001b[0m\u001b[0mis_unique\u001b[0m\u001b[0;34m:\u001b[0m\u001b[0;34m\u001b[0m\u001b[0;34m\u001b[0m\u001b[0m\n\u001b[1;32m    400\u001b[0m         \u001b[0;32mif\u001b[0m \u001b[0mlen\u001b[0m\u001b[0;34m(\u001b[0m\u001b[0mvalue\u001b[0m\u001b[0;34m.\u001b[0m\u001b[0mcolumns\u001b[0m\u001b[0;34m)\u001b[0m \u001b[0;34m!=\u001b[0m \u001b[0mlen\u001b[0m\u001b[0;34m(\u001b[0m\u001b[0mkey\u001b[0m\u001b[0;34m)\u001b[0m\u001b[0;34m:\u001b[0m\u001b[0;34m\u001b[0m\u001b[0;34m\u001b[0m\u001b[0m\n\u001b[0;32m--> 401\u001b[0;31m             \u001b[0;32mraise\u001b[0m \u001b[0mValueError\u001b[0m\u001b[0;34m(\u001b[0m\u001b[0;34m\"Columns must be same length as key\"\u001b[0m\u001b[0;34m)\u001b[0m\u001b[0;34m\u001b[0m\u001b[0;34m\u001b[0m\u001b[0m\n\u001b[0m\u001b[1;32m    402\u001b[0m     \u001b[0;32melse\u001b[0m\u001b[0;34m:\u001b[0m\u001b[0;34m\u001b[0m\u001b[0;34m\u001b[0m\u001b[0m\n\u001b[1;32m    403\u001b[0m         \u001b[0;31m# Missing keys in columns are represented as -1\u001b[0m\u001b[0;34m\u001b[0m\u001b[0;34m\u001b[0m\u001b[0m\n",
            "\u001b[0;31mValueError\u001b[0m: Columns must be same length as key"
          ]
        }
      ]
    },
    {
      "cell_type": "code",
      "source": [],
      "metadata": {
        "id": "1b2YJICMeVhb"
      },
      "execution_count": null,
      "outputs": []
    },
    {
      "cell_type": "code",
      "source": [
        "df_valid = train[train[\"ID\"].notnull() & \n",
        "                  (train[\"Year-Of-Publication\"] > 0) & \n",
        "                  (train[\"Age\"] > 0) ].copy()\n",
        "df_valid = df_valid.drop_duplicates()\n",
        "df_valid.shape"
      ],
      "metadata": {
        "colab": {
          "base_uri": "https://localhost:8080/"
        },
        "id": "E9rNCexdWE7t",
        "outputId": "4f6d7c24-5a50-4f05-acb7-54b08ea741a3"
      },
      "execution_count": null,
      "outputs": [
        {
          "output_type": "execute_result",
          "data": {
            "text/plain": [
              "(612733, 10)"
            ]
          },
          "metadata": {},
          "execution_count": 29
        }
      ]
    },
    {
      "cell_type": "code",
      "source": [
        "df = train[[\"ID\", \"Book-ID\", \"Book-Rating\"]].drop_duplicates().sample(100000, random_state=42)\n",
        "print(df.shape)\n",
        "df.head()"
      ],
      "metadata": {
        "colab": {
          "base_uri": "https://localhost:8080/",
          "height": 225
        },
        "id": "hawQPlHrIM-D",
        "outputId": "af5adb91-c1ea-4349-c650-fc64374a536e"
      },
      "execution_count": null,
      "outputs": [
        {
          "output_type": "stream",
          "name": "stdout",
          "text": [
            "(100000, 3)\n"
          ]
        },
        {
          "output_type": "execute_result",
          "data": {
            "text/plain": [
              "                  ID      Book-ID  Book-Rating\n",
              "307878  TRAIN_307878  BOOK_017424          0.0\n",
              "501963  TRAIN_501963  BOOK_214393          0.0\n",
              "458986  TRAIN_458986  BOOK_188259          0.0\n",
              "485362  TRAIN_485362  BOOK_213362          8.0\n",
              "387219  TRAIN_387219  BOOK_250100          8.0"
            ],
            "text/html": [
              "\n",
              "  <div id=\"df-c717185b-0e84-4b5b-a31d-30027da3bf38\">\n",
              "    <div class=\"colab-df-container\">\n",
              "      <div>\n",
              "<style scoped>\n",
              "    .dataframe tbody tr th:only-of-type {\n",
              "        vertical-align: middle;\n",
              "    }\n",
              "\n",
              "    .dataframe tbody tr th {\n",
              "        vertical-align: top;\n",
              "    }\n",
              "\n",
              "    .dataframe thead th {\n",
              "        text-align: right;\n",
              "    }\n",
              "</style>\n",
              "<table border=\"1\" class=\"dataframe\">\n",
              "  <thead>\n",
              "    <tr style=\"text-align: right;\">\n",
              "      <th></th>\n",
              "      <th>ID</th>\n",
              "      <th>Book-ID</th>\n",
              "      <th>Book-Rating</th>\n",
              "    </tr>\n",
              "  </thead>\n",
              "  <tbody>\n",
              "    <tr>\n",
              "      <th>307878</th>\n",
              "      <td>TRAIN_307878</td>\n",
              "      <td>BOOK_017424</td>\n",
              "      <td>0.0</td>\n",
              "    </tr>\n",
              "    <tr>\n",
              "      <th>501963</th>\n",
              "      <td>TRAIN_501963</td>\n",
              "      <td>BOOK_214393</td>\n",
              "      <td>0.0</td>\n",
              "    </tr>\n",
              "    <tr>\n",
              "      <th>458986</th>\n",
              "      <td>TRAIN_458986</td>\n",
              "      <td>BOOK_188259</td>\n",
              "      <td>0.0</td>\n",
              "    </tr>\n",
              "    <tr>\n",
              "      <th>485362</th>\n",
              "      <td>TRAIN_485362</td>\n",
              "      <td>BOOK_213362</td>\n",
              "      <td>8.0</td>\n",
              "    </tr>\n",
              "    <tr>\n",
              "      <th>387219</th>\n",
              "      <td>TRAIN_387219</td>\n",
              "      <td>BOOK_250100</td>\n",
              "      <td>8.0</td>\n",
              "    </tr>\n",
              "  </tbody>\n",
              "</table>\n",
              "</div>\n",
              "      <button class=\"colab-df-convert\" onclick=\"convertToInteractive('df-c717185b-0e84-4b5b-a31d-30027da3bf38')\"\n",
              "              title=\"Convert this dataframe to an interactive table.\"\n",
              "              style=\"display:none;\">\n",
              "        \n",
              "  <svg xmlns=\"http://www.w3.org/2000/svg\" height=\"24px\"viewBox=\"0 0 24 24\"\n",
              "       width=\"24px\">\n",
              "    <path d=\"M0 0h24v24H0V0z\" fill=\"none\"/>\n",
              "    <path d=\"M18.56 5.44l.94 2.06.94-2.06 2.06-.94-2.06-.94-.94-2.06-.94 2.06-2.06.94zm-11 1L8.5 8.5l.94-2.06 2.06-.94-2.06-.94L8.5 2.5l-.94 2.06-2.06.94zm10 10l.94 2.06.94-2.06 2.06-.94-2.06-.94-.94-2.06-.94 2.06-2.06.94z\"/><path d=\"M17.41 7.96l-1.37-1.37c-.4-.4-.92-.59-1.43-.59-.52 0-1.04.2-1.43.59L10.3 9.45l-7.72 7.72c-.78.78-.78 2.05 0 2.83L4 21.41c.39.39.9.59 1.41.59.51 0 1.02-.2 1.41-.59l7.78-7.78 2.81-2.81c.8-.78.8-2.07 0-2.86zM5.41 20L4 18.59l7.72-7.72 1.47 1.35L5.41 20z\"/>\n",
              "  </svg>\n",
              "      </button>\n",
              "      \n",
              "  <style>\n",
              "    .colab-df-container {\n",
              "      display:flex;\n",
              "      flex-wrap:wrap;\n",
              "      gap: 12px;\n",
              "    }\n",
              "\n",
              "    .colab-df-convert {\n",
              "      background-color: #E8F0FE;\n",
              "      border: none;\n",
              "      border-radius: 50%;\n",
              "      cursor: pointer;\n",
              "      display: none;\n",
              "      fill: #1967D2;\n",
              "      height: 32px;\n",
              "      padding: 0 0 0 0;\n",
              "      width: 32px;\n",
              "    }\n",
              "\n",
              "    .colab-df-convert:hover {\n",
              "      background-color: #E2EBFA;\n",
              "      box-shadow: 0px 1px 2px rgba(60, 64, 67, 0.3), 0px 1px 3px 1px rgba(60, 64, 67, 0.15);\n",
              "      fill: #174EA6;\n",
              "    }\n",
              "\n",
              "    [theme=dark] .colab-df-convert {\n",
              "      background-color: #3B4455;\n",
              "      fill: #D2E3FC;\n",
              "    }\n",
              "\n",
              "    [theme=dark] .colab-df-convert:hover {\n",
              "      background-color: #434B5C;\n",
              "      box-shadow: 0px 1px 3px 1px rgba(0, 0, 0, 0.15);\n",
              "      filter: drop-shadow(0px 1px 2px rgba(0, 0, 0, 0.3));\n",
              "      fill: #FFFFFF;\n",
              "    }\n",
              "  </style>\n",
              "\n",
              "      <script>\n",
              "        const buttonEl =\n",
              "          document.querySelector('#df-c717185b-0e84-4b5b-a31d-30027da3bf38 button.colab-df-convert');\n",
              "        buttonEl.style.display =\n",
              "          google.colab.kernel.accessAllowed ? 'block' : 'none';\n",
              "\n",
              "        async function convertToInteractive(key) {\n",
              "          const element = document.querySelector('#df-c717185b-0e84-4b5b-a31d-30027da3bf38');\n",
              "          const dataTable =\n",
              "            await google.colab.kernel.invokeFunction('convertToInteractive',\n",
              "                                                     [key], {});\n",
              "          if (!dataTable) return;\n",
              "\n",
              "          const docLinkHtml = 'Like what you see? Visit the ' +\n",
              "            '<a target=\"_blank\" href=https://colab.research.google.com/notebooks/data_table.ipynb>data table notebook</a>'\n",
              "            + ' to learn more about interactive tables.';\n",
              "          element.innerHTML = '';\n",
              "          dataTable['output_type'] = 'display_data';\n",
              "          await google.colab.output.renderOutput(dataTable, element);\n",
              "          const docLink = document.createElement('div');\n",
              "          docLink.innerHTML = docLinkHtml;\n",
              "          element.appendChild(docLink);\n",
              "        }\n",
              "      </script>\n",
              "    </div>\n",
              "  </div>\n",
              "  "
            ]
          },
          "metadata": {},
          "execution_count": 30
        }
      ]
    },
    {
      "cell_type": "code",
      "source": [
        "r_min = df[\"Book-Rating\"].min()\n",
        "r_max = df[\"Book-Rating\"].max()\n",
        "r_min, r_max"
      ],
      "metadata": {
        "colab": {
          "base_uri": "https://localhost:8080/"
        },
        "id": "39oXKAoYIu7j",
        "outputId": "7f31fa73-9069-4bd9-f13e-7288f87d14af"
      },
      "execution_count": null,
      "outputs": [
        {
          "output_type": "execute_result",
          "data": {
            "text/plain": [
              "(0.0, 10.0)"
            ]
          },
          "metadata": {},
          "execution_count": 31
        }
      ]
    },
    {
      "cell_type": "code",
      "source": [
        "reader = Reader(rating_scale=(r_min, r_max))\n",
        "reader"
      ],
      "metadata": {
        "colab": {
          "base_uri": "https://localhost:8080/"
        },
        "id": "387mTnkFI6AV",
        "outputId": "d4eef55c-da10-4a4a-f187-7e12f78765d7"
      },
      "execution_count": null,
      "outputs": [
        {
          "output_type": "execute_result",
          "data": {
            "text/plain": [
              "<surprise.reader.Reader at 0x7f7890815940>"
            ]
          },
          "metadata": {},
          "execution_count": 32
        }
      ]
    },
    {
      "cell_type": "code",
      "source": [
        "data = Dataset.load_from_df(\n",
        "    df[[\"ID\", \"Book-ID\", \"Book-Rating\"]], \n",
        "    reader)\n",
        "data"
      ],
      "metadata": {
        "colab": {
          "base_uri": "https://localhost:8080/"
        },
        "id": "4mIQia-PJ9eZ",
        "outputId": "73067dc8-8fd9-4c21-d00b-a2593f7d8dbf"
      },
      "execution_count": null,
      "outputs": [
        {
          "output_type": "execute_result",
          "data": {
            "text/plain": [
              "<surprise.dataset.DatasetAutoFolds at 0x7f78b2a97610>"
            ]
          },
          "metadata": {},
          "execution_count": 33
        }
      ]
    },
    {
      "cell_type": "code",
      "source": [
        "from surprise.model_selection import train_test_split\n",
        "\n",
        "X_train, X_test = train_test_split(data, test_size=0.2, random_state=42)"
      ],
      "metadata": {
        "id": "NwenGagrKKTT"
      },
      "execution_count": null,
      "outputs": []
    },
    {
      "cell_type": "code",
      "source": [
        "X_train.n_users, X_train.n_items, X_train.n_ratings"
      ],
      "metadata": {
        "colab": {
          "base_uri": "https://localhost:8080/"
        },
        "id": "v9I67biwKOb1",
        "outputId": "a0f0f15c-5a8a-4acb-88c0-6a3f9667f765"
      },
      "execution_count": null,
      "outputs": [
        {
          "output_type": "execute_result",
          "data": {
            "text/plain": [
              "(80000, 49168, 80000)"
            ]
          },
          "metadata": {},
          "execution_count": 35
        }
      ]
    },
    {
      "cell_type": "code",
      "source": [
        "X_train"
      ],
      "metadata": {
        "colab": {
          "base_uri": "https://localhost:8080/"
        },
        "id": "JxQel5Y6KQ6A",
        "outputId": "cc44bf50-afbe-4ab0-932f-bb03b31ee419"
      },
      "execution_count": null,
      "outputs": [
        {
          "output_type": "execute_result",
          "data": {
            "text/plain": [
              "<surprise.trainset.Trainset at 0x7f789082c4f0>"
            ]
          },
          "metadata": {},
          "execution_count": 36
        }
      ]
    },
    {
      "cell_type": "code",
      "source": [
        "type(X_test), len(X_test)"
      ],
      "metadata": {
        "colab": {
          "base_uri": "https://localhost:8080/"
        },
        "id": "YsnbUciYKSpN",
        "outputId": "3ed9138e-7bc1-43d1-8902-ad0342ab531d"
      },
      "execution_count": null,
      "outputs": [
        {
          "output_type": "execute_result",
          "data": {
            "text/plain": [
              "(list, 20000)"
            ]
          },
          "metadata": {},
          "execution_count": 37
        }
      ]
    },
    {
      "cell_type": "code",
      "source": [
        "from surprise.prediction_algorithms.knns import KNNBasic\n",
        "# model\n",
        "\n",
        "knn = KNNBasic(name=\"cosine\", user_base=True)\n",
        "knn.fit(X_train)"
      ],
      "metadata": {
        "id": "znRWxUJzKVtL"
      },
      "execution_count": null,
      "outputs": []
    },
    {
      "cell_type": "code",
      "source": [
        "predictions = knn.test(X_test)"
      ],
      "metadata": {
        "id": "D3X-MIsAKZR5"
      },
      "execution_count": null,
      "outputs": []
    },
    {
      "cell_type": "code",
      "source": [
        "X_test[3]"
      ],
      "metadata": {
        "id": "PLNwL2RMKcHd"
      },
      "execution_count": null,
      "outputs": []
    },
    {
      "cell_type": "code",
      "source": [
        "predictions[3]"
      ],
      "metadata": {
        "id": "fVjxLmpFKfYJ"
      },
      "execution_count": null,
      "outputs": []
    },
    {
      "cell_type": "code",
      "source": [
        "df[\"Book-Rating\"].describe()"
      ],
      "metadata": {
        "id": "ZY8p8kjZKhpI"
      },
      "execution_count": null,
      "outputs": []
    },
    {
      "cell_type": "code",
      "source": [
        "accuracy.rmse(predictions)"
      ],
      "metadata": {
        "id": "GWhNcyW3KmhL"
      },
      "execution_count": null,
      "outputs": []
    },
    {
      "cell_type": "code",
      "source": [
        "df.sample()"
      ],
      "metadata": {
        "id": "5eZnmfPdKrN7"
      },
      "execution_count": null,
      "outputs": []
    },
    {
      "cell_type": "code",
      "source": [
        "iid = \"BOOK_011665\"\n",
        "df[df[\"Book-ID\"] == iid]"
      ],
      "metadata": {
        "id": "YVfFS2HOKur9"
      },
      "execution_count": null,
      "outputs": []
    },
    {
      "cell_type": "code",
      "source": [
        "uid = 'USER_44609'\n",
        "iid = \"BOOK_011665\"\n",
        "df[(df[\"User-ID\"] == uid) & (df[\"Book-ID\"] == iid)]"
      ],
      "metadata": {
        "id": "1ztlJ0_xLHHI"
      },
      "execution_count": null,
      "outputs": []
    },
    {
      "cell_type": "code",
      "source": [
        "knni = KNNBasic(name=\"cosine\", user_base=False)\n",
        "knni.fit(X_train)"
      ],
      "metadata": {
        "id": "RqxABXHnLb45"
      },
      "execution_count": null,
      "outputs": []
    },
    {
      "cell_type": "code",
      "source": [
        "predictions_item = knni.test(X_test)"
      ],
      "metadata": {
        "id": "9s_kjRMZLgwN"
      },
      "execution_count": null,
      "outputs": []
    },
    {
      "cell_type": "code",
      "source": [
        "accuracy.rmse(predictions_item)"
      ],
      "metadata": {
        "id": "VwKZjll7LjDN"
      },
      "execution_count": null,
      "outputs": []
    },
    {
      "cell_type": "code",
      "source": [
        "df.iloc[3]"
      ],
      "metadata": {
        "id": "-27qros9Lll7"
      },
      "execution_count": null,
      "outputs": []
    },
    {
      "cell_type": "markdown",
      "source": [
        "# SVD"
      ],
      "metadata": {
        "id": "9VLylyj_LqES"
      }
    },
    {
      "cell_type": "code",
      "source": [
        "svd = SVD(random_state=42)\n",
        "svd.fit(X_train)"
      ],
      "metadata": {
        "id": "BM2_0bfDLsLz"
      },
      "execution_count": null,
      "outputs": []
    },
    {
      "cell_type": "code",
      "source": [
        "predictions_svd = svd.test(X_test)"
      ],
      "metadata": {
        "id": "WOFgHC2yLvbL"
      },
      "execution_count": null,
      "outputs": []
    },
    {
      "cell_type": "code",
      "source": [],
      "metadata": {
        "id": "cjHMwwj1LxTx"
      },
      "execution_count": null,
      "outputs": []
    },
    {
      "cell_type": "code",
      "source": [
        "predictions_svd[1]"
      ],
      "metadata": {
        "id": "d52xP7XQL0uZ"
      },
      "execution_count": null,
      "outputs": []
    },
    {
      "cell_type": "code",
      "source": [
        "accuracy.rmse(predictions_svd)"
      ],
      "metadata": {
        "id": "LEP0yJr4L5ql"
      },
      "execution_count": null,
      "outputs": []
    },
    {
      "cell_type": "code",
      "source": [
        "for pred in predictions_svd:\n",
        "    uid = pred.uid\n",
        "    r_ui = pred.iid\n",
        "    rating = pred.est\n",
        "    df_submit.loc[(df_submit['ID'] == uid) & (df_submit['Book-Rating'] == r_ui), 'Book-Rating'] = rating\n"
      ],
      "metadata": {
        "id": "iXLqi9Sq2BMf"
      },
      "execution_count": null,
      "outputs": []
    },
    {
      "cell_type": "code",
      "source": [
        "df_submit = pd.read_csv(f\"{base_path}/sample_submission.csv\")\n",
        "df_submit.head()"
      ],
      "metadata": {
        "id": "drbz31Fi1afN"
      },
      "execution_count": null,
      "outputs": []
    },
    {
      "cell_type": "code",
      "source": [
        "df_submit[\"Book-Rating\"] = abs(pred)\n",
        "df_submit.head(2)"
      ],
      "metadata": {
        "id": "F-HHtFL81ceb"
      },
      "execution_count": null,
      "outputs": []
    },
    {
      "cell_type": "code",
      "source": [
        "uid = 'USER_44609'\n",
        "iid = \"BOOK_011665\"\n",
        "display(df[(df[\"User-ID\"] == uid) & (df[\"Book-ID\"] == iid)])\n",
        "svd.predict(uid, iid, 6)"
      ],
      "metadata": {
        "id": "JVk8_axvMC7l"
      },
      "execution_count": null,
      "outputs": []
    },
    {
      "cell_type": "code",
      "source": [
        "from surprise.model_selection import GridSearchCV, cross_validate\n",
        "\n",
        "# GridSearchCV는 cross_validate와는 달리 인자에 알고리즘 자체를 매개변수로 받는다.\n",
        "# param_grid = {'n_factors': [50, 75], \n",
        "#               'lr_all': [0.5, 0.05], \n",
        "#               'reg_all': [0.06, 0.04]} \n",
        "param_grid = {'n_epochs': [5, 10], 'lr_all': [0.002, 0.005],\n",
        "              'reg_all': [0.4, 0.6]}\n",
        "\n",
        "gridcv = GridSearchCV(algo_class=SVD, \n",
        "                      param_grid=param_grid, \n",
        "                      measures=[\"rmse\"], cv=3)\n",
        "gridcv.fit(data)"
      ],
      "metadata": {
        "id": "vbSbAWk2MSyp"
      },
      "execution_count": null,
      "outputs": []
    },
    {
      "cell_type": "code",
      "source": [
        "gridcv.best_estimator"
      ],
      "metadata": {
        "id": "Xb8l_oXzMWZF"
      },
      "execution_count": null,
      "outputs": []
    },
    {
      "cell_type": "code",
      "source": [
        "gridcv.best_params[\"rmse\"]"
      ],
      "metadata": {
        "id": "1_g3FtniMiGY"
      },
      "execution_count": null,
      "outputs": []
    },
    {
      "cell_type": "code",
      "source": [
        "gridcv.best_score"
      ],
      "metadata": {
        "id": "saOg0VYHMjud"
      },
      "execution_count": null,
      "outputs": []
    },
    {
      "cell_type": "code",
      "source": [
        "gridcv.algo_class"
      ],
      "metadata": {
        "id": "ElkwBwNfMlih"
      },
      "execution_count": null,
      "outputs": []
    },
    {
      "cell_type": "code",
      "source": [
        "best_svd = gridcv.best_estimator[\"rmse\"]\n",
        "best_svd.fit(X_train)"
      ],
      "metadata": {
        "id": "m5hAb3ZQMn85"
      },
      "execution_count": null,
      "outputs": []
    },
    {
      "cell_type": "code",
      "source": [
        "predictions_bsvd = best_svd.test(X_test)"
      ],
      "metadata": {
        "id": "-laACZWRMqQh"
      },
      "execution_count": null,
      "outputs": []
    },
    {
      "cell_type": "code",
      "source": [
        "predictions_bsvd[0]"
      ],
      "metadata": {
        "id": "4xzxmaTdMrwG"
      },
      "execution_count": null,
      "outputs": []
    },
    {
      "cell_type": "code",
      "source": [
        "accuracy.rmse(predictions_bsvd)"
      ],
      "metadata": {
        "id": "7i5jliwrMtlk"
      },
      "execution_count": null,
      "outputs": []
    },
    {
      "cell_type": "code",
      "source": [
        "df_pred_svd = pd.DataFrame(predictions_bsvd)\n",
        "df_pred_svd.head()"
      ],
      "metadata": {
        "id": "gR1VJuvaMvsF"
      },
      "execution_count": null,
      "outputs": []
    },
    {
      "cell_type": "code",
      "source": [
        "df_pred_svd[\"est\"].unique()"
      ],
      "metadata": {
        "id": "zkOhnMvtMyLp"
      },
      "execution_count": null,
      "outputs": []
    },
    {
      "cell_type": "code",
      "source": [
        "cv_result = cross_validate(best_svd, data, measures=[\"rmse\"], n_jobs=2, verbose=True)"
      ],
      "metadata": {
        "id": "XHUBgsoAM0RD"
      },
      "execution_count": null,
      "outputs": []
    },
    {
      "cell_type": "code",
      "source": [
        "pd.DataFrame(cv_result)"
      ],
      "metadata": {
        "id": "C3a5gEMHM2Gp"
      },
      "execution_count": null,
      "outputs": []
    },
    {
      "cell_type": "code",
      "source": [
        "def get_top_n(predictions, n=10):\n",
        "    # 각 사용자의 예측데이터를 defaultdict에 저장\n",
        "    top_n = defaultdict(list)\n",
        "    for uid, iid, true_r, est, _ in predictions:\n",
        "        top_n[uid].append((iid, est))\n",
        "\n",
        "    # 정렬 후 Top N 개만 저장\n",
        "    for uid, user_ratings in top_n.items():\n",
        "        user_ratings.sort(key=lambda x: x[1], reverse=True)\n",
        "        top_n[uid] = user_ratings[:n]\n",
        "\n",
        "    return top_n"
      ],
      "metadata": {
        "id": "j1k5A1vGVej-"
      },
      "execution_count": null,
      "outputs": []
    },
    {
      "cell_type": "code",
      "source": [
        "top_num = get_top_n(predictions_bsvd, 10)"
      ],
      "metadata": {
        "id": "dfqWhK70Vg2v"
      },
      "execution_count": null,
      "outputs": []
    },
    {
      "cell_type": "code",
      "source": [
        "df_cust_recomm = pd.DataFrame(top_num.items())"
      ],
      "metadata": {
        "id": "ilrWtCugViqC"
      },
      "execution_count": null,
      "outputs": []
    },
    {
      "cell_type": "code",
      "source": [
        "df_cust_recomm.head()"
      ],
      "metadata": {
        "id": "zrlRr7GZVkcW"
      },
      "execution_count": null,
      "outputs": []
    },
    {
      "cell_type": "code",
      "source": [
        "stock_desc = df_valid[\n",
        "    [\"ID\", \"Book-Rating\"]].drop_duplicates(\"ID\").set_index(\"ID\")\n",
        "stock_desc"
      ],
      "metadata": {
        "id": "FScj63r8VpCw"
      },
      "execution_count": null,
      "outputs": []
    },
    {
      "cell_type": "code",
      "source": [
        "df_submit = pd.read_csv(f\"{base_path}/sample_submission.csv\")\n",
        "df_submit.head()"
      ],
      "metadata": {
        "id": "x8vWTKxrydju"
      },
      "execution_count": null,
      "outputs": []
    },
    {
      "cell_type": "code",
      "source": [
        "submit['Book-Rating'] = test.apply(lambda row: stock_desc.predict(row['User-ID'], row['Book-ID']).est, axis=1)"
      ],
      "metadata": {
        "id": "f_b7JpA-yp26"
      },
      "execution_count": null,
      "outputs": []
    },
    {
      "cell_type": "code",
      "source": [
        "stock_desc.to_csv(file_name)\n",
        "pd.read_csv(file_name).head(2)"
      ],
      "metadata": {
        "colab": {
          "base_uri": "https://localhost:8080/",
          "height": 112
        },
        "id": "qVXFD3_fvtyb",
        "outputId": "3393af6c-25fd-4ac6-e7c8-aeb6d871b612"
      },
      "execution_count": null,
      "outputs": [
        {
          "output_type": "execute_result",
          "data": {
            "text/plain": [
              "             ID  Book-Rating\n",
              "0  TRAIN_000000          8.0\n",
              "1  TRAIN_000001          8.0"
            ],
            "text/html": [
              "\n",
              "  <div id=\"df-571295ea-2c85-4a49-98db-642a7b65b5b2\">\n",
              "    <div class=\"colab-df-container\">\n",
              "      <div>\n",
              "<style scoped>\n",
              "    .dataframe tbody tr th:only-of-type {\n",
              "        vertical-align: middle;\n",
              "    }\n",
              "\n",
              "    .dataframe tbody tr th {\n",
              "        vertical-align: top;\n",
              "    }\n",
              "\n",
              "    .dataframe thead th {\n",
              "        text-align: right;\n",
              "    }\n",
              "</style>\n",
              "<table border=\"1\" class=\"dataframe\">\n",
              "  <thead>\n",
              "    <tr style=\"text-align: right;\">\n",
              "      <th></th>\n",
              "      <th>ID</th>\n",
              "      <th>Book-Rating</th>\n",
              "    </tr>\n",
              "  </thead>\n",
              "  <tbody>\n",
              "    <tr>\n",
              "      <th>0</th>\n",
              "      <td>TRAIN_000000</td>\n",
              "      <td>8.0</td>\n",
              "    </tr>\n",
              "    <tr>\n",
              "      <th>1</th>\n",
              "      <td>TRAIN_000001</td>\n",
              "      <td>8.0</td>\n",
              "    </tr>\n",
              "  </tbody>\n",
              "</table>\n",
              "</div>\n",
              "      <button class=\"colab-df-convert\" onclick=\"convertToInteractive('df-571295ea-2c85-4a49-98db-642a7b65b5b2')\"\n",
              "              title=\"Convert this dataframe to an interactive table.\"\n",
              "              style=\"display:none;\">\n",
              "        \n",
              "  <svg xmlns=\"http://www.w3.org/2000/svg\" height=\"24px\"viewBox=\"0 0 24 24\"\n",
              "       width=\"24px\">\n",
              "    <path d=\"M0 0h24v24H0V0z\" fill=\"none\"/>\n",
              "    <path d=\"M18.56 5.44l.94 2.06.94-2.06 2.06-.94-2.06-.94-.94-2.06-.94 2.06-2.06.94zm-11 1L8.5 8.5l.94-2.06 2.06-.94-2.06-.94L8.5 2.5l-.94 2.06-2.06.94zm10 10l.94 2.06.94-2.06 2.06-.94-2.06-.94-.94-2.06-.94 2.06-2.06.94z\"/><path d=\"M17.41 7.96l-1.37-1.37c-.4-.4-.92-.59-1.43-.59-.52 0-1.04.2-1.43.59L10.3 9.45l-7.72 7.72c-.78.78-.78 2.05 0 2.83L4 21.41c.39.39.9.59 1.41.59.51 0 1.02-.2 1.41-.59l7.78-7.78 2.81-2.81c.8-.78.8-2.07 0-2.86zM5.41 20L4 18.59l7.72-7.72 1.47 1.35L5.41 20z\"/>\n",
              "  </svg>\n",
              "      </button>\n",
              "      \n",
              "  <style>\n",
              "    .colab-df-container {\n",
              "      display:flex;\n",
              "      flex-wrap:wrap;\n",
              "      gap: 12px;\n",
              "    }\n",
              "\n",
              "    .colab-df-convert {\n",
              "      background-color: #E8F0FE;\n",
              "      border: none;\n",
              "      border-radius: 50%;\n",
              "      cursor: pointer;\n",
              "      display: none;\n",
              "      fill: #1967D2;\n",
              "      height: 32px;\n",
              "      padding: 0 0 0 0;\n",
              "      width: 32px;\n",
              "    }\n",
              "\n",
              "    .colab-df-convert:hover {\n",
              "      background-color: #E2EBFA;\n",
              "      box-shadow: 0px 1px 2px rgba(60, 64, 67, 0.3), 0px 1px 3px 1px rgba(60, 64, 67, 0.15);\n",
              "      fill: #174EA6;\n",
              "    }\n",
              "\n",
              "    [theme=dark] .colab-df-convert {\n",
              "      background-color: #3B4455;\n",
              "      fill: #D2E3FC;\n",
              "    }\n",
              "\n",
              "    [theme=dark] .colab-df-convert:hover {\n",
              "      background-color: #434B5C;\n",
              "      box-shadow: 0px 1px 3px 1px rgba(0, 0, 0, 0.15);\n",
              "      filter: drop-shadow(0px 1px 2px rgba(0, 0, 0, 0.3));\n",
              "      fill: #FFFFFF;\n",
              "    }\n",
              "  </style>\n",
              "\n",
              "      <script>\n",
              "        const buttonEl =\n",
              "          document.querySelector('#df-571295ea-2c85-4a49-98db-642a7b65b5b2 button.colab-df-convert');\n",
              "        buttonEl.style.display =\n",
              "          google.colab.kernel.accessAllowed ? 'block' : 'none';\n",
              "\n",
              "        async function convertToInteractive(key) {\n",
              "          const element = document.querySelector('#df-571295ea-2c85-4a49-98db-642a7b65b5b2');\n",
              "          const dataTable =\n",
              "            await google.colab.kernel.invokeFunction('convertToInteractive',\n",
              "                                                     [key], {});\n",
              "          if (!dataTable) return;\n",
              "\n",
              "          const docLinkHtml = 'Like what you see? Visit the ' +\n",
              "            '<a target=\"_blank\" href=https://colab.research.google.com/notebooks/data_table.ipynb>data table notebook</a>'\n",
              "            + ' to learn more about interactive tables.';\n",
              "          element.innerHTML = '';\n",
              "          dataTable['output_type'] = 'display_data';\n",
              "          await google.colab.output.renderOutput(dataTable, element);\n",
              "          const docLink = document.createElement('div');\n",
              "          docLink.innerHTML = docLinkHtml;\n",
              "          element.appendChild(docLink);\n",
              "        }\n",
              "      </script>\n",
              "    </div>\n",
              "  </div>\n",
              "  "
            ]
          },
          "metadata": {},
          "execution_count": 99
        }
      ]
    },
    {
      "cell_type": "code",
      "source": [
        "file_name = f\"{base_path}/submit.csv\"\n",
        "file_name"
      ],
      "metadata": {
        "colab": {
          "base_uri": "https://localhost:8080/",
          "height": 35
        },
        "id": "RuyUc8SnpewL",
        "outputId": "1d0b825f-1eda-44b3-bc0b-e25651d062d7"
      },
      "execution_count": null,
      "outputs": [
        {
          "output_type": "execute_result",
          "data": {
            "text/plain": [
              "'data/submit.csv'"
            ],
            "application/vnd.google.colaboratory.intrinsic+json": {
              "type": "string"
            }
          },
          "metadata": {},
          "execution_count": 100
        }
      ]
    },
    {
      "cell_type": "code",
      "source": [
        "from google.colab import files\n",
        "\n",
        "files.download(file_name)"
      ],
      "metadata": {
        "colab": {
          "base_uri": "https://localhost:8080/",
          "height": 17
        },
        "id": "r5wozy2bwDS0",
        "outputId": "09000d69-89f1-4951-ea56-bae509140891"
      },
      "execution_count": null,
      "outputs": [
        {
          "output_type": "display_data",
          "data": {
            "text/plain": [
              "<IPython.core.display.Javascript object>"
            ],
            "application/javascript": [
              "\n",
              "    async function download(id, filename, size) {\n",
              "      if (!google.colab.kernel.accessAllowed) {\n",
              "        return;\n",
              "      }\n",
              "      const div = document.createElement('div');\n",
              "      const label = document.createElement('label');\n",
              "      label.textContent = `Downloading \"${filename}\": `;\n",
              "      div.appendChild(label);\n",
              "      const progress = document.createElement('progress');\n",
              "      progress.max = size;\n",
              "      div.appendChild(progress);\n",
              "      document.body.appendChild(div);\n",
              "\n",
              "      const buffers = [];\n",
              "      let downloaded = 0;\n",
              "\n",
              "      const channel = await google.colab.kernel.comms.open(id);\n",
              "      // Send a message to notify the kernel that we're ready.\n",
              "      channel.send({})\n",
              "\n",
              "      for await (const message of channel.messages) {\n",
              "        // Send a message to notify the kernel that we're ready.\n",
              "        channel.send({})\n",
              "        if (message.buffers) {\n",
              "          for (const buffer of message.buffers) {\n",
              "            buffers.push(buffer);\n",
              "            downloaded += buffer.byteLength;\n",
              "            progress.value = downloaded;\n",
              "          }\n",
              "        }\n",
              "      }\n",
              "      const blob = new Blob(buffers, {type: 'application/binary'});\n",
              "      const a = document.createElement('a');\n",
              "      a.href = window.URL.createObjectURL(blob);\n",
              "      a.download = filename;\n",
              "      div.appendChild(a);\n",
              "      a.click();\n",
              "      div.remove();\n",
              "    }\n",
              "  "
            ]
          },
          "metadata": {}
        },
        {
          "output_type": "display_data",
          "data": {
            "text/plain": [
              "<IPython.core.display.Javascript object>"
            ],
            "application/javascript": [
              "download(\"download_7ab84a34-5122-4e16-ba9e-d6af01d6c611\", \"submit.csv\", 10459163)"
            ]
          },
          "metadata": {}
        }
      ]
    },
    {
      "cell_type": "code",
      "source": [
        "train[categorical_feature] = train[categorical_feature].astype(\"category\")\n",
        "test[categorical_feature] = test[categorical_feature].astype(\"category\")\n",
        "\n",
        "train.info(), test.info()"
      ],
      "metadata": {
        "colab": {
          "base_uri": "https://localhost:8080/",
          "height": 230
        },
        "id": "pqyaAJT1l7Zr",
        "outputId": "1d8b32e6-0846-4621-f7e8-8c52fe4ef989"
      },
      "execution_count": null,
      "outputs": [
        {
          "output_type": "error",
          "ename": "NameError",
          "evalue": "ignored",
          "traceback": [
            "\u001b[0;31m---------------------------------------------------------------------------\u001b[0m",
            "\u001b[0;31mNameError\u001b[0m                                 Traceback (most recent call last)",
            "\u001b[0;32m<ipython-input-75-a54d3f0f48bf>\u001b[0m in \u001b[0;36m<cell line: 1>\u001b[0;34m()\u001b[0m\n\u001b[0;32m----> 1\u001b[0;31m \u001b[0mtrain\u001b[0m\u001b[0;34m[\u001b[0m\u001b[0mcategorical_feature\u001b[0m\u001b[0;34m]\u001b[0m \u001b[0;34m=\u001b[0m \u001b[0mtrain\u001b[0m\u001b[0;34m[\u001b[0m\u001b[0mcategorical_feature\u001b[0m\u001b[0;34m]\u001b[0m\u001b[0;34m.\u001b[0m\u001b[0mastype\u001b[0m\u001b[0;34m(\u001b[0m\u001b[0;34m\"category\"\u001b[0m\u001b[0;34m)\u001b[0m\u001b[0;34m\u001b[0m\u001b[0;34m\u001b[0m\u001b[0m\n\u001b[0m\u001b[1;32m      2\u001b[0m \u001b[0mtest\u001b[0m\u001b[0;34m[\u001b[0m\u001b[0mcategorical_feature\u001b[0m\u001b[0;34m]\u001b[0m \u001b[0;34m=\u001b[0m \u001b[0mtest\u001b[0m\u001b[0;34m[\u001b[0m\u001b[0mcategorical_feature\u001b[0m\u001b[0;34m]\u001b[0m\u001b[0;34m.\u001b[0m\u001b[0mastype\u001b[0m\u001b[0;34m(\u001b[0m\u001b[0;34m\"category\"\u001b[0m\u001b[0;34m)\u001b[0m\u001b[0;34m\u001b[0m\u001b[0;34m\u001b[0m\u001b[0m\n\u001b[1;32m      3\u001b[0m \u001b[0;34m\u001b[0m\u001b[0m\n\u001b[1;32m      4\u001b[0m \u001b[0mtrain\u001b[0m\u001b[0;34m.\u001b[0m\u001b[0minfo\u001b[0m\u001b[0;34m(\u001b[0m\u001b[0;34m)\u001b[0m\u001b[0;34m,\u001b[0m \u001b[0mtest\u001b[0m\u001b[0;34m.\u001b[0m\u001b[0minfo\u001b[0m\u001b[0;34m(\u001b[0m\u001b[0;34m)\u001b[0m\u001b[0;34m\u001b[0m\u001b[0;34m\u001b[0m\u001b[0m\n",
            "\u001b[0;31mNameError\u001b[0m: name 'categorical_feature' is not defined"
          ]
        }
      ]
    },
    {
      "cell_type": "code",
      "source": [
        "from sklearn.preprocessing import OrdinalEncoder\n",
        "\n",
        "oe = OrdinalEncoder(handle_unknown='use_encoded_value', unknown_value=-1)\n",
        "train[categorical_feature] = oe.fit_transform(train[categorical_feature])\n",
        "test[categorical_feature] = oe.transform(test[categorical_feature])"
      ],
      "metadata": {
        "id": "CeZvb8t6l_hm"
      },
      "execution_count": null,
      "outputs": []
    },
    {
      "cell_type": "code",
      "source": [
        "from sklearn.model_selection import train_test_split\n",
        "\n",
        "# X_train, X_valid, y_train, y_valid\n",
        "X_train, X_valid, y_train, y_valid = train_test_split(\n",
        "    X, y, test_size=0.1, random_state=42)\n",
        "X_train.shape, X_valid.shape, y_train.shape, y_valid.shape"
      ],
      "metadata": {
        "colab": {
          "base_uri": "https://localhost:8080/"
        },
        "id": "sqH1MjQNlCmS",
        "outputId": "86e2aa64-872b-40f2-8fd7-4efb4525b207"
      },
      "execution_count": null,
      "outputs": [
        {
          "output_type": "execute_result",
          "data": {
            "text/plain": [
              "((551771, 8), (61308, 8), (551771,), (61308,))"
            ]
          },
          "metadata": {},
          "execution_count": 76
        }
      ]
    },
    {
      "cell_type": "code",
      "execution_count": null,
      "metadata": {
        "id": "X8Sio59SpN_i",
        "colab": {
          "base_uri": "https://localhost:8080/"
        },
        "outputId": "3d1345e1-ab12-4d36-f4a8-c04330748126"
      },
      "outputs": [
        {
          "output_type": "execute_result",
          "data": {
            "text/plain": [
              "((613079, 8), (613079,))"
            ]
          },
          "metadata": {},
          "execution_count": 90
        }
      ],
      "source": [
        "X = train.drop(columns=\"Book-Rating\")\n",
        "y = train[\"Book-Rating\"]\n",
        "\n",
        "X.shape, y.shape"
      ]
    },
    {
      "cell_type": "code",
      "source": [
        "from sklearn.model_selection import train_test_split\n",
        "\n",
        "X_train, X_valid, y_train, y_valid = train_test_split(\n",
        "    X, y, test_size = 0.1, random_state=42\n",
        ")\n",
        "\n",
        "X_train.shape, X_valid.shape, y_train.shape, y_valid.shape"
      ],
      "metadata": {
        "colab": {
          "base_uri": "https://localhost:8080/"
        },
        "id": "-av5TT6bmCTR",
        "outputId": "ee152a7c-ae27-4230-be66-146278050460"
      },
      "execution_count": null,
      "outputs": [
        {
          "output_type": "execute_result",
          "data": {
            "text/plain": [
              "((551771, 8), (61308, 8), (551771,), (61308,))"
            ]
          },
          "metadata": {},
          "execution_count": 91
        }
      ]
    },
    {
      "cell_type": "code",
      "source": [
        "X_test = test\n",
        "X_test.shape"
      ],
      "metadata": {
        "colab": {
          "base_uri": "https://localhost:8080/"
        },
        "id": "Yo4yiDyZmD4Y",
        "outputId": "0de85eb2-b405-4209-dd2c-fb54e61b8ad5"
      },
      "execution_count": null,
      "outputs": [
        {
          "output_type": "execute_result",
          "data": {
            "text/plain": [
              "(159621, 8)"
            ]
          },
          "metadata": {},
          "execution_count": 92
        }
      ]
    },
    {
      "cell_type": "code",
      "source": [
        "import xgboost as xgb\n",
        "\n",
        "model_xgb = xgb.XGBRegressor(objective='reg:squarederror', n_estimators=250, \n",
        "                             max_depth=3,\n",
        "                             random_state=42, \n",
        "                             n_jobs=-1)\n",
        "                             \n",
        "model_xgb"
      ],
      "metadata": {
        "colab": {
          "base_uri": "https://localhost:8080/",
          "height": 248
        },
        "id": "iRxkpsdtmFbm",
        "outputId": "ec471f0e-66d9-4bed-9b8e-e0b63e3aa503"
      },
      "execution_count": null,
      "outputs": [
        {
          "output_type": "execute_result",
          "data": {
            "text/plain": [
              "XGBRegressor(base_score=None, booster=None, callbacks=None,\n",
              "             colsample_bylevel=None, colsample_bynode=None,\n",
              "             colsample_bytree=None, early_stopping_rounds=None,\n",
              "             enable_categorical=False, eval_metric=None, feature_types=None,\n",
              "             gamma=None, gpu_id=None, grow_policy=None, importance_type=None,\n",
              "             interaction_constraints=None, learning_rate=None, max_bin=None,\n",
              "             max_cat_threshold=None, max_cat_to_onehot=None,\n",
              "             max_delta_step=None, max_depth=3, max_leaves=None,\n",
              "             min_child_weight=None, missing=nan, monotone_constraints=None,\n",
              "             n_estimators=250, n_jobs=-1, num_parallel_tree=None,\n",
              "             predictor=None, random_state=42, ...)"
            ],
            "text/html": [
              "<style>#sk-container-id-2 {color: black;background-color: white;}#sk-container-id-2 pre{padding: 0;}#sk-container-id-2 div.sk-toggleable {background-color: white;}#sk-container-id-2 label.sk-toggleable__label {cursor: pointer;display: block;width: 100%;margin-bottom: 0;padding: 0.3em;box-sizing: border-box;text-align: center;}#sk-container-id-2 label.sk-toggleable__label-arrow:before {content: \"▸\";float: left;margin-right: 0.25em;color: #696969;}#sk-container-id-2 label.sk-toggleable__label-arrow:hover:before {color: black;}#sk-container-id-2 div.sk-estimator:hover label.sk-toggleable__label-arrow:before {color: black;}#sk-container-id-2 div.sk-toggleable__content {max-height: 0;max-width: 0;overflow: hidden;text-align: left;background-color: #f0f8ff;}#sk-container-id-2 div.sk-toggleable__content pre {margin: 0.2em;color: black;border-radius: 0.25em;background-color: #f0f8ff;}#sk-container-id-2 input.sk-toggleable__control:checked~div.sk-toggleable__content {max-height: 200px;max-width: 100%;overflow: auto;}#sk-container-id-2 input.sk-toggleable__control:checked~label.sk-toggleable__label-arrow:before {content: \"▾\";}#sk-container-id-2 div.sk-estimator input.sk-toggleable__control:checked~label.sk-toggleable__label {background-color: #d4ebff;}#sk-container-id-2 div.sk-label input.sk-toggleable__control:checked~label.sk-toggleable__label {background-color: #d4ebff;}#sk-container-id-2 input.sk-hidden--visually {border: 0;clip: rect(1px 1px 1px 1px);clip: rect(1px, 1px, 1px, 1px);height: 1px;margin: -1px;overflow: hidden;padding: 0;position: absolute;width: 1px;}#sk-container-id-2 div.sk-estimator {font-family: monospace;background-color: #f0f8ff;border: 1px dotted black;border-radius: 0.25em;box-sizing: border-box;margin-bottom: 0.5em;}#sk-container-id-2 div.sk-estimator:hover {background-color: #d4ebff;}#sk-container-id-2 div.sk-parallel-item::after {content: \"\";width: 100%;border-bottom: 1px solid gray;flex-grow: 1;}#sk-container-id-2 div.sk-label:hover label.sk-toggleable__label {background-color: #d4ebff;}#sk-container-id-2 div.sk-serial::before {content: \"\";position: absolute;border-left: 1px solid gray;box-sizing: border-box;top: 0;bottom: 0;left: 50%;z-index: 0;}#sk-container-id-2 div.sk-serial {display: flex;flex-direction: column;align-items: center;background-color: white;padding-right: 0.2em;padding-left: 0.2em;position: relative;}#sk-container-id-2 div.sk-item {position: relative;z-index: 1;}#sk-container-id-2 div.sk-parallel {display: flex;align-items: stretch;justify-content: center;background-color: white;position: relative;}#sk-container-id-2 div.sk-item::before, #sk-container-id-2 div.sk-parallel-item::before {content: \"\";position: absolute;border-left: 1px solid gray;box-sizing: border-box;top: 0;bottom: 0;left: 50%;z-index: -1;}#sk-container-id-2 div.sk-parallel-item {display: flex;flex-direction: column;z-index: 1;position: relative;background-color: white;}#sk-container-id-2 div.sk-parallel-item:first-child::after {align-self: flex-end;width: 50%;}#sk-container-id-2 div.sk-parallel-item:last-child::after {align-self: flex-start;width: 50%;}#sk-container-id-2 div.sk-parallel-item:only-child::after {width: 0;}#sk-container-id-2 div.sk-dashed-wrapped {border: 1px dashed gray;margin: 0 0.4em 0.5em 0.4em;box-sizing: border-box;padding-bottom: 0.4em;background-color: white;}#sk-container-id-2 div.sk-label label {font-family: monospace;font-weight: bold;display: inline-block;line-height: 1.2em;}#sk-container-id-2 div.sk-label-container {text-align: center;}#sk-container-id-2 div.sk-container {/* jupyter's `normalize.less` sets `[hidden] { display: none; }` but bootstrap.min.css set `[hidden] { display: none !important; }` so we also need the `!important` here to be able to override the default hidden behavior on the sphinx rendered scikit-learn.org. See: https://github.com/scikit-learn/scikit-learn/issues/21755 */display: inline-block !important;position: relative;}#sk-container-id-2 div.sk-text-repr-fallback {display: none;}</style><div id=\"sk-container-id-2\" class=\"sk-top-container\"><div class=\"sk-text-repr-fallback\"><pre>XGBRegressor(base_score=None, booster=None, callbacks=None,\n",
              "             colsample_bylevel=None, colsample_bynode=None,\n",
              "             colsample_bytree=None, early_stopping_rounds=None,\n",
              "             enable_categorical=False, eval_metric=None, feature_types=None,\n",
              "             gamma=None, gpu_id=None, grow_policy=None, importance_type=None,\n",
              "             interaction_constraints=None, learning_rate=None, max_bin=None,\n",
              "             max_cat_threshold=None, max_cat_to_onehot=None,\n",
              "             max_delta_step=None, max_depth=3, max_leaves=None,\n",
              "             min_child_weight=None, missing=nan, monotone_constraints=None,\n",
              "             n_estimators=250, n_jobs=-1, num_parallel_tree=None,\n",
              "             predictor=None, random_state=42, ...)</pre><b>In a Jupyter environment, please rerun this cell to show the HTML representation or trust the notebook. <br />On GitHub, the HTML representation is unable to render, please try loading this page with nbviewer.org.</b></div><div class=\"sk-container\" hidden><div class=\"sk-item\"><div class=\"sk-estimator sk-toggleable\"><input class=\"sk-toggleable__control sk-hidden--visually\" id=\"sk-estimator-id-2\" type=\"checkbox\" checked><label for=\"sk-estimator-id-2\" class=\"sk-toggleable__label sk-toggleable__label-arrow\">XGBRegressor</label><div class=\"sk-toggleable__content\"><pre>XGBRegressor(base_score=None, booster=None, callbacks=None,\n",
              "             colsample_bylevel=None, colsample_bynode=None,\n",
              "             colsample_bytree=None, early_stopping_rounds=None,\n",
              "             enable_categorical=False, eval_metric=None, feature_types=None,\n",
              "             gamma=None, gpu_id=None, grow_policy=None, importance_type=None,\n",
              "             interaction_constraints=None, learning_rate=None, max_bin=None,\n",
              "             max_cat_threshold=None, max_cat_to_onehot=None,\n",
              "             max_delta_step=None, max_depth=3, max_leaves=None,\n",
              "             min_child_weight=None, missing=nan, monotone_constraints=None,\n",
              "             n_estimators=250, n_jobs=-1, num_parallel_tree=None,\n",
              "             predictor=None, random_state=42, ...)</pre></div></div></div></div></div>"
            ]
          },
          "metadata": {},
          "execution_count": 93
        }
      ]
    },
    {
      "cell_type": "code",
      "source": [
        "dtrain = xgb.DMatrix(X, label=y)"
      ],
      "metadata": {
        "id": "vSMrxfB4nMWQ"
      },
      "execution_count": null,
      "outputs": []
    },
    {
      "cell_type": "code",
      "source": [
        "from xgboost.callback import EarlyStopping\n",
        "# fit\n",
        "es = xgb.callback.EarlyStopping(\n",
        "    rounds=2,\n",
        "    save_best=True,\n",
        "    maximize=False,\n",
        "    data_name=\"validation_0\",\n",
        "    metric_name=\"rmse\",\n",
        ")\n",
        "\n",
        "model_xgb.fit(X_train, y_train, \n",
        "              eval_set=[(X_valid, y_valid)], callbacks=[es])"
      ],
      "metadata": {
        "colab": {
          "base_uri": "https://localhost:8080/",
          "height": 1000
        },
        "id": "iBqLkUXknRwJ",
        "outputId": "3752acdf-c877-412c-d0ac-19eb25fea00e"
      },
      "execution_count": null,
      "outputs": [
        {
          "output_type": "stream",
          "name": "stderr",
          "text": [
            "/usr/local/lib/python3.9/dist-packages/xgboost/sklearn.py:835: UserWarning: `callbacks` in `fit` method is deprecated for better compatibility with scikit-learn, use `callbacks` in constructor or`set_params` instead.\n",
            "  warnings.warn(\n"
          ]
        },
        {
          "output_type": "stream",
          "name": "stdout",
          "text": [
            "[0]\tvalidation_0-rmse:4.16758\n",
            "[1]\tvalidation_0-rmse:3.98705\n",
            "[2]\tvalidation_0-rmse:3.88902\n",
            "[3]\tvalidation_0-rmse:3.84286\n",
            "[4]\tvalidation_0-rmse:3.81827\n",
            "[5]\tvalidation_0-rmse:3.80099\n",
            "[6]\tvalidation_0-rmse:3.79127\n",
            "[7]\tvalidation_0-rmse:3.78691\n",
            "[8]\tvalidation_0-rmse:3.78307\n",
            "[9]\tvalidation_0-rmse:3.77965\n",
            "[10]\tvalidation_0-rmse:3.77456\n",
            "[11]\tvalidation_0-rmse:3.76810\n",
            "[12]\tvalidation_0-rmse:3.76504\n",
            "[13]\tvalidation_0-rmse:3.76347\n",
            "[14]\tvalidation_0-rmse:3.75937\n",
            "[15]\tvalidation_0-rmse:3.75649\n",
            "[16]\tvalidation_0-rmse:3.75359\n",
            "[17]\tvalidation_0-rmse:3.75229\n",
            "[18]\tvalidation_0-rmse:3.75130\n",
            "[19]\tvalidation_0-rmse:3.75043\n",
            "[20]\tvalidation_0-rmse:3.74577\n",
            "[21]\tvalidation_0-rmse:3.74200\n",
            "[22]\tvalidation_0-rmse:3.74040\n",
            "[23]\tvalidation_0-rmse:3.73734\n",
            "[24]\tvalidation_0-rmse:3.73326\n",
            "[25]\tvalidation_0-rmse:3.73277\n",
            "[26]\tvalidation_0-rmse:3.73202\n",
            "[27]\tvalidation_0-rmse:3.73075\n",
            "[28]\tvalidation_0-rmse:3.72966\n",
            "[29]\tvalidation_0-rmse:3.72799\n",
            "[30]\tvalidation_0-rmse:3.72745\n",
            "[31]\tvalidation_0-rmse:3.72651\n",
            "[32]\tvalidation_0-rmse:3.72383\n",
            "[33]\tvalidation_0-rmse:3.72300\n",
            "[34]\tvalidation_0-rmse:3.72184\n",
            "[35]\tvalidation_0-rmse:3.72094\n",
            "[36]\tvalidation_0-rmse:3.71934\n",
            "[37]\tvalidation_0-rmse:3.71771\n",
            "[38]\tvalidation_0-rmse:3.71616\n",
            "[39]\tvalidation_0-rmse:3.71392\n",
            "[40]\tvalidation_0-rmse:3.71284\n",
            "[41]\tvalidation_0-rmse:3.70946\n",
            "[42]\tvalidation_0-rmse:3.70914\n",
            "[43]\tvalidation_0-rmse:3.70881\n",
            "[44]\tvalidation_0-rmse:3.70872\n",
            "[45]\tvalidation_0-rmse:3.70828\n",
            "[46]\tvalidation_0-rmse:3.70708\n",
            "[47]\tvalidation_0-rmse:3.70649\n",
            "[48]\tvalidation_0-rmse:3.70400\n",
            "[49]\tvalidation_0-rmse:3.70213\n",
            "[50]\tvalidation_0-rmse:3.70099\n",
            "[51]\tvalidation_0-rmse:3.70037\n",
            "[52]\tvalidation_0-rmse:3.70004\n",
            "[53]\tvalidation_0-rmse:3.69969\n",
            "[54]\tvalidation_0-rmse:3.69866\n",
            "[55]\tvalidation_0-rmse:3.69724\n",
            "[56]\tvalidation_0-rmse:3.69645\n",
            "[57]\tvalidation_0-rmse:3.69406\n",
            "[58]\tvalidation_0-rmse:3.69383\n",
            "[59]\tvalidation_0-rmse:3.69238\n",
            "[60]\tvalidation_0-rmse:3.69144\n",
            "[61]\tvalidation_0-rmse:3.69000\n",
            "[62]\tvalidation_0-rmse:3.68923\n",
            "[63]\tvalidation_0-rmse:3.68899\n",
            "[64]\tvalidation_0-rmse:3.68819\n",
            "[65]\tvalidation_0-rmse:3.68766\n",
            "[66]\tvalidation_0-rmse:3.68696\n",
            "[67]\tvalidation_0-rmse:3.68476\n",
            "[68]\tvalidation_0-rmse:3.68373\n",
            "[69]\tvalidation_0-rmse:3.68126\n",
            "[70]\tvalidation_0-rmse:3.68084\n",
            "[71]\tvalidation_0-rmse:3.67952\n",
            "[72]\tvalidation_0-rmse:3.67877\n",
            "[73]\tvalidation_0-rmse:3.67790\n",
            "[74]\tvalidation_0-rmse:3.67637\n",
            "[75]\tvalidation_0-rmse:3.67509\n",
            "[76]\tvalidation_0-rmse:3.67442\n",
            "[77]\tvalidation_0-rmse:3.67346\n",
            "[78]\tvalidation_0-rmse:3.67228\n",
            "[79]\tvalidation_0-rmse:3.67097\n",
            "[80]\tvalidation_0-rmse:3.66942\n",
            "[81]\tvalidation_0-rmse:3.66894\n",
            "[82]\tvalidation_0-rmse:3.66781\n",
            "[83]\tvalidation_0-rmse:3.66668\n",
            "[84]\tvalidation_0-rmse:3.66612\n",
            "[85]\tvalidation_0-rmse:3.66477\n",
            "[86]\tvalidation_0-rmse:3.66413\n",
            "[87]\tvalidation_0-rmse:3.66359\n",
            "[88]\tvalidation_0-rmse:3.66270\n",
            "[89]\tvalidation_0-rmse:3.66237\n",
            "[90]\tvalidation_0-rmse:3.66144\n",
            "[91]\tvalidation_0-rmse:3.66110\n",
            "[92]\tvalidation_0-rmse:3.66104\n",
            "[93]\tvalidation_0-rmse:3.66049\n",
            "[94]\tvalidation_0-rmse:3.66037\n",
            "[95]\tvalidation_0-rmse:3.65951\n",
            "[96]\tvalidation_0-rmse:3.65919\n",
            "[97]\tvalidation_0-rmse:3.65862\n",
            "[98]\tvalidation_0-rmse:3.65689\n",
            "[99]\tvalidation_0-rmse:3.65627\n",
            "[100]\tvalidation_0-rmse:3.65591\n",
            "[101]\tvalidation_0-rmse:3.65534\n",
            "[102]\tvalidation_0-rmse:3.65503\n",
            "[103]\tvalidation_0-rmse:3.65498\n",
            "[104]\tvalidation_0-rmse:3.65433\n",
            "[105]\tvalidation_0-rmse:3.65319\n",
            "[106]\tvalidation_0-rmse:3.65247\n",
            "[107]\tvalidation_0-rmse:3.65225\n",
            "[108]\tvalidation_0-rmse:3.65215\n",
            "[109]\tvalidation_0-rmse:3.65175\n",
            "[110]\tvalidation_0-rmse:3.65042\n",
            "[111]\tvalidation_0-rmse:3.64933\n",
            "[112]\tvalidation_0-rmse:3.64777\n",
            "[113]\tvalidation_0-rmse:3.64736\n",
            "[114]\tvalidation_0-rmse:3.64656\n",
            "[115]\tvalidation_0-rmse:3.64533\n",
            "[116]\tvalidation_0-rmse:3.64450\n",
            "[117]\tvalidation_0-rmse:3.64384\n",
            "[118]\tvalidation_0-rmse:3.64321\n",
            "[119]\tvalidation_0-rmse:3.64316\n",
            "[120]\tvalidation_0-rmse:3.64205\n",
            "[121]\tvalidation_0-rmse:3.64194\n",
            "[122]\tvalidation_0-rmse:3.64191\n",
            "[123]\tvalidation_0-rmse:3.64170\n",
            "[124]\tvalidation_0-rmse:3.64150\n",
            "[125]\tvalidation_0-rmse:3.64148\n",
            "[126]\tvalidation_0-rmse:3.64089\n",
            "[127]\tvalidation_0-rmse:3.64056\n",
            "[128]\tvalidation_0-rmse:3.63949\n",
            "[129]\tvalidation_0-rmse:3.63948\n",
            "[130]\tvalidation_0-rmse:3.63856\n",
            "[131]\tvalidation_0-rmse:3.63828\n",
            "[132]\tvalidation_0-rmse:3.63831\n",
            "[133]\tvalidation_0-rmse:3.63778\n",
            "[134]\tvalidation_0-rmse:3.63758\n",
            "[135]\tvalidation_0-rmse:3.63710\n",
            "[136]\tvalidation_0-rmse:3.63692\n",
            "[137]\tvalidation_0-rmse:3.63643\n",
            "[138]\tvalidation_0-rmse:3.63588\n",
            "[139]\tvalidation_0-rmse:3.63564\n",
            "[140]\tvalidation_0-rmse:3.63520\n",
            "[141]\tvalidation_0-rmse:3.63495\n",
            "[142]\tvalidation_0-rmse:3.63398\n",
            "[143]\tvalidation_0-rmse:3.63254\n",
            "[144]\tvalidation_0-rmse:3.63197\n",
            "[145]\tvalidation_0-rmse:3.63156\n",
            "[146]\tvalidation_0-rmse:3.63111\n",
            "[147]\tvalidation_0-rmse:3.63076\n",
            "[148]\tvalidation_0-rmse:3.63047\n",
            "[149]\tvalidation_0-rmse:3.63033\n",
            "[150]\tvalidation_0-rmse:3.63018\n",
            "[151]\tvalidation_0-rmse:3.62977\n",
            "[152]\tvalidation_0-rmse:3.62844\n",
            "[153]\tvalidation_0-rmse:3.62819\n",
            "[154]\tvalidation_0-rmse:3.62765\n",
            "[155]\tvalidation_0-rmse:3.62653\n",
            "[156]\tvalidation_0-rmse:3.62570\n",
            "[157]\tvalidation_0-rmse:3.62486\n",
            "[158]\tvalidation_0-rmse:3.62480\n",
            "[159]\tvalidation_0-rmse:3.62464\n",
            "[160]\tvalidation_0-rmse:3.62420\n",
            "[161]\tvalidation_0-rmse:3.62351\n",
            "[162]\tvalidation_0-rmse:3.62334\n",
            "[163]\tvalidation_0-rmse:3.62309\n",
            "[164]\tvalidation_0-rmse:3.62257\n",
            "[165]\tvalidation_0-rmse:3.62235\n",
            "[166]\tvalidation_0-rmse:3.62203\n",
            "[167]\tvalidation_0-rmse:3.62178\n",
            "[168]\tvalidation_0-rmse:3.62169\n",
            "[169]\tvalidation_0-rmse:3.62107\n",
            "[170]\tvalidation_0-rmse:3.62067\n",
            "[171]\tvalidation_0-rmse:3.62005\n",
            "[172]\tvalidation_0-rmse:3.61948\n",
            "[173]\tvalidation_0-rmse:3.61876\n",
            "[174]\tvalidation_0-rmse:3.61844\n",
            "[175]\tvalidation_0-rmse:3.61804\n",
            "[176]\tvalidation_0-rmse:3.61730\n",
            "[177]\tvalidation_0-rmse:3.61682\n",
            "[178]\tvalidation_0-rmse:3.61674\n",
            "[179]\tvalidation_0-rmse:3.61650\n",
            "[180]\tvalidation_0-rmse:3.61508\n",
            "[181]\tvalidation_0-rmse:3.61443\n",
            "[182]\tvalidation_0-rmse:3.61366\n",
            "[183]\tvalidation_0-rmse:3.61329\n",
            "[184]\tvalidation_0-rmse:3.61272\n",
            "[185]\tvalidation_0-rmse:3.61221\n",
            "[186]\tvalidation_0-rmse:3.61120\n",
            "[187]\tvalidation_0-rmse:3.61025\n",
            "[188]\tvalidation_0-rmse:3.61003\n",
            "[189]\tvalidation_0-rmse:3.60916\n",
            "[190]\tvalidation_0-rmse:3.60883\n",
            "[191]\tvalidation_0-rmse:3.60850\n",
            "[192]\tvalidation_0-rmse:3.60799\n",
            "[193]\tvalidation_0-rmse:3.60726\n",
            "[194]\tvalidation_0-rmse:3.60722\n",
            "[195]\tvalidation_0-rmse:3.60687\n",
            "[196]\tvalidation_0-rmse:3.60614\n",
            "[197]\tvalidation_0-rmse:3.60575\n",
            "[198]\tvalidation_0-rmse:3.60571\n",
            "[199]\tvalidation_0-rmse:3.60552\n",
            "[200]\tvalidation_0-rmse:3.60496\n",
            "[201]\tvalidation_0-rmse:3.60472\n",
            "[202]\tvalidation_0-rmse:3.60474\n",
            "[203]\tvalidation_0-rmse:3.60440\n",
            "[204]\tvalidation_0-rmse:3.60435\n",
            "[205]\tvalidation_0-rmse:3.60431\n",
            "[206]\tvalidation_0-rmse:3.60411\n",
            "[207]\tvalidation_0-rmse:3.60348\n",
            "[208]\tvalidation_0-rmse:3.60313\n",
            "[209]\tvalidation_0-rmse:3.60249\n",
            "[210]\tvalidation_0-rmse:3.60242\n",
            "[211]\tvalidation_0-rmse:3.60231\n",
            "[212]\tvalidation_0-rmse:3.60225\n",
            "[213]\tvalidation_0-rmse:3.60223\n",
            "[214]\tvalidation_0-rmse:3.60207\n",
            "[215]\tvalidation_0-rmse:3.60166\n",
            "[216]\tvalidation_0-rmse:3.60167\n",
            "[217]\tvalidation_0-rmse:3.60164\n",
            "[218]\tvalidation_0-rmse:3.60080\n",
            "[219]\tvalidation_0-rmse:3.60015\n",
            "[220]\tvalidation_0-rmse:3.60014\n",
            "[221]\tvalidation_0-rmse:3.59967\n",
            "[222]\tvalidation_0-rmse:3.59953\n",
            "[223]\tvalidation_0-rmse:3.59945\n",
            "[224]\tvalidation_0-rmse:3.59928\n",
            "[225]\tvalidation_0-rmse:3.59898\n",
            "[226]\tvalidation_0-rmse:3.59886\n",
            "[227]\tvalidation_0-rmse:3.59844\n",
            "[228]\tvalidation_0-rmse:3.59819\n",
            "[229]\tvalidation_0-rmse:3.59753\n",
            "[230]\tvalidation_0-rmse:3.59757\n",
            "[231]\tvalidation_0-rmse:3.59746\n",
            "[232]\tvalidation_0-rmse:3.59729\n",
            "[233]\tvalidation_0-rmse:3.59655\n",
            "[234]\tvalidation_0-rmse:3.59619\n",
            "[235]\tvalidation_0-rmse:3.59580\n",
            "[236]\tvalidation_0-rmse:3.59514\n",
            "[237]\tvalidation_0-rmse:3.59487\n",
            "[238]\tvalidation_0-rmse:3.59484\n",
            "[239]\tvalidation_0-rmse:3.59468\n",
            "[240]\tvalidation_0-rmse:3.59388\n",
            "[241]\tvalidation_0-rmse:3.59283\n",
            "[242]\tvalidation_0-rmse:3.59252\n",
            "[243]\tvalidation_0-rmse:3.59182\n",
            "[244]\tvalidation_0-rmse:3.59158\n",
            "[245]\tvalidation_0-rmse:3.59115\n",
            "[246]\tvalidation_0-rmse:3.59117\n",
            "[247]\tvalidation_0-rmse:3.59087\n",
            "[248]\tvalidation_0-rmse:3.58994\n",
            "[249]\tvalidation_0-rmse:3.58902\n"
          ]
        },
        {
          "output_type": "execute_result",
          "data": {
            "text/plain": [
              "XGBRegressor(base_score=None, booster=None, callbacks=None,\n",
              "             colsample_bylevel=None, colsample_bynode=None,\n",
              "             colsample_bytree=None, early_stopping_rounds=None,\n",
              "             enable_categorical=False, eval_metric=None, feature_types=None,\n",
              "             gamma=None, gpu_id=None, grow_policy=None, importance_type=None,\n",
              "             interaction_constraints=None, learning_rate=None, max_bin=None,\n",
              "             max_cat_threshold=None, max_cat_to_onehot=None,\n",
              "             max_delta_step=None, max_depth=3, max_leaves=None,\n",
              "             min_child_weight=None, missing=nan, monotone_constraints=None,\n",
              "             n_estimators=250, n_jobs=-1, num_parallel_tree=None,\n",
              "             predictor=None, random_state=42, ...)"
            ],
            "text/html": [
              "<style>#sk-container-id-3 {color: black;background-color: white;}#sk-container-id-3 pre{padding: 0;}#sk-container-id-3 div.sk-toggleable {background-color: white;}#sk-container-id-3 label.sk-toggleable__label {cursor: pointer;display: block;width: 100%;margin-bottom: 0;padding: 0.3em;box-sizing: border-box;text-align: center;}#sk-container-id-3 label.sk-toggleable__label-arrow:before {content: \"▸\";float: left;margin-right: 0.25em;color: #696969;}#sk-container-id-3 label.sk-toggleable__label-arrow:hover:before {color: black;}#sk-container-id-3 div.sk-estimator:hover label.sk-toggleable__label-arrow:before {color: black;}#sk-container-id-3 div.sk-toggleable__content {max-height: 0;max-width: 0;overflow: hidden;text-align: left;background-color: #f0f8ff;}#sk-container-id-3 div.sk-toggleable__content pre {margin: 0.2em;color: black;border-radius: 0.25em;background-color: #f0f8ff;}#sk-container-id-3 input.sk-toggleable__control:checked~div.sk-toggleable__content {max-height: 200px;max-width: 100%;overflow: auto;}#sk-container-id-3 input.sk-toggleable__control:checked~label.sk-toggleable__label-arrow:before {content: \"▾\";}#sk-container-id-3 div.sk-estimator input.sk-toggleable__control:checked~label.sk-toggleable__label {background-color: #d4ebff;}#sk-container-id-3 div.sk-label input.sk-toggleable__control:checked~label.sk-toggleable__label {background-color: #d4ebff;}#sk-container-id-3 input.sk-hidden--visually {border: 0;clip: rect(1px 1px 1px 1px);clip: rect(1px, 1px, 1px, 1px);height: 1px;margin: -1px;overflow: hidden;padding: 0;position: absolute;width: 1px;}#sk-container-id-3 div.sk-estimator {font-family: monospace;background-color: #f0f8ff;border: 1px dotted black;border-radius: 0.25em;box-sizing: border-box;margin-bottom: 0.5em;}#sk-container-id-3 div.sk-estimator:hover {background-color: #d4ebff;}#sk-container-id-3 div.sk-parallel-item::after {content: \"\";width: 100%;border-bottom: 1px solid gray;flex-grow: 1;}#sk-container-id-3 div.sk-label:hover label.sk-toggleable__label {background-color: #d4ebff;}#sk-container-id-3 div.sk-serial::before {content: \"\";position: absolute;border-left: 1px solid gray;box-sizing: border-box;top: 0;bottom: 0;left: 50%;z-index: 0;}#sk-container-id-3 div.sk-serial {display: flex;flex-direction: column;align-items: center;background-color: white;padding-right: 0.2em;padding-left: 0.2em;position: relative;}#sk-container-id-3 div.sk-item {position: relative;z-index: 1;}#sk-container-id-3 div.sk-parallel {display: flex;align-items: stretch;justify-content: center;background-color: white;position: relative;}#sk-container-id-3 div.sk-item::before, #sk-container-id-3 div.sk-parallel-item::before {content: \"\";position: absolute;border-left: 1px solid gray;box-sizing: border-box;top: 0;bottom: 0;left: 50%;z-index: -1;}#sk-container-id-3 div.sk-parallel-item {display: flex;flex-direction: column;z-index: 1;position: relative;background-color: white;}#sk-container-id-3 div.sk-parallel-item:first-child::after {align-self: flex-end;width: 50%;}#sk-container-id-3 div.sk-parallel-item:last-child::after {align-self: flex-start;width: 50%;}#sk-container-id-3 div.sk-parallel-item:only-child::after {width: 0;}#sk-container-id-3 div.sk-dashed-wrapped {border: 1px dashed gray;margin: 0 0.4em 0.5em 0.4em;box-sizing: border-box;padding-bottom: 0.4em;background-color: white;}#sk-container-id-3 div.sk-label label {font-family: monospace;font-weight: bold;display: inline-block;line-height: 1.2em;}#sk-container-id-3 div.sk-label-container {text-align: center;}#sk-container-id-3 div.sk-container {/* jupyter's `normalize.less` sets `[hidden] { display: none; }` but bootstrap.min.css set `[hidden] { display: none !important; }` so we also need the `!important` here to be able to override the default hidden behavior on the sphinx rendered scikit-learn.org. See: https://github.com/scikit-learn/scikit-learn/issues/21755 */display: inline-block !important;position: relative;}#sk-container-id-3 div.sk-text-repr-fallback {display: none;}</style><div id=\"sk-container-id-3\" class=\"sk-top-container\"><div class=\"sk-text-repr-fallback\"><pre>XGBRegressor(base_score=None, booster=None, callbacks=None,\n",
              "             colsample_bylevel=None, colsample_bynode=None,\n",
              "             colsample_bytree=None, early_stopping_rounds=None,\n",
              "             enable_categorical=False, eval_metric=None, feature_types=None,\n",
              "             gamma=None, gpu_id=None, grow_policy=None, importance_type=None,\n",
              "             interaction_constraints=None, learning_rate=None, max_bin=None,\n",
              "             max_cat_threshold=None, max_cat_to_onehot=None,\n",
              "             max_delta_step=None, max_depth=3, max_leaves=None,\n",
              "             min_child_weight=None, missing=nan, monotone_constraints=None,\n",
              "             n_estimators=250, n_jobs=-1, num_parallel_tree=None,\n",
              "             predictor=None, random_state=42, ...)</pre><b>In a Jupyter environment, please rerun this cell to show the HTML representation or trust the notebook. <br />On GitHub, the HTML representation is unable to render, please try loading this page with nbviewer.org.</b></div><div class=\"sk-container\" hidden><div class=\"sk-item\"><div class=\"sk-estimator sk-toggleable\"><input class=\"sk-toggleable__control sk-hidden--visually\" id=\"sk-estimator-id-3\" type=\"checkbox\" checked><label for=\"sk-estimator-id-3\" class=\"sk-toggleable__label sk-toggleable__label-arrow\">XGBRegressor</label><div class=\"sk-toggleable__content\"><pre>XGBRegressor(base_score=None, booster=None, callbacks=None,\n",
              "             colsample_bylevel=None, colsample_bynode=None,\n",
              "             colsample_bytree=None, early_stopping_rounds=None,\n",
              "             enable_categorical=False, eval_metric=None, feature_types=None,\n",
              "             gamma=None, gpu_id=None, grow_policy=None, importance_type=None,\n",
              "             interaction_constraints=None, learning_rate=None, max_bin=None,\n",
              "             max_cat_threshold=None, max_cat_to_onehot=None,\n",
              "             max_delta_step=None, max_depth=3, max_leaves=None,\n",
              "             min_child_weight=None, missing=nan, monotone_constraints=None,\n",
              "             n_estimators=250, n_jobs=-1, num_parallel_tree=None,\n",
              "             predictor=None, random_state=42, ...)</pre></div></div></div></div></div>"
            ]
          },
          "metadata": {},
          "execution_count": 97
        }
      ]
    },
    {
      "cell_type": "code",
      "source": [
        "y_valid_predict = model_xgb.predict(X_valid)\n",
        "y_valid_predict[:5]"
      ],
      "metadata": {
        "colab": {
          "base_uri": "https://localhost:8080/"
        },
        "id": "5D1rjY5RnTuc",
        "outputId": "208cc121-3d8b-40d5-8f5c-a2651de5464b"
      },
      "execution_count": null,
      "outputs": [
        {
          "output_type": "execute_result",
          "data": {
            "text/plain": [
              "array([2.6720324, 2.3510609, 2.7579746, 2.02187  , 3.039866 ],\n",
              "      dtype=float32)"
            ]
          },
          "metadata": {},
          "execution_count": 98
        }
      ]
    },
    {
      "cell_type": "code",
      "source": [
        "fi = pd.Series(model_xgb.feature_importances_)\n",
        "fi.index = model_xgb.feature_names_in_\n",
        "fi.nlargest(20).plot.barh()"
      ],
      "metadata": {
        "colab": {
          "base_uri": "https://localhost:8080/",
          "height": 448
        },
        "id": "IHJhzPDu3uQl",
        "outputId": "c994f79f-16b5-40a0-bdcf-519fe61bffa8"
      },
      "execution_count": null,
      "outputs": [
        {
          "output_type": "execute_result",
          "data": {
            "text/plain": [
              "<Axes: >"
            ]
          },
          "metadata": {},
          "execution_count": 99
        },
        {
          "output_type": "display_data",
          "data": {
            "text/plain": [
              "<Figure size 640x480 with 1 Axes>"
            ],
            "image/png": "[encoded data removed]"
          },
          "metadata": {}
        }
      ]
    },
    {
      "cell_type": "code",
      "source": [
        "xgb.plot_tree(model_xgb, num_trees=0)\n",
        "fig = plt.gcf()\n",
        "fig.set_size_inches(30, 20)"
      ],
      "metadata": {
        "colab": {
          "base_uri": "https://localhost:8080/",
          "height": 315
        },
        "id": "L2Km2vOc3ydO",
        "outputId": "007c93d5-836f-416b-bec2-110e480e1077"
      },
      "execution_count": null,
      "outputs": [
        {
          "output_type": "display_data",
          "data": {
            "text/plain": [
              "<Figure size 3000x2000 with 1 Axes>"
            ],
            "image/png": "[encoded data removed]"
          },
          "metadata": {}
        }
      ]
    },
    {
      "cell_type": "code",
      "source": [
        "from sklearn.metrics import r2_score\n",
        "r2_score(y_valid, y_valid_predict)"
      ],
      "metadata": {
        "colab": {
          "base_uri": "https://localhost:8080/"
        },
        "id": "8V6OueVk31Wb",
        "outputId": "1ea7ab12-7fbb-4ac2-c370-28aa2e052275"
      },
      "execution_count": null,
      "outputs": [
        {
          "output_type": "execute_result",
          "data": {
            "text/plain": [
              "0.1331875875106453"
            ]
          },
          "metadata": {},
          "execution_count": 102
        }
      ]
    },
    {
      "cell_type": "code",
      "source": [
        "score_xgb = model_xgb.score(X_valid, y_valid)\n",
        "score_xgb"
      ],
      "metadata": {
        "colab": {
          "base_uri": "https://localhost:8080/"
        },
        "id": "wTswa-jV35cN",
        "outputId": "7b4e70b0-558c-4f40-b76c-febb82a2e75d"
      },
      "execution_count": null,
      "outputs": [
        {
          "output_type": "execute_result",
          "data": {
            "text/plain": [
              "0.1331875875106453"
            ]
          },
          "metadata": {},
          "execution_count": 105
        }
      ]
    },
    {
      "cell_type": "code",
      "source": [
        "X_test.shape"
      ],
      "metadata": {
        "colab": {
          "base_uri": "https://localhost:8080/"
        },
        "id": "9W9oLn4I39Mb",
        "outputId": "cf7a1acb-43e4-4088-d190-5147adf11687"
      },
      "execution_count": null,
      "outputs": [
        {
          "output_type": "execute_result",
          "data": {
            "text/plain": [
              "(159621, 8)"
            ]
          },
          "metadata": {},
          "execution_count": 106
        }
      ]
    },
    {
      "cell_type": "code",
      "source": [
        "y_pred_xgb = model_xgb.predict(X_test)\n",
        "y_pred_xgb[:5]"
      ],
      "metadata": {
        "colab": {
          "base_uri": "https://localhost:8080/"
        },
        "id": "N8cDDO8n4HnA",
        "outputId": "c701dfc9-c329-4364-c885-e52700eecbe6"
      },
      "execution_count": null,
      "outputs": [
        {
          "output_type": "execute_result",
          "data": {
            "text/plain": [
              "array([4.869337 , 4.23094  , 3.8241084, 2.181595 , 4.0882525],\n",
              "      dtype=float32)"
            ]
          },
          "metadata": {},
          "execution_count": 107
        }
      ]
    },
    {
      "cell_type": "code",
      "source": [
        "df_submit = pd.read_csv(f\"{base_path}/sample_submission.csv\")\n",
        "df_submit.head()"
      ],
      "metadata": {
        "colab": {
          "base_uri": "https://localhost:8080/",
          "height": 206
        },
        "id": "DAjhAOpX4LAY",
        "outputId": "e6755e23-ad83-4df4-d3fc-19acd4b3e602"
      },
      "execution_count": null,
      "outputs": [
        {
          "output_type": "execute_result",
          "data": {
            "text/plain": [
              "            ID  Book-Rating\n",
              "0  TEST_000000            0\n",
              "1  TEST_000001            0\n",
              "2  TEST_000002            0\n",
              "3  TEST_000003            0\n",
              "4  TEST_000004            0"
            ],
            "text/html": [
              "\n",
              "  <div id=\"df-1fe68764-74c3-46c7-b617-a5a19c1a28f0\">\n",
              "    <div class=\"colab-df-container\">\n",
              "      <div>\n",
              "<style scoped>\n",
              "    .dataframe tbody tr th:only-of-type {\n",
              "        vertical-align: middle;\n",
              "    }\n",
              "\n",
              "    .dataframe tbody tr th {\n",
              "        vertical-align: top;\n",
              "    }\n",
              "\n",
              "    .dataframe thead th {\n",
              "        text-align: right;\n",
              "    }\n",
              "</style>\n",
              "<table border=\"1\" class=\"dataframe\">\n",
              "  <thead>\n",
              "    <tr style=\"text-align: right;\">\n",
              "      <th></th>\n",
              "      <th>ID</th>\n",
              "      <th>Book-Rating</th>\n",
              "    </tr>\n",
              "  </thead>\n",
              "  <tbody>\n",
              "    <tr>\n",
              "      <th>0</th>\n",
              "      <td>TEST_000000</td>\n",
              "      <td>0</td>\n",
              "    </tr>\n",
              "    <tr>\n",
              "      <th>1</th>\n",
              "      <td>TEST_000001</td>\n",
              "      <td>0</td>\n",
              "    </tr>\n",
              "    <tr>\n",
              "      <th>2</th>\n",
              "      <td>TEST_000002</td>\n",
              "      <td>0</td>\n",
              "    </tr>\n",
              "    <tr>\n",
              "      <th>3</th>\n",
              "      <td>TEST_000003</td>\n",
              "      <td>0</td>\n",
              "    </tr>\n",
              "    <tr>\n",
              "      <th>4</th>\n",
              "      <td>TEST_000004</td>\n",
              "      <td>0</td>\n",
              "    </tr>\n",
              "  </tbody>\n",
              "</table>\n",
              "</div>\n",
              "      <button class=\"colab-df-convert\" onclick=\"convertToInteractive('df-1fe68764-74c3-46c7-b617-a5a19c1a28f0')\"\n",
              "              title=\"Convert this dataframe to an interactive table.\"\n",
              "              style=\"display:none;\">\n",
              "        \n",
              "  <svg xmlns=\"http://www.w3.org/2000/svg\" height=\"24px\"viewBox=\"0 0 24 24\"\n",
              "       width=\"24px\">\n",
              "    <path d=\"M0 0h24v24H0V0z\" fill=\"none\"/>\n",
              "    <path d=\"M18.56 5.44l.94 2.06.94-2.06 2.06-.94-2.06-.94-.94-2.06-.94 2.06-2.06.94zm-11 1L8.5 8.5l.94-2.06 2.06-.94-2.06-.94L8.5 2.5l-.94 2.06-2.06.94zm10 10l.94 2.06.94-2.06 2.06-.94-2.06-.94-.94-2.06-.94 2.06-2.06.94z\"/><path d=\"M17.41 7.96l-1.37-1.37c-.4-.4-.92-.59-1.43-.59-.52 0-1.04.2-1.43.59L10.3 9.45l-7.72 7.72c-.78.78-.78 2.05 0 2.83L4 21.41c.39.39.9.59 1.41.59.51 0 1.02-.2 1.41-.59l7.78-7.78 2.81-2.81c.8-.78.8-2.07 0-2.86zM5.41 20L4 18.59l7.72-7.72 1.47 1.35L5.41 20z\"/>\n",
              "  </svg>\n",
              "      </button>\n",
              "      \n",
              "  <style>\n",
              "    .colab-df-container {\n",
              "      display:flex;\n",
              "      flex-wrap:wrap;\n",
              "      gap: 12px;\n",
              "    }\n",
              "\n",
              "    .colab-df-convert {\n",
              "      background-color: #E8F0FE;\n",
              "      border: none;\n",
              "      border-radius: 50%;\n",
              "      cursor: pointer;\n",
              "      display: none;\n",
              "      fill: #1967D2;\n",
              "      height: 32px;\n",
              "      padding: 0 0 0 0;\n",
              "      width: 32px;\n",
              "    }\n",
              "\n",
              "    .colab-df-convert:hover {\n",
              "      background-color: #E2EBFA;\n",
              "      box-shadow: 0px 1px 2px rgba(60, 64, 67, 0.3), 0px 1px 3px 1px rgba(60, 64, 67, 0.15);\n",
              "      fill: #174EA6;\n",
              "    }\n",
              "\n",
              "    [theme=dark] .colab-df-convert {\n",
              "      background-color: #3B4455;\n",
              "      fill: #D2E3FC;\n",
              "    }\n",
              "\n",
              "    [theme=dark] .colab-df-convert:hover {\n",
              "      background-color: #434B5C;\n",
              "      box-shadow: 0px 1px 3px 1px rgba(0, 0, 0, 0.15);\n",
              "      filter: drop-shadow(0px 1px 2px rgba(0, 0, 0, 0.3));\n",
              "      fill: #FFFFFF;\n",
              "    }\n",
              "  </style>\n",
              "\n",
              "      <script>\n",
              "        const buttonEl =\n",
              "          document.querySelector('#df-1fe68764-74c3-46c7-b617-a5a19c1a28f0 button.colab-df-convert');\n",
              "        buttonEl.style.display =\n",
              "          google.colab.kernel.accessAllowed ? 'block' : 'none';\n",
              "\n",
              "        async function convertToInteractive(key) {\n",
              "          const element = document.querySelector('#df-1fe68764-74c3-46c7-b617-a5a19c1a28f0');\n",
              "          const dataTable =\n",
              "            await google.colab.kernel.invokeFunction('convertToInteractive',\n",
              "                                                     [key], {});\n",
              "          if (!dataTable) return;\n",
              "\n",
              "          const docLinkHtml = 'Like what you see? Visit the ' +\n",
              "            '<a target=\"_blank\" href=https://colab.research.google.com/notebooks/data_table.ipynb>data table notebook</a>'\n",
              "            + ' to learn more about interactive tables.';\n",
              "          element.innerHTML = '';\n",
              "          dataTable['output_type'] = 'display_data';\n",
              "          await google.colab.output.renderOutput(dataTable, element);\n",
              "          const docLink = document.createElement('div');\n",
              "          docLink.innerHTML = docLinkHtml;\n",
              "          element.appendChild(docLink);\n",
              "        }\n",
              "      </script>\n",
              "    </div>\n",
              "  </div>\n",
              "  "
            ]
          },
          "metadata": {},
          "execution_count": 108
        }
      ]
    },
    {
      "cell_type": "code",
      "source": [
        "df_submit[\"Book-Rating\"] = abs(y_pred_xgb)\n",
        "df_submit.head(2)"
      ],
      "metadata": {
        "colab": {
          "base_uri": "https://localhost:8080/",
          "height": 112
        },
        "id": "L0LcTfqK4Vtx",
        "outputId": "5d623946-587e-4422-e050-92c1a2c2d64a"
      },
      "execution_count": null,
      "outputs": [
        {
          "output_type": "execute_result",
          "data": {
            "text/plain": [
              "            ID  Book-Rating\n",
              "0  TEST_000000     4.869337\n",
              "1  TEST_000001     4.230940"
            ],
            "text/html": [
              "\n",
              "  <div id=\"df-b8cbb9b1-df14-4be3-aeac-587efbc1a546\">\n",
              "    <div class=\"colab-df-container\">\n",
              "      <div>\n",
              "<style scoped>\n",
              "    .dataframe tbody tr th:only-of-type {\n",
              "        vertical-align: middle;\n",
              "    }\n",
              "\n",
              "    .dataframe tbody tr th {\n",
              "        vertical-align: top;\n",
              "    }\n",
              "\n",
              "    .dataframe thead th {\n",
              "        text-align: right;\n",
              "    }\n",
              "</style>\n",
              "<table border=\"1\" class=\"dataframe\">\n",
              "  <thead>\n",
              "    <tr style=\"text-align: right;\">\n",
              "      <th></th>\n",
              "      <th>ID</th>\n",
              "      <th>Book-Rating</th>\n",
              "    </tr>\n",
              "  </thead>\n",
              "  <tbody>\n",
              "    <tr>\n",
              "      <th>0</th>\n",
              "      <td>TEST_000000</td>\n",
              "      <td>4.869337</td>\n",
              "    </tr>\n",
              "    <tr>\n",
              "      <th>1</th>\n",
              "      <td>TEST_000001</td>\n",
              "      <td>4.230940</td>\n",
              "    </tr>\n",
              "  </tbody>\n",
              "</table>\n",
              "</div>\n",
              "      <button class=\"colab-df-convert\" onclick=\"convertToInteractive('df-b8cbb9b1-df14-4be3-aeac-587efbc1a546')\"\n",
              "              title=\"Convert this dataframe to an interactive table.\"\n",
              "              style=\"display:none;\">\n",
              "        \n",
              "  <svg xmlns=\"http://www.w3.org/2000/svg\" height=\"24px\"viewBox=\"0 0 24 24\"\n",
              "       width=\"24px\">\n",
              "    <path d=\"M0 0h24v24H0V0z\" fill=\"none\"/>\n",
              "    <path d=\"M18.56 5.44l.94 2.06.94-2.06 2.06-.94-2.06-.94-.94-2.06-.94 2.06-2.06.94zm-11 1L8.5 8.5l.94-2.06 2.06-.94-2.06-.94L8.5 2.5l-.94 2.06-2.06.94zm10 10l.94 2.06.94-2.06 2.06-.94-2.06-.94-.94-2.06-.94 2.06-2.06.94z\"/><path d=\"M17.41 7.96l-1.37-1.37c-.4-.4-.92-.59-1.43-.59-.52 0-1.04.2-1.43.59L10.3 9.45l-7.72 7.72c-.78.78-.78 2.05 0 2.83L4 21.41c.39.39.9.59 1.41.59.51 0 1.02-.2 1.41-.59l7.78-7.78 2.81-2.81c.8-.78.8-2.07 0-2.86zM5.41 20L4 18.59l7.72-7.72 1.47 1.35L5.41 20z\"/>\n",
              "  </svg>\n",
              "      </button>\n",
              "      \n",
              "  <style>\n",
              "    .colab-df-container {\n",
              "      display:flex;\n",
              "      flex-wrap:wrap;\n",
              "      gap: 12px;\n",
              "    }\n",
              "\n",
              "    .colab-df-convert {\n",
              "      background-color: #E8F0FE;\n",
              "      border: none;\n",
              "      border-radius: 50%;\n",
              "      cursor: pointer;\n",
              "      display: none;\n",
              "      fill: #1967D2;\n",
              "      height: 32px;\n",
              "      padding: 0 0 0 0;\n",
              "      width: 32px;\n",
              "    }\n",
              "\n",
              "    .colab-df-convert:hover {\n",
              "      background-color: #E2EBFA;\n",
              "      box-shadow: 0px 1px 2px rgba(60, 64, 67, 0.3), 0px 1px 3px 1px rgba(60, 64, 67, 0.15);\n",
              "      fill: #174EA6;\n",
              "    }\n",
              "\n",
              "    [theme=dark] .colab-df-convert {\n",
              "      background-color: #3B4455;\n",
              "      fill: #D2E3FC;\n",
              "    }\n",
              "\n",
              "    [theme=dark] .colab-df-convert:hover {\n",
              "      background-color: #434B5C;\n",
              "      box-shadow: 0px 1px 3px 1px rgba(0, 0, 0, 0.15);\n",
              "      filter: drop-shadow(0px 1px 2px rgba(0, 0, 0, 0.3));\n",
              "      fill: #FFFFFF;\n",
              "    }\n",
              "  </style>\n",
              "\n",
              "      <script>\n",
              "        const buttonEl =\n",
              "          document.querySelector('#df-b8cbb9b1-df14-4be3-aeac-587efbc1a546 button.colab-df-convert');\n",
              "        buttonEl.style.display =\n",
              "          google.colab.kernel.accessAllowed ? 'block' : 'none';\n",
              "\n",
              "        async function convertToInteractive(key) {\n",
              "          const element = document.querySelector('#df-b8cbb9b1-df14-4be3-aeac-587efbc1a546');\n",
              "          const dataTable =\n",
              "            await google.colab.kernel.invokeFunction('convertToInteractive',\n",
              "                                                     [key], {});\n",
              "          if (!dataTable) return;\n",
              "\n",
              "          const docLinkHtml = 'Like what you see? Visit the ' +\n",
              "            '<a target=\"_blank\" href=https://colab.research.google.com/notebooks/data_table.ipynb>data table notebook</a>'\n",
              "            + ' to learn more about interactive tables.';\n",
              "          element.innerHTML = '';\n",
              "          dataTable['output_type'] = 'display_data';\n",
              "          await google.colab.output.renderOutput(dataTable, element);\n",
              "          const docLink = document.createElement('div');\n",
              "          docLink.innerHTML = docLinkHtml;\n",
              "          element.appendChild(docLink);\n",
              "        }\n",
              "      </script>\n",
              "    </div>\n",
              "  </div>\n",
              "  "
            ]
          },
          "metadata": {},
          "execution_count": 109
        }
      ]
    },
    {
      "cell_type": "code",
      "source": [
        "file_name = f\"{base_path}/submit.csv\"\n",
        "file_name"
      ],
      "metadata": {
        "colab": {
          "base_uri": "https://localhost:8080/",
          "height": 35
        },
        "id": "WRIJaeWB7LYU",
        "outputId": "44ffbfd0-7b9f-4cbc-c101-aef035f41755"
      },
      "execution_count": null,
      "outputs": [
        {
          "output_type": "execute_result",
          "data": {
            "text/plain": [
              "'data/submit.csv'"
            ],
            "application/vnd.google.colaboratory.intrinsic+json": {
              "type": "string"
            }
          },
          "metadata": {},
          "execution_count": 110
        }
      ]
    },
    {
      "cell_type": "code",
      "source": [],
      "metadata": {
        "id": "bSLOQLDO7NGR"
      },
      "execution_count": null,
      "outputs": []
    }
  ],
  "metadata": {
    "colab": {
      "provenance": [],
      "authorship_tag": "ABX9TyM5O8+dOtFR8CwS3PsDHbFS",
      "include_colab_link": true
    },
    "kernelspec": {
      "display_name": "Python 3",
      "name": "python3"
    },
    "language_info": {
      "name": "python"
    }
  },
  "nbformat": 4,
  "nbformat_minor": 0
}