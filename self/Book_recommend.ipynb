{
 "cells": [
  {
   "cell_type": "code",
   "execution_count": null,
   "metadata": {
    "id": "U4pY0x4TU3-k"
   },
   "outputs": [],
   "source": [
    "# !pip install transformers --upgrade --q\n",
    "# !pip install accelerate --q\n",
    "# !pip install datasets --q"
   ]
  },
  {
   "cell_type": "code",
   "execution_count": 1,
   "metadata": {
    "colab": {
     "base_uri": "https://localhost:8080/"
    },
    "id": "tlq7DLP7U6Zr",
    "outputId": "4578abc0-267c-47fc-e9fa-031128375826"
   },
   "outputs": [
    {
     "data": {
      "text/plain": [
       "1682667602.612237"
      ]
     },
     "execution_count": 1,
     "metadata": {},
     "output_type": "execute_result"
    }
   ],
   "source": [
    "import time\n",
    "start_time = time.time()\n",
    "start_time"
   ]
  },
  {
   "cell_type": "code",
   "execution_count": 2,
   "metadata": {
    "id": "2-TSGC_iR8xp"
   },
   "outputs": [],
   "source": [
    "import pandas as pd\n",
    "import numpy as np\n",
    "import seaborn as sns\n",
    "import matplotlib.pyplot as plt\n"
   ]
  },
  {
   "cell_type": "code",
   "execution_count": 3,
   "metadata": {
    "colab": {
     "base_uri": "https://localhost:8080/"
    },
    "id": "Jv7hvX_BJdcP",
    "outputId": "e83fb1c6-cd8e-4f48-f6f2-275cefc4960c"
   },
   "outputs": [],
   "source": [
    "# !pip install scikit-surprise\n"
   ]
  },
  {
   "cell_type": "code",
   "execution_count": 4,
   "metadata": {
    "id": "7xdGDLp3JROl"
   },
   "outputs": [],
   "source": [
    "from surprise import SVD\n",
    "from surprise import Dataset\n",
    "from surprise import accuracy\n",
    "from surprise import Reader\n",
    "import pandas as pd\n",
    "from collections import defaultdict"
   ]
  },
  {
   "cell_type": "code",
   "execution_count": 5,
   "metadata": {
    "colab": {
     "base_uri": "https://localhost:8080/"
    },
    "id": "GaNmHxBxeXN9",
    "outputId": "472115bc-8fa8-4a12-edbd-56a04eb76ce1"
   },
   "outputs": [
    {
     "data": {
      "text/plain": [
       "((871393, 10), (159621, 9), (159621, 1))"
      ]
     },
     "execution_count": 5,
     "metadata": {},
     "output_type": "execute_result"
    }
   ],
   "source": [
    "base_path = \"data\"\n",
    "\n",
    "train = pd.read_csv(f'{base_path}/train.csv')\n",
    "test = pd.read_csv(f'{base_path}/test.csv')\n",
    "submission = pd.read_csv(f'{base_path}/sample_submission.csv', index_col='ID')\n",
    "\n",
    "train.shape, test.shape, submission.shape"
   ]
  },
  {
   "cell_type": "markdown",
   "metadata": {
    "id": "M3tZszjdgaIO"
   },
   "source": [
    "* ID : 샘플 고유 ID\n",
    "* User-ID : 유저 고유 ID\n",
    "* Book-ID : 도서 고유 ID\n",
    "* 유저 정보\n",
    "* Age : 나이\n",
    "* Location : 지역\n",
    "* 도서 정보\n",
    "* Book-Title : 도서 명\n",
    "* Book-Author : 도서 저자\n",
    "* Year-Of-Publication : 도서 출판 년도 (-1일 경우 결측 혹은 알 수 없음):\n",
    "* Publisher : 출판사\n",
    "* Book-Rating : 유저가 도서에 부여한 평점 (0점 ~ 10점)"
   ]
  },
  {
   "cell_type": "code",
   "execution_count": 6,
   "metadata": {
    "colab": {
     "base_uri": "https://localhost:8080/",
     "height": 354
    },
    "id": "_1qaxnO1eqsI",
    "outputId": "0dac4634-bfd3-4880-9ab3-a4eef011774b"
   },
   "outputs": [
    {
     "data": {
      "text/html": [
       "<div>\n",
       "<style scoped>\n",
       "    .dataframe tbody tr th:only-of-type {\n",
       "        vertical-align: middle;\n",
       "    }\n",
       "\n",
       "    .dataframe tbody tr th {\n",
       "        vertical-align: top;\n",
       "    }\n",
       "\n",
       "    .dataframe thead th {\n",
       "        text-align: right;\n",
       "    }\n",
       "</style>\n",
       "<table border=\"1\" class=\"dataframe\">\n",
       "  <thead>\n",
       "    <tr style=\"text-align: right;\">\n",
       "      <th></th>\n",
       "      <th>ID</th>\n",
       "      <th>User-ID</th>\n",
       "      <th>Book-ID</th>\n",
       "      <th>Book-Rating</th>\n",
       "      <th>Age</th>\n",
       "      <th>Location</th>\n",
       "      <th>Book-Title</th>\n",
       "      <th>Book-Author</th>\n",
       "      <th>Year-Of-Publication</th>\n",
       "      <th>Publisher</th>\n",
       "    </tr>\n",
       "  </thead>\n",
       "  <tbody>\n",
       "    <tr>\n",
       "      <th>0</th>\n",
       "      <td>TRAIN_000000</td>\n",
       "      <td>USER_00000</td>\n",
       "      <td>BOOK_044368</td>\n",
       "      <td>8</td>\n",
       "      <td>23.0</td>\n",
       "      <td>sackville, new brunswick, canada</td>\n",
       "      <td>Road Taken</td>\n",
       "      <td>Rona Jaffe</td>\n",
       "      <td>2001.0</td>\n",
       "      <td>Mira</td>\n",
       "    </tr>\n",
       "    <tr>\n",
       "      <th>1</th>\n",
       "      <td>TRAIN_000001</td>\n",
       "      <td>USER_00000</td>\n",
       "      <td>BOOK_081205</td>\n",
       "      <td>8</td>\n",
       "      <td>23.0</td>\n",
       "      <td>sackville, new brunswick, canada</td>\n",
       "      <td>Macbeth (New Penguin Shakespeare)</td>\n",
       "      <td>William Shakespeare</td>\n",
       "      <td>1981.0</td>\n",
       "      <td>Penguin Books</td>\n",
       "    </tr>\n",
       "    <tr>\n",
       "      <th>2</th>\n",
       "      <td>TRAIN_000002</td>\n",
       "      <td>USER_00000</td>\n",
       "      <td>BOOK_086781</td>\n",
       "      <td>0</td>\n",
       "      <td>23.0</td>\n",
       "      <td>sackville, new brunswick, canada</td>\n",
       "      <td>Waverley (Penguin English Library)</td>\n",
       "      <td>Walter Scott</td>\n",
       "      <td>1981.0</td>\n",
       "      <td>Penguin Books</td>\n",
       "    </tr>\n",
       "    <tr>\n",
       "      <th>3</th>\n",
       "      <td>TRAIN_000003</td>\n",
       "      <td>USER_00000</td>\n",
       "      <td>BOOK_098622</td>\n",
       "      <td>0</td>\n",
       "      <td>23.0</td>\n",
       "      <td>sackville, new brunswick, canada</td>\n",
       "      <td>Mother Earth Father Sky</td>\n",
       "      <td>Sue Harrison</td>\n",
       "      <td>1991.0</td>\n",
       "      <td>Avon</td>\n",
       "    </tr>\n",
       "    <tr>\n",
       "      <th>4</th>\n",
       "      <td>TRAIN_000004</td>\n",
       "      <td>USER_00000</td>\n",
       "      <td>BOOK_180810</td>\n",
       "      <td>8</td>\n",
       "      <td>23.0</td>\n",
       "      <td>sackville, new brunswick, canada</td>\n",
       "      <td>She Who Remembers</td>\n",
       "      <td>Linda Lay Shuler</td>\n",
       "      <td>1989.0</td>\n",
       "      <td>Signet Book</td>\n",
       "    </tr>\n",
       "  </tbody>\n",
       "</table>\n",
       "</div>"
      ],
      "text/plain": [
       "             ID     User-ID      Book-ID  Book-Rating   Age  \\\n",
       "0  TRAIN_000000  USER_00000  BOOK_044368            8  23.0   \n",
       "1  TRAIN_000001  USER_00000  BOOK_081205            8  23.0   \n",
       "2  TRAIN_000002  USER_00000  BOOK_086781            0  23.0   \n",
       "3  TRAIN_000003  USER_00000  BOOK_098622            0  23.0   \n",
       "4  TRAIN_000004  USER_00000  BOOK_180810            8  23.0   \n",
       "\n",
       "                           Location                          Book-Title  \\\n",
       "0  sackville, new brunswick, canada                          Road Taken   \n",
       "1  sackville, new brunswick, canada   Macbeth (New Penguin Shakespeare)   \n",
       "2  sackville, new brunswick, canada  Waverley (Penguin English Library)   \n",
       "3  sackville, new brunswick, canada             Mother Earth Father Sky   \n",
       "4  sackville, new brunswick, canada                   She Who Remembers   \n",
       "\n",
       "           Book-Author  Year-Of-Publication      Publisher  \n",
       "0           Rona Jaffe               2001.0           Mira  \n",
       "1  William Shakespeare               1981.0  Penguin Books  \n",
       "2         Walter Scott               1981.0  Penguin Books  \n",
       "3         Sue Harrison               1991.0           Avon  \n",
       "4     Linda Lay Shuler               1989.0    Signet Book  "
      ]
     },
     "execution_count": 6,
     "metadata": {},
     "output_type": "execute_result"
    }
   ],
   "source": [
    "train.head()"
   ]
  },
  {
   "cell_type": "code",
   "execution_count": 7,
   "metadata": {
    "colab": {
     "base_uri": "https://localhost:8080/",
     "height": 250
    },
    "id": "6SN9iD6Hez1G",
    "outputId": "93697cf0-363b-4714-9379-7288e0298592"
   },
   "outputs": [
    {
     "data": {
      "text/html": [
       "<div>\n",
       "<style scoped>\n",
       "    .dataframe tbody tr th:only-of-type {\n",
       "        vertical-align: middle;\n",
       "    }\n",
       "\n",
       "    .dataframe tbody tr th {\n",
       "        vertical-align: top;\n",
       "    }\n",
       "\n",
       "    .dataframe thead th {\n",
       "        text-align: right;\n",
       "    }\n",
       "</style>\n",
       "<table border=\"1\" class=\"dataframe\">\n",
       "  <thead>\n",
       "    <tr style=\"text-align: right;\">\n",
       "      <th></th>\n",
       "      <th>ID</th>\n",
       "      <th>User-ID</th>\n",
       "      <th>Book-ID</th>\n",
       "      <th>Age</th>\n",
       "      <th>Location</th>\n",
       "      <th>Book-Title</th>\n",
       "      <th>Book-Author</th>\n",
       "      <th>Year-Of-Publication</th>\n",
       "      <th>Publisher</th>\n",
       "    </tr>\n",
       "  </thead>\n",
       "  <tbody>\n",
       "    <tr>\n",
       "      <th>0</th>\n",
       "      <td>TEST_000000</td>\n",
       "      <td>USER_00008</td>\n",
       "      <td>BOOK_047966</td>\n",
       "      <td>37.0</td>\n",
       "      <td>vermilion, ohio, usa</td>\n",
       "      <td>Birds of Prey: A Novel of Suspense</td>\n",
       "      <td>J.A. Jance</td>\n",
       "      <td>2002.0</td>\n",
       "      <td>Avon</td>\n",
       "    </tr>\n",
       "    <tr>\n",
       "      <th>1</th>\n",
       "      <td>TEST_000001</td>\n",
       "      <td>USER_00008</td>\n",
       "      <td>BOOK_119494</td>\n",
       "      <td>37.0</td>\n",
       "      <td>vermilion, ohio, usa</td>\n",
       "      <td>Midnight Voices</td>\n",
       "      <td>JOHN SAUL</td>\n",
       "      <td>2003.0</td>\n",
       "      <td>Ballantine Books</td>\n",
       "    </tr>\n",
       "    <tr>\n",
       "      <th>2</th>\n",
       "      <td>TEST_000002</td>\n",
       "      <td>USER_00008</td>\n",
       "      <td>BOOK_151775</td>\n",
       "      <td>37.0</td>\n",
       "      <td>vermilion, ohio, usa</td>\n",
       "      <td>Breaking Free : A Prescription for Personal an...</td>\n",
       "      <td>David M.  Noer</td>\n",
       "      <td>1996.0</td>\n",
       "      <td>Jossey-Bass</td>\n",
       "    </tr>\n",
       "    <tr>\n",
       "      <th>3</th>\n",
       "      <td>TEST_000003</td>\n",
       "      <td>USER_00008</td>\n",
       "      <td>BOOK_176255</td>\n",
       "      <td>37.0</td>\n",
       "      <td>vermilion, ohio, usa</td>\n",
       "      <td>Bitter Harvest</td>\n",
       "      <td>Ann Rule</td>\n",
       "      <td>1999.0</td>\n",
       "      <td>Pocket</td>\n",
       "    </tr>\n",
       "    <tr>\n",
       "      <th>4</th>\n",
       "      <td>TEST_000004</td>\n",
       "      <td>USER_00008</td>\n",
       "      <td>BOOK_187307</td>\n",
       "      <td>37.0</td>\n",
       "      <td>vermilion, ohio, usa</td>\n",
       "      <td>Embraced by the Light</td>\n",
       "      <td>Betty J. Eadie</td>\n",
       "      <td>1994.0</td>\n",
       "      <td>Bantam Books</td>\n",
       "    </tr>\n",
       "  </tbody>\n",
       "</table>\n",
       "</div>"
      ],
      "text/plain": [
       "            ID     User-ID      Book-ID   Age              Location  \\\n",
       "0  TEST_000000  USER_00008  BOOK_047966  37.0  vermilion, ohio, usa   \n",
       "1  TEST_000001  USER_00008  BOOK_119494  37.0  vermilion, ohio, usa   \n",
       "2  TEST_000002  USER_00008  BOOK_151775  37.0  vermilion, ohio, usa   \n",
       "3  TEST_000003  USER_00008  BOOK_176255  37.0  vermilion, ohio, usa   \n",
       "4  TEST_000004  USER_00008  BOOK_187307  37.0  vermilion, ohio, usa   \n",
       "\n",
       "                                          Book-Title     Book-Author  \\\n",
       "0                 Birds of Prey: A Novel of Suspense      J.A. Jance   \n",
       "1                                    Midnight Voices       JOHN SAUL   \n",
       "2  Breaking Free : A Prescription for Personal an...  David M.  Noer   \n",
       "3                                     Bitter Harvest        Ann Rule   \n",
       "4                              Embraced by the Light  Betty J. Eadie   \n",
       "\n",
       "   Year-Of-Publication         Publisher  \n",
       "0               2002.0              Avon  \n",
       "1               2003.0  Ballantine Books  \n",
       "2               1996.0       Jossey-Bass  \n",
       "3               1999.0            Pocket  \n",
       "4               1994.0      Bantam Books  "
      ]
     },
     "execution_count": 7,
     "metadata": {},
     "output_type": "execute_result"
    }
   ],
   "source": [
    "test.head()"
   ]
  },
  {
   "cell_type": "code",
   "execution_count": 8,
   "metadata": {
    "colab": {
     "base_uri": "https://localhost:8080/"
    },
    "id": "wutN3wnlK4EQ",
    "outputId": "2ea707b2-5a58-43b9-a2c0-fc357051faa3"
   },
   "outputs": [
    {
     "data": {
      "text/plain": [
       "ID                     0\n",
       "User-ID                0\n",
       "Book-ID                0\n",
       "Book-Rating            0\n",
       "Age                    0\n",
       "Location               0\n",
       "Book-Title             0\n",
       "Book-Author            0\n",
       "Year-Of-Publication    0\n",
       "Publisher              0\n",
       "dtype: int64"
      ]
     },
     "execution_count": 8,
     "metadata": {},
     "output_type": "execute_result"
    }
   ],
   "source": [
    "train.isnull().sum()"
   ]
  },
  {
   "cell_type": "code",
   "execution_count": 9,
   "metadata": {
    "colab": {
     "base_uri": "https://localhost:8080/"
    },
    "id": "GrCEMppOrJXj",
    "outputId": "28cbd3a2-70e8-42fc-80f5-7e2b2b1e3a47"
   },
   "outputs": [
    {
     "name": "stdout",
     "output_type": "stream",
     "text": [
      "<class 'pandas.core.frame.DataFrame'>\n",
      "RangeIndex: 871393 entries, 0 to 871392\n",
      "Data columns (total 10 columns):\n",
      " #   Column               Non-Null Count   Dtype  \n",
      "---  ------               --------------   -----  \n",
      " 0   ID                   871393 non-null  object \n",
      " 1   User-ID              871393 non-null  object \n",
      " 2   Book-ID              871393 non-null  object \n",
      " 3   Book-Rating          871393 non-null  int64  \n",
      " 4   Age                  871393 non-null  float64\n",
      " 5   Location             871393 non-null  object \n",
      " 6   Book-Title           871393 non-null  object \n",
      " 7   Book-Author          871393 non-null  object \n",
      " 8   Year-Of-Publication  871393 non-null  float64\n",
      " 9   Publisher            871393 non-null  object \n",
      "dtypes: float64(2), int64(1), object(7)\n",
      "memory usage: 66.5+ MB\n"
     ]
    }
   ],
   "source": [
    "train.info()"
   ]
  },
  {
   "cell_type": "code",
   "execution_count": 10,
   "metadata": {
    "colab": {
     "base_uri": "https://localhost:8080/"
    },
    "id": "4f3gciHPVf81",
    "outputId": "a63aec37-051e-4957-b507-43dc7010458c"
   },
   "outputs": [
    {
     "data": {
      "text/plain": [
       "0"
      ]
     },
     "execution_count": 10,
     "metadata": {},
     "output_type": "execute_result"
    }
   ],
   "source": [
    "train.isnull().sum().sum()"
   ]
  },
  {
   "cell_type": "code",
   "execution_count": 11,
   "metadata": {
    "colab": {
     "base_uri": "https://localhost:8080/"
    },
    "id": "mFVih6MPVvA7",
    "outputId": "a885471f-383b-4f6a-f1bf-18d1918a832f"
   },
   "outputs": [
    {
     "data": {
      "text/plain": [
       "0"
      ]
     },
     "execution_count": 11,
     "metadata": {},
     "output_type": "execute_result"
    }
   ],
   "source": [
    "test.isnull().sum().sum()"
   ]
  },
  {
   "cell_type": "code",
   "execution_count": 12,
   "metadata": {
    "id": "8cZ-XqFCWLGw"
   },
   "outputs": [],
   "source": [
    "train.dropna(inplace=True)"
   ]
  },
  {
   "cell_type": "code",
   "execution_count": 13,
   "metadata": {
    "colab": {
     "base_uri": "https://localhost:8080/"
    },
    "id": "kVBhMJOEWmZo",
    "outputId": "6c9aa0d5-c21e-42ce-9666-15c7fa5dcee9"
   },
   "outputs": [
    {
     "data": {
      "text/plain": [
       "ID                     0\n",
       "User-ID                0\n",
       "Book-ID                0\n",
       "Book-Rating            0\n",
       "Age                    0\n",
       "Location               0\n",
       "Book-Title             0\n",
       "Book-Author            0\n",
       "Year-Of-Publication    0\n",
       "Publisher              0\n",
       "dtype: int64"
      ]
     },
     "execution_count": 13,
     "metadata": {},
     "output_type": "execute_result"
    }
   ],
   "source": [
    "train.isnull().sum()"
   ]
  },
  {
   "cell_type": "code",
   "execution_count": 14,
   "metadata": {
    "id": "Ta0Fqa59KNii"
   },
   "outputs": [],
   "source": [
    "train['Age'] = train['Age'].astype(int)\n",
    "train['Year-Of-Publication'] = train['Year-Of-Publication'].astype(int)"
   ]
  },
  {
   "cell_type": "code",
   "execution_count": 15,
   "metadata": {
    "colab": {
     "base_uri": "https://localhost:8080/",
     "height": 540
    },
    "id": "IiT48zfPH2kh",
    "outputId": "6d06b786-e1c7-4d45-9d6e-01cbf22f28c2"
   },
   "outputs": [
    {
     "data": {
      "text/plain": [
       "<AxesSubplot:>"
      ]
     },
     "execution_count": 15,
     "metadata": {},
     "output_type": "execute_result"
    },
    {
     "data": {
      "image/png": "[encoded data removed]",
      "text/plain": [
       "<Figure size 1200x600 with 1 Axes>"
      ]
     },
     "metadata": {},
     "output_type": "display_data"
    }
   ],
   "source": [
    "fig,ax = plt.subplots(figsize=(12,6))\n",
    "sns.boxplot(data=train)"
   ]
  },
  {
   "cell_type": "code",
   "execution_count": 16,
   "metadata": {
    "colab": {
     "base_uri": "https://localhost:8080/"
    },
    "id": "NBiMImgxKJcY",
    "outputId": "c679c392-3c89-46b7-b0df-e77a49705cac"
   },
   "outputs": [
    {
     "name": "stdout",
     "output_type": "stream",
     "text": [
      "<class 'pandas.core.frame.DataFrame'>\n",
      "Int64Index: 871393 entries, 0 to 871392\n",
      "Data columns (total 10 columns):\n",
      " #   Column               Non-Null Count   Dtype \n",
      "---  ------               --------------   ----- \n",
      " 0   ID                   871393 non-null  object\n",
      " 1   User-ID              871393 non-null  object\n",
      " 2   Book-ID              871393 non-null  object\n",
      " 3   Book-Rating          871393 non-null  int64 \n",
      " 4   Age                  871393 non-null  int64 \n",
      " 5   Location             871393 non-null  object\n",
      " 6   Book-Title           871393 non-null  object\n",
      " 7   Book-Author          871393 non-null  object\n",
      " 8   Year-Of-Publication  871393 non-null  int64 \n",
      " 9   Publisher            871393 non-null  object\n",
      "dtypes: int64(3), object(7)\n",
      "memory usage: 73.1+ MB\n"
     ]
    }
   ],
   "source": [
    "train.info()"
   ]
  },
  {
   "cell_type": "markdown",
   "metadata": {
    "id": "MhJzJJzx_TXI"
   },
   "source": [
    "# EDA"
   ]
  },
  {
   "cell_type": "markdown",
   "metadata": {
    "id": "UR8qkD-0_Vsw"
   },
   "source": [
    "나이별 분포"
   ]
  },
  {
   "cell_type": "code",
   "execution_count": 17,
   "metadata": {
    "colab": {
     "base_uri": "https://localhost:8080/"
    },
    "id": "U86X5Xi2aFJx",
    "outputId": "c46201d7-3d33-42cc-fb5d-a4dbacf31f04"
   },
   "outputs": [
    {
     "name": "stdout",
     "output_type": "stream",
     "text": [
      "Maximum Age: 244\n",
      "Minimum Age: 0\n"
     ]
    }
   ],
   "source": [
    "max_age = train['Age'].max() # Age 열의 최대값 찾기\n",
    "min_age = train['Age'].min() # Age 열의 최소값 찾기\n",
    "\n",
    "print('Maximum Age:', max_age)\n",
    "print('Minimum Age:', min_age)"
   ]
  },
  {
   "cell_type": "code",
   "execution_count": 18,
   "metadata": {
    "colab": {
     "base_uri": "https://localhost:8080/",
     "height": 573
    },
    "id": "QXNifLwOakbo",
    "outputId": "10ea49e7-8b71-4107-86af-8f018d414651"
   },
   "outputs": [
    {
     "data": {
      "text/html": [
       "<div>\n",
       "<style scoped>\n",
       "    .dataframe tbody tr th:only-of-type {\n",
       "        vertical-align: middle;\n",
       "    }\n",
       "\n",
       "    .dataframe tbody tr th {\n",
       "        vertical-align: top;\n",
       "    }\n",
       "\n",
       "    .dataframe thead th {\n",
       "        text-align: right;\n",
       "    }\n",
       "</style>\n",
       "<table border=\"1\" class=\"dataframe\">\n",
       "  <thead>\n",
       "    <tr style=\"text-align: right;\">\n",
       "      <th></th>\n",
       "      <th>ID</th>\n",
       "      <th>User-ID</th>\n",
       "      <th>Book-ID</th>\n",
       "      <th>Book-Rating</th>\n",
       "      <th>Age</th>\n",
       "      <th>Location</th>\n",
       "      <th>Book-Title</th>\n",
       "      <th>Book-Author</th>\n",
       "      <th>Year-Of-Publication</th>\n",
       "      <th>Publisher</th>\n",
       "    </tr>\n",
       "  </thead>\n",
       "  <tbody>\n",
       "    <tr>\n",
       "      <th>604950</th>\n",
       "      <td>TRAIN_604950</td>\n",
       "      <td>USER_63071</td>\n",
       "      <td>BOOK_055682</td>\n",
       "      <td>8</td>\n",
       "      <td>244</td>\n",
       "      <td>stuttgart, baden-wuerttemberg, germany</td>\n",
       "      <td>Die Entdeckung der Currywurst.</td>\n",
       "      <td>Uwe Timm</td>\n",
       "      <td>2000</td>\n",
       "      <td>Dtv</td>\n",
       "    </tr>\n",
       "    <tr>\n",
       "      <th>604951</th>\n",
       "      <td>TRAIN_604951</td>\n",
       "      <td>USER_63071</td>\n",
       "      <td>BOOK_096177</td>\n",
       "      <td>0</td>\n",
       "      <td>244</td>\n",
       "      <td>stuttgart, baden-wuerttemberg, germany</td>\n",
       "      <td>Das Blutgericht.</td>\n",
       "      <td>Kari KÃ?Â¶ster-LÃ?Â¶sche</td>\n",
       "      <td>2003</td>\n",
       "      <td>ECON-Taschenbuchverlag</td>\n",
       "    </tr>\n",
       "    <tr>\n",
       "      <th>604952</th>\n",
       "      <td>TRAIN_604952</td>\n",
       "      <td>USER_63071</td>\n",
       "      <td>BOOK_148270</td>\n",
       "      <td>0</td>\n",
       "      <td>244</td>\n",
       "      <td>stuttgart, baden-wuerttemberg, germany</td>\n",
       "      <td>Dies Ist Nicht Mein Land</td>\n",
       "      <td>Fleischmann</td>\n",
       "      <td>-1</td>\n",
       "      <td>Wilhelm Heyne Verlag GmbH &amp;amp; Co KG</td>\n",
       "    </tr>\n",
       "    <tr>\n",
       "      <th>604953</th>\n",
       "      <td>TRAIN_604953</td>\n",
       "      <td>USER_63071</td>\n",
       "      <td>BOOK_152432</td>\n",
       "      <td>0</td>\n",
       "      <td>244</td>\n",
       "      <td>stuttgart, baden-wuerttemberg, germany</td>\n",
       "      <td>Wer Dornen sÃ?Â¤t.</td>\n",
       "      <td>Rebecca Ryman</td>\n",
       "      <td>2000</td>\n",
       "      <td>Fischer (Tb.), Frankfurt</td>\n",
       "    </tr>\n",
       "    <tr>\n",
       "      <th>604954</th>\n",
       "      <td>TRAIN_604954</td>\n",
       "      <td>USER_63071</td>\n",
       "      <td>BOOK_245261</td>\n",
       "      <td>8</td>\n",
       "      <td>244</td>\n",
       "      <td>stuttgart, baden-wuerttemberg, germany</td>\n",
       "      <td>Who Put the Pizza in the Vcr: Laughing Your Wa...</td>\n",
       "      <td>Martha Bolton</td>\n",
       "      <td>1996</td>\n",
       "      <td>Gospel Light Pubns</td>\n",
       "    </tr>\n",
       "    <tr>\n",
       "      <th>604955</th>\n",
       "      <td>TRAIN_604955</td>\n",
       "      <td>USER_63071</td>\n",
       "      <td>BOOK_254526</td>\n",
       "      <td>0</td>\n",
       "      <td>244</td>\n",
       "      <td>stuttgart, baden-wuerttemberg, germany</td>\n",
       "      <td>Die Tote im falschen Grab.</td>\n",
       "      <td>Ruth Rendell</td>\n",
       "      <td>2000</td>\n",
       "      <td>Goldmann</td>\n",
       "    </tr>\n",
       "    <tr>\n",
       "      <th>604956</th>\n",
       "      <td>TRAIN_604956</td>\n",
       "      <td>USER_63071</td>\n",
       "      <td>BOOK_266466</td>\n",
       "      <td>6</td>\n",
       "      <td>244</td>\n",
       "      <td>stuttgart, baden-wuerttemberg, germany</td>\n",
       "      <td>Topkapi.</td>\n",
       "      <td>Eric Ambler</td>\n",
       "      <td>1978</td>\n",
       "      <td>Diogenes Verlag</td>\n",
       "    </tr>\n",
       "  </tbody>\n",
       "</table>\n",
       "</div>"
      ],
      "text/plain": [
       "                  ID     User-ID      Book-ID  Book-Rating  Age  \\\n",
       "604950  TRAIN_604950  USER_63071  BOOK_055682            8  244   \n",
       "604951  TRAIN_604951  USER_63071  BOOK_096177            0  244   \n",
       "604952  TRAIN_604952  USER_63071  BOOK_148270            0  244   \n",
       "604953  TRAIN_604953  USER_63071  BOOK_152432            0  244   \n",
       "604954  TRAIN_604954  USER_63071  BOOK_245261            8  244   \n",
       "604955  TRAIN_604955  USER_63071  BOOK_254526            0  244   \n",
       "604956  TRAIN_604956  USER_63071  BOOK_266466            6  244   \n",
       "\n",
       "                                      Location  \\\n",
       "604950  stuttgart, baden-wuerttemberg, germany   \n",
       "604951  stuttgart, baden-wuerttemberg, germany   \n",
       "604952  stuttgart, baden-wuerttemberg, germany   \n",
       "604953  stuttgart, baden-wuerttemberg, germany   \n",
       "604954  stuttgart, baden-wuerttemberg, germany   \n",
       "604955  stuttgart, baden-wuerttemberg, germany   \n",
       "604956  stuttgart, baden-wuerttemberg, germany   \n",
       "\n",
       "                                               Book-Title  \\\n",
       "604950                     Die Entdeckung der Currywurst.   \n",
       "604951                                   Das Blutgericht.   \n",
       "604952                           Dies Ist Nicht Mein Land   \n",
       "604953                                 Wer Dornen sÃ?Â¤t.   \n",
       "604954  Who Put the Pizza in the Vcr: Laughing Your Wa...   \n",
       "604955                         Die Tote im falschen Grab.   \n",
       "604956                                           Topkapi.   \n",
       "\n",
       "                     Book-Author  Year-Of-Publication  \\\n",
       "604950                  Uwe Timm                 2000   \n",
       "604951  Kari KÃ?Â¶ster-LÃ?Â¶sche                 2003   \n",
       "604952               Fleischmann                   -1   \n",
       "604953             Rebecca Ryman                 2000   \n",
       "604954             Martha Bolton                 1996   \n",
       "604955              Ruth Rendell                 2000   \n",
       "604956               Eric Ambler                 1978   \n",
       "\n",
       "                                    Publisher  \n",
       "604950                                    Dtv  \n",
       "604951                 ECON-Taschenbuchverlag  \n",
       "604952  Wilhelm Heyne Verlag GmbH &amp; Co KG  \n",
       "604953               Fischer (Tb.), Frankfurt  \n",
       "604954                     Gospel Light Pubns  \n",
       "604955                               Goldmann  \n",
       "604956                        Diogenes Verlag  "
      ]
     },
     "execution_count": 18,
     "metadata": {},
     "output_type": "execute_result"
    }
   ],
   "source": [
    "iid = 244\n",
    "train[train[\"Age\"] == iid]"
   ]
  },
  {
   "cell_type": "code",
   "execution_count": 19,
   "metadata": {
    "colab": {
     "base_uri": "https://localhost:8080/"
    },
    "id": "5jieU7TtbWSM",
    "outputId": "a6682f4d-b6e2-46e8-980f-66d8dff26d42"
   },
   "outputs": [
    {
     "name": "stdout",
     "output_type": "stream",
     "text": [
      "                  ID     User-ID      Book-ID  Book-Rating   Age  \\\n",
      "0       TRAIN_000000  USER_00000  BOOK_044368            8  23.0   \n",
      "1       TRAIN_000001  USER_00000  BOOK_081205            8  23.0   \n",
      "2       TRAIN_000002  USER_00000  BOOK_086781            0  23.0   \n",
      "3       TRAIN_000003  USER_00000  BOOK_098622            0  23.0   \n",
      "4       TRAIN_000004  USER_00000  BOOK_180810            8  23.0   \n",
      "...              ...         ...          ...          ...   ...   \n",
      "871388  TRAIN_871388  USER_92096  BOOK_081138            0  34.0   \n",
      "871389  TRAIN_871389  USER_92097  BOOK_258124            0  35.0   \n",
      "871390  TRAIN_871390  USER_92098  BOOK_071848            0  45.0   \n",
      "871391  TRAIN_871391  USER_92099  BOOK_252599            8  43.0   \n",
      "871392  TRAIN_871392  USER_92100  BOOK_130798            0  35.0   \n",
      "\n",
      "                                     Location  \\\n",
      "0            sackville, new brunswick, canada   \n",
      "1            sackville, new brunswick, canada   \n",
      "2            sackville, new brunswick, canada   \n",
      "3            sackville, new brunswick, canada   \n",
      "4            sackville, new brunswick, canada   \n",
      "...                                       ...   \n",
      "871388            minneapolis, minnesota, usa   \n",
      "871389                     temple, texas, usa   \n",
      "871390                ottawa, ontario, canada   \n",
      "871391            maple grove, minnesota, usa   \n",
      "871392  castiglion fiorentino, toscana, italy   \n",
      "\n",
      "                                               Book-Title  \\\n",
      "0                                              Road Taken   \n",
      "1                       Macbeth (New Penguin Shakespeare)   \n",
      "2                      Waverley (Penguin English Library)   \n",
      "3                                 Mother Earth Father Sky   \n",
      "4                                       She Who Remembers   \n",
      "...                                                   ...   \n",
      "871388  Healing Words: The Power of Prayer and the Pra...   \n",
      "871389  The Salmon of Doubt: Hitchhiking the Galaxy On...   \n",
      "871390  Harry Potter and the Prisoner of Azkaban (Book 3)   \n",
      "871391            Heartbreak Hill: Anatomy of a Ryder Cup   \n",
      "871392  The Coffin Quilt: The Feud between the Hatfiel...   \n",
      "\n",
      "                Book-Author  Year-Of-Publication                  Publisher  \n",
      "0                Rona Jaffe                 2001                       Mira  \n",
      "1       William Shakespeare                 1981              Penguin Books  \n",
      "2              Walter Scott                 1981              Penguin Books  \n",
      "3              Sue Harrison                 1991                       Avon  \n",
      "4          Linda Lay Shuler                 1989                Signet Book  \n",
      "...                     ...                  ...                        ...  \n",
      "871388         Larry Dossey                 1993              Harpercollins  \n",
      "871389        DOUGLAS ADAMS                 2002                    Harmony  \n",
      "871390        J. K. Rowling                 2000            Thorndike Press  \n",
      "871391        Tim Rosaforte                 1996              St Martins Pr  \n",
      "871392          Ann Rinaldi                 1999  Harcourt Children's Books  \n",
      "\n",
      "[871393 rows x 10 columns]\n"
     ]
    }
   ],
   "source": [
    "train['Age'] = np.where((train['Age'] < 0) | (train['Age'] > 100), np.nan, train['Age'])\n",
    "\n",
    "# 결측치를 평균값으로 대체하기\n",
    "mean_Age = train['Age'].mean()\n",
    "train['Age'] = train['Age'].fillna(mean_Age)\n",
    "\n",
    "print(train)"
   ]
  },
  {
   "cell_type": "code",
   "execution_count": 20,
   "metadata": {
    "colab": {
     "base_uri": "https://localhost:8080/",
     "height": 472
    },
    "id": "4oHPDlQ4-8za",
    "outputId": "7812aa13-df4b-4502-bc49-9dfa4129c183"
   },
   "outputs": [
    {
     "data": {
      "image/png": "[encoded data removed]",
      "text/plain": [
       "<Figure size 640x480 with 1 Axes>"
      ]
     },
     "metadata": {},
     "output_type": "display_data"
    }
   ],
   "source": [
    "train['Age'].plot.hist(bins=30) # 히스토그램 그리기\n",
    "plt.title('Age Distribution') # 그래프 제목 설정\n",
    "plt.xlabel('Age') # x축 레이블 설정\n",
    "plt.ylabel('Count') # y축 레이블 설정\n",
    "plt.show() # 그래프 보이기"
   ]
  },
  {
   "cell_type": "markdown",
   "metadata": {
    "id": "vG1SFTxP_XYN"
   },
   "source": [
    "출판연도별 분포"
   ]
  },
  {
   "cell_type": "code",
   "execution_count": 21,
   "metadata": {
    "colab": {
     "base_uri": "https://localhost:8080/",
     "height": 658
    },
    "id": "9U7DOPbJcIja",
    "outputId": "204d2796-befc-4607-e563-746f2308f574"
   },
   "outputs": [
    {
     "data": {
      "text/html": [
       "<div>\n",
       "<style scoped>\n",
       "    .dataframe tbody tr th:only-of-type {\n",
       "        vertical-align: middle;\n",
       "    }\n",
       "\n",
       "    .dataframe tbody tr th {\n",
       "        vertical-align: top;\n",
       "    }\n",
       "\n",
       "    .dataframe thead th {\n",
       "        text-align: right;\n",
       "    }\n",
       "</style>\n",
       "<table border=\"1\" class=\"dataframe\">\n",
       "  <thead>\n",
       "    <tr style=\"text-align: right;\">\n",
       "      <th></th>\n",
       "      <th>ID</th>\n",
       "      <th>User-ID</th>\n",
       "      <th>Book-ID</th>\n",
       "      <th>Book-Rating</th>\n",
       "      <th>Age</th>\n",
       "      <th>Location</th>\n",
       "      <th>Book-Title</th>\n",
       "      <th>Book-Author</th>\n",
       "      <th>Year-Of-Publication</th>\n",
       "      <th>Publisher</th>\n",
       "    </tr>\n",
       "  </thead>\n",
       "  <tbody>\n",
       "    <tr>\n",
       "      <th>184</th>\n",
       "      <td>TRAIN_000184</td>\n",
       "      <td>USER_00049</td>\n",
       "      <td>BOOK_121460</td>\n",
       "      <td>0</td>\n",
       "      <td>37.0</td>\n",
       "      <td>gaylord, michigan, usa</td>\n",
       "      <td>Bxc Blue Bay Mystery</td>\n",
       "      <td>Gertrude Cha Warner</td>\n",
       "      <td>-1</td>\n",
       "      <td>Scholastic Inc</td>\n",
       "    </tr>\n",
       "    <tr>\n",
       "      <th>186</th>\n",
       "      <td>TRAIN_000186</td>\n",
       "      <td>USER_00049</td>\n",
       "      <td>BOOK_175661</td>\n",
       "      <td>10</td>\n",
       "      <td>37.0</td>\n",
       "      <td>gaylord, michigan, usa</td>\n",
       "      <td>Lighthouse Mystery</td>\n",
       "      <td>Gertrude C Warner</td>\n",
       "      <td>-1</td>\n",
       "      <td>Scholastic Inc</td>\n",
       "    </tr>\n",
       "    <tr>\n",
       "      <th>191</th>\n",
       "      <td>TRAIN_000191</td>\n",
       "      <td>USER_00049</td>\n",
       "      <td>BOOK_230275</td>\n",
       "      <td>0</td>\n",
       "      <td>37.0</td>\n",
       "      <td>gaylord, michigan, usa</td>\n",
       "      <td>Mike's Mystery</td>\n",
       "      <td>Gertrude Cha Warner</td>\n",
       "      <td>-1</td>\n",
       "      <td>Scholastic Inc</td>\n",
       "    </tr>\n",
       "    <tr>\n",
       "      <th>231</th>\n",
       "      <td>TRAIN_000231</td>\n",
       "      <td>USER_00054</td>\n",
       "      <td>BOOK_122689</td>\n",
       "      <td>0</td>\n",
       "      <td>39.0</td>\n",
       "      <td>spring, texas, usa</td>\n",
       "      <td>Charming Billy</td>\n",
       "      <td>Alice Mcdermott</td>\n",
       "      <td>-1</td>\n",
       "      <td>Farrar, Straus Giroux</td>\n",
       "    </tr>\n",
       "    <tr>\n",
       "      <th>290</th>\n",
       "      <td>TRAIN_000290</td>\n",
       "      <td>USER_00060</td>\n",
       "      <td>BOOK_165427</td>\n",
       "      <td>0</td>\n",
       "      <td>27.0</td>\n",
       "      <td>los angeles, california, usa</td>\n",
       "      <td>Moon Palace</td>\n",
       "      <td>Paul Auster</td>\n",
       "      <td>-1</td>\n",
       "      <td>Faber Faber Inc</td>\n",
       "    </tr>\n",
       "    <tr>\n",
       "      <th>...</th>\n",
       "      <td>...</td>\n",
       "      <td>...</td>\n",
       "      <td>...</td>\n",
       "      <td>...</td>\n",
       "      <td>...</td>\n",
       "      <td>...</td>\n",
       "      <td>...</td>\n",
       "      <td>...</td>\n",
       "      <td>...</td>\n",
       "      <td>...</td>\n",
       "    </tr>\n",
       "    <tr>\n",
       "      <th>870700</th>\n",
       "      <td>TRAIN_870700</td>\n",
       "      <td>USER_92056</td>\n",
       "      <td>BOOK_093874</td>\n",
       "      <td>5</td>\n",
       "      <td>35.0</td>\n",
       "      <td>leucadia, california, usa</td>\n",
       "      <td>High Ground</td>\n",
       "      <td>John Mcgahern</td>\n",
       "      <td>-1</td>\n",
       "      <td>Faber Faber Inc</td>\n",
       "    </tr>\n",
       "    <tr>\n",
       "      <th>870751</th>\n",
       "      <td>TRAIN_870751</td>\n",
       "      <td>USER_92058</td>\n",
       "      <td>BOOK_117063</td>\n",
       "      <td>0</td>\n",
       "      <td>24.0</td>\n",
       "      <td>halifax, nova scotia, canada</td>\n",
       "      <td>Hotel Du Lac</td>\n",
       "      <td>Anita Brookner</td>\n",
       "      <td>-1</td>\n",
       "      <td>Penguin Putnam~trade</td>\n",
       "    </tr>\n",
       "    <tr>\n",
       "      <th>870776</th>\n",
       "      <td>TRAIN_870776</td>\n",
       "      <td>USER_92058</td>\n",
       "      <td>BOOK_181486</td>\n",
       "      <td>8</td>\n",
       "      <td>24.0</td>\n",
       "      <td>halifax, nova scotia, canada</td>\n",
       "      <td>Laurels Kitchen a Handbook for Vegetarian Co</td>\n",
       "      <td>Laurel Robertson</td>\n",
       "      <td>-1</td>\n",
       "      <td>Bantam Doubleday Dell</td>\n",
       "    </tr>\n",
       "    <tr>\n",
       "      <th>870895</th>\n",
       "      <td>TRAIN_870895</td>\n",
       "      <td>USER_92080</td>\n",
       "      <td>BOOK_045027</td>\n",
       "      <td>10</td>\n",
       "      <td>35.0</td>\n",
       "      <td>brookhaven, mississippi, usa</td>\n",
       "      <td>Best of Sisters In Crime</td>\n",
       "      <td>Marilyn Wallace</td>\n",
       "      <td>-1</td>\n",
       "      <td>Penguin Putnam~childrens Hc</td>\n",
       "    </tr>\n",
       "    <tr>\n",
       "      <th>871300</th>\n",
       "      <td>TRAIN_871300</td>\n",
       "      <td>USER_92093</td>\n",
       "      <td>BOOK_216824</td>\n",
       "      <td>0</td>\n",
       "      <td>37.0</td>\n",
       "      <td>lakewood, colorado, usa</td>\n",
       "      <td>Girlfriends</td>\n",
       "      <td>Jayne Wexler</td>\n",
       "      <td>-1</td>\n",
       "      <td>Running Press</td>\n",
       "    </tr>\n",
       "  </tbody>\n",
       "</table>\n",
       "<p>11515 rows × 10 columns</p>\n",
       "</div>"
      ],
      "text/plain": [
       "                  ID     User-ID      Book-ID  Book-Rating   Age  \\\n",
       "184     TRAIN_000184  USER_00049  BOOK_121460            0  37.0   \n",
       "186     TRAIN_000186  USER_00049  BOOK_175661           10  37.0   \n",
       "191     TRAIN_000191  USER_00049  BOOK_230275            0  37.0   \n",
       "231     TRAIN_000231  USER_00054  BOOK_122689            0  39.0   \n",
       "290     TRAIN_000290  USER_00060  BOOK_165427            0  27.0   \n",
       "...              ...         ...          ...          ...   ...   \n",
       "870700  TRAIN_870700  USER_92056  BOOK_093874            5  35.0   \n",
       "870751  TRAIN_870751  USER_92058  BOOK_117063            0  24.0   \n",
       "870776  TRAIN_870776  USER_92058  BOOK_181486            8  24.0   \n",
       "870895  TRAIN_870895  USER_92080  BOOK_045027           10  35.0   \n",
       "871300  TRAIN_871300  USER_92093  BOOK_216824            0  37.0   \n",
       "\n",
       "                            Location  \\\n",
       "184           gaylord, michigan, usa   \n",
       "186           gaylord, michigan, usa   \n",
       "191           gaylord, michigan, usa   \n",
       "231               spring, texas, usa   \n",
       "290     los angeles, california, usa   \n",
       "...                              ...   \n",
       "870700     leucadia, california, usa   \n",
       "870751  halifax, nova scotia, canada   \n",
       "870776  halifax, nova scotia, canada   \n",
       "870895  brookhaven, mississippi, usa   \n",
       "871300       lakewood, colorado, usa   \n",
       "\n",
       "                                          Book-Title          Book-Author  \\\n",
       "184                             Bxc Blue Bay Mystery  Gertrude Cha Warner   \n",
       "186                               Lighthouse Mystery    Gertrude C Warner   \n",
       "191                                   Mike's Mystery  Gertrude Cha Warner   \n",
       "231                                   Charming Billy      Alice Mcdermott   \n",
       "290                                      Moon Palace          Paul Auster   \n",
       "...                                              ...                  ...   \n",
       "870700                                   High Ground        John Mcgahern   \n",
       "870751                                  Hotel Du Lac       Anita Brookner   \n",
       "870776  Laurels Kitchen a Handbook for Vegetarian Co     Laurel Robertson   \n",
       "870895                      Best of Sisters In Crime      Marilyn Wallace   \n",
       "871300                                   Girlfriends         Jayne Wexler   \n",
       "\n",
       "        Year-Of-Publication                    Publisher  \n",
       "184                      -1               Scholastic Inc  \n",
       "186                      -1               Scholastic Inc  \n",
       "191                      -1               Scholastic Inc  \n",
       "231                      -1        Farrar, Straus Giroux  \n",
       "290                      -1              Faber Faber Inc  \n",
       "...                     ...                          ...  \n",
       "870700                   -1              Faber Faber Inc  \n",
       "870751                   -1         Penguin Putnam~trade  \n",
       "870776                   -1        Bantam Doubleday Dell  \n",
       "870895                   -1  Penguin Putnam~childrens Hc  \n",
       "871300                   -1                Running Press  \n",
       "\n",
       "[11515 rows x 10 columns]"
      ]
     },
     "execution_count": 21,
     "metadata": {},
     "output_type": "execute_result"
    }
   ],
   "source": [
    "year = -1\n",
    "train[train[\"Year-Of-Publication\"] == year]"
   ]
  },
  {
   "cell_type": "code",
   "execution_count": 22,
   "metadata": {
    "colab": {
     "base_uri": "https://localhost:8080/"
    },
    "id": "OrorGaGYcW-V",
    "outputId": "5295ab3b-7c41-484c-ab19-d56a81ef57f1"
   },
   "outputs": [
    {
     "name": "stdout",
     "output_type": "stream",
     "text": [
      "                  ID     User-ID      Book-ID  Book-Rating   Age  \\\n",
      "0       TRAIN_000000  USER_00000  BOOK_044368            8  23.0   \n",
      "1       TRAIN_000001  USER_00000  BOOK_081205            8  23.0   \n",
      "2       TRAIN_000002  USER_00000  BOOK_086781            0  23.0   \n",
      "3       TRAIN_000003  USER_00000  BOOK_098622            0  23.0   \n",
      "4       TRAIN_000004  USER_00000  BOOK_180810            8  23.0   \n",
      "...              ...         ...          ...          ...   ...   \n",
      "871388  TRAIN_871388  USER_92096  BOOK_081138            0  34.0   \n",
      "871389  TRAIN_871389  USER_92097  BOOK_258124            0  35.0   \n",
      "871390  TRAIN_871390  USER_92098  BOOK_071848            0  45.0   \n",
      "871391  TRAIN_871391  USER_92099  BOOK_252599            8  43.0   \n",
      "871392  TRAIN_871392  USER_92100  BOOK_130798            0  35.0   \n",
      "\n",
      "                                     Location  \\\n",
      "0            sackville, new brunswick, canada   \n",
      "1            sackville, new brunswick, canada   \n",
      "2            sackville, new brunswick, canada   \n",
      "3            sackville, new brunswick, canada   \n",
      "4            sackville, new brunswick, canada   \n",
      "...                                       ...   \n",
      "871388            minneapolis, minnesota, usa   \n",
      "871389                     temple, texas, usa   \n",
      "871390                ottawa, ontario, canada   \n",
      "871391            maple grove, minnesota, usa   \n",
      "871392  castiglion fiorentino, toscana, italy   \n",
      "\n",
      "                                               Book-Title  \\\n",
      "0                                              Road Taken   \n",
      "1                       Macbeth (New Penguin Shakespeare)   \n",
      "2                      Waverley (Penguin English Library)   \n",
      "3                                 Mother Earth Father Sky   \n",
      "4                                       She Who Remembers   \n",
      "...                                                   ...   \n",
      "871388  Healing Words: The Power of Prayer and the Pra...   \n",
      "871389  The Salmon of Doubt: Hitchhiking the Galaxy On...   \n",
      "871390  Harry Potter and the Prisoner of Azkaban (Book 3)   \n",
      "871391            Heartbreak Hill: Anatomy of a Ryder Cup   \n",
      "871392  The Coffin Quilt: The Feud between the Hatfiel...   \n",
      "\n",
      "                Book-Author  Year-Of-Publication                  Publisher  \n",
      "0                Rona Jaffe               2001.0                       Mira  \n",
      "1       William Shakespeare               1981.0              Penguin Books  \n",
      "2              Walter Scott               1981.0              Penguin Books  \n",
      "3              Sue Harrison               1991.0                       Avon  \n",
      "4          Linda Lay Shuler               1989.0                Signet Book  \n",
      "...                     ...                  ...                        ...  \n",
      "871388         Larry Dossey               1993.0              Harpercollins  \n",
      "871389        DOUGLAS ADAMS               2002.0                    Harmony  \n",
      "871390        J. K. Rowling               2000.0            Thorndike Press  \n",
      "871391        Tim Rosaforte               1996.0              St Martins Pr  \n",
      "871392          Ann Rinaldi               1999.0  Harcourt Children's Books  \n",
      "\n",
      "[871393 rows x 10 columns]\n"
     ]
    }
   ],
   "source": [
    "train['Year-Of-Publication'] = np.where((train['Year-Of-Publication'] < 1950) | (train['Year-Of-Publication'] > 2010), np.nan, train['Year-Of-Publication'])\n",
    "\n",
    "# 결측치를 평균값으로 대체하기\n",
    "mean_Year = train['Year-Of-Publication'].mean()\n",
    "train['Year-Of-Publication'] = train['Year-Of-Publication'].fillna(mean_Year)\n",
    "\n",
    "print(train)"
   ]
  },
  {
   "cell_type": "code",
   "execution_count": 23,
   "metadata": {
    "colab": {
     "base_uri": "https://localhost:8080/",
     "height": 467
    },
    "id": "-MBVkp3Q_ZFK",
    "outputId": "1d440add-715b-4389-8ed9-9205a0b781bc",
    "scrolled": true
   },
   "outputs": [
    {
     "data": {
      "text/plain": [
       "<AxesSubplot:xlabel='Year-Of-Publication'>"
      ]
     },
     "execution_count": 23,
     "metadata": {},
     "output_type": "execute_result"
    },
    {
     "data": {
      "image/png": "[encoded data removed]",
      "text/plain": [
       "<Figure size 640x480 with 1 Axes>"
      ]
     },
     "metadata": {},
     "output_type": "display_data"
    }
   ],
   "source": [
    "sns.distplot(train['Year-Of-Publication'], kde=False, bins=50)"
   ]
  },
  {
   "cell_type": "code",
   "execution_count": 24,
   "metadata": {
    "colab": {
     "base_uri": "https://localhost:8080/",
     "height": 913
    },
    "id": "8SyUwpCXicgc",
    "outputId": "d708b966-060d-416f-d1f6-879e033515e1"
   },
   "outputs": [
    {
     "data": {
      "image/png": "[encoded data removed]",
      "text/plain": [
       "<Figure size 1000x1000 with 2 Axes>"
      ]
     },
     "metadata": {},
     "output_type": "display_data"
    }
   ],
   "source": [
    "plt.figure(figsize=(10,10))\n",
    "sns.heatmap(train.corr(), annot=True, annot_kws={'size': 20}) #annot 크기 조정\n",
    "plt.tick_params(labelsize=25)"
   ]
  },
  {
   "cell_type": "code",
   "execution_count": 25,
   "metadata": {
    "colab": {
     "base_uri": "https://localhost:8080/",
     "height": 658
    },
    "id": "qXVywgQ8iP5h",
    "outputId": "b2313638-d387-4ea8-8b6c-42a4539e467f"
   },
   "outputs": [
    {
     "data": {
      "text/html": [
       "<div>\n",
       "<style scoped>\n",
       "    .dataframe tbody tr th:only-of-type {\n",
       "        vertical-align: middle;\n",
       "    }\n",
       "\n",
       "    .dataframe tbody tr th {\n",
       "        vertical-align: top;\n",
       "    }\n",
       "\n",
       "    .dataframe thead th {\n",
       "        text-align: right;\n",
       "    }\n",
       "</style>\n",
       "<table border=\"1\" class=\"dataframe\">\n",
       "  <thead>\n",
       "    <tr style=\"text-align: right;\">\n",
       "      <th></th>\n",
       "      <th>ID</th>\n",
       "      <th>User-ID</th>\n",
       "      <th>Book-ID</th>\n",
       "      <th>Book-Rating</th>\n",
       "      <th>Age</th>\n",
       "      <th>Location</th>\n",
       "      <th>Book-Title</th>\n",
       "      <th>Book-Author</th>\n",
       "      <th>Year-Of-Publication</th>\n",
       "      <th>Publisher</th>\n",
       "    </tr>\n",
       "  </thead>\n",
       "  <tbody>\n",
       "    <tr>\n",
       "      <th>0</th>\n",
       "      <td>TRAIN_000000</td>\n",
       "      <td>USER_00000</td>\n",
       "      <td>BOOK_044368</td>\n",
       "      <td>8</td>\n",
       "      <td>23.0</td>\n",
       "      <td>sackville, new brunswick, canada</td>\n",
       "      <td>Road Taken</td>\n",
       "      <td>Rona Jaffe</td>\n",
       "      <td>2001.0</td>\n",
       "      <td>Mira</td>\n",
       "    </tr>\n",
       "    <tr>\n",
       "      <th>1</th>\n",
       "      <td>TRAIN_000001</td>\n",
       "      <td>USER_00000</td>\n",
       "      <td>BOOK_081205</td>\n",
       "      <td>8</td>\n",
       "      <td>23.0</td>\n",
       "      <td>sackville, new brunswick, canada</td>\n",
       "      <td>Macbeth (New Penguin Shakespeare)</td>\n",
       "      <td>William Shakespeare</td>\n",
       "      <td>1981.0</td>\n",
       "      <td>Penguin Books</td>\n",
       "    </tr>\n",
       "    <tr>\n",
       "      <th>2</th>\n",
       "      <td>TRAIN_000002</td>\n",
       "      <td>USER_00000</td>\n",
       "      <td>BOOK_086781</td>\n",
       "      <td>0</td>\n",
       "      <td>23.0</td>\n",
       "      <td>sackville, new brunswick, canada</td>\n",
       "      <td>Waverley (Penguin English Library)</td>\n",
       "      <td>Walter Scott</td>\n",
       "      <td>1981.0</td>\n",
       "      <td>Penguin Books</td>\n",
       "    </tr>\n",
       "    <tr>\n",
       "      <th>3</th>\n",
       "      <td>TRAIN_000003</td>\n",
       "      <td>USER_00000</td>\n",
       "      <td>BOOK_098622</td>\n",
       "      <td>0</td>\n",
       "      <td>23.0</td>\n",
       "      <td>sackville, new brunswick, canada</td>\n",
       "      <td>Mother Earth Father Sky</td>\n",
       "      <td>Sue Harrison</td>\n",
       "      <td>1991.0</td>\n",
       "      <td>Avon</td>\n",
       "    </tr>\n",
       "    <tr>\n",
       "      <th>4</th>\n",
       "      <td>TRAIN_000004</td>\n",
       "      <td>USER_00000</td>\n",
       "      <td>BOOK_180810</td>\n",
       "      <td>8</td>\n",
       "      <td>23.0</td>\n",
       "      <td>sackville, new brunswick, canada</td>\n",
       "      <td>She Who Remembers</td>\n",
       "      <td>Linda Lay Shuler</td>\n",
       "      <td>1989.0</td>\n",
       "      <td>Signet Book</td>\n",
       "    </tr>\n",
       "    <tr>\n",
       "      <th>...</th>\n",
       "      <td>...</td>\n",
       "      <td>...</td>\n",
       "      <td>...</td>\n",
       "      <td>...</td>\n",
       "      <td>...</td>\n",
       "      <td>...</td>\n",
       "      <td>...</td>\n",
       "      <td>...</td>\n",
       "      <td>...</td>\n",
       "      <td>...</td>\n",
       "    </tr>\n",
       "    <tr>\n",
       "      <th>871388</th>\n",
       "      <td>TRAIN_871388</td>\n",
       "      <td>USER_92096</td>\n",
       "      <td>BOOK_081138</td>\n",
       "      <td>0</td>\n",
       "      <td>34.0</td>\n",
       "      <td>minneapolis, minnesota, usa</td>\n",
       "      <td>Healing Words: The Power of Prayer and the Pra...</td>\n",
       "      <td>Larry Dossey</td>\n",
       "      <td>1993.0</td>\n",
       "      <td>Harpercollins</td>\n",
       "    </tr>\n",
       "    <tr>\n",
       "      <th>871389</th>\n",
       "      <td>TRAIN_871389</td>\n",
       "      <td>USER_92097</td>\n",
       "      <td>BOOK_258124</td>\n",
       "      <td>0</td>\n",
       "      <td>35.0</td>\n",
       "      <td>temple, texas, usa</td>\n",
       "      <td>The Salmon of Doubt: Hitchhiking the Galaxy On...</td>\n",
       "      <td>DOUGLAS ADAMS</td>\n",
       "      <td>2002.0</td>\n",
       "      <td>Harmony</td>\n",
       "    </tr>\n",
       "    <tr>\n",
       "      <th>871390</th>\n",
       "      <td>TRAIN_871390</td>\n",
       "      <td>USER_92098</td>\n",
       "      <td>BOOK_071848</td>\n",
       "      <td>0</td>\n",
       "      <td>45.0</td>\n",
       "      <td>ottawa, ontario, canada</td>\n",
       "      <td>Harry Potter and the Prisoner of Azkaban (Book 3)</td>\n",
       "      <td>J. K. Rowling</td>\n",
       "      <td>2000.0</td>\n",
       "      <td>Thorndike Press</td>\n",
       "    </tr>\n",
       "    <tr>\n",
       "      <th>871391</th>\n",
       "      <td>TRAIN_871391</td>\n",
       "      <td>USER_92099</td>\n",
       "      <td>BOOK_252599</td>\n",
       "      <td>8</td>\n",
       "      <td>43.0</td>\n",
       "      <td>maple grove, minnesota, usa</td>\n",
       "      <td>Heartbreak Hill: Anatomy of a Ryder Cup</td>\n",
       "      <td>Tim Rosaforte</td>\n",
       "      <td>1996.0</td>\n",
       "      <td>St Martins Pr</td>\n",
       "    </tr>\n",
       "    <tr>\n",
       "      <th>871392</th>\n",
       "      <td>TRAIN_871392</td>\n",
       "      <td>USER_92100</td>\n",
       "      <td>BOOK_130798</td>\n",
       "      <td>0</td>\n",
       "      <td>35.0</td>\n",
       "      <td>castiglion fiorentino, toscana, italy</td>\n",
       "      <td>The Coffin Quilt: The Feud between the Hatfiel...</td>\n",
       "      <td>Ann Rinaldi</td>\n",
       "      <td>1999.0</td>\n",
       "      <td>Harcourt Children's Books</td>\n",
       "    </tr>\n",
       "  </tbody>\n",
       "</table>\n",
       "<p>871393 rows × 10 columns</p>\n",
       "</div>"
      ],
      "text/plain": [
       "                  ID     User-ID      Book-ID  Book-Rating   Age  \\\n",
       "0       TRAIN_000000  USER_00000  BOOK_044368            8  23.0   \n",
       "1       TRAIN_000001  USER_00000  BOOK_081205            8  23.0   \n",
       "2       TRAIN_000002  USER_00000  BOOK_086781            0  23.0   \n",
       "3       TRAIN_000003  USER_00000  BOOK_098622            0  23.0   \n",
       "4       TRAIN_000004  USER_00000  BOOK_180810            8  23.0   \n",
       "...              ...         ...          ...          ...   ...   \n",
       "871388  TRAIN_871388  USER_92096  BOOK_081138            0  34.0   \n",
       "871389  TRAIN_871389  USER_92097  BOOK_258124            0  35.0   \n",
       "871390  TRAIN_871390  USER_92098  BOOK_071848            0  45.0   \n",
       "871391  TRAIN_871391  USER_92099  BOOK_252599            8  43.0   \n",
       "871392  TRAIN_871392  USER_92100  BOOK_130798            0  35.0   \n",
       "\n",
       "                                     Location  \\\n",
       "0            sackville, new brunswick, canada   \n",
       "1            sackville, new brunswick, canada   \n",
       "2            sackville, new brunswick, canada   \n",
       "3            sackville, new brunswick, canada   \n",
       "4            sackville, new brunswick, canada   \n",
       "...                                       ...   \n",
       "871388            minneapolis, minnesota, usa   \n",
       "871389                     temple, texas, usa   \n",
       "871390                ottawa, ontario, canada   \n",
       "871391            maple grove, minnesota, usa   \n",
       "871392  castiglion fiorentino, toscana, italy   \n",
       "\n",
       "                                               Book-Title  \\\n",
       "0                                              Road Taken   \n",
       "1                       Macbeth (New Penguin Shakespeare)   \n",
       "2                      Waverley (Penguin English Library)   \n",
       "3                                 Mother Earth Father Sky   \n",
       "4                                       She Who Remembers   \n",
       "...                                                   ...   \n",
       "871388  Healing Words: The Power of Prayer and the Pra...   \n",
       "871389  The Salmon of Doubt: Hitchhiking the Galaxy On...   \n",
       "871390  Harry Potter and the Prisoner of Azkaban (Book 3)   \n",
       "871391            Heartbreak Hill: Anatomy of a Ryder Cup   \n",
       "871392  The Coffin Quilt: The Feud between the Hatfiel...   \n",
       "\n",
       "                Book-Author  Year-Of-Publication                  Publisher  \n",
       "0                Rona Jaffe               2001.0                       Mira  \n",
       "1       William Shakespeare               1981.0              Penguin Books  \n",
       "2              Walter Scott               1981.0              Penguin Books  \n",
       "3              Sue Harrison               1991.0                       Avon  \n",
       "4          Linda Lay Shuler               1989.0                Signet Book  \n",
       "...                     ...                  ...                        ...  \n",
       "871388         Larry Dossey               1993.0              Harpercollins  \n",
       "871389        DOUGLAS ADAMS               2002.0                    Harmony  \n",
       "871390        J. K. Rowling               2000.0            Thorndike Press  \n",
       "871391        Tim Rosaforte               1996.0              St Martins Pr  \n",
       "871392          Ann Rinaldi               1999.0  Harcourt Children's Books  \n",
       "\n",
       "[871393 rows x 10 columns]"
      ]
     },
     "execution_count": 25,
     "metadata": {},
     "output_type": "execute_result"
    }
   ],
   "source": [
    "train"
   ]
  },
  {
   "cell_type": "code",
   "execution_count": 26,
   "metadata": {
    "colab": {
     "base_uri": "https://localhost:8080/",
     "height": 530
    },
    "id": "tM8yxO8qkahD",
    "outputId": "a13ffca8-7075-44bd-eb3b-931bbbed9b80"
   },
   "outputs": [
    {
     "ename": "ModuleNotFoundError",
     "evalue": "No module named 'geopy'",
     "output_type": "error",
     "traceback": [
      "\u001b[0;31m---------------------------------------------------------------------------\u001b[0m",
      "\u001b[0;31mModuleNotFoundError\u001b[0m                       Traceback (most recent call last)",
      "Cell \u001b[0;32mIn [26], line 1\u001b[0m\n\u001b[0;32m----> 1\u001b[0m \u001b[38;5;28;01mfrom\u001b[39;00m \u001b[38;5;21;01mgeopy\u001b[39;00m\u001b[38;5;21;01m.\u001b[39;00m\u001b[38;5;21;01mgeocoders\u001b[39;00m \u001b[38;5;28;01mimport\u001b[39;00m Nominatim\n\u001b[1;32m      2\u001b[0m \u001b[38;5;28;01mimport\u001b[39;00m \u001b[38;5;21;01mpandas\u001b[39;00m \u001b[38;5;28;01mas\u001b[39;00m \u001b[38;5;21;01mpd\u001b[39;00m\n\u001b[1;32m      4\u001b[0m \u001b[38;5;66;03m# 나라와 도시명이 저장된 데이터프레임 생성\u001b[39;00m\n\u001b[1;32m      5\u001b[0m \n\u001b[1;32m      6\u001b[0m \u001b[38;5;66;03m# geopy의 Nominatim 객체 생성\u001b[39;00m\n",
      "\u001b[0;31mModuleNotFoundError\u001b[0m: No module named 'geopy'"
     ]
    }
   ],
   "source": [
    "from geopy.geocoders import Nominatim\n",
    "import pandas as pd\n",
    "\n",
    "# 나라와 도시명이 저장된 데이터프레임 생성\n",
    "\n",
    "# geopy의 Nominatim 객체 생성\n",
    "geolocator = Nominatim(user_agent='my_application')\n",
    "\n",
    "# 위도, 경도를 저장할 빈 리스트 생성\n",
    "latitudes = []\n",
    "longitudes = []\n",
    "\n",
    "# 각 도시별 위도와 경도를 구하여 리스트에 저장\n",
    "for index, row in train.iterrows():\n",
    "    location = geolocator.geocode(row['City'] + ', ' + row['Country'])\n"
   ]
  },
  {
   "cell_type": "code",
   "execution_count": null,
   "metadata": {
    "colab": {
     "base_uri": "https://localhost:8080/",
     "height": 401
    },
    "id": "Sv4XzoekGjjI",
    "outputId": "4aff3662-899a-4869-e11c-f9f3d8a7a770"
   },
   "outputs": [],
   "source": [
    "import folium\n",
    "\n",
    "# City, State, Country 열 추가하기\n",
    "location_split = train['Location'].str.split(', ', expand=True)\n",
    "train[['City', 'State', 'Country']] = location_split\n",
    "\n",
    "# 지도에 마커 추가하기\n",
    "m = folium.Map(location=[0, 0], zoom_start=2)\n",
    "for i, row in train.iterrows():\n",
    "    city = row['City']\n",
    "    state = row['State']\n",
    "    country = row['Country']\n",
    "    tooltip = f\"{city}, {state}, {country}\"\n",
    "    location = f\"{city}, {country}\"\n",
    "    try:\n",
    "        geocode = geolocator.geocode(location)\n",
    "        latitude = geocode.latitude\n",
    "        longitude = geocode.longitude\n",
    "        folium.Marker(\n",
    "            location=[latitude, longitude],\n",
    "            tooltip=tooltip\n",
    "        ).add_to(m)\n",
    "    except:\n",
    "        pass\n",
    "\n",
    "m\n"
   ]
  },
  {
   "cell_type": "markdown",
   "metadata": {
    "id": "1b2YJICMeVhb"
   },
   "source": [
    "# 추천시스템"
   ]
  },
  {
   "cell_type": "code",
   "execution_count": 27,
   "metadata": {
    "colab": {
     "base_uri": "https://localhost:8080/"
    },
    "id": "E9rNCexdWE7t",
    "outputId": "4f6d7c24-5a50-4f05-acb7-54b08ea741a3"
   },
   "outputs": [
    {
     "data": {
      "text/plain": [
       "(871393, 10)"
      ]
     },
     "execution_count": 27,
     "metadata": {},
     "output_type": "execute_result"
    }
   ],
   "source": [
    "df_valid = train[train[\"ID\"].notnull()].drop_duplicates()\n",
    "\n",
    "df_valid.shape"
   ]
  },
  {
   "cell_type": "code",
   "execution_count": 28,
   "metadata": {
    "colab": {
     "base_uri": "https://localhost:8080/",
     "height": 225
    },
    "id": "hawQPlHrIM-D",
    "outputId": "af5adb91-c1ea-4349-c650-fc64374a536e"
   },
   "outputs": [
    {
     "name": "stdout",
     "output_type": "stream",
     "text": [
      "(871393, 3)\n"
     ]
    },
    {
     "data": {
      "text/html": [
       "<div>\n",
       "<style scoped>\n",
       "    .dataframe tbody tr th:only-of-type {\n",
       "        vertical-align: middle;\n",
       "    }\n",
       "\n",
       "    .dataframe tbody tr th {\n",
       "        vertical-align: top;\n",
       "    }\n",
       "\n",
       "    .dataframe thead th {\n",
       "        text-align: right;\n",
       "    }\n",
       "</style>\n",
       "<table border=\"1\" class=\"dataframe\">\n",
       "  <thead>\n",
       "    <tr style=\"text-align: right;\">\n",
       "      <th></th>\n",
       "      <th>ID</th>\n",
       "      <th>Book-ID</th>\n",
       "      <th>Book-Rating</th>\n",
       "    </tr>\n",
       "  </thead>\n",
       "  <tbody>\n",
       "    <tr>\n",
       "      <th>0</th>\n",
       "      <td>TRAIN_000000</td>\n",
       "      <td>BOOK_044368</td>\n",
       "      <td>8</td>\n",
       "    </tr>\n",
       "    <tr>\n",
       "      <th>1</th>\n",
       "      <td>TRAIN_000001</td>\n",
       "      <td>BOOK_081205</td>\n",
       "      <td>8</td>\n",
       "    </tr>\n",
       "    <tr>\n",
       "      <th>2</th>\n",
       "      <td>TRAIN_000002</td>\n",
       "      <td>BOOK_086781</td>\n",
       "      <td>0</td>\n",
       "    </tr>\n",
       "    <tr>\n",
       "      <th>3</th>\n",
       "      <td>TRAIN_000003</td>\n",
       "      <td>BOOK_098622</td>\n",
       "      <td>0</td>\n",
       "    </tr>\n",
       "    <tr>\n",
       "      <th>4</th>\n",
       "      <td>TRAIN_000004</td>\n",
       "      <td>BOOK_180810</td>\n",
       "      <td>8</td>\n",
       "    </tr>\n",
       "  </tbody>\n",
       "</table>\n",
       "</div>"
      ],
      "text/plain": [
       "             ID      Book-ID  Book-Rating\n",
       "0  TRAIN_000000  BOOK_044368            8\n",
       "1  TRAIN_000001  BOOK_081205            8\n",
       "2  TRAIN_000002  BOOK_086781            0\n",
       "3  TRAIN_000003  BOOK_098622            0\n",
       "4  TRAIN_000004  BOOK_180810            8"
      ]
     },
     "execution_count": 28,
     "metadata": {},
     "output_type": "execute_result"
    }
   ],
   "source": [
    "df = df_valid[[\"ID\", \"Book-ID\", \"Book-Rating\"]].drop_duplicates()\n",
    "print(df.shape)\n",
    "df.head()"
   ]
  },
  {
   "cell_type": "code",
   "execution_count": 29,
   "metadata": {
    "colab": {
     "base_uri": "https://localhost:8080/"
    },
    "id": "39oXKAoYIu7j",
    "outputId": "7f31fa73-9069-4bd9-f13e-7288f87d14af"
   },
   "outputs": [
    {
     "data": {
      "text/plain": [
       "(0, 10)"
      ]
     },
     "execution_count": 29,
     "metadata": {},
     "output_type": "execute_result"
    }
   ],
   "source": [
    "r_min = df[\"Book-Rating\"].min()\n",
    "r_max = df[\"Book-Rating\"].max()\n",
    "r_min, r_max"
   ]
  },
  {
   "cell_type": "code",
   "execution_count": 30,
   "metadata": {
    "colab": {
     "base_uri": "https://localhost:8080/"
    },
    "id": "387mTnkFI6AV",
    "outputId": "d4eef55c-da10-4a4a-f187-7e12f78765d7"
   },
   "outputs": [
    {
     "data": {
      "text/plain": [
       "<surprise.reader.Reader at 0x7f7dfc0a6af0>"
      ]
     },
     "execution_count": 30,
     "metadata": {},
     "output_type": "execute_result"
    }
   ],
   "source": [
    "reader = Reader(rating_scale=(r_min, r_max))\n",
    "reader"
   ]
  },
  {
   "cell_type": "code",
   "execution_count": 31,
   "metadata": {
    "colab": {
     "base_uri": "https://localhost:8080/"
    },
    "id": "4mIQia-PJ9eZ",
    "outputId": "73067dc8-8fd9-4c21-d00b-a2593f7d8dbf"
   },
   "outputs": [
    {
     "data": {
      "text/plain": [
       "<surprise.dataset.DatasetAutoFolds at 0x7f7e18a31f10>"
      ]
     },
     "execution_count": 31,
     "metadata": {},
     "output_type": "execute_result"
    }
   ],
   "source": [
    "data = Dataset.load_from_df(\n",
    "    df[[\"ID\", \"Book-ID\", \"Book-Rating\"]], \n",
    "    reader)\n",
    "data"
   ]
  },
  {
   "cell_type": "code",
   "execution_count": 32,
   "metadata": {},
   "outputs": [],
   "source": [
    "from surprise.model_selection import train_test_split\n",
    "\n",
    "X_train, X_test = train_test_split(data, test_size=0.2, random_state=42)"
   ]
  },
  {
   "cell_type": "code",
   "execution_count": 33,
   "metadata": {
    "colab": {
     "base_uri": "https://localhost:8080/"
    },
    "id": "v9I67biwKOb1",
    "outputId": "a0f0f15c-5a8a-4acb-88c0-6a3f9667f765",
    "scrolled": true
   },
   "outputs": [
    {
     "data": {
      "text/plain": [
       "(697114, 214412, 697114)"
      ]
     },
     "execution_count": 33,
     "metadata": {},
     "output_type": "execute_result"
    }
   ],
   "source": [
    "X_train.n_users, X_train.n_items, X_train.n_ratings"
   ]
  },
  {
   "cell_type": "code",
   "execution_count": 34,
   "metadata": {
    "colab": {
     "base_uri": "https://localhost:8080/"
    },
    "id": "JxQel5Y6KQ6A",
    "outputId": "cc44bf50-afbe-4ab0-932f-bb03b31ee419"
   },
   "outputs": [
    {
     "data": {
      "text/plain": [
       "<surprise.trainset.Trainset at 0x7f7e19c653a0>"
      ]
     },
     "execution_count": 34,
     "metadata": {},
     "output_type": "execute_result"
    }
   ],
   "source": [
    "X_train"
   ]
  },
  {
   "cell_type": "code",
   "execution_count": 35,
   "metadata": {
    "colab": {
     "base_uri": "https://localhost:8080/"
    },
    "id": "YsnbUciYKSpN",
    "outputId": "3ed9138e-7bc1-43d1-8902-ad0342ab531d"
   },
   "outputs": [
    {
     "data": {
      "text/plain": [
       "(list, 174279)"
      ]
     },
     "execution_count": 35,
     "metadata": {},
     "output_type": "execute_result"
    }
   ],
   "source": [
    "type(X_test), len(X_test)"
   ]
  },
  {
   "cell_type": "markdown",
   "metadata": {},
   "source": [
    "# 사용자기반 협업필터링"
   ]
  },
  {
   "cell_type": "code",
   "execution_count": null,
   "metadata": {
    "id": "znRWxUJzKVtL"
   },
   "outputs": [],
   "source": [
    "from surprise.prediction_algorithms.knns import KNNBasic\n",
    "# model\n",
    "\n",
    "knn = KNNBasic(name=\"cosine\", user_base=True)\n",
    "knn.fit(trainset)"
   ]
  },
  {
   "cell_type": "code",
   "execution_count": null,
   "metadata": {
    "id": "D3X-MIsAKZR5"
   },
   "outputs": [],
   "source": [
    "predictions_knn = knn.test(trainset)"
   ]
  },
  {
   "cell_type": "code",
   "execution_count": null,
   "metadata": {
    "id": "PLNwL2RMKcHd"
   },
   "outputs": [],
   "source": [
    "validset[3]"
   ]
  },
  {
   "cell_type": "code",
   "execution_count": null,
   "metadata": {
    "id": "fVjxLmpFKfYJ"
   },
   "outputs": [],
   "source": [
    "predictions_knn[3]"
   ]
  },
  {
   "cell_type": "code",
   "execution_count": null,
   "metadata": {
    "id": "ZY8p8kjZKhpI"
   },
   "outputs": [],
   "source": [
    "df[\"Book-Rating\"].describe()"
   ]
  },
  {
   "cell_type": "code",
   "execution_count": null,
   "metadata": {
    "id": "GWhNcyW3KmhL"
   },
   "outputs": [],
   "source": [
    "accuracy.rmse(predictions_knn)"
   ]
  },
  {
   "cell_type": "code",
   "execution_count": null,
   "metadata": {
    "id": "5eZnmfPdKrN7"
   },
   "outputs": [],
   "source": [
    "df.sample()"
   ]
  },
  {
   "cell_type": "code",
   "execution_count": null,
   "metadata": {
    "id": "YVfFS2HOKur9"
   },
   "outputs": [],
   "source": [
    "iid = \"BOOK_011665\"\n",
    "df[df[\"Book-ID\"] == iid]"
   ]
  },
  {
   "cell_type": "code",
   "execution_count": null,
   "metadata": {
    "id": "1ztlJ0_xLHHI"
   },
   "outputs": [],
   "source": [
    "uid = 'USER_44609'\n",
    "iid = \"BOOK_011665\"\n",
    "df[(df[\"User-ID\"] == uid) & (df[\"Book-ID\"] == iid)]"
   ]
  },
  {
   "cell_type": "markdown",
   "metadata": {},
   "source": [
    "# 아이템기반 협업필터링"
   ]
  },
  {
   "cell_type": "code",
   "execution_count": null,
   "metadata": {
    "id": "RqxABXHnLb45"
   },
   "outputs": [],
   "source": [
    "knni = KNNBasic(name=\"cosine\", user_base=False)\n",
    "knni.fit(trainset)"
   ]
  },
  {
   "cell_type": "code",
   "execution_count": null,
   "metadata": {
    "id": "9s_kjRMZLgwN"
   },
   "outputs": [],
   "source": [
    "predictions_item = knni.test(validset)"
   ]
  },
  {
   "cell_type": "code",
   "execution_count": null,
   "metadata": {
    "id": "VwKZjll7LjDN"
   },
   "outputs": [],
   "source": [
    "accuracy.rmse(predictions_item)"
   ]
  },
  {
   "cell_type": "code",
   "execution_count": null,
   "metadata": {
    "id": "-27qros9Lll7"
   },
   "outputs": [],
   "source": [
    "df.iloc[3]"
   ]
  },
  {
   "cell_type": "markdown",
   "metadata": {
    "id": "9VLylyj_LqES"
   },
   "source": [
    "# SVD"
   ]
  },
  {
   "cell_type": "code",
   "execution_count": 36,
   "metadata": {
    "id": "BM2_0bfDLsLz"
   },
   "outputs": [
    {
     "data": {
      "text/plain": [
       "<surprise.prediction_algorithms.matrix_factorization.SVD at 0x7f7dff051400>"
      ]
     },
     "execution_count": 36,
     "metadata": {},
     "output_type": "execute_result"
    }
   ],
   "source": [
    "svd = SVD(random_state=42)\n",
    "svd.fit(X_train)"
   ]
  },
  {
   "cell_type": "code",
   "execution_count": 37,
   "metadata": {},
   "outputs": [
    {
     "data": {
      "text/plain": [
       "[('TEST_078244', 'BOOK_041738', 0.0),\n",
       " ('TEST_858428', 'BOOK_209704', 0.0),\n",
       " ('TEST_516745', 'BOOK_064606', 0.0),\n",
       " ('TEST_185110', 'BOOK_080098', 9.0),\n",
       " ('TEST_263788', 'BOOK_112483', 0.0),\n",
       " ('TEST_504425', 'BOOK_001061', 0.0),\n",
       " ('TEST_121719', 'BOOK_266334', 0.0),\n",
       " ('TEST_602125', 'BOOK_251217', 10.0),\n",
       " ('TEST_101696', 'BOOK_163736', 7.0),\n",
       " ('TEST_569292', 'BOOK_143269', 7.0),\n",
       " ('TEST_634215', 'BOOK_174481', 0.0),\n",
       " ('TEST_677451', 'BOOK_073539', 0.0),\n",
       " ('TEST_335614', 'BOOK_236794', 0.0),\n",
       " ('TEST_550089', 'BOOK_184597', 0.0),\n",
       " ('TEST_035323', 'BOOK_001634', 0.0),\n",
       " ('TEST_326534', 'BOOK_103689', 0.0),\n",
       " ('TEST_724618', 'BOOK_268452', 0.0),\n",
       " ('TEST_500265', 'BOOK_050695', 9.0),\n",
       " ('TEST_672474', 'BOOK_116875', 0.0),\n",
       " ('TEST_689743', 'BOOK_150281', 0.0),\n",
       " ('TEST_682400', 'BOOK_147882', 0.0),\n",
       " ('TEST_834424', 'BOOK_202114', 8.0),\n",
       " ('TEST_358803', 'BOOK_134711', 9.0),\n",
       " ('TEST_638566', 'BOOK_044367', 9.0),\n",
       " ('TEST_235869', 'BOOK_086710', 0.0),\n",
       " ('TEST_067488', 'BOOK_268823', 0.0),\n",
       " ('TEST_089430', 'BOOK_021997', 0.0),\n",
       " ('TEST_292031', 'BOOK_166550', 0.0),\n",
       " ('TEST_281211', 'BOOK_171593', 10.0),\n",
       " ('TEST_536023', 'BOOK_202152', 8.0),\n",
       " ('TEST_719490', 'BOOK_165951', 0.0),\n",
       " ('TEST_111301', 'BOOK_073927', 0.0),\n",
       " ('TEST_082426', 'BOOK_123874', 0.0),\n",
       " ('TEST_584143', 'BOOK_262411', 9.0),\n",
       " ('TEST_412091', 'BOOK_090561', 6.0),\n",
       " ('TEST_832009', 'BOOK_219595', 0.0),\n",
       " ('TEST_643556', 'BOOK_214882', 5.0),\n",
       " ('TEST_105540', 'BOOK_217465', 5.0),\n",
       " ('TEST_231117', 'BOOK_160107', 8.0),\n",
       " ('TEST_407313', 'BOOK_215520', 0.0),\n",
       " ('TEST_216867', 'BOOK_094205', 10.0),\n",
       " ('TEST_809115', 'BOOK_125221', 5.0),\n",
       " ('TEST_068157', 'BOOK_259065', 9.0),\n",
       " ('TEST_579124', 'BOOK_000398', 0.0),\n",
       " ('TEST_696720', 'BOOK_113971', 6.0),\n",
       " ('TEST_147328', 'BOOK_072673', 8.0),\n",
       " ('TEST_786420', 'BOOK_233808', 0.0),\n",
       " ('TEST_116029', 'BOOK_072961', 9.0),\n",
       " ('TEST_113463', 'BOOK_010881', 0.0),\n",
       " ('TEST_663930', 'BOOK_177390', 0.0),\n",
       " ('TEST_361539', 'BOOK_147302', 0.0),\n",
       " ('TEST_486678', 'BOOK_053627', 0.0),\n",
       " ('TEST_655059', 'BOOK_103423', 6.0),\n",
       " ('TEST_689868', 'BOOK_263573', 0.0),\n",
       " ('TEST_089104', 'BOOK_162574', 0.0),\n",
       " ('TEST_115361', 'BOOK_043318', 0.0),\n",
       " ('TEST_398515', 'BOOK_204526', 0.0),\n",
       " ('TEST_174586', 'BOOK_261043', 9.0),\n",
       " ('TEST_220227', 'BOOK_005980', 0.0),\n",
       " ('TEST_822417', 'BOOK_056445', 0.0),\n",
       " ('TEST_076365', 'BOOK_175462', 7.0),\n",
       " ('TEST_473179', 'BOOK_235077', 0.0),\n",
       " ('TEST_445613', 'BOOK_016883', 8.0),\n",
       " ('TEST_808873', 'BOOK_177489', 0.0),\n",
       " ('TEST_277677', 'BOOK_214393', 7.0),\n",
       " ('TEST_137613', 'BOOK_196286', 0.0),\n",
       " ('TEST_663335', 'BOOK_055634', 0.0),\n",
       " ('TEST_607388', 'BOOK_267818', 8.0),\n",
       " ('TEST_531621', 'BOOK_046789', 10.0),\n",
       " ('TEST_563790', 'BOOK_255241', 0.0),\n",
       " ('TEST_835356', 'BOOK_065265', 0.0),\n",
       " ('TEST_433064', 'BOOK_077187', 8.0),\n",
       " ('TEST_585543', 'BOOK_011593', 0.0),\n",
       " ('TEST_565682', 'BOOK_159468', 0.0),\n",
       " ('TEST_722377', 'BOOK_268711', 0.0),\n",
       " ('TEST_204202', 'BOOK_176344', 8.0),\n",
       " ('TEST_178255', 'BOOK_009597', 0.0),\n",
       " ('TEST_203293', 'BOOK_065287', 0.0),\n",
       " ('TEST_519239', 'BOOK_050863', 0.0),\n",
       " ('TEST_694562', 'BOOK_055390', 9.0),\n",
       " ('TEST_255222', 'BOOK_047026', 0.0),\n",
       " ('TEST_808695', 'BOOK_068164', 0.0),\n",
       " ('TEST_200617', 'BOOK_074630', 0.0),\n",
       " ('TEST_114982', 'BOOK_188761', 0.0),\n",
       " ('TEST_102269', 'BOOK_106954', 0.0),\n",
       " ('TEST_368801', 'BOOK_257239', 0.0),\n",
       " ('TEST_830014', 'BOOK_249395', 0.0),\n",
       " ('TEST_413852', 'BOOK_220529', 0.0),\n",
       " ('TEST_408787', 'BOOK_237845', 0.0),\n",
       " ('TEST_677687', 'BOOK_144545', 7.0),\n",
       " ('TEST_763887', 'BOOK_052163', 0.0),\n",
       " ('TEST_148555', 'BOOK_222248', 10.0),\n",
       " ('TEST_598258', 'BOOK_109113', 0.0),\n",
       " ('TEST_603156', 'BOOK_133330', 3.0),\n",
       " ('TEST_511740', 'BOOK_179447', 5.0),\n",
       " ('TEST_046907', 'BOOK_220584', 8.0),\n",
       " ('TEST_697123', 'BOOK_140387', 6.0),\n",
       " ('TEST_304642', 'BOOK_134608', 0.0),\n",
       " ('TEST_666562', 'BOOK_189294', 6.0),\n",
       " ('TEST_038334', 'BOOK_068319', 6.0),\n",
       " ('TEST_143871', 'BOOK_128103', 10.0),\n",
       " ('TEST_161788', 'BOOK_080689', 10.0),\n",
       " ('TEST_525318', 'BOOK_220825', 0.0),\n",
       " ('TEST_452582', 'BOOK_167997', 3.0),\n",
       " ('TEST_277361', 'BOOK_067538', 0.0),\n",
       " ('TEST_506054', 'BOOK_180522', 0.0),\n",
       " ('TEST_359231', 'BOOK_245560', 0.0),\n",
       " ('TEST_357790', 'BOOK_114756', 0.0),\n",
       " ('TEST_458680', 'BOOK_098690', 0.0),\n",
       " ('TEST_387961', 'BOOK_219512', 0.0),\n",
       " ('TEST_222170', 'BOOK_170294', 0.0),\n",
       " ('TEST_384799', 'BOOK_171393', 5.0),\n",
       " ('TEST_566350', 'BOOK_072169', 0.0),\n",
       " ('TEST_417446', 'BOOK_102220', 0.0),\n",
       " ('TEST_801370', 'BOOK_028984', 0.0),\n",
       " ('TEST_563349', 'BOOK_018093', 0.0),\n",
       " ('TEST_136954', 'BOOK_254563', 10.0),\n",
       " ('TEST_623669', 'BOOK_076772', 0.0),\n",
       " ('TEST_108590', 'BOOK_164769', 0.0),\n",
       " ('TEST_023751', 'BOOK_223800', 0.0),\n",
       " ('TEST_554101', 'BOOK_209242', 0.0),\n",
       " ('TEST_497737', 'BOOK_013187', 7.0),\n",
       " ('TEST_291002', 'BOOK_050655', 0.0),\n",
       " ('TEST_287205', 'BOOK_155405', 5.0),\n",
       " ('TEST_532828', 'BOOK_214729', 0.0),\n",
       " ('TEST_371143', 'BOOK_083130', 0.0),\n",
       " ('TEST_080161', 'BOOK_046017', 8.0),\n",
       " ('TEST_492518', 'BOOK_265872', 9.0),\n",
       " ('TEST_355767', 'BOOK_015462', 8.0),\n",
       " ('TEST_569030', 'BOOK_142844', 0.0),\n",
       " ('TEST_511342', 'BOOK_039025', 0.0),\n",
       " ('TEST_790347', 'BOOK_132662', 7.0),\n",
       " ('TEST_123172', 'BOOK_221350', 0.0),\n",
       " ('TEST_296277', 'BOOK_028049', 0.0),\n",
       " ('TEST_869744', 'BOOK_120617', 9.0),\n",
       " ('TEST_542948', 'BOOK_012640', 9.0),\n",
       " ('TEST_002689', 'BOOK_046135', 7.0),\n",
       " ('TEST_581509', 'BOOK_255942', 3.0),\n",
       " ('TEST_335724', 'BOOK_120883', 9.0),\n",
       " ('TEST_050335', 'BOOK_051570', 0.0),\n",
       " ('TEST_677173', 'BOOK_104230', 0.0),\n",
       " ('TEST_502255', 'BOOK_062822', 9.0),\n",
       " ('TEST_670245', 'BOOK_037332', 5.0),\n",
       " ('TEST_137931', 'BOOK_200201', 9.0),\n",
       " ('TEST_121625', 'BOOK_255066', 5.0),\n",
       " ('TEST_302591', 'BOOK_204765', 0.0),\n",
       " ('TEST_835325', 'BOOK_048785', 0.0),\n",
       " ('TEST_336639', 'BOOK_074121', 0.0),\n",
       " ('TEST_032795', 'BOOK_187702', 8.0),\n",
       " ('TEST_199878', 'BOOK_074303', 0.0),\n",
       " ('TEST_603500', 'BOOK_194680', 0.0),\n",
       " ('TEST_792770', 'BOOK_108760', 0.0),\n",
       " ('TEST_338252', 'BOOK_219835', 9.0),\n",
       " ('TEST_221211', 'BOOK_126192', 0.0),\n",
       " ('TEST_829486', 'BOOK_259055', 0.0),\n",
       " ('TEST_350388', 'BOOK_033007', 0.0),\n",
       " ('TEST_628199', 'BOOK_057361', 0.0),\n",
       " ('TEST_168290', 'BOOK_220542', 0.0),\n",
       " ('TEST_104460', 'BOOK_199792', 0.0),\n",
       " ('TEST_013529', 'BOOK_218545', 8.0),\n",
       " ('TEST_346079', 'BOOK_066010', 0.0),\n",
       " ('TEST_361027', 'BOOK_174682', 0.0),\n",
       " ('TEST_722926', 'BOOK_107411', 8.0),\n",
       " ('TEST_058689', 'BOOK_013880', 8.0),\n",
       " ('TEST_100373', 'BOOK_149340', 0.0),\n",
       " ('TEST_607117', 'BOOK_244257', 8.0),\n",
       " ('TEST_537829', 'BOOK_153979', 0.0),\n",
       " ('TEST_795976', 'BOOK_105448', 0.0),\n",
       " ('TEST_309376', 'BOOK_119756', 7.0),\n",
       " ('TEST_612945', 'BOOK_103271', 0.0),\n",
       " ('TEST_339633', 'BOOK_154960', 7.0),\n",
       " ('TEST_541546', 'BOOK_249550', 0.0),\n",
       " ('TEST_585674', 'BOOK_217781', 8.0),\n",
       " ('TEST_357289', 'BOOK_203848', 0.0),\n",
       " ('TEST_762612', 'BOOK_162967', 0.0),\n",
       " ('TEST_058703', 'BOOK_023120', 0.0),\n",
       " ('TEST_010639', 'BOOK_177078', 0.0),\n",
       " ('TEST_142815', 'BOOK_119368', 10.0),\n",
       " ('TEST_148454', 'BOOK_098217', 0.0),\n",
       " ('TEST_828060', 'BOOK_002289', 0.0),\n",
       " ('TEST_276936', 'BOOK_138826', 0.0),\n",
       " ('TEST_260602', 'BOOK_221434', 9.0),\n",
       " ('TEST_748996', 'BOOK_187464', 0.0),\n",
       " ('TEST_314586', 'BOOK_241804', 10.0),\n",
       " ('TEST_326363', 'BOOK_217932', 8.0),\n",
       " ('TEST_436790', 'BOOK_254174', 0.0),\n",
       " ('TEST_580875', 'BOOK_026352', 7.0),\n",
       " ('TEST_109081', 'BOOK_148770', 0.0),\n",
       " ('TEST_176416', 'BOOK_146354', 8.0),\n",
       " ('TEST_291223', 'BOOK_074219', 0.0),\n",
       " ('TEST_676942', 'BOOK_094086', 0.0),\n",
       " ('TEST_572561', 'BOOK_131511', 0.0),\n",
       " ('TEST_788299', 'BOOK_253662', 0.0),\n",
       " ('TEST_355815', 'BOOK_217346', 0.0),\n",
       " ('TEST_575574', 'BOOK_031256', 0.0),\n",
       " ('TEST_432068', 'BOOK_073301', 8.0),\n",
       " ('TEST_362622', 'BOOK_123878', 0.0),\n",
       " ('TEST_661289', 'BOOK_168348', 8.0),\n",
       " ('TEST_415284', 'BOOK_203229', 0.0),\n",
       " ('TEST_659155', 'BOOK_221102', 0.0),\n",
       " ('TEST_634013', 'BOOK_132569', 0.0),\n",
       " ('TEST_809747', 'BOOK_037335', 0.0),\n",
       " ('TEST_139604', 'BOOK_098188', 0.0),\n",
       " ('TEST_188442', 'BOOK_102835', 0.0),\n",
       " ('TEST_061528', 'BOOK_090236', 0.0),\n",
       " ('TEST_069137', 'BOOK_161526', 0.0),\n",
       " ('TEST_387217', 'BOOK_249447', 0.0),\n",
       " ('TEST_133550', 'BOOK_207850', 0.0),\n",
       " ('TEST_366987', 'BOOK_144360', 0.0),\n",
       " ('TEST_029577', 'BOOK_050555', 0.0),\n",
       " ('TEST_349600', 'BOOK_046178', 0.0),\n",
       " ('TEST_152163', 'BOOK_163891', 10.0),\n",
       " ('TEST_152919', 'BOOK_071411', 7.0),\n",
       " ('TEST_102357', 'BOOK_197334', 0.0),\n",
       " ('TEST_689011', 'BOOK_246836', 0.0),\n",
       " ('TEST_784614', 'BOOK_185409', 6.0),\n",
       " ('TEST_029772', 'BOOK_082146', 0.0),\n",
       " ('TEST_075633', 'BOOK_056186', 0.0),\n",
       " ('TEST_326036', 'BOOK_119471', 0.0),\n",
       " ('TEST_345058', 'BOOK_092554', 0.0),\n",
       " ('TEST_052130', 'BOOK_249201', 0.0),\n",
       " ('TEST_068732', 'BOOK_019078', 0.0),\n",
       " ('TEST_385072', 'BOOK_012115', 5.0),\n",
       " ('TEST_506051', 'BOOK_174947', 0.0),\n",
       " ('TEST_164167', 'BOOK_024645', 0.0),\n",
       " ('TEST_311437', 'BOOK_263268', 10.0),\n",
       " ('TEST_203645', 'BOOK_166297', 0.0),\n",
       " ('TEST_739420', 'BOOK_199166', 0.0),\n",
       " ('TEST_081875', 'BOOK_145571', 7.0),\n",
       " ('TEST_285293', 'BOOK_085944', 0.0),\n",
       " ('TEST_842735', 'BOOK_042505', 9.0),\n",
       " ('TEST_005073', 'BOOK_079462', 7.0),\n",
       " ('TEST_397852', 'BOOK_253693', 6.0),\n",
       " ('TEST_646896', 'BOOK_232572', 10.0),\n",
       " ('TEST_163642', 'BOOK_112654', 9.0),\n",
       " ('TEST_393058', 'BOOK_216867', 2.0),\n",
       " ('TEST_619965', 'BOOK_119910', 0.0),\n",
       " ('TEST_648427', 'BOOK_083795', 7.0),\n",
       " ('TEST_839719', 'BOOK_263240', 0.0),\n",
       " ('TEST_171199', 'BOOK_191092', 10.0),\n",
       " ('TEST_013072', 'BOOK_020496', 10.0),\n",
       " ('TEST_424434', 'BOOK_211216', 0.0),\n",
       " ('TEST_581152', 'BOOK_209670', 0.0),\n",
       " ('TEST_285656', 'BOOK_145888', 0.0),\n",
       " ('TEST_573007', 'BOOK_047259', 0.0),\n",
       " ('TEST_764542', 'BOOK_110040', 4.0),\n",
       " ('TEST_086221', 'BOOK_065143', 7.0),\n",
       " ('TEST_293013', 'BOOK_141763', 0.0),\n",
       " ('TEST_478843', 'BOOK_080897', 0.0),\n",
       " ('TEST_118407', 'BOOK_047819', 8.0),\n",
       " ('TEST_059473', 'BOOK_218232', 0.0),\n",
       " ('TEST_324392', 'BOOK_108757', 0.0),\n",
       " ('TEST_670938', 'BOOK_179779', 0.0),\n",
       " ('TEST_073955', 'BOOK_096731', 0.0),\n",
       " ('TEST_279760', 'BOOK_164448', 0.0),\n",
       " ('TEST_201498', 'BOOK_146507', 0.0),\n",
       " ('TEST_510270', 'BOOK_139467', 9.0),\n",
       " ('TEST_054693', 'BOOK_197052', 0.0),\n",
       " ('TEST_493465', 'BOOK_160488', 0.0),\n",
       " ('TEST_552836', 'BOOK_252111', 6.0),\n",
       " ('TEST_064284', 'BOOK_009304', 0.0),\n",
       " ('TEST_316805', 'BOOK_176876', 0.0),\n",
       " ('TEST_590518', 'BOOK_267627', 5.0),\n",
       " ('TEST_272374', 'BOOK_071347', 0.0),\n",
       " ('TEST_235687', 'BOOK_011323', 0.0),\n",
       " ('TEST_135793', 'BOOK_164305', 0.0),\n",
       " ('TEST_269227', 'BOOK_028235', 0.0),\n",
       " ('TEST_193410', 'BOOK_037756', 0.0),\n",
       " ('TEST_806312', 'BOOK_172333', 10.0),\n",
       " ('TEST_607149', 'BOOK_233808', 0.0),\n",
       " ('TEST_453562', 'BOOK_089725', 0.0),\n",
       " ('TEST_116130', 'BOOK_021925', 0.0),\n",
       " ('TEST_258970', 'BOOK_018196', 0.0),\n",
       " ('TEST_334958', 'BOOK_216096', 5.0),\n",
       " ('TEST_284759', 'BOOK_002289', 6.0),\n",
       " ('TEST_442788', 'BOOK_100057', 2.0),\n",
       " ('TEST_006104', 'BOOK_193881', 0.0),\n",
       " ('TEST_270548', 'BOOK_076622', 0.0),\n",
       " ('TEST_713380', 'BOOK_030982', 0.0),\n",
       " ('TEST_552846', 'BOOK_252352', 0.0),\n",
       " ('TEST_242216', 'BOOK_208608', 0.0),\n",
       " ('TEST_732431', 'BOOK_023244', 0.0),\n",
       " ('TEST_285511', 'BOOK_121045', 0.0),\n",
       " ('TEST_044707', 'BOOK_096395', 0.0),\n",
       " ('TEST_291135', 'BOOK_065144', 0.0),\n",
       " ('TEST_321393', 'BOOK_201920', 0.0),\n",
       " ('TEST_103693', 'BOOK_047861', 0.0),\n",
       " ('TEST_856245', 'BOOK_191988', 0.0),\n",
       " ('TEST_652003', 'BOOK_038388', 10.0),\n",
       " ('TEST_209323', 'BOOK_221815', 0.0),\n",
       " ('TEST_681490', 'BOOK_054509', 10.0),\n",
       " ('TEST_399933', 'BOOK_112853', 8.0),\n",
       " ('TEST_399788', 'BOOK_140081', 0.0),\n",
       " ('TEST_057021', 'BOOK_063148', 0.0),\n",
       " ('TEST_791849', 'BOOK_259634', 7.0),\n",
       " ('TEST_707946', 'BOOK_153358', 0.0),\n",
       " ('TEST_379344', 'BOOK_051796', 9.0),\n",
       " ('TEST_312335', 'BOOK_037268', 0.0),\n",
       " ('TEST_685339', 'BOOK_207078', 0.0),\n",
       " ('TEST_443728', 'BOOK_071489', 0.0),\n",
       " ('TEST_775729', 'BOOK_134780', 9.0),\n",
       " ('TEST_451640', 'BOOK_006539', 0.0),\n",
       " ('TEST_528462', 'BOOK_078535', 0.0),\n",
       " ('TEST_455018', 'BOOK_088217', 0.0),\n",
       " ('TEST_571537', 'BOOK_011639', 7.0),\n",
       " ('TEST_656416', 'BOOK_212121', 0.0),\n",
       " ('TEST_711234', 'BOOK_149486', 0.0),\n",
       " ('TEST_127380', 'BOOK_044635', 0.0),\n",
       " ('TEST_260742', 'BOOK_163585', 5.0),\n",
       " ('TEST_399800', 'BOOK_224588', 5.0),\n",
       " ('TEST_613401', 'BOOK_061748', 10.0),\n",
       " ('TEST_464292', 'BOOK_250735', 7.0),\n",
       " ('TEST_467064', 'BOOK_055362', 0.0),\n",
       " ('TEST_829998', 'BOOK_240083', 0.0),\n",
       " ('TEST_150834', 'BOOK_018071', 8.0),\n",
       " ('TEST_243061', 'BOOK_242128', 0.0),\n",
       " ('TEST_009352', 'BOOK_022588', 0.0),\n",
       " ('TEST_047303', 'BOOK_064819', 0.0),\n",
       " ('TEST_419945', 'BOOK_174046', 0.0),\n",
       " ('TEST_825311', 'BOOK_136258', 0.0),\n",
       " ('TEST_334339', 'BOOK_228440', 9.0),\n",
       " ('TEST_313004', 'BOOK_097119', 0.0),\n",
       " ('TEST_706328', 'BOOK_053379', 0.0),\n",
       " ('TEST_065485', 'BOOK_107343', 0.0),\n",
       " ('TEST_560590', 'BOOK_193945', 10.0),\n",
       " ('TEST_473796', 'BOOK_125263', 6.0),\n",
       " ('TEST_304444', 'BOOK_061597', 0.0),\n",
       " ('TEST_339105', 'BOOK_078799', 10.0),\n",
       " ('TEST_363149', 'BOOK_182319', 9.0),\n",
       " ('TEST_019503', 'BOOK_229210', 0.0),\n",
       " ('TEST_576765', 'BOOK_133402', 8.0),\n",
       " ('TEST_520786', 'BOOK_114840', 0.0),\n",
       " ('TEST_779232', 'BOOK_195306', 0.0),\n",
       " ('TEST_741442', 'BOOK_238367', 5.0),\n",
       " ('TEST_237935', 'BOOK_123261', 9.0),\n",
       " ('TEST_068665', 'BOOK_041622', 10.0),\n",
       " ('TEST_069788', 'BOOK_125458', 8.0),\n",
       " ('TEST_614056', 'BOOK_104149', 6.0),\n",
       " ('TEST_865369', 'BOOK_146151', 0.0),\n",
       " ('TEST_869365', 'BOOK_064349', 8.0),\n",
       " ('TEST_350531', 'BOOK_158484', 0.0),\n",
       " ('TEST_697883', 'BOOK_053017', 0.0),\n",
       " ('TEST_444585', 'BOOK_222175', 0.0),\n",
       " ('TEST_353981', 'BOOK_223227', 0.0),\n",
       " ('TEST_763535', 'BOOK_091136', 0.0),\n",
       " ('TEST_160771', 'BOOK_190454', 10.0),\n",
       " ('TEST_808498', 'BOOK_168116', 0.0),\n",
       " ('TEST_719691', 'BOOK_223796', 0.0),\n",
       " ('TEST_809579', 'BOOK_224177', 0.0),\n",
       " ('TEST_812567', 'BOOK_148736', 0.0),\n",
       " ('TEST_283310', 'BOOK_145510', 8.0),\n",
       " ('TEST_265948', 'BOOK_077783', 2.0),\n",
       " ('TEST_438225', 'BOOK_163166', 7.0),\n",
       " ('TEST_211115', 'BOOK_119574', 0.0),\n",
       " ('TEST_024434', 'BOOK_123086', 9.0),\n",
       " ('TEST_494953', 'BOOK_108133', 6.0),\n",
       " ('TEST_485007', 'BOOK_122112', 0.0),\n",
       " ('TEST_149967', 'BOOK_116907', 6.0),\n",
       " ('TEST_312564', 'BOOK_056801', 8.0),\n",
       " ('TEST_043208', 'BOOK_138953', 0.0),\n",
       " ('TEST_013689', 'BOOK_160275', 7.0),\n",
       " ('TEST_677989', 'BOOK_249377', 0.0),\n",
       " ('TEST_778509', 'BOOK_051660', 0.0),\n",
       " ('TEST_140951', 'BOOK_033169', 0.0),\n",
       " ('TEST_091796', 'BOOK_147018', 10.0),\n",
       " ('TEST_845294', 'BOOK_150368', 0.0),\n",
       " ('TEST_165207', 'BOOK_106952', 0.0),\n",
       " ('TEST_397452', 'BOOK_065319', 0.0),\n",
       " ('TEST_185091', 'BOOK_136630', 5.0),\n",
       " ('TEST_472646', 'BOOK_138719', 0.0),\n",
       " ('TEST_284105', 'BOOK_190059', 6.0),\n",
       " ('TEST_535123', 'BOOK_057056', 0.0),\n",
       " ('TEST_826879', 'BOOK_066527', 0.0),\n",
       " ('TEST_388950', 'BOOK_095576', 4.0),\n",
       " ('TEST_850164', 'BOOK_036180', 0.0),\n",
       " ('TEST_388733', 'BOOK_165923', 7.0),\n",
       " ('TEST_560632', 'BOOK_067968', 0.0),\n",
       " ('TEST_221932', 'BOOK_075947', 0.0),\n",
       " ('TEST_744097', 'BOOK_152672', 8.0),\n",
       " ('TEST_728202', 'BOOK_214556', 8.0),\n",
       " ('TEST_319729', 'BOOK_115411', 0.0),\n",
       " ('TEST_383999', 'BOOK_069764', 8.0),\n",
       " ('TEST_093643', 'BOOK_027669', 8.0),\n",
       " ('TEST_738558', 'BOOK_032775', 9.0),\n",
       " ('TEST_672199', 'BOOK_080477', 0.0),\n",
       " ('TEST_562831', 'BOOK_160291', 0.0),\n",
       " ('TEST_059905', 'BOOK_047379', 0.0),\n",
       " ('TEST_500957', 'BOOK_200533', 0.0),\n",
       " ('TEST_275665', 'BOOK_225883', 9.0),\n",
       " ('TEST_700445', 'BOOK_246335', 0.0),\n",
       " ('TEST_362779', 'BOOK_169925', 7.0),\n",
       " ('TEST_426501', 'BOOK_217539', 9.0),\n",
       " ('TEST_133991', 'BOOK_100409', 0.0),\n",
       " ('TEST_800461', 'BOOK_140380', 0.0),\n",
       " ('TEST_165170', 'BOOK_104325', 7.0),\n",
       " ('TEST_513199', 'BOOK_005950', 5.0),\n",
       " ('TEST_452622', 'BOOK_180862', 8.0),\n",
       " ('TEST_416991', 'BOOK_194723', 0.0),\n",
       " ('TEST_559371', 'BOOK_202380', 0.0),\n",
       " ('TEST_197900', 'BOOK_234898', 6.0),\n",
       " ('TEST_273930', 'BOOK_246360', 0.0),\n",
       " ('TEST_789371', 'BOOK_151647', 0.0),\n",
       " ('TEST_005265', 'BOOK_121403', 0.0),\n",
       " ('TEST_254095', 'BOOK_250355', 0.0),\n",
       " ('TEST_582676', 'BOOK_129381', 0.0),\n",
       " ('TEST_244341', 'BOOK_086755', 0.0),\n",
       " ('TEST_164924', 'BOOK_084460', 0.0),\n",
       " ('TEST_156992', 'BOOK_028481', 0.0),\n",
       " ('TEST_626636', 'BOOK_061270', 0.0),\n",
       " ('TEST_161231', 'BOOK_198275', 0.0),\n",
       " ('TEST_112470', 'BOOK_227624', 5.0),\n",
       " ('TEST_163825', 'BOOK_004619', 0.0),\n",
       " ('TEST_660448', 'BOOK_181835', 0.0),\n",
       " ('TEST_613142', 'BOOK_190099', 7.0),\n",
       " ('TEST_692605', 'BOOK_153144', 0.0),\n",
       " ('TEST_433820', 'BOOK_117316', 0.0),\n",
       " ('TEST_554264', 'BOOK_022648', 0.0),\n",
       " ('TEST_290789', 'BOOK_027703', 0.0),\n",
       " ('TEST_512829', 'BOOK_110834', 6.0),\n",
       " ('TEST_397460', 'BOOK_118030', 0.0),\n",
       " ('TEST_186095', 'BOOK_034318', 0.0),\n",
       " ('TEST_788946', 'BOOK_000451', 8.0),\n",
       " ('TEST_417409', 'BOOK_045458', 10.0),\n",
       " ('TEST_554178', 'BOOK_264816', 0.0),\n",
       " ('TEST_165782', 'BOOK_153320', 0.0),\n",
       " ('TEST_321895', 'BOOK_226234', 0.0),\n",
       " ('TEST_418997', 'BOOK_250953', 9.0),\n",
       " ('TEST_573901', 'BOOK_117179', 8.0),\n",
       " ('TEST_475777', 'BOOK_201940', 10.0),\n",
       " ('TEST_411306', 'BOOK_064881', 0.0),\n",
       " ('TEST_082115', 'BOOK_055078', 9.0),\n",
       " ('TEST_084783', 'BOOK_078658', 9.0),\n",
       " ('TEST_380139', 'BOOK_117466', 0.0),\n",
       " ('TEST_116339', 'BOOK_141913', 5.0),\n",
       " ('TEST_281754', 'BOOK_250180', 0.0),\n",
       " ('TEST_804503', 'BOOK_043160', 0.0),\n",
       " ('TEST_341694', 'BOOK_098645', 7.0),\n",
       " ('TEST_831704', 'BOOK_146874', 0.0),\n",
       " ('TEST_320243', 'BOOK_150324', 0.0),\n",
       " ('TEST_175510', 'BOOK_197451', 0.0),\n",
       " ('TEST_569758', 'BOOK_013473', 0.0),\n",
       " ('TEST_592974', 'BOOK_234999', 0.0),\n",
       " ('TEST_826942', 'BOOK_053907', 9.0),\n",
       " ('TEST_161467', 'BOOK_199558', 10.0),\n",
       " ('TEST_533497', 'BOOK_117316', 0.0),\n",
       " ('TEST_738724', 'BOOK_178340', 6.0),\n",
       " ('TEST_059979', 'BOOK_115695', 0.0),\n",
       " ('TEST_577419', 'BOOK_153109', 0.0),\n",
       " ('TEST_472555', 'BOOK_123420', 0.0),\n",
       " ('TEST_210678', 'BOOK_154603', 0.0),\n",
       " ('TEST_001561', 'BOOK_137822', 0.0),\n",
       " ('TEST_585167', 'BOOK_142310', 7.0),\n",
       " ('TEST_811630', 'BOOK_217742', 0.0),\n",
       " ('TEST_090032', 'BOOK_256247', 0.0),\n",
       " ('TEST_477291', 'BOOK_060878', 10.0),\n",
       " ('TEST_608291', 'BOOK_098803', 0.0),\n",
       " ('TEST_659723', 'BOOK_225981', 0.0),\n",
       " ('TEST_469410', 'BOOK_006485', 0.0),\n",
       " ('TEST_068263', 'BOOK_184599', 0.0),\n",
       " ('TEST_050924', 'BOOK_162024', 0.0),\n",
       " ('TEST_292437', 'BOOK_214138', 0.0),\n",
       " ('TEST_103187', 'BOOK_058792', 9.0),\n",
       " ('TEST_216863', 'BOOK_092176', 10.0),\n",
       " ('TEST_358541', 'BOOK_159768', 0.0),\n",
       " ('TEST_498465', 'BOOK_084952', 0.0),\n",
       " ('TEST_025599', 'BOOK_174991', 0.0),\n",
       " ('TEST_055985', 'BOOK_025373', 0.0),\n",
       " ('TEST_783150', 'BOOK_060371', 7.0),\n",
       " ('TEST_384434', 'BOOK_023707', 0.0),\n",
       " ('TEST_457988', 'BOOK_140281', 10.0),\n",
       " ('TEST_090318', 'BOOK_174588', 0.0),\n",
       " ('TEST_863640', 'BOOK_268663', 8.0),\n",
       " ('TEST_120937', 'BOOK_176446', 0.0),\n",
       " ('TEST_721684', 'BOOK_203188', 0.0),\n",
       " ('TEST_533720', 'BOOK_167843', 0.0),\n",
       " ('TEST_297323', 'BOOK_173013', 0.0),\n",
       " ('TEST_148818', 'BOOK_252455', 0.0),\n",
       " ('TEST_273467', 'BOOK_235856', 6.0),\n",
       " ('TEST_858883', 'BOOK_147377', 0.0),\n",
       " ('TEST_796798', 'BOOK_121270', 0.0),\n",
       " ('TEST_013105', 'BOOK_245146', 6.0),\n",
       " ('TEST_539055', 'BOOK_037436', 0.0),\n",
       " ('TEST_028207', 'BOOK_177686', 0.0),\n",
       " ('TEST_345191', 'BOOK_130803', 0.0),\n",
       " ('TEST_339423', 'BOOK_054875', 7.0),\n",
       " ('TEST_068810', 'BOOK_048427', 0.0),\n",
       " ('TEST_507050', 'BOOK_251995', 0.0),\n",
       " ('TEST_097884', 'BOOK_103980', 0.0),\n",
       " ('TEST_196444', 'BOOK_219200', 0.0),\n",
       " ('TEST_275978', 'BOOK_102261', 7.0),\n",
       " ('TEST_568790', 'BOOK_172715', 0.0),\n",
       " ('TEST_020989', 'BOOK_095793', 0.0),\n",
       " ('TEST_365363', 'BOOK_227610', 7.0),\n",
       " ('TEST_582564', 'BOOK_100728', 5.0),\n",
       " ('TEST_649259', 'BOOK_085554', 0.0),\n",
       " ('TEST_797372', 'BOOK_154960', 0.0),\n",
       " ('TEST_347377', 'BOOK_145823', 6.0),\n",
       " ('TEST_052644', 'BOOK_151185', 0.0),\n",
       " ('TEST_379439', 'BOOK_112170', 7.0),\n",
       " ('TEST_554263', 'BOOK_231142', 0.0),\n",
       " ('TEST_083255', 'BOOK_128893', 0.0),\n",
       " ('TEST_401736', 'BOOK_142548', 7.0),\n",
       " ('TEST_160180', 'BOOK_102077', 6.0),\n",
       " ('TEST_232008', 'BOOK_057689', 0.0),\n",
       " ('TEST_628134', 'BOOK_045827', 0.0),\n",
       " ('TEST_818874', 'BOOK_224980', 0.0),\n",
       " ('TEST_191156', 'BOOK_170585', 0.0),\n",
       " ('TEST_542545', 'BOOK_002289', 10.0),\n",
       " ('TEST_604528', 'BOOK_006127', 7.0),\n",
       " ('TEST_356509', 'BOOK_089180', 0.0),\n",
       " ('TEST_336824', 'BOOK_054523', 7.0),\n",
       " ('TEST_179324', 'BOOK_062415', 0.0),\n",
       " ('TEST_562510', 'BOOK_203562', 9.0),\n",
       " ('TEST_190831', 'BOOK_037050', 6.0),\n",
       " ('TEST_249505', 'BOOK_135956', 0.0),\n",
       " ('TEST_174375', 'BOOK_133932', 8.0),\n",
       " ('TEST_467138', 'BOOK_018049', 0.0),\n",
       " ('TEST_420106', 'BOOK_153827', 0.0),\n",
       " ('TEST_320421', 'BOOK_255678', 0.0),\n",
       " ('TEST_637918', 'BOOK_184678', 0.0),\n",
       " ('TEST_049707', 'BOOK_006105', 0.0),\n",
       " ('TEST_021721', 'BOOK_186471', 5.0),\n",
       " ('TEST_731727', 'BOOK_192213', 0.0),\n",
       " ('TEST_043795', 'BOOK_241760', 0.0),\n",
       " ('TEST_397475', 'BOOK_233719', 0.0),\n",
       " ('TEST_630636', 'BOOK_104955', 0.0),\n",
       " ('TEST_056912', 'BOOK_261929', 0.0),\n",
       " ('TEST_811373', 'BOOK_201202', 0.0),\n",
       " ('TEST_529564', 'BOOK_099903', 0.0),\n",
       " ('TEST_428554', 'BOOK_158627', 8.0),\n",
       " ('TEST_332579', 'BOOK_254824', 4.0),\n",
       " ('TEST_244710', 'BOOK_229092', 0.0),\n",
       " ('TEST_285617', 'BOOK_139340', 8.0),\n",
       " ('TEST_071971', 'BOOK_078908', 0.0),\n",
       " ('TEST_141975', 'BOOK_232882', 0.0),\n",
       " ('TEST_348778', 'BOOK_124533', 5.0),\n",
       " ('TEST_667733', 'BOOK_016631', 9.0),\n",
       " ('TEST_711490', 'BOOK_254875', 7.0),\n",
       " ('TEST_512920', 'BOOK_046626', 10.0),\n",
       " ('TEST_691348', 'BOOK_033551', 0.0),\n",
       " ('TEST_359845', 'BOOK_175575', 0.0),\n",
       " ('TEST_218927', 'BOOK_222933', 0.0),\n",
       " ('TEST_419311', 'BOOK_095348', 0.0),\n",
       " ('TEST_442752', 'BOOK_028713', 9.0),\n",
       " ('TEST_628017', 'BOOK_021149', 0.0),\n",
       " ('TEST_061065', 'BOOK_167572', 0.0),\n",
       " ('TEST_494709', 'BOOK_060625', 6.0),\n",
       " ('TEST_215662', 'BOOK_074187', 0.0),\n",
       " ('TEST_198275', 'BOOK_077230', 0.0),\n",
       " ('TEST_269084', 'BOOK_033305', 0.0),\n",
       " ('TEST_350078', 'BOOK_094713', 10.0),\n",
       " ('TEST_214605', 'BOOK_181003', 0.0),\n",
       " ('TEST_292996', 'BOOK_107117', 5.0),\n",
       " ('TEST_319429', 'BOOK_211648', 0.0),\n",
       " ('TEST_121094', 'BOOK_193154', 0.0),\n",
       " ('TEST_442465', 'BOOK_245608', 0.0),\n",
       " ('TEST_155501', 'BOOK_194018', 9.0),\n",
       " ('TEST_499464', 'BOOK_253209', 4.0),\n",
       " ('TEST_759004', 'BOOK_163526', 9.0),\n",
       " ('TEST_820937', 'BOOK_198752', 0.0),\n",
       " ('TEST_449964', 'BOOK_114840', 0.0),\n",
       " ('TEST_808004', 'BOOK_116348', 0.0),\n",
       " ('TEST_319629', 'BOOK_059117', 8.0),\n",
       " ('TEST_706181', 'BOOK_044929', 0.0),\n",
       " ('TEST_563407', 'BOOK_111012', 0.0),\n",
       " ('TEST_720711', 'BOOK_174907', 5.0),\n",
       " ('TEST_125311', 'BOOK_092455', 10.0),\n",
       " ('TEST_246857', 'BOOK_110155', 0.0),\n",
       " ('TEST_087135', 'BOOK_065431', 0.0),\n",
       " ('TEST_322725', 'BOOK_180790', 0.0),\n",
       " ('TEST_537372', 'BOOK_000785', 0.0),\n",
       " ('TEST_075990', 'BOOK_224220', 0.0),\n",
       " ('TEST_235547', 'BOOK_195268', 0.0),\n",
       " ('TEST_516794', 'BOOK_076055', 0.0),\n",
       " ('TEST_682882', 'BOOK_002218', 0.0),\n",
       " ('TEST_035309', 'BOOK_269356', 0.0),\n",
       " ('TEST_382976', 'BOOK_186242', 0.0),\n",
       " ('TEST_735781', 'BOOK_125869', 9.0),\n",
       " ('TEST_664375', 'BOOK_017652', 0.0),\n",
       " ('TEST_827104', 'BOOK_037989', 5.0),\n",
       " ('TEST_421362', 'BOOK_210395', 3.0),\n",
       " ('TEST_463952', 'BOOK_088610', 9.0),\n",
       " ('TEST_507088', 'BOOK_040442', 0.0),\n",
       " ('TEST_858354', 'BOOK_197974', 0.0),\n",
       " ('TEST_829622', 'BOOK_045651', 0.0),\n",
       " ('TEST_768437', 'BOOK_249880', 8.0),\n",
       " ('TEST_750984', 'BOOK_189120', 0.0),\n",
       " ('TEST_358381', 'BOOK_073909', 0.0),\n",
       " ('TEST_207186', 'BOOK_220480', 10.0),\n",
       " ('TEST_697279', 'BOOK_129794', 8.0),\n",
       " ('TEST_382372', 'BOOK_140924', 0.0),\n",
       " ('TEST_657570', 'BOOK_080711', 6.0),\n",
       " ('TEST_733175', 'BOOK_107558', 8.0),\n",
       " ('TEST_052177', 'BOOK_176792', 6.0),\n",
       " ('TEST_605347', 'BOOK_106591', 9.0),\n",
       " ('TEST_019544', 'BOOK_233430', 0.0),\n",
       " ('TEST_035531', 'BOOK_091524', 9.0),\n",
       " ('TEST_332816', 'BOOK_000330', 0.0),\n",
       " ('TEST_359678', 'BOOK_063816', 0.0),\n",
       " ('TEST_208516', 'BOOK_054528', 0.0),\n",
       " ('TEST_271956', 'BOOK_188881', 8.0),\n",
       " ('TEST_298169', 'BOOK_094885', 8.0),\n",
       " ('TEST_690921', 'BOOK_239282', 0.0),\n",
       " ('TEST_780056', 'BOOK_031579', 0.0),\n",
       " ('TEST_029879', 'BOOK_265300', 8.0),\n",
       " ('TEST_827366', 'BOOK_148502', 9.0),\n",
       " ('TEST_012538', 'BOOK_261929', 0.0),\n",
       " ('TEST_127631', 'BOOK_236581', 0.0),\n",
       " ('TEST_146318', 'BOOK_166110', 0.0),\n",
       " ('TEST_716945', 'BOOK_246669', 8.0),\n",
       " ('TEST_352888', 'BOOK_200268', 8.0),\n",
       " ('TEST_517971', 'BOOK_193650', 0.0),\n",
       " ('TEST_167225', 'BOOK_264952', 0.0),\n",
       " ('TEST_168449', 'BOOK_028215', 5.0),\n",
       " ('TEST_096399', 'BOOK_114358', 0.0),\n",
       " ('TEST_595768', 'BOOK_160635', 0.0),\n",
       " ('TEST_248832', 'BOOK_111022', 8.0),\n",
       " ('TEST_368094', 'BOOK_097033', 0.0),\n",
       " ('TEST_019473', 'BOOK_225232', 0.0),\n",
       " ('TEST_854881', 'BOOK_244387', 0.0),\n",
       " ('TEST_712113', 'BOOK_231098', 0.0),\n",
       " ('TEST_233640', 'BOOK_024421', 0.0),\n",
       " ('TEST_652132', 'BOOK_144659', 0.0),\n",
       " ('TEST_386760', 'BOOK_064284', 0.0),\n",
       " ('TEST_749570', 'BOOK_189120', 0.0),\n",
       " ('TEST_589654', 'BOOK_235345', 10.0),\n",
       " ('TEST_865191', 'BOOK_112248', 7.0),\n",
       " ('TEST_375682', 'BOOK_181236', 9.0),\n",
       " ('TEST_299358', 'BOOK_187177', 0.0),\n",
       " ('TEST_386691', 'BOOK_037576', 0.0),\n",
       " ('TEST_649206', 'BOOK_222248', 0.0),\n",
       " ('TEST_019586', 'BOOK_238782', 0.0),\n",
       " ('TEST_222023', 'BOOK_111434', 0.0),\n",
       " ('TEST_145009', 'BOOK_188987', 0.0),\n",
       " ('TEST_852648', 'BOOK_047819', 0.0),\n",
       " ('TEST_391239', 'BOOK_178515', 0.0),\n",
       " ('TEST_826888', 'BOOK_157993', 10.0),\n",
       " ('TEST_706293', 'BOOK_051676', 0.0),\n",
       " ('TEST_015811', 'BOOK_048354', 0.0),\n",
       " ('TEST_626630', 'BOOK_056122', 0.0),\n",
       " ('TEST_681769', 'BOOK_243895', 5.0),\n",
       " ('TEST_061372', 'BOOK_254426', 10.0),\n",
       " ('TEST_185789', 'BOOK_229528', 0.0),\n",
       " ('TEST_451540', 'BOOK_061442', 5.0),\n",
       " ('TEST_293484', 'BOOK_098127', 9.0),\n",
       " ('TEST_485217', 'BOOK_174532', 5.0),\n",
       " ('TEST_386523', 'BOOK_148204', 0.0),\n",
       " ('TEST_372667', 'BOOK_019190', 0.0),\n",
       " ('TEST_555758', 'BOOK_177078', 0.0),\n",
       " ('TEST_035545', 'BOOK_095982', 8.0),\n",
       " ('TEST_069053', 'BOOK_132003', 0.0),\n",
       " ('TEST_696795', 'BOOK_196773', 6.0),\n",
       " ('TEST_822602', 'BOOK_103289', 0.0),\n",
       " ('TEST_825352', 'BOOK_156642', 0.0),\n",
       " ('TEST_503529', 'BOOK_033941', 0.0),\n",
       " ('TEST_246327', 'BOOK_010919', 0.0),\n",
       " ('TEST_720361', 'BOOK_186972', 0.0),\n",
       " ('TEST_010789', 'BOOK_078807', 0.0),\n",
       " ('TEST_389866', 'BOOK_173676', 0.0),\n",
       " ('TEST_566674', 'BOOK_082991', 10.0),\n",
       " ('TEST_508796', 'BOOK_170507', 7.0),\n",
       " ('TEST_233343', 'BOOK_024580', 6.0),\n",
       " ('TEST_126748', 'BOOK_007470', 0.0),\n",
       " ('TEST_165472', 'BOOK_126984', 0.0),\n",
       " ('TEST_793178', 'BOOK_185515', 8.0),\n",
       " ('TEST_239971', 'BOOK_229164', 0.0),\n",
       " ('TEST_282324', 'BOOK_251617', 0.0),\n",
       " ('TEST_858649', 'BOOK_245006', 0.0),\n",
       " ('TEST_707575', 'BOOK_129334', 0.0),\n",
       " ('TEST_181113', 'BOOK_215700', 0.0),\n",
       " ('TEST_552986', 'BOOK_255514', 8.0),\n",
       " ('TEST_509441', 'BOOK_251227', 10.0),\n",
       " ('TEST_371552', 'BOOK_072963', 0.0),\n",
       " ('TEST_184902', 'BOOK_069884', 10.0),\n",
       " ('TEST_402143', 'BOOK_077352', 0.0),\n",
       " ('TEST_147023', 'BOOK_166412', 0.0),\n",
       " ('TEST_076762', 'BOOK_156625', 10.0),\n",
       " ('TEST_833475', 'BOOK_034481', 0.0),\n",
       " ('TEST_395280', 'BOOK_267054', 0.0),\n",
       " ('TEST_678575', 'BOOK_085880', 0.0),\n",
       " ('TEST_790885', 'BOOK_200369', 7.0),\n",
       " ('TEST_670463', 'BOOK_194328', 0.0),\n",
       " ('TEST_553112', 'BOOK_258861', 0.0),\n",
       " ('TEST_085133', 'BOOK_055789', 0.0),\n",
       " ('TEST_710772', 'BOOK_074219', 10.0),\n",
       " ('TEST_120990', 'BOOK_181472', 0.0),\n",
       " ('TEST_480229', 'BOOK_260838', 0.0),\n",
       " ('TEST_572832', 'BOOK_002272', 0.0),\n",
       " ('TEST_406962', 'BOOK_188005', 0.0),\n",
       " ('TEST_227719', 'BOOK_126774', 0.0),\n",
       " ('TEST_396368', 'BOOK_077028', 0.0),\n",
       " ('TEST_121186', 'BOOK_206109', 0.0),\n",
       " ('TEST_545002', 'BOOK_060947', 10.0),\n",
       " ('TEST_056144', 'BOOK_073011', 0.0),\n",
       " ('TEST_118549', 'BOOK_140809', 0.0),\n",
       " ('TEST_082199', 'BOOK_239788', 10.0),\n",
       " ('TEST_172574', 'BOOK_265893', 0.0),\n",
       " ('TEST_322079', 'BOOK_237265', 0.0),\n",
       " ('TEST_034287', 'BOOK_028824', 0.0),\n",
       " ('TEST_339258', 'BOOK_194618', 0.0),\n",
       " ('TEST_310365', 'BOOK_173770', 0.0),\n",
       " ('TEST_745613', 'BOOK_097352', 7.0),\n",
       " ('TEST_688033', 'BOOK_222861', 0.0),\n",
       " ('TEST_537158', 'BOOK_238606', 0.0),\n",
       " ('TEST_605921', 'BOOK_037746', 0.0),\n",
       " ('TEST_791324', 'BOOK_134194', 0.0),\n",
       " ('TEST_797990', 'BOOK_135656', 10.0),\n",
       " ('TEST_211335', 'BOOK_268729', 0.0),\n",
       " ('TEST_434377', 'BOOK_000347', 0.0),\n",
       " ('TEST_642523', 'BOOK_084275', 0.0),\n",
       " ('TEST_436534', 'BOOK_224682', 0.0),\n",
       " ('TEST_108656', 'BOOK_211704', 9.0),\n",
       " ('TEST_621406', 'BOOK_222294', 0.0),\n",
       " ('TEST_299688', 'BOOK_207495', 0.0),\n",
       " ('TEST_432554', 'BOOK_223269', 8.0),\n",
       " ('TEST_357664', 'BOOK_257148', 8.0),\n",
       " ('TEST_651046', 'BOOK_249091', 0.0),\n",
       " ('TEST_037755', 'BOOK_029020', 0.0),\n",
       " ('TEST_247064', 'BOOK_152913', 0.0),\n",
       " ('TEST_464113', 'BOOK_170972', 7.0),\n",
       " ('TEST_305451', 'BOOK_093710', 0.0),\n",
       " ('TEST_831730', 'BOOK_207828', 0.0),\n",
       " ('TEST_398406', 'BOOK_059671', 5.0),\n",
       " ('TEST_196040', 'BOOK_241346', 9.0),\n",
       " ('TEST_416563', 'BOOK_074327', 0.0),\n",
       " ('TEST_041778', 'BOOK_033777', 0.0),\n",
       " ('TEST_802252', 'BOOK_011008', 7.0),\n",
       " ('TEST_448964', 'BOOK_061650', 0.0),\n",
       " ('TEST_589554', 'BOOK_124322', 0.0),\n",
       " ('TEST_039191', 'BOOK_207635', 9.0),\n",
       " ('TEST_219184', 'BOOK_119629', 8.0),\n",
       " ('TEST_572782', 'BOOK_075419', 0.0),\n",
       " ('TEST_252115', 'BOOK_065795', 7.0),\n",
       " ('TEST_532805', 'BOOK_187896', 0.0),\n",
       " ('TEST_316725', 'BOOK_169939', 0.0),\n",
       " ('TEST_445616', 'BOOK_021589', 0.0),\n",
       " ('TEST_617981', 'BOOK_191169', 0.0),\n",
       " ('TEST_030453', 'BOOK_000565', 9.0),\n",
       " ('TEST_407723', 'BOOK_134722', 0.0),\n",
       " ('TEST_850136', 'BOOK_031931', 0.0),\n",
       " ('TEST_229387', 'BOOK_157901', 6.0),\n",
       " ('TEST_788873', 'BOOK_229123', 9.0),\n",
       " ('TEST_744509', 'BOOK_233386', 0.0),\n",
       " ('TEST_164712', 'BOOK_067566', 0.0),\n",
       " ('TEST_257525', 'BOOK_138982', 9.0),\n",
       " ('TEST_140678', 'BOOK_042155', 3.0),\n",
       " ('TEST_479176', 'BOOK_121851', 0.0),\n",
       " ('TEST_584848', 'BOOK_137273', 0.0),\n",
       " ('TEST_008908', 'BOOK_092226', 0.0),\n",
       " ('TEST_347040', 'BOOK_105019', 0.0),\n",
       " ('TEST_005446', 'BOOK_158619', 0.0),\n",
       " ('TEST_780074', 'BOOK_034743', 0.0),\n",
       " ('TEST_857426', 'BOOK_058751', 0.0),\n",
       " ('TEST_403621', 'BOOK_059618', 6.0),\n",
       " ('TEST_726933', 'BOOK_098454', 0.0),\n",
       " ('TEST_174484', 'BOOK_100753', 0.0),\n",
       " ('TEST_204443', 'BOOK_023191', 0.0),\n",
       " ('TEST_505704', 'BOOK_251639', 0.0),\n",
       " ('TEST_301402', 'BOOK_022037', 0.0),\n",
       " ('TEST_053293', 'BOOK_268525', 0.0),\n",
       " ('TEST_129515', 'BOOK_177707', 0.0),\n",
       " ('TEST_349026', 'BOOK_182279', 0.0),\n",
       " ('TEST_048604', 'BOOK_251272', 10.0),\n",
       " ('TEST_403877', 'BOOK_095604', 8.0),\n",
       " ('TEST_836125', 'BOOK_261929', 8.0),\n",
       " ('TEST_485844', 'BOOK_030254', 0.0),\n",
       " ('TEST_828360', 'BOOK_227972', 8.0),\n",
       " ('TEST_258563', 'BOOK_231478', 7.0),\n",
       " ('TEST_300963', 'BOOK_128182', 0.0),\n",
       " ('TEST_745552', 'BOOK_029426', 0.0),\n",
       " ('TEST_246525', 'BOOK_045126', 0.0),\n",
       " ('TEST_453770', 'BOOK_002209', 7.0),\n",
       " ('TEST_128774', 'BOOK_118663', 7.0),\n",
       " ('TEST_102314', 'BOOK_153453', 0.0),\n",
       " ('TEST_432279', 'BOOK_160315', 6.0),\n",
       " ('TEST_149361', 'BOOK_252722', 8.0),\n",
       " ('TEST_293848', 'BOOK_244483', 0.0),\n",
       " ('TEST_354197', 'BOOK_100551', 0.0),\n",
       " ('TEST_513103', 'BOOK_105486', 8.0),\n",
       " ('TEST_853685', 'BOOK_132100', 0.0),\n",
       " ('TEST_416835', 'BOOK_151733', 0.0),\n",
       " ('TEST_206806', 'BOOK_121727', 10.0),\n",
       " ('TEST_238155', 'BOOK_249146', 0.0),\n",
       " ('TEST_276546', 'BOOK_259246', 0.0),\n",
       " ('TEST_382390', 'BOOK_050555', 0.0),\n",
       " ('TEST_464430', 'BOOK_183926', 5.0),\n",
       " ('TEST_120170', 'BOOK_089045', 0.0),\n",
       " ('TEST_270247', 'BOOK_216936', 0.0),\n",
       " ('TEST_469679', 'BOOK_002111', 0.0),\n",
       " ('TEST_676172', 'BOOK_220093', 6.0),\n",
       " ('TEST_779909', 'BOOK_005394', 0.0),\n",
       " ('TEST_027538', 'BOOK_234910', 0.0),\n",
       " ('TEST_461528', 'BOOK_218298', 0.0),\n",
       " ('TEST_353563', 'BOOK_035158', 10.0),\n",
       " ('TEST_344815', 'BOOK_013743', 0.0),\n",
       " ('TEST_749692', 'BOOK_251227', 0.0),\n",
       " ('TEST_701855', 'BOOK_189078', 0.0),\n",
       " ('TEST_186393', 'BOOK_104092', 8.0),\n",
       " ('TEST_358624', 'BOOK_206219', 0.0),\n",
       " ('TEST_245343', 'BOOK_135679', 0.0),\n",
       " ('TEST_132921', 'BOOK_149640', 0.0),\n",
       " ('TEST_713059', 'BOOK_235090', 0.0),\n",
       " ('TEST_615259', 'BOOK_233649', 0.0),\n",
       " ('TEST_356443', 'BOOK_079538', 0.0),\n",
       " ('TEST_600693', 'BOOK_158597', 0.0),\n",
       " ('TEST_137303', 'BOOK_030594', 0.0),\n",
       " ('TEST_485094', 'BOOK_146884', 0.0),\n",
       " ('TEST_455572', 'BOOK_144729', 0.0),\n",
       " ('TEST_257951', 'BOOK_003096', 0.0),\n",
       " ('TEST_742978', 'BOOK_139338', 0.0),\n",
       " ('TEST_729123', 'BOOK_204043', 0.0),\n",
       " ('TEST_065853', 'BOOK_136917', 0.0),\n",
       " ('TEST_121224', 'BOOK_209189', 0.0),\n",
       " ('TEST_758032', 'BOOK_028118', 8.0),\n",
       " ('TEST_853068', 'BOOK_078297', 0.0),\n",
       " ('TEST_485803', 'BOOK_018450', 0.0),\n",
       " ('TEST_557738', 'BOOK_077004', 8.0),\n",
       " ('TEST_155717', 'BOOK_073043', 0.0),\n",
       " ('TEST_515929', 'BOOK_154354', 0.0),\n",
       " ('TEST_088994', 'BOOK_146274', 8.0),\n",
       " ('TEST_063846', 'BOOK_145129', 8.0),\n",
       " ('TEST_086669', 'BOOK_079634', 0.0),\n",
       " ('TEST_626774', 'BOOK_053909', 0.0),\n",
       " ('TEST_629242', 'BOOK_267877', 7.0),\n",
       " ('TEST_832676', 'BOOK_168366', 10.0),\n",
       " ('TEST_319270', 'BOOK_089237', 0.0),\n",
       " ('TEST_325511', 'BOOK_088684', 0.0),\n",
       " ('TEST_658588', 'BOOK_090171', 0.0),\n",
       " ('TEST_292259', 'BOOK_191971', 0.0),\n",
       " ('TEST_798879', 'BOOK_138553', 0.0),\n",
       " ('TEST_129391', 'BOOK_232310', 0.0),\n",
       " ('TEST_524721', 'BOOK_067125', 0.0),\n",
       " ('TEST_366277', 'BOOK_000644', 0.0),\n",
       " ('TEST_360679', 'BOOK_015234', 10.0),\n",
       " ('TEST_685136', 'BOOK_165966', 0.0),\n",
       " ('TEST_858932', 'BOOK_240731', 6.0),\n",
       " ('TEST_274749', 'BOOK_071559', 0.0),\n",
       " ('TEST_168823', 'BOOK_110779', 0.0),\n",
       " ('TEST_650408', 'BOOK_050897', 9.0),\n",
       " ('TEST_774948', 'BOOK_169943', 6.0),\n",
       " ('TEST_055359', 'BOOK_149355', 0.0),\n",
       " ('TEST_565289', 'BOOK_229308', 0.0),\n",
       " ('TEST_507131', 'BOOK_097015', 8.0),\n",
       " ('TEST_550090', 'BOOK_184618', 5.0),\n",
       " ('TEST_135771', 'BOOK_151782', 0.0),\n",
       " ('TEST_306745', 'BOOK_037274', 0.0),\n",
       " ('TEST_079339', 'BOOK_156273', 0.0),\n",
       " ('TEST_619599', 'BOOK_064080', 8.0),\n",
       " ('TEST_569287', 'BOOK_134635', 0.0),\n",
       " ('TEST_488671', 'BOOK_089084', 0.0),\n",
       " ('TEST_825390', 'BOOK_177473', 0.0),\n",
       " ('TEST_395082', 'BOOK_010940', 8.0),\n",
       " ('TEST_129769', 'BOOK_091002', 0.0),\n",
       " ('TEST_621400', 'BOOK_220197', 0.0),\n",
       " ('TEST_791199', 'BOOK_075824', 6.0),\n",
       " ('TEST_555308', 'BOOK_091927', 0.0),\n",
       " ('TEST_683714', 'BOOK_255803', 0.0),\n",
       " ('TEST_785171', 'BOOK_026917', 9.0),\n",
       " ('TEST_839382', 'BOOK_002075', 0.0),\n",
       " ('TEST_591635', 'BOOK_147481', 9.0),\n",
       " ('TEST_556453', 'BOOK_218046', 10.0),\n",
       " ('TEST_608124', 'BOOK_036691', 6.0),\n",
       " ('TEST_611659', 'BOOK_191005', 0.0),\n",
       " ('TEST_398687', 'BOOK_167068', 0.0),\n",
       " ('TEST_181869', 'BOOK_082812', 0.0),\n",
       " ('TEST_569304', 'BOOK_224391', 0.0),\n",
       " ('TEST_062114', 'BOOK_017531', 9.0),\n",
       " ('TEST_725170', 'BOOK_145896', 10.0),\n",
       " ('TEST_465997', 'BOOK_008228', 0.0),\n",
       " ('TEST_816752', 'BOOK_032717', 0.0),\n",
       " ('TEST_866479', 'BOOK_128337', 10.0),\n",
       " ('TEST_641532', 'BOOK_125377', 0.0),\n",
       " ('TEST_199487', 'BOOK_140644', 0.0),\n",
       " ('TEST_394547', 'BOOK_264376', 9.0),\n",
       " ('TEST_328190', 'BOOK_253825', 0.0),\n",
       " ('TEST_422385', 'BOOK_100401', 10.0),\n",
       " ('TEST_378561', 'BOOK_009967', 0.0),\n",
       " ('TEST_347265', 'BOOK_065327', 0.0),\n",
       " ('TEST_535570', 'BOOK_204222', 0.0),\n",
       " ('TEST_007496', 'BOOK_208957', 8.0),\n",
       " ('TEST_540035', 'BOOK_148414', 0.0),\n",
       " ('TEST_203676', 'BOOK_190303', 0.0),\n",
       " ('TEST_789582', 'BOOK_020063', 0.0),\n",
       " ('TEST_432146', 'BOOK_244308', 0.0),\n",
       " ('TEST_476601', 'BOOK_104472', 0.0),\n",
       " ('TEST_837369', 'BOOK_104950', 0.0),\n",
       " ('TEST_449556', 'BOOK_036532', 8.0),\n",
       " ('TEST_699850', 'BOOK_192773', 0.0),\n",
       " ('TEST_648438', 'BOOK_105804', 8.0),\n",
       " ('TEST_612168', 'BOOK_215417', 5.0),\n",
       " ('TEST_489395', 'BOOK_123086', 0.0),\n",
       " ('TEST_455751', 'BOOK_199413', 0.0),\n",
       " ('TEST_428954', 'BOOK_149271', 0.0),\n",
       " ('TEST_435507', 'BOOK_119805', 0.0),\n",
       " ('TEST_101666', 'BOOK_100728', 0.0),\n",
       " ('TEST_178159', 'BOOK_243601', 10.0),\n",
       " ('TEST_070237', 'BOOK_232077', 7.0),\n",
       " ('TEST_475867', 'BOOK_230938', 9.0),\n",
       " ('TEST_188965', 'BOOK_175101', 0.0),\n",
       " ('TEST_139849', 'BOOK_153127', 8.0),\n",
       " ('TEST_851325', 'BOOK_176833', 0.0),\n",
       " ('TEST_133897', 'BOOK_209440', 0.0),\n",
       " ('TEST_020376', 'BOOK_209035', 0.0),\n",
       " ('TEST_357798', 'BOOK_139061', 9.0),\n",
       " ('TEST_813363', 'BOOK_191486', 10.0),\n",
       " ('TEST_469677', 'BOOK_000514', 0.0),\n",
       " ('TEST_385842', 'BOOK_264326', 0.0),\n",
       " ('TEST_322374', 'BOOK_146502', 0.0),\n",
       " ('TEST_237921', 'BOOK_117803', 0.0),\n",
       " ('TEST_238688', 'BOOK_017845', 0.0),\n",
       " ('TEST_348544', 'BOOK_267054', 0.0),\n",
       " ('TEST_253446', 'BOOK_014046', 7.0),\n",
       " ('TEST_059276', 'BOOK_111375', 0.0),\n",
       " ('TEST_457848', 'BOOK_190349', 10.0),\n",
       " ('TEST_798783', 'BOOK_157027', 9.0),\n",
       " ('TEST_687013', 'BOOK_081074', 10.0),\n",
       " ('TEST_094247', 'BOOK_094834', 9.0),\n",
       " ('TEST_111129', 'BOOK_111946', 10.0),\n",
       " ('TEST_029115', 'BOOK_140818', 0.0),\n",
       " ('TEST_073652', 'BOOK_189120', 0.0),\n",
       " ('TEST_335474', 'BOOK_106394', 7.0),\n",
       " ('TEST_783602', 'BOOK_041346', 10.0),\n",
       " ('TEST_664249', 'BOOK_245046', 0.0),\n",
       " ('TEST_753079', 'BOOK_198592', 0.0),\n",
       " ('TEST_105380', 'BOOK_021507', 0.0),\n",
       " ('TEST_070962', 'BOOK_261962', 8.0),\n",
       " ('TEST_861238', 'BOOK_075013', 6.0),\n",
       " ('TEST_037273', 'BOOK_219706', 9.0),\n",
       " ('TEST_854971', 'BOOK_240488', 0.0),\n",
       " ('TEST_458274', 'BOOK_228563', 8.0),\n",
       " ('TEST_474446', 'BOOK_070906', 10.0),\n",
       " ('TEST_545024', 'BOOK_061433', 0.0),\n",
       " ('TEST_197231', 'BOOK_043694', 0.0),\n",
       " ('TEST_432676', 'BOOK_230002', 0.0),\n",
       " ('TEST_436453', 'BOOK_216762', 0.0),\n",
       " ('TEST_506629', 'BOOK_243295', 0.0),\n",
       " ('TEST_320546', 'BOOK_140443', 0.0),\n",
       " ('TEST_611372', 'BOOK_119609', 0.0),\n",
       " ('TEST_185375', 'BOOK_255377', 0.0),\n",
       " ('TEST_368828', 'BOOK_263374', 0.0),\n",
       " ('TEST_241934', 'BOOK_111553', 0.0),\n",
       " ('TEST_137205', 'BOOK_173087', 8.0),\n",
       " ('TEST_227246', 'BOOK_143117', 0.0),\n",
       " ('TEST_010408', 'BOOK_250939', 0.0),\n",
       " ('TEST_522467', 'BOOK_184447', 0.0),\n",
       " ('TEST_455242', 'BOOK_149388', 0.0),\n",
       " ('TEST_197470', 'BOOK_253711', 0.0),\n",
       " ('TEST_369343', 'BOOK_144508', 10.0),\n",
       " ('TEST_018372', 'BOOK_103744', 0.0),\n",
       " ('TEST_857365', 'BOOK_048938', 0.0),\n",
       " ('TEST_033334', 'BOOK_227253', 10.0),\n",
       " ('TEST_552878', 'BOOK_253020', 7.0),\n",
       " ('TEST_528914', 'BOOK_124494', 0.0),\n",
       " ('TEST_447314', 'BOOK_084390', 0.0),\n",
       " ('TEST_001769', 'BOOK_244667', 0.0),\n",
       " ('TEST_129326', 'BOOK_204327', 0.0),\n",
       " ('TEST_710045', 'BOOK_129682', 5.0),\n",
       " ('TEST_823210', 'BOOK_124483', 0.0),\n",
       " ('TEST_341343', 'BOOK_251219', 10.0),\n",
       " ('TEST_395074', 'BOOK_205916', 10.0),\n",
       " ('TEST_762669', 'BOOK_214624', 0.0),\n",
       " ('TEST_700175', 'BOOK_107558', 6.0),\n",
       " ('TEST_414125', 'BOOK_110811', 7.0),\n",
       " ('TEST_554415', 'BOOK_048713', 0.0),\n",
       " ('TEST_126505', 'BOOK_227608', 0.0),\n",
       " ('TEST_191926', 'BOOK_099657', 8.0),\n",
       " ('TEST_664187', 'BOOK_231420', 0.0),\n",
       " ('TEST_339613', 'BOOK_108257', 8.0),\n",
       " ('TEST_818139', 'BOOK_053053', 0.0),\n",
       " ('TEST_048280', 'BOOK_062280', 0.0),\n",
       " ('TEST_472548', 'BOOK_122544', 9.0),\n",
       " ('TEST_554004', 'BOOK_135414', 0.0),\n",
       " ('TEST_499308', 'BOOK_085982', 8.0),\n",
       " ('TEST_540816', 'BOOK_236315', 0.0),\n",
       " ('TEST_434905', 'BOOK_053902', 0.0),\n",
       " ('TEST_732329', 'BOOK_026877', 7.0),\n",
       " ('TEST_733781', 'BOOK_110313', 0.0),\n",
       " ('TEST_662298', 'BOOK_041938', 10.0),\n",
       " ('TEST_168883', 'BOOK_205033', 0.0),\n",
       " ('TEST_453409', 'BOOK_227437', 0.0),\n",
       " ('TEST_558412', 'BOOK_038466', 0.0),\n",
       " ('TEST_259082', 'BOOK_221102', 10.0),\n",
       " ('TEST_809889', 'BOOK_065259', 0.0),\n",
       " ('TEST_868446', 'BOOK_189916', 0.0),\n",
       " ('TEST_634005', 'BOOK_131503', 0.0),\n",
       " ('TEST_789118', 'BOOK_255451', 10.0),\n",
       " ('TEST_142229', 'BOOK_052678', 9.0),\n",
       " ('TEST_517338', 'BOOK_208095', 0.0),\n",
       " ('TEST_020337', 'BOOK_152746', 0.0),\n",
       " ('TEST_021749', 'BOOK_084299', 7.0),\n",
       " ('TEST_711772', 'BOOK_060091', 0.0),\n",
       " ('TEST_412480', 'BOOK_196286', 0.0),\n",
       " ('TEST_767529', 'BOOK_182544', 0.0),\n",
       " ('TEST_501424', 'BOOK_012947', 10.0),\n",
       " ('TEST_337730', 'BOOK_116853', 9.0),\n",
       " ('TEST_535066', 'BOOK_042098', 0.0),\n",
       " ('TEST_530259', 'BOOK_127403', 0.0),\n",
       " ('TEST_349589', 'BOOK_090492', 0.0),\n",
       " ('TEST_800222', 'BOOK_097055', 0.0),\n",
       " ('TEST_189708', 'BOOK_009940', 10.0),\n",
       " ...]"
      ]
     },
     "execution_count": 37,
     "metadata": {},
     "output_type": "execute_result"
    }
   ],
   "source": [
    "X_test = [(f\"TEST_{uid[6:]}\", iid, rating) for uid, iid, rating in X_test]\n",
    "X_test"
   ]
  },
  {
   "cell_type": "code",
   "execution_count": 38,
   "metadata": {
    "id": "WOFgHC2yLvbL"
   },
   "outputs": [
    {
     "data": {
      "text/plain": [
       "[Prediction(uid='TEST_078244', iid='BOOK_041738', r_ui=0.0, est=2.576516765302445, details={'was_impossible': False}),\n",
       " Prediction(uid='TEST_858428', iid='BOOK_209704', r_ui=0.0, est=2.15857010802133, details={'was_impossible': False}),\n",
       " Prediction(uid='TEST_516745', iid='BOOK_064606', r_ui=0.0, est=2.823290021431215, details={'was_impossible': False}),\n",
       " Prediction(uid='TEST_185110', iid='BOOK_080098', r_ui=9.0, est=3.706308715875484, details={'was_impossible': False}),\n",
       " Prediction(uid='TEST_263788', iid='BOOK_112483', r_ui=0.0, est=2.9559690627755004, details={'was_impossible': False}),\n",
       " Prediction(uid='TEST_504425', iid='BOOK_001061', r_ui=0.0, est=3.41366824667219, details={'was_impossible': False}),\n",
       " Prediction(uid='TEST_121719', iid='BOOK_266334', r_ui=0.0, est=3.3506819440099678, details={'was_impossible': False}),\n",
       " Prediction(uid='TEST_602125', iid='BOOK_251217', r_ui=10.0, est=2.316109149484106, details={'was_impossible': False}),\n",
       " Prediction(uid='TEST_101696', iid='BOOK_163736', r_ui=7.0, est=2.6023232305908013, details={'was_impossible': False}),\n",
       " Prediction(uid='TEST_569292', iid='BOOK_143269', r_ui=7.0, est=2.823290021431215, details={'was_impossible': False}),\n",
       " Prediction(uid='TEST_634215', iid='BOOK_174481', r_ui=0.0, est=2.1409254653535705, details={'was_impossible': False}),\n",
       " Prediction(uid='TEST_677451', iid='BOOK_073539', r_ui=0.0, est=1.893082454157812, details={'was_impossible': False}),\n",
       " Prediction(uid='TEST_335614', iid='BOOK_236794', r_ui=0.0, est=3.4615841332224324, details={'was_impossible': False}),\n",
       " Prediction(uid='TEST_550089', iid='BOOK_184597', r_ui=0.0, est=3.3067275550565696, details={'was_impossible': False}),\n",
       " Prediction(uid='TEST_035323', iid='BOOK_001634', r_ui=0.0, est=4.177242553224069, details={'was_impossible': False}),\n",
       " Prediction(uid='TEST_326534', iid='BOOK_103689', r_ui=0.0, est=3.57408099143536, details={'was_impossible': False}),\n",
       " Prediction(uid='TEST_724618', iid='BOOK_268452', r_ui=0.0, est=2.537157813553745, details={'was_impossible': False}),\n",
       " Prediction(uid='TEST_500265', iid='BOOK_050695', r_ui=9.0, est=3.961897890607175, details={'was_impossible': False}),\n",
       " Prediction(uid='TEST_672474', iid='BOOK_116875', r_ui=0.0, est=2.823290021431215, details={'was_impossible': False}),\n",
       " Prediction(uid='TEST_689743', iid='BOOK_150281', r_ui=0.0, est=3.430745733767314, details={'was_impossible': False}),\n",
       " Prediction(uid='TEST_682400', iid='BOOK_147882', r_ui=0.0, est=2.3926402181677418, details={'was_impossible': False}),\n",
       " Prediction(uid='TEST_834424', iid='BOOK_202114', r_ui=8.0, est=2.4883250148080647, details={'was_impossible': False}),\n",
       " Prediction(uid='TEST_358803', iid='BOOK_134711', r_ui=9.0, est=2.3637586827600723, details={'was_impossible': False}),\n",
       " Prediction(uid='TEST_638566', iid='BOOK_044367', r_ui=9.0, est=2.184481142181519, details={'was_impossible': False}),\n",
       " Prediction(uid='TEST_235869', iid='BOOK_086710', r_ui=0.0, est=3.4647753242703083, details={'was_impossible': False}),\n",
       " Prediction(uid='TEST_067488', iid='BOOK_268823', r_ui=0.0, est=2.823290021431215, details={'was_impossible': False}),\n",
       " Prediction(uid='TEST_089430', iid='BOOK_021997', r_ui=0.0, est=2.823290021431215, details={'was_impossible': False}),\n",
       " Prediction(uid='TEST_292031', iid='BOOK_166550', r_ui=0.0, est=2.028072149624236, details={'was_impossible': False}),\n",
       " Prediction(uid='TEST_281211', iid='BOOK_171593', r_ui=10.0, est=3.6608182169942416, details={'was_impossible': False}),\n",
       " Prediction(uid='TEST_536023', iid='BOOK_202152', r_ui=8.0, est=3.4421271720908715, details={'was_impossible': False}),\n",
       " Prediction(uid='TEST_719490', iid='BOOK_165951', r_ui=0.0, est=3.001423261852456, details={'was_impossible': False}),\n",
       " Prediction(uid='TEST_111301', iid='BOOK_073927', r_ui=0.0, est=3.8327620233671773, details={'was_impossible': False}),\n",
       " Prediction(uid='TEST_082426', iid='BOOK_123874', r_ui=0.0, est=3.4037936593986236, details={'was_impossible': False}),\n",
       " Prediction(uid='TEST_584143', iid='BOOK_262411', r_ui=9.0, est=2.823290021431215, details={'was_impossible': False}),\n",
       " Prediction(uid='TEST_412091', iid='BOOK_090561', r_ui=6.0, est=2.494500275777957, details={'was_impossible': False}),\n",
       " Prediction(uid='TEST_832009', iid='BOOK_219595', r_ui=0.0, est=2.823290021431215, details={'was_impossible': False}),\n",
       " Prediction(uid='TEST_643556', iid='BOOK_214882', r_ui=5.0, est=3.1284700788179616, details={'was_impossible': False}),\n",
       " Prediction(uid='TEST_105540', iid='BOOK_217465', r_ui=5.0, est=3.1726054120524614, details={'was_impossible': False}),\n",
       " Prediction(uid='TEST_231117', iid='BOOK_160107', r_ui=8.0, est=3.1573710400924497, details={'was_impossible': False}),\n",
       " Prediction(uid='TEST_407313', iid='BOOK_215520', r_ui=0.0, est=2.937424202216, details={'was_impossible': False}),\n",
       " Prediction(uid='TEST_216867', iid='BOOK_094205', r_ui=10.0, est=2.7403297291552158, details={'was_impossible': False}),\n",
       " Prediction(uid='TEST_809115', iid='BOOK_125221', r_ui=5.0, est=2.823290021431215, details={'was_impossible': False}),\n",
       " Prediction(uid='TEST_068157', iid='BOOK_259065', r_ui=9.0, est=3.0402453091879442, details={'was_impossible': False}),\n",
       " Prediction(uid='TEST_579124', iid='BOOK_000398', r_ui=0.0, est=1.5857942547004233, details={'was_impossible': False}),\n",
       " Prediction(uid='TEST_696720', iid='BOOK_113971', r_ui=6.0, est=2.640831600831936, details={'was_impossible': False}),\n",
       " Prediction(uid='TEST_147328', iid='BOOK_072673', r_ui=8.0, est=2.9670283356656335, details={'was_impossible': False}),\n",
       " Prediction(uid='TEST_786420', iid='BOOK_233808', r_ui=0.0, est=2.2355800968020807, details={'was_impossible': False}),\n",
       " Prediction(uid='TEST_116029', iid='BOOK_072961', r_ui=9.0, est=2.3806989410185935, details={'was_impossible': False}),\n",
       " Prediction(uid='TEST_113463', iid='BOOK_010881', r_ui=0.0, est=3.742484009423204, details={'was_impossible': False}),\n",
       " Prediction(uid='TEST_663930', iid='BOOK_177390', r_ui=0.0, est=2.7653563154540737, details={'was_impossible': False}),\n",
       " Prediction(uid='TEST_361539', iid='BOOK_147302', r_ui=0.0, est=2.823290021431215, details={'was_impossible': False}),\n",
       " Prediction(uid='TEST_486678', iid='BOOK_053627', r_ui=0.0, est=3.5283189615235484, details={'was_impossible': False}),\n",
       " Prediction(uid='TEST_655059', iid='BOOK_103423', r_ui=6.0, est=2.391750709138237, details={'was_impossible': False}),\n",
       " Prediction(uid='TEST_689868', iid='BOOK_263573', r_ui=0.0, est=2.3818668755492594, details={'was_impossible': False}),\n",
       " Prediction(uid='TEST_089104', iid='BOOK_162574', r_ui=0.0, est=2.577160927117044, details={'was_impossible': False}),\n",
       " Prediction(uid='TEST_115361', iid='BOOK_043318', r_ui=0.0, est=1.6047001769918687, details={'was_impossible': False}),\n",
       " Prediction(uid='TEST_398515', iid='BOOK_204526', r_ui=0.0, est=2.823290021431215, details={'was_impossible': False}),\n",
       " Prediction(uid='TEST_174586', iid='BOOK_261043', r_ui=9.0, est=2.5966274417558566, details={'was_impossible': False}),\n",
       " Prediction(uid='TEST_220227', iid='BOOK_005980', r_ui=0.0, est=2.3486779278230077, details={'was_impossible': False}),\n",
       " Prediction(uid='TEST_822417', iid='BOOK_056445', r_ui=0.0, est=3.475177117228423, details={'was_impossible': False}),\n",
       " Prediction(uid='TEST_076365', iid='BOOK_175462', r_ui=7.0, est=3.177064922645449, details={'was_impossible': False}),\n",
       " Prediction(uid='TEST_473179', iid='BOOK_235077', r_ui=0.0, est=4.283147424759088, details={'was_impossible': False}),\n",
       " Prediction(uid='TEST_445613', iid='BOOK_016883', r_ui=8.0, est=2.58049679245071, details={'was_impossible': False}),\n",
       " Prediction(uid='TEST_808873', iid='BOOK_177489', r_ui=0.0, est=2.592336710430464, details={'was_impossible': False}),\n",
       " Prediction(uid='TEST_277677', iid='BOOK_214393', r_ui=7.0, est=3.127491780577311, details={'was_impossible': False}),\n",
       " Prediction(uid='TEST_137613', iid='BOOK_196286', r_ui=0.0, est=3.6803696412628986, details={'was_impossible': False}),\n",
       " Prediction(uid='TEST_663335', iid='BOOK_055634', r_ui=0.0, est=3.0764806283513932, details={'was_impossible': False}),\n",
       " Prediction(uid='TEST_607388', iid='BOOK_267818', r_ui=8.0, est=2.1626556347181953, details={'was_impossible': False}),\n",
       " Prediction(uid='TEST_531621', iid='BOOK_046789', r_ui=10.0, est=2.9678532087112917, details={'was_impossible': False}),\n",
       " Prediction(uid='TEST_563790', iid='BOOK_255241', r_ui=0.0, est=2.5893885302491033, details={'was_impossible': False}),\n",
       " Prediction(uid='TEST_835356', iid='BOOK_065265', r_ui=0.0, est=2.823290021431215, details={'was_impossible': False}),\n",
       " Prediction(uid='TEST_433064', iid='BOOK_077187', r_ui=8.0, est=3.2428117078718626, details={'was_impossible': False}),\n",
       " Prediction(uid='TEST_585543', iid='BOOK_011593', r_ui=0.0, est=2.593179080800036, details={'was_impossible': False}),\n",
       " Prediction(uid='TEST_565682', iid='BOOK_159468', r_ui=0.0, est=2.823290021431215, details={'was_impossible': False}),\n",
       " Prediction(uid='TEST_722377', iid='BOOK_268711', r_ui=0.0, est=2.823290021431215, details={'was_impossible': False}),\n",
       " Prediction(uid='TEST_204202', iid='BOOK_176344', r_ui=8.0, est=3.1411574437265775, details={'was_impossible': False}),\n",
       " Prediction(uid='TEST_178255', iid='BOOK_009597', r_ui=0.0, est=2.823290021431215, details={'was_impossible': False}),\n",
       " Prediction(uid='TEST_203293', iid='BOOK_065287', r_ui=0.0, est=2.823290021431215, details={'was_impossible': False}),\n",
       " Prediction(uid='TEST_519239', iid='BOOK_050863', r_ui=0.0, est=2.823290021431215, details={'was_impossible': False}),\n",
       " Prediction(uid='TEST_694562', iid='BOOK_055390', r_ui=9.0, est=3.3381801297991602, details={'was_impossible': False}),\n",
       " Prediction(uid='TEST_255222', iid='BOOK_047026', r_ui=0.0, est=2.5421055164629474, details={'was_impossible': False}),\n",
       " Prediction(uid='TEST_808695', iid='BOOK_068164', r_ui=0.0, est=2.038729146072093, details={'was_impossible': False}),\n",
       " Prediction(uid='TEST_200617', iid='BOOK_074630', r_ui=0.0, est=2.823290021431215, details={'was_impossible': False}),\n",
       " Prediction(uid='TEST_114982', iid='BOOK_188761', r_ui=0.0, est=2.823290021431215, details={'was_impossible': False}),\n",
       " Prediction(uid='TEST_102269', iid='BOOK_106954', r_ui=0.0, est=2.79171015503948, details={'was_impossible': False}),\n",
       " Prediction(uid='TEST_368801', iid='BOOK_257239', r_ui=0.0, est=3.087092388438636, details={'was_impossible': False}),\n",
       " Prediction(uid='TEST_830014', iid='BOOK_249395', r_ui=0.0, est=4.68457460087179, details={'was_impossible': False}),\n",
       " Prediction(uid='TEST_413852', iid='BOOK_220529', r_ui=0.0, est=2.823290021431215, details={'was_impossible': False}),\n",
       " Prediction(uid='TEST_408787', iid='BOOK_237845', r_ui=0.0, est=2.913986935187273, details={'was_impossible': False}),\n",
       " Prediction(uid='TEST_677687', iid='BOOK_144545', r_ui=7.0, est=1.7278214490374657, details={'was_impossible': False}),\n",
       " Prediction(uid='TEST_763887', iid='BOOK_052163', r_ui=0.0, est=3.039387164614272, details={'was_impossible': False}),\n",
       " Prediction(uid='TEST_148555', iid='BOOK_222248', r_ui=10.0, est=3.7626873991788536, details={'was_impossible': False}),\n",
       " Prediction(uid='TEST_598258', iid='BOOK_109113', r_ui=0.0, est=2.7581554148512426, details={'was_impossible': False}),\n",
       " Prediction(uid='TEST_603156', iid='BOOK_133330', r_ui=3.0, est=4.005872547203731, details={'was_impossible': False}),\n",
       " Prediction(uid='TEST_511740', iid='BOOK_179447', r_ui=5.0, est=3.2912905050368217, details={'was_impossible': False}),\n",
       " Prediction(uid='TEST_046907', iid='BOOK_220584', r_ui=8.0, est=2.823290021431215, details={'was_impossible': False}),\n",
       " Prediction(uid='TEST_697123', iid='BOOK_140387', r_ui=6.0, est=2.823290021431215, details={'was_impossible': False}),\n",
       " Prediction(uid='TEST_304642', iid='BOOK_134608', r_ui=0.0, est=2.729199236280578, details={'was_impossible': False}),\n",
       " Prediction(uid='TEST_666562', iid='BOOK_189294', r_ui=6.0, est=2.9133961948050775, details={'was_impossible': False}),\n",
       " Prediction(uid='TEST_038334', iid='BOOK_068319', r_ui=6.0, est=3.1122539424706375, details={'was_impossible': False}),\n",
       " Prediction(uid='TEST_143871', iid='BOOK_128103', r_ui=10.0, est=3.1653336606538542, details={'was_impossible': False}),\n",
       " Prediction(uid='TEST_161788', iid='BOOK_080689', r_ui=10.0, est=3.3434680743141403, details={'was_impossible': False}),\n",
       " Prediction(uid='TEST_525318', iid='BOOK_220825', r_ui=0.0, est=2.823290021431215, details={'was_impossible': False}),\n",
       " Prediction(uid='TEST_452582', iid='BOOK_167997', r_ui=3.0, est=3.2989658291975057, details={'was_impossible': False}),\n",
       " Prediction(uid='TEST_277361', iid='BOOK_067538', r_ui=0.0, est=4.180080783127519, details={'was_impossible': False}),\n",
       " Prediction(uid='TEST_506054', iid='BOOK_180522', r_ui=0.0, est=2.8045799619394467, details={'was_impossible': False}),\n",
       " Prediction(uid='TEST_359231', iid='BOOK_245560', r_ui=0.0, est=3.9845089072000284, details={'was_impossible': False}),\n",
       " Prediction(uid='TEST_357790', iid='BOOK_114756', r_ui=0.0, est=2.591896227948354, details={'was_impossible': False}),\n",
       " Prediction(uid='TEST_458680', iid='BOOK_098690', r_ui=0.0, est=2.604448086740602, details={'was_impossible': False}),\n",
       " Prediction(uid='TEST_387961', iid='BOOK_219512', r_ui=0.0, est=2.595218027295767, details={'was_impossible': False}),\n",
       " Prediction(uid='TEST_222170', iid='BOOK_170294', r_ui=0.0, est=2.2882408845517705, details={'was_impossible': False}),\n",
       " Prediction(uid='TEST_384799', iid='BOOK_171393', r_ui=5.0, est=3.3278666460918047, details={'was_impossible': False}),\n",
       " Prediction(uid='TEST_566350', iid='BOOK_072169', r_ui=0.0, est=3.010840497427648, details={'was_impossible': False}),\n",
       " Prediction(uid='TEST_417446', iid='BOOK_102220', r_ui=0.0, est=3.8682082403291247, details={'was_impossible': False}),\n",
       " Prediction(uid='TEST_801370', iid='BOOK_028984', r_ui=0.0, est=4.60261500297335, details={'was_impossible': False}),\n",
       " Prediction(uid='TEST_563349', iid='BOOK_018093', r_ui=0.0, est=2.5821874930506485, details={'was_impossible': False}),\n",
       " Prediction(uid='TEST_136954', iid='BOOK_254563', r_ui=10.0, est=4.585153992520338, details={'was_impossible': False}),\n",
       " Prediction(uid='TEST_623669', iid='BOOK_076772', r_ui=0.0, est=2.823290021431215, details={'was_impossible': False}),\n",
       " Prediction(uid='TEST_108590', iid='BOOK_164769', r_ui=0.0, est=3.115793754486478, details={'was_impossible': False}),\n",
       " Prediction(uid='TEST_023751', iid='BOOK_223800', r_ui=0.0, est=2.823290021431215, details={'was_impossible': False}),\n",
       " Prediction(uid='TEST_554101', iid='BOOK_209242', r_ui=0.0, est=3.606646038369128, details={'was_impossible': False}),\n",
       " Prediction(uid='TEST_497737', iid='BOOK_013187', r_ui=7.0, est=2.7839445737028434, details={'was_impossible': False}),\n",
       " Prediction(uid='TEST_291002', iid='BOOK_050655', r_ui=0.0, est=2.1638335274514913, details={'was_impossible': False}),\n",
       " Prediction(uid='TEST_287205', iid='BOOK_155405', r_ui=5.0, est=2.823290021431215, details={'was_impossible': False}),\n",
       " Prediction(uid='TEST_532828', iid='BOOK_214729', r_ui=0.0, est=3.1734891561654646, details={'was_impossible': False}),\n",
       " Prediction(uid='TEST_371143', iid='BOOK_083130', r_ui=0.0, est=2.4783080285705053, details={'was_impossible': False}),\n",
       " Prediction(uid='TEST_080161', iid='BOOK_046017', r_ui=8.0, est=4.5446623940559885, details={'was_impossible': False}),\n",
       " Prediction(uid='TEST_492518', iid='BOOK_265872', r_ui=9.0, est=2.7239192372285026, details={'was_impossible': False}),\n",
       " Prediction(uid='TEST_355767', iid='BOOK_015462', r_ui=8.0, est=3.7620278346397997, details={'was_impossible': False}),\n",
       " Prediction(uid='TEST_569030', iid='BOOK_142844', r_ui=0.0, est=2.823290021431215, details={'was_impossible': False}),\n",
       " Prediction(uid='TEST_511342', iid='BOOK_039025', r_ui=0.0, est=1.710557208556774, details={'was_impossible': False}),\n",
       " Prediction(uid='TEST_790347', iid='BOOK_132662', r_ui=7.0, est=2.823290021431215, details={'was_impossible': False}),\n",
       " Prediction(uid='TEST_123172', iid='BOOK_221350', r_ui=0.0, est=2.3928255396849636, details={'was_impossible': False}),\n",
       " Prediction(uid='TEST_296277', iid='BOOK_028049', r_ui=0.0, est=2.823290021431215, details={'was_impossible': False}),\n",
       " Prediction(uid='TEST_869744', iid='BOOK_120617', r_ui=9.0, est=3.6709844795091118, details={'was_impossible': False}),\n",
       " Prediction(uid='TEST_542948', iid='BOOK_012640', r_ui=9.0, est=3.5324514984753383, details={'was_impossible': False}),\n",
       " Prediction(uid='TEST_002689', iid='BOOK_046135', r_ui=7.0, est=1.96048348634424, details={'was_impossible': False}),\n",
       " Prediction(uid='TEST_581509', iid='BOOK_255942', r_ui=3.0, est=3.187568489891526, details={'was_impossible': False}),\n",
       " Prediction(uid='TEST_335724', iid='BOOK_120883', r_ui=9.0, est=2.906391577845346, details={'was_impossible': False}),\n",
       " Prediction(uid='TEST_050335', iid='BOOK_051570', r_ui=0.0, est=3.145797968339237, details={'was_impossible': False}),\n",
       " Prediction(uid='TEST_677173', iid='BOOK_104230', r_ui=0.0, est=2.800705041711093, details={'was_impossible': False}),\n",
       " Prediction(uid='TEST_502255', iid='BOOK_062822', r_ui=9.0, est=3.2798403678461923, details={'was_impossible': False}),\n",
       " Prediction(uid='TEST_670245', iid='BOOK_037332', r_ui=5.0, est=2.823290021431215, details={'was_impossible': False}),\n",
       " Prediction(uid='TEST_137931', iid='BOOK_200201', r_ui=9.0, est=2.7219463870036718, details={'was_impossible': False}),\n",
       " Prediction(uid='TEST_121625', iid='BOOK_255066', r_ui=5.0, est=2.3651908696647364, details={'was_impossible': False}),\n",
       " Prediction(uid='TEST_302591', iid='BOOK_204765', r_ui=0.0, est=2.823290021431215, details={'was_impossible': False}),\n",
       " Prediction(uid='TEST_835325', iid='BOOK_048785', r_ui=0.0, est=3.3324288051552546, details={'was_impossible': False}),\n",
       " Prediction(uid='TEST_336639', iid='BOOK_074121', r_ui=0.0, est=2.9569767894687424, details={'was_impossible': False}),\n",
       " Prediction(uid='TEST_032795', iid='BOOK_187702', r_ui=8.0, est=2.3873704735140384, details={'was_impossible': False}),\n",
       " Prediction(uid='TEST_199878', iid='BOOK_074303', r_ui=0.0, est=2.5832498018245182, details={'was_impossible': False}),\n",
       " Prediction(uid='TEST_603500', iid='BOOK_194680', r_ui=0.0, est=2.179601628344455, details={'was_impossible': False}),\n",
       " Prediction(uid='TEST_792770', iid='BOOK_108760', r_ui=0.0, est=2.034106730620895, details={'was_impossible': False}),\n",
       " Prediction(uid='TEST_338252', iid='BOOK_219835', r_ui=9.0, est=3.737078111899308, details={'was_impossible': False}),\n",
       " Prediction(uid='TEST_221211', iid='BOOK_126192', r_ui=0.0, est=3.4556751422146026, details={'was_impossible': False}),\n",
       " Prediction(uid='TEST_829486', iid='BOOK_259055', r_ui=0.0, est=3.168535729612479, details={'was_impossible': False}),\n",
       " Prediction(uid='TEST_350388', iid='BOOK_033007', r_ui=0.0, est=2.5856375596602668, details={'was_impossible': False}),\n",
       " Prediction(uid='TEST_628199', iid='BOOK_057361', r_ui=0.0, est=2.581425502335602, details={'was_impossible': False}),\n",
       " Prediction(uid='TEST_168290', iid='BOOK_220542', r_ui=0.0, est=4.659991893172238, details={'was_impossible': False}),\n",
       " Prediction(uid='TEST_104460', iid='BOOK_199792', r_ui=0.0, est=2.1478504886893166, details={'was_impossible': False}),\n",
       " Prediction(uid='TEST_013529', iid='BOOK_218545', r_ui=8.0, est=3.819166009617026, details={'was_impossible': False}),\n",
       " Prediction(uid='TEST_346079', iid='BOOK_066010', r_ui=0.0, est=2.557708072664374, details={'was_impossible': False}),\n",
       " Prediction(uid='TEST_361027', iid='BOOK_174682', r_ui=0.0, est=3.2540827659165643, details={'was_impossible': False}),\n",
       " Prediction(uid='TEST_722926', iid='BOOK_107411', r_ui=8.0, est=3.1717126335778243, details={'was_impossible': False}),\n",
       " Prediction(uid='TEST_058689', iid='BOOK_013880', r_ui=8.0, est=3.254418854910953, details={'was_impossible': False}),\n",
       " Prediction(uid='TEST_100373', iid='BOOK_149340', r_ui=0.0, est=2.889031713406807, details={'was_impossible': False}),\n",
       " Prediction(uid='TEST_607117', iid='BOOK_244257', r_ui=8.0, est=2.823290021431215, details={'was_impossible': False}),\n",
       " Prediction(uid='TEST_537829', iid='BOOK_153979', r_ui=0.0, est=3.5384309479271967, details={'was_impossible': False}),\n",
       " Prediction(uid='TEST_795976', iid='BOOK_105448', r_ui=0.0, est=3.5247775265652255, details={'was_impossible': False}),\n",
       " Prediction(uid='TEST_309376', iid='BOOK_119756', r_ui=7.0, est=4.116996264647892, details={'was_impossible': False}),\n",
       " Prediction(uid='TEST_612945', iid='BOOK_103271', r_ui=0.0, est=2.823290021431215, details={'was_impossible': False}),\n",
       " Prediction(uid='TEST_339633', iid='BOOK_154960', r_ui=7.0, est=3.4702331578523626, details={'was_impossible': False}),\n",
       " Prediction(uid='TEST_541546', iid='BOOK_249550', r_ui=0.0, est=2.7773082478597986, details={'was_impossible': False}),\n",
       " Prediction(uid='TEST_585674', iid='BOOK_217781', r_ui=8.0, est=2.823290021431215, details={'was_impossible': False}),\n",
       " Prediction(uid='TEST_357289', iid='BOOK_203848', r_ui=0.0, est=2.045266026857422, details={'was_impossible': False}),\n",
       " Prediction(uid='TEST_762612', iid='BOOK_162967', r_ui=0.0, est=3.236255450316038, details={'was_impossible': False}),\n",
       " Prediction(uid='TEST_058703', iid='BOOK_023120', r_ui=0.0, est=2.311786401048271, details={'was_impossible': False}),\n",
       " Prediction(uid='TEST_010639', iid='BOOK_177078', r_ui=0.0, est=3.085209310273099, details={'was_impossible': False}),\n",
       " Prediction(uid='TEST_142815', iid='BOOK_119368', r_ui=10.0, est=3.8768925317121834, details={'was_impossible': False}),\n",
       " Prediction(uid='TEST_148454', iid='BOOK_098217', r_ui=0.0, est=2.242632825336396, details={'was_impossible': False}),\n",
       " Prediction(uid='TEST_828060', iid='BOOK_002289', r_ui=0.0, est=3.8752440264070964, details={'was_impossible': False}),\n",
       " Prediction(uid='TEST_276936', iid='BOOK_138826', r_ui=0.0, est=2.823290021431215, details={'was_impossible': False}),\n",
       " Prediction(uid='TEST_260602', iid='BOOK_221434', r_ui=9.0, est=2.5196686707456246, details={'was_impossible': False}),\n",
       " Prediction(uid='TEST_748996', iid='BOOK_187464', r_ui=0.0, est=2.83348098393825, details={'was_impossible': False}),\n",
       " Prediction(uid='TEST_314586', iid='BOOK_241804', r_ui=10.0, est=1.6745223628462336, details={'was_impossible': False}),\n",
       " Prediction(uid='TEST_326363', iid='BOOK_217932', r_ui=8.0, est=3.197049589076287, details={'was_impossible': False}),\n",
       " Prediction(uid='TEST_436790', iid='BOOK_254174', r_ui=0.0, est=2.60243478018312, details={'was_impossible': False}),\n",
       " Prediction(uid='TEST_580875', iid='BOOK_026352', r_ui=7.0, est=3.0071994850642554, details={'was_impossible': False}),\n",
       " Prediction(uid='TEST_109081', iid='BOOK_148770', r_ui=0.0, est=2.8363109120124648, details={'was_impossible': False}),\n",
       " Prediction(uid='TEST_176416', iid='BOOK_146354', r_ui=8.0, est=2.614810379339051, details={'was_impossible': False}),\n",
       " Prediction(uid='TEST_291223', iid='BOOK_074219', r_ui=0.0, est=2.6989060707013808, details={'was_impossible': False}),\n",
       " Prediction(uid='TEST_676942', iid='BOOK_094086', r_ui=0.0, est=3.9421104562410205, details={'was_impossible': False}),\n",
       " Prediction(uid='TEST_572561', iid='BOOK_131511', r_ui=0.0, est=1.82801488146248, details={'was_impossible': False}),\n",
       " Prediction(uid='TEST_788299', iid='BOOK_253662', r_ui=0.0, est=2.823290021431215, details={'was_impossible': False}),\n",
       " Prediction(uid='TEST_355815', iid='BOOK_217346', r_ui=0.0, est=3.451116719195373, details={'was_impossible': False}),\n",
       " Prediction(uid='TEST_575574', iid='BOOK_031256', r_ui=0.0, est=2.1829624924052085, details={'was_impossible': False}),\n",
       " Prediction(uid='TEST_432068', iid='BOOK_073301', r_ui=8.0, est=1.8762476367297505, details={'was_impossible': False}),\n",
       " Prediction(uid='TEST_362622', iid='BOOK_123878', r_ui=0.0, est=3.1980500011048925, details={'was_impossible': False}),\n",
       " Prediction(uid='TEST_661289', iid='BOOK_168348', r_ui=8.0, est=2.6039032933163977, details={'was_impossible': False}),\n",
       " Prediction(uid='TEST_415284', iid='BOOK_203229', r_ui=0.0, est=2.823290021431215, details={'was_impossible': False}),\n",
       " Prediction(uid='TEST_659155', iid='BOOK_221102', r_ui=0.0, est=1.8915632515609158, details={'was_impossible': False}),\n",
       " Prediction(uid='TEST_634013', iid='BOOK_132569', r_ui=0.0, est=2.8486700038117103, details={'was_impossible': False}),\n",
       " Prediction(uid='TEST_809747', iid='BOOK_037335', r_ui=0.0, est=2.26481023344268, details={'was_impossible': False}),\n",
       " Prediction(uid='TEST_139604', iid='BOOK_098188', r_ui=0.0, est=2.823290021431215, details={'was_impossible': False}),\n",
       " Prediction(uid='TEST_188442', iid='BOOK_102835', r_ui=0.0, est=2.5883301901267286, details={'was_impossible': False}),\n",
       " Prediction(uid='TEST_061528', iid='BOOK_090236', r_ui=0.0, est=2.410527525466755, details={'was_impossible': False}),\n",
       " Prediction(uid='TEST_069137', iid='BOOK_161526', r_ui=0.0, est=2.1770175390471476, details={'was_impossible': False}),\n",
       " Prediction(uid='TEST_387217', iid='BOOK_249447', r_ui=0.0, est=3.930933731742053, details={'was_impossible': False}),\n",
       " Prediction(uid='TEST_133550', iid='BOOK_207850', r_ui=0.0, est=2.823290021431215, details={'was_impossible': False}),\n",
       " Prediction(uid='TEST_366987', iid='BOOK_144360', r_ui=0.0, est=2.8570720096657563, details={'was_impossible': False}),\n",
       " Prediction(uid='TEST_029577', iid='BOOK_050555', r_ui=0.0, est=4.482271022030352, details={'was_impossible': False}),\n",
       " Prediction(uid='TEST_349600', iid='BOOK_046178', r_ui=0.0, est=2.7776237183748473, details={'was_impossible': False}),\n",
       " Prediction(uid='TEST_152163', iid='BOOK_163891', r_ui=10.0, est=2.583561436516394, details={'was_impossible': False}),\n",
       " Prediction(uid='TEST_152919', iid='BOOK_071411', r_ui=7.0, est=3.1441295390590662, details={'was_impossible': False}),\n",
       " Prediction(uid='TEST_102357', iid='BOOK_197334', r_ui=0.0, est=3.375840075384203, details={'was_impossible': False}),\n",
       " Prediction(uid='TEST_689011', iid='BOOK_246836', r_ui=0.0, est=3.0982489282603636, details={'was_impossible': False}),\n",
       " Prediction(uid='TEST_784614', iid='BOOK_185409', r_ui=6.0, est=2.823290021431215, details={'was_impossible': False}),\n",
       " Prediction(uid='TEST_029772', iid='BOOK_082146', r_ui=0.0, est=2.2925567200600305, details={'was_impossible': False}),\n",
       " Prediction(uid='TEST_075633', iid='BOOK_056186', r_ui=0.0, est=2.1930056984101096, details={'was_impossible': False}),\n",
       " Prediction(uid='TEST_326036', iid='BOOK_119471', r_ui=0.0, est=2.4395365651612115, details={'was_impossible': False}),\n",
       " Prediction(uid='TEST_345058', iid='BOOK_092554', r_ui=0.0, est=2.7130704938681345, details={'was_impossible': False}),\n",
       " Prediction(uid='TEST_052130', iid='BOOK_249201', r_ui=0.0, est=2.5545129761916145, details={'was_impossible': False}),\n",
       " Prediction(uid='TEST_068732', iid='BOOK_019078', r_ui=0.0, est=2.5889728193808716, details={'was_impossible': False}),\n",
       " Prediction(uid='TEST_385072', iid='BOOK_012115', r_ui=5.0, est=3.69086789088999, details={'was_impossible': False}),\n",
       " Prediction(uid='TEST_506051', iid='BOOK_174947', r_ui=0.0, est=3.1712090479056645, details={'was_impossible': False}),\n",
       " Prediction(uid='TEST_164167', iid='BOOK_024645', r_ui=0.0, est=2.7083636040863257, details={'was_impossible': False}),\n",
       " Prediction(uid='TEST_311437', iid='BOOK_263268', r_ui=10.0, est=2.823290021431215, details={'was_impossible': False}),\n",
       " Prediction(uid='TEST_203645', iid='BOOK_166297', r_ui=0.0, est=2.381569916915208, details={'was_impossible': False}),\n",
       " Prediction(uid='TEST_739420', iid='BOOK_199166', r_ui=0.0, est=2.823290021431215, details={'was_impossible': False}),\n",
       " Prediction(uid='TEST_081875', iid='BOOK_145571', r_ui=7.0, est=2.5671115089713776, details={'was_impossible': False}),\n",
       " Prediction(uid='TEST_285293', iid='BOOK_085944', r_ui=0.0, est=1.702899819991456, details={'was_impossible': False}),\n",
       " Prediction(uid='TEST_842735', iid='BOOK_042505', r_ui=9.0, est=3.440262968478358, details={'was_impossible': False}),\n",
       " Prediction(uid='TEST_005073', iid='BOOK_079462', r_ui=7.0, est=2.823290021431215, details={'was_impossible': False}),\n",
       " Prediction(uid='TEST_397852', iid='BOOK_253693', r_ui=6.0, est=2.08074242338351, details={'was_impossible': False}),\n",
       " Prediction(uid='TEST_646896', iid='BOOK_232572', r_ui=10.0, est=3.37578686418909, details={'was_impossible': False}),\n",
       " Prediction(uid='TEST_163642', iid='BOOK_112654', r_ui=9.0, est=2.823290021431215, details={'was_impossible': False}),\n",
       " Prediction(uid='TEST_393058', iid='BOOK_216867', r_ui=2.0, est=4.460079658569915, details={'was_impossible': False}),\n",
       " Prediction(uid='TEST_619965', iid='BOOK_119910', r_ui=0.0, est=2.790271121736218, details={'was_impossible': False}),\n",
       " Prediction(uid='TEST_648427', iid='BOOK_083795', r_ui=7.0, est=3.422910349010038, details={'was_impossible': False}),\n",
       " Prediction(uid='TEST_839719', iid='BOOK_263240', r_ui=0.0, est=2.3803671268055364, details={'was_impossible': False}),\n",
       " Prediction(uid='TEST_171199', iid='BOOK_191092', r_ui=10.0, est=3.452120765633633, details={'was_impossible': False}),\n",
       " Prediction(uid='TEST_013072', iid='BOOK_020496', r_ui=10.0, est=3.432461072615344, details={'was_impossible': False}),\n",
       " Prediction(uid='TEST_424434', iid='BOOK_211216', r_ui=0.0, est=1.1628887469718319, details={'was_impossible': False}),\n",
       " Prediction(uid='TEST_581152', iid='BOOK_209670', r_ui=0.0, est=2.823290021431215, details={'was_impossible': False}),\n",
       " Prediction(uid='TEST_285656', iid='BOOK_145888', r_ui=0.0, est=3.321651287868777, details={'was_impossible': False}),\n",
       " Prediction(uid='TEST_573007', iid='BOOK_047259', r_ui=0.0, est=2.510926769799366, details={'was_impossible': False}),\n",
       " Prediction(uid='TEST_764542', iid='BOOK_110040', r_ui=4.0, est=2.823290021431215, details={'was_impossible': False}),\n",
       " Prediction(uid='TEST_086221', iid='BOOK_065143', r_ui=7.0, est=2.2996552879042818, details={'was_impossible': False}),\n",
       " Prediction(uid='TEST_293013', iid='BOOK_141763', r_ui=0.0, est=2.823290021431215, details={'was_impossible': False}),\n",
       " Prediction(uid='TEST_478843', iid='BOOK_080897', r_ui=0.0, est=1.5459984407948795, details={'was_impossible': False}),\n",
       " Prediction(uid='TEST_118407', iid='BOOK_047819', r_ui=8.0, est=3.9548643753858115, details={'was_impossible': False}),\n",
       " Prediction(uid='TEST_059473', iid='BOOK_218232', r_ui=0.0, est=2.823290021431215, details={'was_impossible': False}),\n",
       " Prediction(uid='TEST_324392', iid='BOOK_108757', r_ui=0.0, est=1.67908825151477, details={'was_impossible': False}),\n",
       " Prediction(uid='TEST_670938', iid='BOOK_179779', r_ui=0.0, est=2.3693574879467603, details={'was_impossible': False}),\n",
       " Prediction(uid='TEST_073955', iid='BOOK_096731', r_ui=0.0, est=1.8782019009712392, details={'was_impossible': False}),\n",
       " Prediction(uid='TEST_279760', iid='BOOK_164448', r_ui=0.0, est=1.8287492692890557, details={'was_impossible': False}),\n",
       " Prediction(uid='TEST_201498', iid='BOOK_146507', r_ui=0.0, est=2.4223164631254197, details={'was_impossible': False}),\n",
       " Prediction(uid='TEST_510270', iid='BOOK_139467', r_ui=9.0, est=3.9999659105350567, details={'was_impossible': False}),\n",
       " Prediction(uid='TEST_054693', iid='BOOK_197052', r_ui=0.0, est=2.543006428498046, details={'was_impossible': False}),\n",
       " Prediction(uid='TEST_493465', iid='BOOK_160488', r_ui=0.0, est=3.1989641465103316, details={'was_impossible': False}),\n",
       " Prediction(uid='TEST_552836', iid='BOOK_252111', r_ui=6.0, est=3.587095502707896, details={'was_impossible': False}),\n",
       " Prediction(uid='TEST_064284', iid='BOOK_009304', r_ui=0.0, est=2.5982138180391074, details={'was_impossible': False}),\n",
       " Prediction(uid='TEST_316805', iid='BOOK_176876', r_ui=0.0, est=2.1016497493303845, details={'was_impossible': False}),\n",
       " Prediction(uid='TEST_590518', iid='BOOK_267627', r_ui=5.0, est=2.587424249872226, details={'was_impossible': False}),\n",
       " Prediction(uid='TEST_272374', iid='BOOK_071347', r_ui=0.0, est=3.6405051032606717, details={'was_impossible': False}),\n",
       " Prediction(uid='TEST_235687', iid='BOOK_011323', r_ui=0.0, est=2.5976163797544056, details={'was_impossible': False}),\n",
       " Prediction(uid='TEST_135793', iid='BOOK_164305', r_ui=0.0, est=2.0255515019199457, details={'was_impossible': False}),\n",
       " Prediction(uid='TEST_269227', iid='BOOK_028235', r_ui=0.0, est=3.3146491549859842, details={'was_impossible': False}),\n",
       " Prediction(uid='TEST_193410', iid='BOOK_037756', r_ui=0.0, est=2.823290021431215, details={'was_impossible': False}),\n",
       " Prediction(uid='TEST_806312', iid='BOOK_172333', r_ui=10.0, est=1.760844378478945, details={'was_impossible': False}),\n",
       " Prediction(uid='TEST_607149', iid='BOOK_233808', r_ui=0.0, est=2.2355800968020807, details={'was_impossible': False}),\n",
       " Prediction(uid='TEST_453562', iid='BOOK_089725', r_ui=0.0, est=2.2671957688120714, details={'was_impossible': False}),\n",
       " Prediction(uid='TEST_116130', iid='BOOK_021925', r_ui=0.0, est=2.0088845040010916, details={'was_impossible': False}),\n",
       " Prediction(uid='TEST_258970', iid='BOOK_018196', r_ui=0.0, est=2.6984783423645644, details={'was_impossible': False}),\n",
       " Prediction(uid='TEST_334958', iid='BOOK_216096', r_ui=5.0, est=2.823290021431215, details={'was_impossible': False}),\n",
       " Prediction(uid='TEST_284759', iid='BOOK_002289', r_ui=6.0, est=3.8752440264070964, details={'was_impossible': False}),\n",
       " Prediction(uid='TEST_442788', iid='BOOK_100057', r_ui=2.0, est=3.301777604930431, details={'was_impossible': False}),\n",
       " Prediction(uid='TEST_006104', iid='BOOK_193881', r_ui=0.0, est=1.8312267914311402, details={'was_impossible': False}),\n",
       " Prediction(uid='TEST_270548', iid='BOOK_076622', r_ui=0.0, est=2.9977919746078094, details={'was_impossible': False}),\n",
       " Prediction(uid='TEST_713380', iid='BOOK_030982', r_ui=0.0, est=2.2112974125466076, details={'was_impossible': False}),\n",
       " Prediction(uid='TEST_552846', iid='BOOK_252352', r_ui=0.0, est=2.5899216522027495, details={'was_impossible': False}),\n",
       " Prediction(uid='TEST_242216', iid='BOOK_208608', r_ui=0.0, est=2.823290021431215, details={'was_impossible': False}),\n",
       " Prediction(uid='TEST_732431', iid='BOOK_023244', r_ui=0.0, est=3.952299114253708, details={'was_impossible': False}),\n",
       " Prediction(uid='TEST_285511', iid='BOOK_121045', r_ui=0.0, est=2.569969340591996, details={'was_impossible': False}),\n",
       " Prediction(uid='TEST_044707', iid='BOOK_096395', r_ui=0.0, est=2.7788866284239364, details={'was_impossible': False}),\n",
       " Prediction(uid='TEST_291135', iid='BOOK_065144', r_ui=0.0, est=1.9263814517259572, details={'was_impossible': False}),\n",
       " Prediction(uid='TEST_321393', iid='BOOK_201920', r_ui=0.0, est=2.4319333322844727, details={'was_impossible': False}),\n",
       " Prediction(uid='TEST_103693', iid='BOOK_047861', r_ui=0.0, est=2.823290021431215, details={'was_impossible': False}),\n",
       " Prediction(uid='TEST_856245', iid='BOOK_191988', r_ui=0.0, est=3.7709563610958408, details={'was_impossible': False}),\n",
       " Prediction(uid='TEST_652003', iid='BOOK_038388', r_ui=10.0, est=2.0201228480526914, details={'was_impossible': False}),\n",
       " Prediction(uid='TEST_209323', iid='BOOK_221815', r_ui=0.0, est=2.5846701948154793, details={'was_impossible': False}),\n",
       " Prediction(uid='TEST_681490', iid='BOOK_054509', r_ui=10.0, est=3.2850608511767363, details={'was_impossible': False}),\n",
       " Prediction(uid='TEST_399933', iid='BOOK_112853', r_ui=8.0, est=3.9827278360083254, details={'was_impossible': False}),\n",
       " Prediction(uid='TEST_399788', iid='BOOK_140081', r_ui=0.0, est=3.175088545812566, details={'was_impossible': False}),\n",
       " Prediction(uid='TEST_057021', iid='BOOK_063148', r_ui=0.0, est=2.823290021431215, details={'was_impossible': False}),\n",
       " Prediction(uid='TEST_791849', iid='BOOK_259634', r_ui=7.0, est=2.5358281931516418, details={'was_impossible': False}),\n",
       " Prediction(uid='TEST_707946', iid='BOOK_153358', r_ui=0.0, est=1.9937916661906883, details={'was_impossible': False}),\n",
       " Prediction(uid='TEST_379344', iid='BOOK_051796', r_ui=9.0, est=2.823290021431215, details={'was_impossible': False}),\n",
       " Prediction(uid='TEST_312335', iid='BOOK_037268', r_ui=0.0, est=2.38772711706712, details={'was_impossible': False}),\n",
       " Prediction(uid='TEST_685339', iid='BOOK_207078', r_ui=0.0, est=2.3590641234009366, details={'was_impossible': False}),\n",
       " Prediction(uid='TEST_443728', iid='BOOK_071489', r_ui=0.0, est=2.590002673018096, details={'was_impossible': False}),\n",
       " Prediction(uid='TEST_775729', iid='BOOK_134780', r_ui=9.0, est=2.823290021431215, details={'was_impossible': False}),\n",
       " Prediction(uid='TEST_451640', iid='BOOK_006539', r_ui=0.0, est=3.356218847233005, details={'was_impossible': False}),\n",
       " Prediction(uid='TEST_528462', iid='BOOK_078535', r_ui=0.0, est=3.685818973945657, details={'was_impossible': False}),\n",
       " Prediction(uid='TEST_455018', iid='BOOK_088217', r_ui=0.0, est=2.5817175077820727, details={'was_impossible': False}),\n",
       " Prediction(uid='TEST_571537', iid='BOOK_011639', r_ui=7.0, est=2.9689253954200288, details={'was_impossible': False}),\n",
       " Prediction(uid='TEST_656416', iid='BOOK_212121', r_ui=0.0, est=3.257618201329679, details={'was_impossible': False}),\n",
       " Prediction(uid='TEST_711234', iid='BOOK_149486', r_ui=0.0, est=3.293152551955402, details={'was_impossible': False}),\n",
       " Prediction(uid='TEST_127380', iid='BOOK_044635', r_ui=0.0, est=2.1845371159462506, details={'was_impossible': False}),\n",
       " Prediction(uid='TEST_260742', iid='BOOK_163585', r_ui=5.0, est=3.8305278832883403, details={'was_impossible': False}),\n",
       " Prediction(uid='TEST_399800', iid='BOOK_224588', r_ui=5.0, est=2.4457265814179823, details={'was_impossible': False}),\n",
       " Prediction(uid='TEST_613401', iid='BOOK_061748', r_ui=10.0, est=2.823290021431215, details={'was_impossible': False}),\n",
       " Prediction(uid='TEST_464292', iid='BOOK_250735', r_ui=7.0, est=2.158537137562913, details={'was_impossible': False}),\n",
       " Prediction(uid='TEST_467064', iid='BOOK_055362', r_ui=0.0, est=3.267566516428533, details={'was_impossible': False}),\n",
       " Prediction(uid='TEST_829998', iid='BOOK_240083', r_ui=0.0, est=3.078308025296931, details={'was_impossible': False}),\n",
       " Prediction(uid='TEST_150834', iid='BOOK_018071', r_ui=8.0, est=2.1889752406059935, details={'was_impossible': False}),\n",
       " Prediction(uid='TEST_243061', iid='BOOK_242128', r_ui=0.0, est=2.5635695169844968, details={'was_impossible': False}),\n",
       " Prediction(uid='TEST_009352', iid='BOOK_022588', r_ui=0.0, est=2.9178971131521156, details={'was_impossible': False}),\n",
       " Prediction(uid='TEST_047303', iid='BOOK_064819', r_ui=0.0, est=2.770785816543795, details={'was_impossible': False}),\n",
       " Prediction(uid='TEST_419945', iid='BOOK_174046', r_ui=0.0, est=2.823290021431215, details={'was_impossible': False}),\n",
       " Prediction(uid='TEST_825311', iid='BOOK_136258', r_ui=0.0, est=2.3860474963963734, details={'was_impossible': False}),\n",
       " Prediction(uid='TEST_334339', iid='BOOK_228440', r_ui=9.0, est=3.569999790351569, details={'was_impossible': False}),\n",
       " Prediction(uid='TEST_313004', iid='BOOK_097119', r_ui=0.0, est=2.823290021431215, details={'was_impossible': False}),\n",
       " Prediction(uid='TEST_706328', iid='BOOK_053379', r_ui=0.0, est=2.823290021431215, details={'was_impossible': False}),\n",
       " Prediction(uid='TEST_065485', iid='BOOK_107343', r_ui=0.0, est=1.718230373243265, details={'was_impossible': False}),\n",
       " Prediction(uid='TEST_560590', iid='BOOK_193945', r_ui=10.0, est=3.553475199773504, details={'was_impossible': False}),\n",
       " Prediction(uid='TEST_473796', iid='BOOK_125263', r_ui=6.0, est=2.9792843912132554, details={'was_impossible': False}),\n",
       " Prediction(uid='TEST_304444', iid='BOOK_061597', r_ui=0.0, est=2.574909705922545, details={'was_impossible': False}),\n",
       " Prediction(uid='TEST_339105', iid='BOOK_078799', r_ui=10.0, est=4.101602766732085, details={'was_impossible': False}),\n",
       " Prediction(uid='TEST_363149', iid='BOOK_182319', r_ui=9.0, est=3.238815661097143, details={'was_impossible': False}),\n",
       " Prediction(uid='TEST_019503', iid='BOOK_229210', r_ui=0.0, est=2.5128158626280257, details={'was_impossible': False}),\n",
       " Prediction(uid='TEST_576765', iid='BOOK_133402', r_ui=8.0, est=4.161863212159881, details={'was_impossible': False}),\n",
       " Prediction(uid='TEST_520786', iid='BOOK_114840', r_ui=0.0, est=3.0440064673574647, details={'was_impossible': False}),\n",
       " Prediction(uid='TEST_779232', iid='BOOK_195306', r_ui=0.0, est=1.8042104132085859, details={'was_impossible': False}),\n",
       " Prediction(uid='TEST_741442', iid='BOOK_238367', r_ui=5.0, est=3.2950629784577683, details={'was_impossible': False}),\n",
       " Prediction(uid='TEST_237935', iid='BOOK_123261', r_ui=9.0, est=2.530901214938877, details={'was_impossible': False}),\n",
       " Prediction(uid='TEST_068665', iid='BOOK_041622', r_ui=10.0, est=2.823290021431215, details={'was_impossible': False}),\n",
       " Prediction(uid='TEST_069788', iid='BOOK_125458', r_ui=8.0, est=2.306263771526215, details={'was_impossible': False}),\n",
       " Prediction(uid='TEST_614056', iid='BOOK_104149', r_ui=6.0, est=3.160074815474502, details={'was_impossible': False}),\n",
       " Prediction(uid='TEST_865369', iid='BOOK_146151', r_ui=0.0, est=3.8473965463686164, details={'was_impossible': False}),\n",
       " Prediction(uid='TEST_869365', iid='BOOK_064349', r_ui=8.0, est=3.1058613134812862, details={'was_impossible': False}),\n",
       " Prediction(uid='TEST_350531', iid='BOOK_158484', r_ui=0.0, est=3.013113230317358, details={'was_impossible': False}),\n",
       " Prediction(uid='TEST_697883', iid='BOOK_053017', r_ui=0.0, est=3.5346170785501467, details={'was_impossible': False}),\n",
       " Prediction(uid='TEST_444585', iid='BOOK_222175', r_ui=0.0, est=4.0420779049398465, details={'was_impossible': False}),\n",
       " Prediction(uid='TEST_353981', iid='BOOK_223227', r_ui=0.0, est=2.968517886156366, details={'was_impossible': False}),\n",
       " Prediction(uid='TEST_763535', iid='BOOK_091136', r_ui=0.0, est=2.823290021431215, details={'was_impossible': False}),\n",
       " Prediction(uid='TEST_160771', iid='BOOK_190454', r_ui=10.0, est=3.2192353517320096, details={'was_impossible': False}),\n",
       " Prediction(uid='TEST_808498', iid='BOOK_168116', r_ui=0.0, est=3.1815943675741507, details={'was_impossible': False}),\n",
       " Prediction(uid='TEST_719691', iid='BOOK_223796', r_ui=0.0, est=3.1416348252960917, details={'was_impossible': False}),\n",
       " Prediction(uid='TEST_809579', iid='BOOK_224177', r_ui=0.0, est=4.040048235717232, details={'was_impossible': False}),\n",
       " Prediction(uid='TEST_812567', iid='BOOK_148736', r_ui=0.0, est=2.035200276604836, details={'was_impossible': False}),\n",
       " Prediction(uid='TEST_283310', iid='BOOK_145510', r_ui=8.0, est=1.8607725439953708, details={'was_impossible': False}),\n",
       " Prediction(uid='TEST_265948', iid='BOOK_077783', r_ui=2.0, est=2.823290021431215, details={'was_impossible': False}),\n",
       " Prediction(uid='TEST_438225', iid='BOOK_163166', r_ui=7.0, est=2.3703276355656198, details={'was_impossible': False}),\n",
       " Prediction(uid='TEST_211115', iid='BOOK_119574', r_ui=0.0, est=1.6452073780541572, details={'was_impossible': False}),\n",
       " Prediction(uid='TEST_024434', iid='BOOK_123086', r_ui=9.0, est=3.3337566224653132, details={'was_impossible': False}),\n",
       " Prediction(uid='TEST_494953', iid='BOOK_108133', r_ui=6.0, est=2.5868185831899795, details={'was_impossible': False}),\n",
       " Prediction(uid='TEST_485007', iid='BOOK_122112', r_ui=0.0, est=3.168277453312411, details={'was_impossible': False}),\n",
       " Prediction(uid='TEST_149967', iid='BOOK_116907', r_ui=6.0, est=2.823290021431215, details={'was_impossible': False}),\n",
       " Prediction(uid='TEST_312564', iid='BOOK_056801', r_ui=8.0, est=3.7401370991080776, details={'was_impossible': False}),\n",
       " Prediction(uid='TEST_043208', iid='BOOK_138953', r_ui=0.0, est=2.823290021431215, details={'was_impossible': False}),\n",
       " Prediction(uid='TEST_013689', iid='BOOK_160275', r_ui=7.0, est=2.3544311180351554, details={'was_impossible': False}),\n",
       " Prediction(uid='TEST_677989', iid='BOOK_249377', r_ui=0.0, est=2.599035203248889, details={'was_impossible': False}),\n",
       " Prediction(uid='TEST_778509', iid='BOOK_051660', r_ui=0.0, est=2.836149457595692, details={'was_impossible': False}),\n",
       " Prediction(uid='TEST_140951', iid='BOOK_033169', r_ui=0.0, est=2.823290021431215, details={'was_impossible': False}),\n",
       " Prediction(uid='TEST_091796', iid='BOOK_147018', r_ui=10.0, est=2.858024497650997, details={'was_impossible': False}),\n",
       " Prediction(uid='TEST_845294', iid='BOOK_150368', r_ui=0.0, est=1.3230685994975757, details={'was_impossible': False}),\n",
       " Prediction(uid='TEST_165207', iid='BOOK_106952', r_ui=0.0, est=2.3668176333980084, details={'was_impossible': False}),\n",
       " Prediction(uid='TEST_397452', iid='BOOK_065319', r_ui=0.0, est=1.8513327198015421, details={'was_impossible': False}),\n",
       " Prediction(uid='TEST_185091', iid='BOOK_136630', r_ui=5.0, est=2.461991191080223, details={'was_impossible': False}),\n",
       " Prediction(uid='TEST_472646', iid='BOOK_138719', r_ui=0.0, est=3.244072788911721, details={'was_impossible': False}),\n",
       " Prediction(uid='TEST_284105', iid='BOOK_190059', r_ui=6.0, est=2.439722533588549, details={'was_impossible': False}),\n",
       " Prediction(uid='TEST_535123', iid='BOOK_057056', r_ui=0.0, est=3.2679547725932347, details={'was_impossible': False}),\n",
       " Prediction(uid='TEST_826879', iid='BOOK_066527', r_ui=0.0, est=3.496859184440337, details={'was_impossible': False}),\n",
       " Prediction(uid='TEST_388950', iid='BOOK_095576', r_ui=4.0, est=2.3932586265346005, details={'was_impossible': False}),\n",
       " Prediction(uid='TEST_850164', iid='BOOK_036180', r_ui=0.0, est=2.823290021431215, details={'was_impossible': False}),\n",
       " Prediction(uid='TEST_388733', iid='BOOK_165923', r_ui=7.0, est=2.800402857544669, details={'was_impossible': False}),\n",
       " Prediction(uid='TEST_560632', iid='BOOK_067968', r_ui=0.0, est=1.4766980704337775, details={'was_impossible': False}),\n",
       " Prediction(uid='TEST_221932', iid='BOOK_075947', r_ui=0.0, est=2.823290021431215, details={'was_impossible': False}),\n",
       " Prediction(uid='TEST_744097', iid='BOOK_152672', r_ui=8.0, est=2.382384687110288, details={'was_impossible': False}),\n",
       " Prediction(uid='TEST_728202', iid='BOOK_214556', r_ui=8.0, est=2.5806560109829233, details={'was_impossible': False}),\n",
       " Prediction(uid='TEST_319729', iid='BOOK_115411', r_ui=0.0, est=2.083263260720857, details={'was_impossible': False}),\n",
       " Prediction(uid='TEST_383999', iid='BOOK_069764', r_ui=8.0, est=4.205248340905163, details={'was_impossible': False}),\n",
       " Prediction(uid='TEST_093643', iid='BOOK_027669', r_ui=8.0, est=2.5296307756295624, details={'was_impossible': False}),\n",
       " Prediction(uid='TEST_738558', iid='BOOK_032775', r_ui=9.0, est=2.5799437179427627, details={'was_impossible': False}),\n",
       " Prediction(uid='TEST_672199', iid='BOOK_080477', r_ui=0.0, est=2.2106484165198736, details={'was_impossible': False}),\n",
       " Prediction(uid='TEST_562831', iid='BOOK_160291', r_ui=0.0, est=2.823290021431215, details={'was_impossible': False}),\n",
       " Prediction(uid='TEST_059905', iid='BOOK_047379', r_ui=0.0, est=2.3916367749036294, details={'was_impossible': False}),\n",
       " Prediction(uid='TEST_500957', iid='BOOK_200533', r_ui=0.0, est=2.579677839036735, details={'was_impossible': False}),\n",
       " Prediction(uid='TEST_275665', iid='BOOK_225883', r_ui=9.0, est=2.264379766025233, details={'was_impossible': False}),\n",
       " Prediction(uid='TEST_700445', iid='BOOK_246335', r_ui=0.0, est=3.013144463812527, details={'was_impossible': False}),\n",
       " Prediction(uid='TEST_362779', iid='BOOK_169925', r_ui=7.0, est=2.651477536464492, details={'was_impossible': False}),\n",
       " Prediction(uid='TEST_426501', iid='BOOK_217539', r_ui=9.0, est=3.3947964686079573, details={'was_impossible': False}),\n",
       " Prediction(uid='TEST_133991', iid='BOOK_100409', r_ui=0.0, est=2.823290021431215, details={'was_impossible': False}),\n",
       " Prediction(uid='TEST_800461', iid='BOOK_140380', r_ui=0.0, est=1.31739756072589, details={'was_impossible': False}),\n",
       " Prediction(uid='TEST_165170', iid='BOOK_104325', r_ui=7.0, est=2.5666789888583548, details={'was_impossible': False}),\n",
       " Prediction(uid='TEST_513199', iid='BOOK_005950', r_ui=5.0, est=3.46649866085576, details={'was_impossible': False}),\n",
       " Prediction(uid='TEST_452622', iid='BOOK_180862', r_ui=8.0, est=3.9470783094236057, details={'was_impossible': False}),\n",
       " Prediction(uid='TEST_416991', iid='BOOK_194723', r_ui=0.0, est=3.0884713353211537, details={'was_impossible': False}),\n",
       " Prediction(uid='TEST_559371', iid='BOOK_202380', r_ui=0.0, est=3.2440139670375734, details={'was_impossible': False}),\n",
       " Prediction(uid='TEST_197900', iid='BOOK_234898', r_ui=6.0, est=2.523757612100659, details={'was_impossible': False}),\n",
       " Prediction(uid='TEST_273930', iid='BOOK_246360', r_ui=0.0, est=3.785630317298554, details={'was_impossible': False}),\n",
       " Prediction(uid='TEST_789371', iid='BOOK_151647', r_ui=0.0, est=2.8067601573546592, details={'was_impossible': False}),\n",
       " Prediction(uid='TEST_005265', iid='BOOK_121403', r_ui=0.0, est=2.868382400997165, details={'was_impossible': False}),\n",
       " Prediction(uid='TEST_254095', iid='BOOK_250355', r_ui=0.0, est=2.0888530571080715, details={'was_impossible': False}),\n",
       " Prediction(uid='TEST_582676', iid='BOOK_129381', r_ui=0.0, est=2.823290021431215, details={'was_impossible': False}),\n",
       " Prediction(uid='TEST_244341', iid='BOOK_086755', r_ui=0.0, est=2.823290021431215, details={'was_impossible': False}),\n",
       " Prediction(uid='TEST_164924', iid='BOOK_084460', r_ui=0.0, est=4.123078342480313, details={'was_impossible': False}),\n",
       " Prediction(uid='TEST_156992', iid='BOOK_028481', r_ui=0.0, est=2.4823718317670385, details={'was_impossible': False}),\n",
       " Prediction(uid='TEST_626636', iid='BOOK_061270', r_ui=0.0, est=2.5777036979392762, details={'was_impossible': False}),\n",
       " Prediction(uid='TEST_161231', iid='BOOK_198275', r_ui=0.0, est=2.603185519667166, details={'was_impossible': False}),\n",
       " Prediction(uid='TEST_112470', iid='BOOK_227624', r_ui=5.0, est=3.9522477078445784, details={'was_impossible': False}),\n",
       " Prediction(uid='TEST_163825', iid='BOOK_004619', r_ui=0.0, est=2.442212509306533, details={'was_impossible': False}),\n",
       " Prediction(uid='TEST_660448', iid='BOOK_181835', r_ui=0.0, est=3.025880461012772, details={'was_impossible': False}),\n",
       " Prediction(uid='TEST_613142', iid='BOOK_190099', r_ui=7.0, est=2.4939792797679003, details={'was_impossible': False}),\n",
       " Prediction(uid='TEST_692605', iid='BOOK_153144', r_ui=0.0, est=2.823290021431215, details={'was_impossible': False}),\n",
       " Prediction(uid='TEST_433820', iid='BOOK_117316', r_ui=0.0, est=3.0248753040077965, details={'was_impossible': False}),\n",
       " Prediction(uid='TEST_554264', iid='BOOK_022648', r_ui=0.0, est=3.3012114438850215, details={'was_impossible': False}),\n",
       " Prediction(uid='TEST_290789', iid='BOOK_027703', r_ui=0.0, est=2.823290021431215, details={'was_impossible': False}),\n",
       " Prediction(uid='TEST_512829', iid='BOOK_110834', r_ui=6.0, est=2.823290021431215, details={'was_impossible': False}),\n",
       " Prediction(uid='TEST_397460', iid='BOOK_118030', r_ui=0.0, est=2.823290021431215, details={'was_impossible': False}),\n",
       " Prediction(uid='TEST_186095', iid='BOOK_034318', r_ui=0.0, est=2.595950906504213, details={'was_impossible': False}),\n",
       " Prediction(uid='TEST_788946', iid='BOOK_000451', r_ui=8.0, est=3.6191585483060864, details={'was_impossible': False}),\n",
       " Prediction(uid='TEST_417409', iid='BOOK_045458', r_ui=10.0, est=4.674807379104068, details={'was_impossible': False}),\n",
       " Prediction(uid='TEST_554178', iid='BOOK_264816', r_ui=0.0, est=2.569588072148061, details={'was_impossible': False}),\n",
       " Prediction(uid='TEST_165782', iid='BOOK_153320', r_ui=0.0, est=2.823290021431215, details={'was_impossible': False}),\n",
       " Prediction(uid='TEST_321895', iid='BOOK_226234', r_ui=0.0, est=2.823290021431215, details={'was_impossible': False}),\n",
       " Prediction(uid='TEST_418997', iid='BOOK_250953', r_ui=9.0, est=2.5808104925148885, details={'was_impossible': False}),\n",
       " Prediction(uid='TEST_573901', iid='BOOK_117179', r_ui=8.0, est=3.4656625170864404, details={'was_impossible': False}),\n",
       " Prediction(uid='TEST_475777', iid='BOOK_201940', r_ui=10.0, est=3.7583696918274794, details={'was_impossible': False}),\n",
       " Prediction(uid='TEST_411306', iid='BOOK_064881', r_ui=0.0, est=1.9424285934038479, details={'was_impossible': False}),\n",
       " Prediction(uid='TEST_082115', iid='BOOK_055078', r_ui=9.0, est=2.823290021431215, details={'was_impossible': False}),\n",
       " Prediction(uid='TEST_084783', iid='BOOK_078658', r_ui=9.0, est=2.770258267080311, details={'was_impossible': False}),\n",
       " Prediction(uid='TEST_380139', iid='BOOK_117466', r_ui=0.0, est=2.57495871946401, details={'was_impossible': False}),\n",
       " Prediction(uid='TEST_116339', iid='BOOK_141913', r_ui=5.0, est=2.217139041882153, details={'was_impossible': False}),\n",
       " Prediction(uid='TEST_281754', iid='BOOK_250180', r_ui=0.0, est=1.8674136207932117, details={'was_impossible': False}),\n",
       " Prediction(uid='TEST_804503', iid='BOOK_043160', r_ui=0.0, est=3.5883553212551202, details={'was_impossible': False}),\n",
       " Prediction(uid='TEST_341694', iid='BOOK_098645', r_ui=7.0, est=2.8745253294722293, details={'was_impossible': False}),\n",
       " Prediction(uid='TEST_831704', iid='BOOK_146874', r_ui=0.0, est=2.948000782536359, details={'was_impossible': False}),\n",
       " Prediction(uid='TEST_320243', iid='BOOK_150324', r_ui=0.0, est=2.578628300793111, details={'was_impossible': False}),\n",
       " Prediction(uid='TEST_175510', iid='BOOK_197451', r_ui=0.0, est=1.992400319994231, details={'was_impossible': False}),\n",
       " Prediction(uid='TEST_569758', iid='BOOK_013473', r_ui=0.0, est=2.480698722508455, details={'was_impossible': False}),\n",
       " Prediction(uid='TEST_592974', iid='BOOK_234999', r_ui=0.0, est=2.505343002550348, details={'was_impossible': False}),\n",
       " Prediction(uid='TEST_826942', iid='BOOK_053907', r_ui=9.0, est=3.6939984810546718, details={'was_impossible': False}),\n",
       " Prediction(uid='TEST_161467', iid='BOOK_199558', r_ui=10.0, est=2.5772646871625406, details={'was_impossible': False}),\n",
       " Prediction(uid='TEST_533497', iid='BOOK_117316', r_ui=0.0, est=3.0248753040077965, details={'was_impossible': False}),\n",
       " Prediction(uid='TEST_738724', iid='BOOK_178340', r_ui=6.0, est=2.922551801101352, details={'was_impossible': False}),\n",
       " Prediction(uid='TEST_059979', iid='BOOK_115695', r_ui=0.0, est=2.823290021431215, details={'was_impossible': False}),\n",
       " Prediction(uid='TEST_577419', iid='BOOK_153109', r_ui=0.0, est=2.823290021431215, details={'was_impossible': False}),\n",
       " Prediction(uid='TEST_472555', iid='BOOK_123420', r_ui=0.0, est=2.823290021431215, details={'was_impossible': False}),\n",
       " Prediction(uid='TEST_210678', iid='BOOK_154603', r_ui=0.0, est=4.4063413570714385, details={'was_impossible': False}),\n",
       " Prediction(uid='TEST_001561', iid='BOOK_137822', r_ui=0.0, est=2.5555782419012005, details={'was_impossible': False}),\n",
       " Prediction(uid='TEST_585167', iid='BOOK_142310', r_ui=7.0, est=3.2520865741769795, details={'was_impossible': False}),\n",
       " Prediction(uid='TEST_811630', iid='BOOK_217742', r_ui=0.0, est=2.3857141537137125, details={'was_impossible': False}),\n",
       " Prediction(uid='TEST_090032', iid='BOOK_256247', r_ui=0.0, est=2.9163211640149513, details={'was_impossible': False}),\n",
       " Prediction(uid='TEST_477291', iid='BOOK_060878', r_ui=10.0, est=4.323865527783202, details={'was_impossible': False}),\n",
       " Prediction(uid='TEST_608291', iid='BOOK_098803', r_ui=0.0, est=3.0031025304328223, details={'was_impossible': False}),\n",
       " Prediction(uid='TEST_659723', iid='BOOK_225981', r_ui=0.0, est=2.823290021431215, details={'was_impossible': False}),\n",
       " Prediction(uid='TEST_469410', iid='BOOK_006485', r_ui=0.0, est=2.4255287830457153, details={'was_impossible': False}),\n",
       " Prediction(uid='TEST_068263', iid='BOOK_184599', r_ui=0.0, est=2.2463257396352354, details={'was_impossible': False}),\n",
       " Prediction(uid='TEST_050924', iid='BOOK_162024', r_ui=0.0, est=3.1692953392558487, details={'was_impossible': False}),\n",
       " Prediction(uid='TEST_292437', iid='BOOK_214138', r_ui=0.0, est=2.633298329625558, details={'was_impossible': False}),\n",
       " Prediction(uid='TEST_103187', iid='BOOK_058792', r_ui=9.0, est=3.474389734521511, details={'was_impossible': False}),\n",
       " Prediction(uid='TEST_216863', iid='BOOK_092176', r_ui=10.0, est=3.2687346748308035, details={'was_impossible': False}),\n",
       " Prediction(uid='TEST_358541', iid='BOOK_159768', r_ui=0.0, est=2.7890008294420108, details={'was_impossible': False}),\n",
       " Prediction(uid='TEST_498465', iid='BOOK_084952', r_ui=0.0, est=3.7068890193062054, details={'was_impossible': False}),\n",
       " Prediction(uid='TEST_025599', iid='BOOK_174991', r_ui=0.0, est=2.823290021431215, details={'was_impossible': False}),\n",
       " Prediction(uid='TEST_055985', iid='BOOK_025373', r_ui=0.0, est=2.5893469614527906, details={'was_impossible': False}),\n",
       " Prediction(uid='TEST_783150', iid='BOOK_060371', r_ui=7.0, est=2.399541465488825, details={'was_impossible': False}),\n",
       " Prediction(uid='TEST_384434', iid='BOOK_023707', r_ui=0.0, est=2.7917377829911714, details={'was_impossible': False}),\n",
       " Prediction(uid='TEST_457988', iid='BOOK_140281', r_ui=10.0, est=2.823290021431215, details={'was_impossible': False}),\n",
       " Prediction(uid='TEST_090318', iid='BOOK_174588', r_ui=0.0, est=4.304970238514162, details={'was_impossible': False}),\n",
       " Prediction(uid='TEST_863640', iid='BOOK_268663', r_ui=8.0, est=2.823290021431215, details={'was_impossible': False}),\n",
       " Prediction(uid='TEST_120937', iid='BOOK_176446', r_ui=0.0, est=1.6063432118920524, details={'was_impossible': False}),\n",
       " Prediction(uid='TEST_721684', iid='BOOK_203188', r_ui=0.0, est=1.844583022136501, details={'was_impossible': False}),\n",
       " Prediction(uid='TEST_533720', iid='BOOK_167843', r_ui=0.0, est=2.386953052078475, details={'was_impossible': False}),\n",
       " Prediction(uid='TEST_297323', iid='BOOK_173013', r_ui=0.0, est=2.7179323200885706, details={'was_impossible': False}),\n",
       " Prediction(uid='TEST_148818', iid='BOOK_252455', r_ui=0.0, est=3.169286634717368, details={'was_impossible': False}),\n",
       " Prediction(uid='TEST_273467', iid='BOOK_235856', r_ui=6.0, est=3.931221426306011, details={'was_impossible': False}),\n",
       " Prediction(uid='TEST_858883', iid='BOOK_147377', r_ui=0.0, est=3.212174466860609, details={'was_impossible': False}),\n",
       " Prediction(uid='TEST_796798', iid='BOOK_121270', r_ui=0.0, est=3.742059797074776, details={'was_impossible': False}),\n",
       " Prediction(uid='TEST_013105', iid='BOOK_245146', r_ui=6.0, est=2.882068607337741, details={'was_impossible': False}),\n",
       " Prediction(uid='TEST_539055', iid='BOOK_037436', r_ui=0.0, est=2.587214094018816, details={'was_impossible': False}),\n",
       " Prediction(uid='TEST_028207', iid='BOOK_177686', r_ui=0.0, est=2.6022424336231875, details={'was_impossible': False}),\n",
       " Prediction(uid='TEST_345191', iid='BOOK_130803', r_ui=0.0, est=2.823290021431215, details={'was_impossible': False}),\n",
       " Prediction(uid='TEST_339423', iid='BOOK_054875', r_ui=7.0, est=2.996555809087928, details={'was_impossible': False}),\n",
       " Prediction(uid='TEST_068810', iid='BOOK_048427', r_ui=0.0, est=3.014098293114486, details={'was_impossible': False}),\n",
       " Prediction(uid='TEST_507050', iid='BOOK_251995', r_ui=0.0, est=3.6485349860664074, details={'was_impossible': False}),\n",
       " Prediction(uid='TEST_097884', iid='BOOK_103980', r_ui=0.0, est=2.9511695338517128, details={'was_impossible': False}),\n",
       " Prediction(uid='TEST_196444', iid='BOOK_219200', r_ui=0.0, est=3.02019229780977, details={'was_impossible': False}),\n",
       " Prediction(uid='TEST_275978', iid='BOOK_102261', r_ui=7.0, est=3.250104564423688, details={'was_impossible': False}),\n",
       " Prediction(uid='TEST_568790', iid='BOOK_172715', r_ui=0.0, est=2.823290021431215, details={'was_impossible': False}),\n",
       " Prediction(uid='TEST_020989', iid='BOOK_095793', r_ui=0.0, est=1.4868315896484925, details={'was_impossible': False}),\n",
       " Prediction(uid='TEST_365363', iid='BOOK_227610', r_ui=7.0, est=2.456740195091288, details={'was_impossible': False}),\n",
       " Prediction(uid='TEST_582564', iid='BOOK_100728', r_ui=5.0, est=2.566889426858797, details={'was_impossible': False}),\n",
       " Prediction(uid='TEST_649259', iid='BOOK_085554', r_ui=0.0, est=2.8601358657954834, details={'was_impossible': False}),\n",
       " Prediction(uid='TEST_797372', iid='BOOK_154960', r_ui=0.0, est=3.4702331578523626, details={'was_impossible': False}),\n",
       " Prediction(uid='TEST_347377', iid='BOOK_145823', r_ui=6.0, est=3.230694667277782, details={'was_impossible': False}),\n",
       " Prediction(uid='TEST_052644', iid='BOOK_151185', r_ui=0.0, est=2.641535982071219, details={'was_impossible': False}),\n",
       " Prediction(uid='TEST_379439', iid='BOOK_112170', r_ui=7.0, est=3.572211552180182, details={'was_impossible': False}),\n",
       " Prediction(uid='TEST_554263', iid='BOOK_231142', r_ui=0.0, est=3.0044222201354165, details={'was_impossible': False}),\n",
       " Prediction(uid='TEST_083255', iid='BOOK_128893', r_ui=0.0, est=2.823290021431215, details={'was_impossible': False}),\n",
       " Prediction(uid='TEST_401736', iid='BOOK_142548', r_ui=7.0, est=4.0587976935448316, details={'was_impossible': False}),\n",
       " Prediction(uid='TEST_160180', iid='BOOK_102077', r_ui=6.0, est=2.756348647427868, details={'was_impossible': False}),\n",
       " Prediction(uid='TEST_232008', iid='BOOK_057689', r_ui=0.0, est=4.6737485369115, details={'was_impossible': False}),\n",
       " Prediction(uid='TEST_628134', iid='BOOK_045827', r_ui=0.0, est=2.032385150777091, details={'was_impossible': False}),\n",
       " Prediction(uid='TEST_818874', iid='BOOK_224980', r_ui=0.0, est=3.7655139545971483, details={'was_impossible': False}),\n",
       " Prediction(uid='TEST_191156', iid='BOOK_170585', r_ui=0.0, est=2.1964019147670495, details={'was_impossible': False}),\n",
       " Prediction(uid='TEST_542545', iid='BOOK_002289', r_ui=10.0, est=3.8752440264070964, details={'was_impossible': False}),\n",
       " Prediction(uid='TEST_604528', iid='BOOK_006127', r_ui=7.0, est=2.009157521832465, details={'was_impossible': False}),\n",
       " Prediction(uid='TEST_356509', iid='BOOK_089180', r_ui=0.0, est=2.7633932889586683, details={'was_impossible': False}),\n",
       " Prediction(uid='TEST_336824', iid='BOOK_054523', r_ui=7.0, est=3.421194443240149, details={'was_impossible': False}),\n",
       " Prediction(uid='TEST_179324', iid='BOOK_062415', r_ui=0.0, est=2.8822543181066402, details={'was_impossible': False}),\n",
       " Prediction(uid='TEST_562510', iid='BOOK_203562', r_ui=9.0, est=3.3595106176037324, details={'was_impossible': False}),\n",
       " Prediction(uid='TEST_190831', iid='BOOK_037050', r_ui=6.0, est=2.145146280844198, details={'was_impossible': False}),\n",
       " Prediction(uid='TEST_249505', iid='BOOK_135956', r_ui=0.0, est=2.823290021431215, details={'was_impossible': False}),\n",
       " Prediction(uid='TEST_174375', iid='BOOK_133932', r_ui=8.0, est=2.792727913960206, details={'was_impossible': False}),\n",
       " Prediction(uid='TEST_467138', iid='BOOK_018049', r_ui=0.0, est=3.308785560538081, details={'was_impossible': False}),\n",
       " Prediction(uid='TEST_420106', iid='BOOK_153827', r_ui=0.0, est=3.253422402851977, details={'was_impossible': False}),\n",
       " Prediction(uid='TEST_320421', iid='BOOK_255678', r_ui=0.0, est=2.1525445290340053, details={'was_impossible': False}),\n",
       " Prediction(uid='TEST_637918', iid='BOOK_184678', r_ui=0.0, est=3.35047440560691, details={'was_impossible': False}),\n",
       " Prediction(uid='TEST_049707', iid='BOOK_006105', r_ui=0.0, est=2.779949857404563, details={'was_impossible': False}),\n",
       " Prediction(uid='TEST_021721', iid='BOOK_186471', r_ui=5.0, est=2.823290021431215, details={'was_impossible': False}),\n",
       " Prediction(uid='TEST_731727', iid='BOOK_192213', r_ui=0.0, est=1.8706332728431727, details={'was_impossible': False}),\n",
       " Prediction(uid='TEST_043795', iid='BOOK_241760', r_ui=0.0, est=2.9281522269085127, details={'was_impossible': False}),\n",
       " Prediction(uid='TEST_397475', iid='BOOK_233719', r_ui=0.0, est=3.005577681483161, details={'was_impossible': False}),\n",
       " Prediction(uid='TEST_630636', iid='BOOK_104955', r_ui=0.0, est=2.4079475597191693, details={'was_impossible': False}),\n",
       " Prediction(uid='TEST_056912', iid='BOOK_261929', r_ui=0.0, est=3.131655857883967, details={'was_impossible': False}),\n",
       " Prediction(uid='TEST_811373', iid='BOOK_201202', r_ui=0.0, est=3.024584417441647, details={'was_impossible': False}),\n",
       " Prediction(uid='TEST_529564', iid='BOOK_099903', r_ui=0.0, est=2.5989369602932557, details={'was_impossible': False}),\n",
       " Prediction(uid='TEST_428554', iid='BOOK_158627', r_ui=8.0, est=2.401295306098577, details={'was_impossible': False}),\n",
       " Prediction(uid='TEST_332579', iid='BOOK_254824', r_ui=4.0, est=2.823290021431215, details={'was_impossible': False}),\n",
       " Prediction(uid='TEST_244710', iid='BOOK_229092', r_ui=0.0, est=2.591581705289935, details={'was_impossible': False}),\n",
       " Prediction(uid='TEST_285617', iid='BOOK_139340', r_ui=8.0, est=4.64488331255884, details={'was_impossible': False}),\n",
       " Prediction(uid='TEST_071971', iid='BOOK_078908', r_ui=0.0, est=1.171995839803175, details={'was_impossible': False}),\n",
       " Prediction(uid='TEST_141975', iid='BOOK_232882', r_ui=0.0, est=2.5396169009052905, details={'was_impossible': False}),\n",
       " Prediction(uid='TEST_348778', iid='BOOK_124533', r_ui=5.0, est=3.8640409156932036, details={'was_impossible': False}),\n",
       " Prediction(uid='TEST_667733', iid='BOOK_016631', r_ui=9.0, est=3.2423636871481887, details={'was_impossible': False}),\n",
       " Prediction(uid='TEST_711490', iid='BOOK_254875', r_ui=7.0, est=2.589892920449694, details={'was_impossible': False}),\n",
       " Prediction(uid='TEST_512920', iid='BOOK_046626', r_ui=10.0, est=2.136242266019216, details={'was_impossible': False}),\n",
       " Prediction(uid='TEST_691348', iid='BOOK_033551', r_ui=0.0, est=3.5109390577850794, details={'was_impossible': False}),\n",
       " Prediction(uid='TEST_359845', iid='BOOK_175575', r_ui=0.0, est=3.2117297166965315, details={'was_impossible': False}),\n",
       " Prediction(uid='TEST_218927', iid='BOOK_222933', r_ui=0.0, est=2.897283934731421, details={'was_impossible': False}),\n",
       " Prediction(uid='TEST_419311', iid='BOOK_095348', r_ui=0.0, est=2.823290021431215, details={'was_impossible': False}),\n",
       " Prediction(uid='TEST_442752', iid='BOOK_028713', r_ui=9.0, est=2.775523181501194, details={'was_impossible': False}),\n",
       " Prediction(uid='TEST_628017', iid='BOOK_021149', r_ui=0.0, est=2.6705198968509603, details={'was_impossible': False}),\n",
       " Prediction(uid='TEST_061065', iid='BOOK_167572', r_ui=0.0, est=2.7966030586691546, details={'was_impossible': False}),\n",
       " Prediction(uid='TEST_494709', iid='BOOK_060625', r_ui=6.0, est=2.823290021431215, details={'was_impossible': False}),\n",
       " Prediction(uid='TEST_215662', iid='BOOK_074187', r_ui=0.0, est=4.69808576688485, details={'was_impossible': False}),\n",
       " Prediction(uid='TEST_198275', iid='BOOK_077230', r_ui=0.0, est=2.45149488097591, details={'was_impossible': False}),\n",
       " Prediction(uid='TEST_269084', iid='BOOK_033305', r_ui=0.0, est=2.823290021431215, details={'was_impossible': False}),\n",
       " Prediction(uid='TEST_350078', iid='BOOK_094713', r_ui=10.0, est=2.823290021431215, details={'was_impossible': False}),\n",
       " Prediction(uid='TEST_214605', iid='BOOK_181003', r_ui=0.0, est=2.463337063353285, details={'was_impossible': False}),\n",
       " Prediction(uid='TEST_292996', iid='BOOK_107117', r_ui=5.0, est=1.420905733055325, details={'was_impossible': False}),\n",
       " Prediction(uid='TEST_319429', iid='BOOK_211648', r_ui=0.0, est=2.823290021431215, details={'was_impossible': False}),\n",
       " Prediction(uid='TEST_121094', iid='BOOK_193154', r_ui=0.0, est=2.823290021431215, details={'was_impossible': False}),\n",
       " Prediction(uid='TEST_442465', iid='BOOK_245608', r_ui=0.0, est=2.5909088069339514, details={'was_impossible': False}),\n",
       " Prediction(uid='TEST_155501', iid='BOOK_194018', r_ui=9.0, est=3.3093761346935864, details={'was_impossible': False}),\n",
       " Prediction(uid='TEST_499464', iid='BOOK_253209', r_ui=4.0, est=2.823290021431215, details={'was_impossible': False}),\n",
       " Prediction(uid='TEST_759004', iid='BOOK_163526', r_ui=9.0, est=4.064474283734522, details={'was_impossible': False}),\n",
       " Prediction(uid='TEST_820937', iid='BOOK_198752', r_ui=0.0, est=2.589817100486785, details={'was_impossible': False}),\n",
       " Prediction(uid='TEST_449964', iid='BOOK_114840', r_ui=0.0, est=3.0440064673574647, details={'was_impossible': False}),\n",
       " Prediction(uid='TEST_808004', iid='BOOK_116348', r_ui=0.0, est=2.823290021431215, details={'was_impossible': False}),\n",
       " Prediction(uid='TEST_319629', iid='BOOK_059117', r_ui=8.0, est=2.9945392833785935, details={'was_impossible': False}),\n",
       " Prediction(uid='TEST_706181', iid='BOOK_044929', r_ui=0.0, est=2.823290021431215, details={'was_impossible': False}),\n",
       " Prediction(uid='TEST_563407', iid='BOOK_111012', r_ui=0.0, est=3.4091819760626474, details={'was_impossible': False}),\n",
       " Prediction(uid='TEST_720711', iid='BOOK_174907', r_ui=5.0, est=2.823290021431215, details={'was_impossible': False}),\n",
       " Prediction(uid='TEST_125311', iid='BOOK_092455', r_ui=10.0, est=3.2512566562056393, details={'was_impossible': False}),\n",
       " Prediction(uid='TEST_246857', iid='BOOK_110155', r_ui=0.0, est=3.6592970587490017, details={'was_impossible': False}),\n",
       " Prediction(uid='TEST_087135', iid='BOOK_065431', r_ui=0.0, est=1.5651870728997157, details={'was_impossible': False}),\n",
       " Prediction(uid='TEST_322725', iid='BOOK_180790', r_ui=0.0, est=2.5195802839501837, details={'was_impossible': False}),\n",
       " Prediction(uid='TEST_537372', iid='BOOK_000785', r_ui=0.0, est=2.1852161586002943, details={'was_impossible': False}),\n",
       " Prediction(uid='TEST_075990', iid='BOOK_224220', r_ui=0.0, est=2.586324630282248, details={'was_impossible': False}),\n",
       " Prediction(uid='TEST_235547', iid='BOOK_195268', r_ui=0.0, est=2.823290021431215, details={'was_impossible': False}),\n",
       " Prediction(uid='TEST_516794', iid='BOOK_076055', r_ui=0.0, est=2.784466255209777, details={'was_impossible': False}),\n",
       " Prediction(uid='TEST_682882', iid='BOOK_002218', r_ui=0.0, est=2.823290021431215, details={'was_impossible': False}),\n",
       " Prediction(uid='TEST_035309', iid='BOOK_269356', r_ui=0.0, est=3.2593718940934595, details={'was_impossible': False}),\n",
       " Prediction(uid='TEST_382976', iid='BOOK_186242', r_ui=0.0, est=2.366010386015856, details={'was_impossible': False}),\n",
       " Prediction(uid='TEST_735781', iid='BOOK_125869', r_ui=9.0, est=2.823290021431215, details={'was_impossible': False}),\n",
       " Prediction(uid='TEST_664375', iid='BOOK_017652', r_ui=0.0, est=4.031821937624622, details={'was_impossible': False}),\n",
       " Prediction(uid='TEST_827104', iid='BOOK_037989', r_ui=5.0, est=3.00360539402764, details={'was_impossible': False}),\n",
       " Prediction(uid='TEST_421362', iid='BOOK_210395', r_ui=3.0, est=2.3902502662451024, details={'was_impossible': False}),\n",
       " Prediction(uid='TEST_463952', iid='BOOK_088610', r_ui=9.0, est=2.587356730530909, details={'was_impossible': False}),\n",
       " Prediction(uid='TEST_507088', iid='BOOK_040442', r_ui=0.0, est=2.6063972711870154, details={'was_impossible': False}),\n",
       " Prediction(uid='TEST_858354', iid='BOOK_197974', r_ui=0.0, est=3.8303528854012123, details={'was_impossible': False}),\n",
       " Prediction(uid='TEST_829622', iid='BOOK_045651', r_ui=0.0, est=3.291020209093518, details={'was_impossible': False}),\n",
       " Prediction(uid='TEST_768437', iid='BOOK_249880', r_ui=8.0, est=3.7624544517828817, details={'was_impossible': False}),\n",
       " Prediction(uid='TEST_750984', iid='BOOK_189120', r_ui=0.0, est=2.6250393834189514, details={'was_impossible': False}),\n",
       " Prediction(uid='TEST_358381', iid='BOOK_073909', r_ui=0.0, est=2.1769475706655403, details={'was_impossible': False}),\n",
       " Prediction(uid='TEST_207186', iid='BOOK_220480', r_ui=10.0, est=2.823290021431215, details={'was_impossible': False}),\n",
       " Prediction(uid='TEST_697279', iid='BOOK_129794', r_ui=8.0, est=2.823290021431215, details={'was_impossible': False}),\n",
       " Prediction(uid='TEST_382372', iid='BOOK_140924', r_ui=0.0, est=2.823290021431215, details={'was_impossible': False}),\n",
       " Prediction(uid='TEST_657570', iid='BOOK_080711', r_ui=6.0, est=2.927241992757652, details={'was_impossible': False}),\n",
       " Prediction(uid='TEST_733175', iid='BOOK_107558', r_ui=8.0, est=3.2111368606685424, details={'was_impossible': False}),\n",
       " Prediction(uid='TEST_052177', iid='BOOK_176792', r_ui=6.0, est=2.600879891423647, details={'was_impossible': False}),\n",
       " Prediction(uid='TEST_605347', iid='BOOK_106591', r_ui=9.0, est=2.550636992096222, details={'was_impossible': False}),\n",
       " Prediction(uid='TEST_019544', iid='BOOK_233430', r_ui=0.0, est=3.0469554987816894, details={'was_impossible': False}),\n",
       " Prediction(uid='TEST_035531', iid='BOOK_091524', r_ui=9.0, est=2.823290021431215, details={'was_impossible': False}),\n",
       " Prediction(uid='TEST_332816', iid='BOOK_000330', r_ui=0.0, est=3.454191286912756, details={'was_impossible': False}),\n",
       " Prediction(uid='TEST_359678', iid='BOOK_063816', r_ui=0.0, est=2.823290021431215, details={'was_impossible': False}),\n",
       " Prediction(uid='TEST_208516', iid='BOOK_054528', r_ui=0.0, est=3.5666449116608727, details={'was_impossible': False}),\n",
       " Prediction(uid='TEST_271956', iid='BOOK_188881', r_ui=8.0, est=2.3544074450044477, details={'was_impossible': False}),\n",
       " Prediction(uid='TEST_298169', iid='BOOK_094885', r_ui=8.0, est=2.3949099898265964, details={'was_impossible': False}),\n",
       " Prediction(uid='TEST_690921', iid='BOOK_239282', r_ui=0.0, est=2.7469971732728546, details={'was_impossible': False}),\n",
       " Prediction(uid='TEST_780056', iid='BOOK_031579', r_ui=0.0, est=2.218183624803907, details={'was_impossible': False}),\n",
       " Prediction(uid='TEST_029879', iid='BOOK_265300', r_ui=8.0, est=2.823290021431215, details={'was_impossible': False}),\n",
       " Prediction(uid='TEST_827366', iid='BOOK_148502', r_ui=9.0, est=3.4094614056090613, details={'was_impossible': False}),\n",
       " Prediction(uid='TEST_012538', iid='BOOK_261929', r_ui=0.0, est=3.131655857883967, details={'was_impossible': False}),\n",
       " Prediction(uid='TEST_127631', iid='BOOK_236581', r_ui=0.0, est=2.590799521940732, details={'was_impossible': False}),\n",
       " Prediction(uid='TEST_146318', iid='BOOK_166110', r_ui=0.0, est=2.6842085961669055, details={'was_impossible': False}),\n",
       " Prediction(uid='TEST_716945', iid='BOOK_246669', r_ui=8.0, est=2.9850476614934425, details={'was_impossible': False}),\n",
       " Prediction(uid='TEST_352888', iid='BOOK_200268', r_ui=8.0, est=3.730313136609293, details={'was_impossible': False}),\n",
       " Prediction(uid='TEST_517971', iid='BOOK_193650', r_ui=0.0, est=2.433654628666002, details={'was_impossible': False}),\n",
       " Prediction(uid='TEST_167225', iid='BOOK_264952', r_ui=0.0, est=2.3698312141569002, details={'was_impossible': False}),\n",
       " Prediction(uid='TEST_168449', iid='BOOK_028215', r_ui=5.0, est=2.823290021431215, details={'was_impossible': False}),\n",
       " Prediction(uid='TEST_096399', iid='BOOK_114358', r_ui=0.0, est=2.308345490708239, details={'was_impossible': False}),\n",
       " Prediction(uid='TEST_595768', iid='BOOK_160635', r_ui=0.0, est=3.5030058665163577, details={'was_impossible': False}),\n",
       " Prediction(uid='TEST_248832', iid='BOOK_111022', r_ui=8.0, est=2.5397740155843316, details={'was_impossible': False}),\n",
       " Prediction(uid='TEST_368094', iid='BOOK_097033', r_ui=0.0, est=3.164696723395525, details={'was_impossible': False}),\n",
       " Prediction(uid='TEST_019473', iid='BOOK_225232', r_ui=0.0, est=3.012920545099885, details={'was_impossible': False}),\n",
       " Prediction(uid='TEST_854881', iid='BOOK_244387', r_ui=0.0, est=2.585026421908897, details={'was_impossible': False}),\n",
       " Prediction(uid='TEST_712113', iid='BOOK_231098', r_ui=0.0, est=2.593376192781938, details={'was_impossible': False}),\n",
       " Prediction(uid='TEST_233640', iid='BOOK_024421', r_ui=0.0, est=2.794486469393955, details={'was_impossible': False}),\n",
       " Prediction(uid='TEST_652132', iid='BOOK_144659', r_ui=0.0, est=1.349902494450829, details={'was_impossible': False}),\n",
       " Prediction(uid='TEST_386760', iid='BOOK_064284', r_ui=0.0, est=3.0129979271862997, details={'was_impossible': False}),\n",
       " Prediction(uid='TEST_749570', iid='BOOK_189120', r_ui=0.0, est=2.6250393834189514, details={'was_impossible': False}),\n",
       " Prediction(uid='TEST_589654', iid='BOOK_235345', r_ui=10.0, est=2.062909076194172, details={'was_impossible': False}),\n",
       " Prediction(uid='TEST_865191', iid='BOOK_112248', r_ui=7.0, est=3.4515893385039167, details={'was_impossible': False}),\n",
       " Prediction(uid='TEST_375682', iid='BOOK_181236', r_ui=9.0, est=2.823290021431215, details={'was_impossible': False}),\n",
       " Prediction(uid='TEST_299358', iid='BOOK_187177', r_ui=0.0, est=2.356255626684939, details={'was_impossible': False}),\n",
       " Prediction(uid='TEST_386691', iid='BOOK_037576', r_ui=0.0, est=2.4421596859545014, details={'was_impossible': False}),\n",
       " Prediction(uid='TEST_649206', iid='BOOK_222248', r_ui=0.0, est=3.7626873991788536, details={'was_impossible': False}),\n",
       " Prediction(uid='TEST_019586', iid='BOOK_238782', r_ui=0.0, est=2.6013173485213783, details={'was_impossible': False}),\n",
       " Prediction(uid='TEST_222023', iid='BOOK_111434', r_ui=0.0, est=2.823290021431215, details={'was_impossible': False}),\n",
       " Prediction(uid='TEST_145009', iid='BOOK_188987', r_ui=0.0, est=2.5803453840406787, details={'was_impossible': False}),\n",
       " Prediction(uid='TEST_852648', iid='BOOK_047819', r_ui=0.0, est=3.9548643753858115, details={'was_impossible': False}),\n",
       " Prediction(uid='TEST_391239', iid='BOOK_178515', r_ui=0.0, est=2.5886082366594394, details={'was_impossible': False}),\n",
       " Prediction(uid='TEST_826888', iid='BOOK_157993', r_ui=10.0, est=3.238805236794347, details={'was_impossible': False}),\n",
       " Prediction(uid='TEST_706293', iid='BOOK_051676', r_ui=0.0, est=2.823290021431215, details={'was_impossible': False}),\n",
       " Prediction(uid='TEST_015811', iid='BOOK_048354', r_ui=0.0, est=2.2516708117459876, details={'was_impossible': False}),\n",
       " Prediction(uid='TEST_626630', iid='BOOK_056122', r_ui=0.0, est=2.399953027382671, details={'was_impossible': False}),\n",
       " Prediction(uid='TEST_681769', iid='BOOK_243895', r_ui=5.0, est=3.7166153826655135, details={'was_impossible': False}),\n",
       " Prediction(uid='TEST_061372', iid='BOOK_254426', r_ui=10.0, est=2.652947481397079, details={'was_impossible': False}),\n",
       " Prediction(uid='TEST_185789', iid='BOOK_229528', r_ui=0.0, est=2.823290021431215, details={'was_impossible': False}),\n",
       " Prediction(uid='TEST_451540', iid='BOOK_061442', r_ui=5.0, est=2.381251630017629, details={'was_impossible': False}),\n",
       " Prediction(uid='TEST_293484', iid='BOOK_098127', r_ui=9.0, est=2.8874912042241894, details={'was_impossible': False}),\n",
       " Prediction(uid='TEST_485217', iid='BOOK_174532', r_ui=5.0, est=2.5926717003483226, details={'was_impossible': False}),\n",
       " Prediction(uid='TEST_386523', iid='BOOK_148204', r_ui=0.0, est=2.823290021431215, details={'was_impossible': False}),\n",
       " Prediction(uid='TEST_372667', iid='BOOK_019190', r_ui=0.0, est=2.9922460103292727, details={'was_impossible': False}),\n",
       " Prediction(uid='TEST_555758', iid='BOOK_177078', r_ui=0.0, est=3.085209310273099, details={'was_impossible': False}),\n",
       " Prediction(uid='TEST_035545', iid='BOOK_095982', r_ui=8.0, est=2.823290021431215, details={'was_impossible': False}),\n",
       " Prediction(uid='TEST_069053', iid='BOOK_132003', r_ui=0.0, est=2.2104695140580586, details={'was_impossible': False}),\n",
       " Prediction(uid='TEST_696795', iid='BOOK_196773', r_ui=6.0, est=2.573445268555096, details={'was_impossible': False}),\n",
       " Prediction(uid='TEST_822602', iid='BOOK_103289', r_ui=0.0, est=1.8121504246421691, details={'was_impossible': False}),\n",
       " Prediction(uid='TEST_825352', iid='BOOK_156642', r_ui=0.0, est=3.0728845892436447, details={'was_impossible': False}),\n",
       " Prediction(uid='TEST_503529', iid='BOOK_033941', r_ui=0.0, est=2.708915654514242, details={'was_impossible': False}),\n",
       " Prediction(uid='TEST_246327', iid='BOOK_010919', r_ui=0.0, est=1.7687582566070181, details={'was_impossible': False}),\n",
       " Prediction(uid='TEST_720361', iid='BOOK_186972', r_ui=0.0, est=3.3075752566688794, details={'was_impossible': False}),\n",
       " Prediction(uid='TEST_010789', iid='BOOK_078807', r_ui=0.0, est=1.8958055836540169, details={'was_impossible': False}),\n",
       " Prediction(uid='TEST_389866', iid='BOOK_173676', r_ui=0.0, est=3.814015837353674, details={'was_impossible': False}),\n",
       " Prediction(uid='TEST_566674', iid='BOOK_082991', r_ui=10.0, est=3.6744205047710725, details={'was_impossible': False}),\n",
       " Prediction(uid='TEST_508796', iid='BOOK_170507', r_ui=7.0, est=3.4078964810828363, details={'was_impossible': False}),\n",
       " Prediction(uid='TEST_233343', iid='BOOK_024580', r_ui=6.0, est=3.4917081525880524, details={'was_impossible': False}),\n",
       " Prediction(uid='TEST_126748', iid='BOOK_007470', r_ui=0.0, est=2.237152438254414, details={'was_impossible': False}),\n",
       " Prediction(uid='TEST_165472', iid='BOOK_126984', r_ui=0.0, est=2.3984789943191083, details={'was_impossible': False}),\n",
       " Prediction(uid='TEST_793178', iid='BOOK_185515', r_ui=8.0, est=1.963281389682374, details={'was_impossible': False}),\n",
       " Prediction(uid='TEST_239971', iid='BOOK_229164', r_ui=0.0, est=2.823290021431215, details={'was_impossible': False}),\n",
       " Prediction(uid='TEST_282324', iid='BOOK_251617', r_ui=0.0, est=2.381109263377472, details={'was_impossible': False}),\n",
       " Prediction(uid='TEST_858649', iid='BOOK_245006', r_ui=0.0, est=2.588575764753192, details={'was_impossible': False}),\n",
       " Prediction(uid='TEST_707575', iid='BOOK_129334', r_ui=0.0, est=2.1936529729266625, details={'was_impossible': False}),\n",
       " Prediction(uid='TEST_181113', iid='BOOK_215700', r_ui=0.0, est=2.823290021431215, details={'was_impossible': False}),\n",
       " Prediction(uid='TEST_552986', iid='BOOK_255514', r_ui=8.0, est=2.823290021431215, details={'was_impossible': False}),\n",
       " Prediction(uid='TEST_509441', iid='BOOK_251227', r_ui=10.0, est=1.9781008829241327, details={'was_impossible': False}),\n",
       " Prediction(uid='TEST_371552', iid='BOOK_072963', r_ui=0.0, est=2.823290021431215, details={'was_impossible': False}),\n",
       " Prediction(uid='TEST_184902', iid='BOOK_069884', r_ui=10.0, est=3.9463450533246074, details={'was_impossible': False}),\n",
       " Prediction(uid='TEST_402143', iid='BOOK_077352', r_ui=0.0, est=1.6721560962884683, details={'was_impossible': False}),\n",
       " Prediction(uid='TEST_147023', iid='BOOK_166412', r_ui=0.0, est=2.0035743841711815, details={'was_impossible': False}),\n",
       " Prediction(uid='TEST_076762', iid='BOOK_156625', r_ui=10.0, est=3.1992450437580726, details={'was_impossible': False}),\n",
       " Prediction(uid='TEST_833475', iid='BOOK_034481', r_ui=0.0, est=1.8813275321954506, details={'was_impossible': False}),\n",
       " Prediction(uid='TEST_395280', iid='BOOK_267054', r_ui=0.0, est=3.5708869431151564, details={'was_impossible': False}),\n",
       " Prediction(uid='TEST_678575', iid='BOOK_085880', r_ui=0.0, est=2.7327462843247052, details={'was_impossible': False}),\n",
       " Prediction(uid='TEST_790885', iid='BOOK_200369', r_ui=7.0, est=2.823290021431215, details={'was_impossible': False}),\n",
       " Prediction(uid='TEST_670463', iid='BOOK_194328', r_ui=0.0, est=2.823290021431215, details={'was_impossible': False}),\n",
       " Prediction(uid='TEST_553112', iid='BOOK_258861', r_ui=0.0, est=2.401348743324308, details={'was_impossible': False}),\n",
       " Prediction(uid='TEST_085133', iid='BOOK_055789', r_ui=0.0, est=1.7025571191409121, details={'was_impossible': False}),\n",
       " Prediction(uid='TEST_710772', iid='BOOK_074219', r_ui=10.0, est=2.6989060707013808, details={'was_impossible': False}),\n",
       " Prediction(uid='TEST_120990', iid='BOOK_181472', r_ui=0.0, est=2.823290021431215, details={'was_impossible': False}),\n",
       " Prediction(uid='TEST_480229', iid='BOOK_260838', r_ui=0.0, est=1.741190691123238, details={'was_impossible': False}),\n",
       " Prediction(uid='TEST_572832', iid='BOOK_002272', r_ui=0.0, est=2.3910859978161425, details={'was_impossible': False}),\n",
       " Prediction(uid='TEST_406962', iid='BOOK_188005', r_ui=0.0, est=1.8529062667590148, details={'was_impossible': False}),\n",
       " Prediction(uid='TEST_227719', iid='BOOK_126774', r_ui=0.0, est=3.851443918627242, details={'was_impossible': False}),\n",
       " Prediction(uid='TEST_396368', iid='BOOK_077028', r_ui=0.0, est=3.4987409810953234, details={'was_impossible': False}),\n",
       " Prediction(uid='TEST_121186', iid='BOOK_206109', r_ui=0.0, est=3.313453725894607, details={'was_impossible': False}),\n",
       " Prediction(uid='TEST_545002', iid='BOOK_060947', r_ui=10.0, est=4.956845833075585, details={'was_impossible': False}),\n",
       " Prediction(uid='TEST_056144', iid='BOOK_073011', r_ui=0.0, est=2.5871860829700775, details={'was_impossible': False}),\n",
       " Prediction(uid='TEST_118549', iid='BOOK_140809', r_ui=0.0, est=1.3107857441550992, details={'was_impossible': False}),\n",
       " Prediction(uid='TEST_082199', iid='BOOK_239788', r_ui=10.0, est=2.823290021431215, details={'was_impossible': False}),\n",
       " Prediction(uid='TEST_172574', iid='BOOK_265893', r_ui=0.0, est=2.823290021431215, details={'was_impossible': False}),\n",
       " Prediction(uid='TEST_322079', iid='BOOK_237265', r_ui=0.0, est=2.77091477762017, details={'was_impossible': False}),\n",
       " Prediction(uid='TEST_034287', iid='BOOK_028824', r_ui=0.0, est=2.9700026449753762, details={'was_impossible': False}),\n",
       " Prediction(uid='TEST_339258', iid='BOOK_194618', r_ui=0.0, est=2.823290021431215, details={'was_impossible': False}),\n",
       " Prediction(uid='TEST_310365', iid='BOOK_173770', r_ui=0.0, est=1.5677515081074542, details={'was_impossible': False}),\n",
       " Prediction(uid='TEST_745613', iid='BOOK_097352', r_ui=7.0, est=3.886913415636073, details={'was_impossible': False}),\n",
       " Prediction(uid='TEST_688033', iid='BOOK_222861', r_ui=0.0, est=1.7813971466171374, details={'was_impossible': False}),\n",
       " Prediction(uid='TEST_537158', iid='BOOK_238606', r_ui=0.0, est=3.323553515599704, details={'was_impossible': False}),\n",
       " Prediction(uid='TEST_605921', iid='BOOK_037746', r_ui=0.0, est=3.637630281437376, details={'was_impossible': False}),\n",
       " Prediction(uid='TEST_791324', iid='BOOK_134194', r_ui=0.0, est=2.9597813616442026, details={'was_impossible': False}),\n",
       " Prediction(uid='TEST_797990', iid='BOOK_135656', r_ui=10.0, est=4.576935662357246, details={'was_impossible': False}),\n",
       " Prediction(uid='TEST_211335', iid='BOOK_268729', r_ui=0.0, est=2.823290021431215, details={'was_impossible': False}),\n",
       " Prediction(uid='TEST_434377', iid='BOOK_000347', r_ui=0.0, est=2.823290021431215, details={'was_impossible': False}),\n",
       " Prediction(uid='TEST_642523', iid='BOOK_084275', r_ui=0.0, est=2.823290021431215, details={'was_impossible': False}),\n",
       " Prediction(uid='TEST_436534', iid='BOOK_224682', r_ui=0.0, est=2.267885259901843, details={'was_impossible': False}),\n",
       " Prediction(uid='TEST_108656', iid='BOOK_211704', r_ui=9.0, est=3.252141921727786, details={'was_impossible': False}),\n",
       " Prediction(uid='TEST_621406', iid='BOOK_222294', r_ui=0.0, est=3.7049244520828104, details={'was_impossible': False}),\n",
       " Prediction(uid='TEST_299688', iid='BOOK_207495', r_ui=0.0, est=3.0127992228157296, details={'was_impossible': False}),\n",
       " Prediction(uid='TEST_432554', iid='BOOK_223269', r_ui=8.0, est=2.091684532309979, details={'was_impossible': False}),\n",
       " Prediction(uid='TEST_357664', iid='BOOK_257148', r_ui=8.0, est=3.145363393084304, details={'was_impossible': False}),\n",
       " Prediction(uid='TEST_651046', iid='BOOK_249091', r_ui=0.0, est=2.71207267130289, details={'was_impossible': False}),\n",
       " Prediction(uid='TEST_037755', iid='BOOK_029020', r_ui=0.0, est=1.796381862522896, details={'was_impossible': False}),\n",
       " Prediction(uid='TEST_247064', iid='BOOK_152913', r_ui=0.0, est=2.777642846262648, details={'was_impossible': False}),\n",
       " Prediction(uid='TEST_464113', iid='BOOK_170972', r_ui=7.0, est=2.593749366103798, details={'was_impossible': False}),\n",
       " Prediction(uid='TEST_305451', iid='BOOK_093710', r_ui=0.0, est=3.431620548901319, details={'was_impossible': False}),\n",
       " Prediction(uid='TEST_831730', iid='BOOK_207828', r_ui=0.0, est=2.823290021431215, details={'was_impossible': False}),\n",
       " Prediction(uid='TEST_398406', iid='BOOK_059671', r_ui=5.0, est=3.237910311102445, details={'was_impossible': False}),\n",
       " Prediction(uid='TEST_196040', iid='BOOK_241346', r_ui=9.0, est=2.823290021431215, details={'was_impossible': False}),\n",
       " Prediction(uid='TEST_416563', iid='BOOK_074327', r_ui=0.0, est=2.823290021431215, details={'was_impossible': False}),\n",
       " Prediction(uid='TEST_041778', iid='BOOK_033777', r_ui=0.0, est=2.823290021431215, details={'was_impossible': False}),\n",
       " Prediction(uid='TEST_802252', iid='BOOK_011008', r_ui=7.0, est=4.024423901212708, details={'was_impossible': False}),\n",
       " Prediction(uid='TEST_448964', iid='BOOK_061650', r_ui=0.0, est=3.3839795191090825, details={'was_impossible': False}),\n",
       " Prediction(uid='TEST_589554', iid='BOOK_124322', r_ui=0.0, est=2.823290021431215, details={'was_impossible': False}),\n",
       " Prediction(uid='TEST_039191', iid='BOOK_207635', r_ui=9.0, est=2.823290021431215, details={'was_impossible': False}),\n",
       " Prediction(uid='TEST_219184', iid='BOOK_119629', r_ui=8.0, est=2.823290021431215, details={'was_impossible': False}),\n",
       " Prediction(uid='TEST_572782', iid='BOOK_075419', r_ui=0.0, est=4.001790985758771, details={'was_impossible': False}),\n",
       " Prediction(uid='TEST_252115', iid='BOOK_065795', r_ui=7.0, est=2.663219702636928, details={'was_impossible': False}),\n",
       " Prediction(uid='TEST_532805', iid='BOOK_187896', r_ui=0.0, est=3.2761241623691215, details={'was_impossible': False}),\n",
       " Prediction(uid='TEST_316725', iid='BOOK_169939', r_ui=0.0, est=1.575561505458976, details={'was_impossible': False}),\n",
       " Prediction(uid='TEST_445616', iid='BOOK_021589', r_ui=0.0, est=2.105833565464525, details={'was_impossible': False}),\n",
       " Prediction(uid='TEST_617981', iid='BOOK_191169', r_ui=0.0, est=2.9651242576358374, details={'was_impossible': False}),\n",
       " Prediction(uid='TEST_030453', iid='BOOK_000565', r_ui=9.0, est=2.3904911834976894, details={'was_impossible': False}),\n",
       " Prediction(uid='TEST_407723', iid='BOOK_134722', r_ui=0.0, est=4.264929251594546, details={'was_impossible': False}),\n",
       " Prediction(uid='TEST_850136', iid='BOOK_031931', r_ui=0.0, est=3.0850482384516438, details={'was_impossible': False}),\n",
       " Prediction(uid='TEST_229387', iid='BOOK_157901', r_ui=6.0, est=2.823290021431215, details={'was_impossible': False}),\n",
       " Prediction(uid='TEST_788873', iid='BOOK_229123', r_ui=9.0, est=2.823290021431215, details={'was_impossible': False}),\n",
       " Prediction(uid='TEST_744509', iid='BOOK_233386', r_ui=0.0, est=2.3870368213501925, details={'was_impossible': False}),\n",
       " Prediction(uid='TEST_164712', iid='BOOK_067566', r_ui=0.0, est=1.864990921617254, details={'was_impossible': False}),\n",
       " Prediction(uid='TEST_257525', iid='BOOK_138982', r_ui=9.0, est=3.128516558127083, details={'was_impossible': False}),\n",
       " Prediction(uid='TEST_140678', iid='BOOK_042155', r_ui=3.0, est=2.823290021431215, details={'was_impossible': False}),\n",
       " Prediction(uid='TEST_479176', iid='BOOK_121851', r_ui=0.0, est=2.3732939820908663, details={'was_impossible': False}),\n",
       " Prediction(uid='TEST_584848', iid='BOOK_137273', r_ui=0.0, est=3.255462353161797, details={'was_impossible': False}),\n",
       " Prediction(uid='TEST_008908', iid='BOOK_092226', r_ui=0.0, est=2.6702083810842874, details={'was_impossible': False}),\n",
       " Prediction(uid='TEST_347040', iid='BOOK_105019', r_ui=0.0, est=3.037365529043596, details={'was_impossible': False}),\n",
       " Prediction(uid='TEST_005446', iid='BOOK_158619', r_ui=0.0, est=2.823290021431215, details={'was_impossible': False}),\n",
       " Prediction(uid='TEST_780074', iid='BOOK_034743', r_ui=0.0, est=2.6983034042134766, details={'was_impossible': False}),\n",
       " Prediction(uid='TEST_857426', iid='BOOK_058751', r_ui=0.0, est=3.009812977072296, details={'was_impossible': False}),\n",
       " Prediction(uid='TEST_403621', iid='BOOK_059618', r_ui=6.0, est=3.810353418039644, details={'was_impossible': False}),\n",
       " Prediction(uid='TEST_726933', iid='BOOK_098454', r_ui=0.0, est=3.7073587430160453, details={'was_impossible': False}),\n",
       " Prediction(uid='TEST_174484', iid='BOOK_100753', r_ui=0.0, est=2.823290021431215, details={'was_impossible': False}),\n",
       " Prediction(uid='TEST_204443', iid='BOOK_023191', r_ui=0.0, est=3.1352311066432828, details={'was_impossible': False}),\n",
       " Prediction(uid='TEST_505704', iid='BOOK_251639', r_ui=0.0, est=2.72716858717632, details={'was_impossible': False}),\n",
       " Prediction(uid='TEST_301402', iid='BOOK_022037', r_ui=0.0, est=3.223564094165362, details={'was_impossible': False}),\n",
       " Prediction(uid='TEST_053293', iid='BOOK_268525', r_ui=0.0, est=2.823290021431215, details={'was_impossible': False}),\n",
       " Prediction(uid='TEST_129515', iid='BOOK_177707', r_ui=0.0, est=4.014063229321572, details={'was_impossible': False}),\n",
       " Prediction(uid='TEST_349026', iid='BOOK_182279', r_ui=0.0, est=3.303689639011747, details={'was_impossible': False}),\n",
       " Prediction(uid='TEST_048604', iid='BOOK_251272', r_ui=10.0, est=2.603392799982955, details={'was_impossible': False}),\n",
       " Prediction(uid='TEST_403877', iid='BOOK_095604', r_ui=8.0, est=2.3636796790997194, details={'was_impossible': False}),\n",
       " Prediction(uid='TEST_836125', iid='BOOK_261929', r_ui=8.0, est=3.131655857883967, details={'was_impossible': False}),\n",
       " Prediction(uid='TEST_485844', iid='BOOK_030254', r_ui=0.0, est=2.7007127707178253, details={'was_impossible': False}),\n",
       " Prediction(uid='TEST_828360', iid='BOOK_227972', r_ui=8.0, est=2.5711842735053203, details={'was_impossible': False}),\n",
       " Prediction(uid='TEST_258563', iid='BOOK_231478', r_ui=7.0, est=2.754627353925966, details={'was_impossible': False}),\n",
       " Prediction(uid='TEST_300963', iid='BOOK_128182', r_ui=0.0, est=2.823290021431215, details={'was_impossible': False}),\n",
       " Prediction(uid='TEST_745552', iid='BOOK_029426', r_ui=0.0, est=2.823290021431215, details={'was_impossible': False}),\n",
       " Prediction(uid='TEST_246525', iid='BOOK_045126', r_ui=0.0, est=2.643509913156887, details={'was_impossible': False}),\n",
       " Prediction(uid='TEST_453770', iid='BOOK_002209', r_ui=7.0, est=2.3667154076302372, details={'was_impossible': False}),\n",
       " Prediction(uid='TEST_128774', iid='BOOK_118663', r_ui=7.0, est=3.3309501596236637, details={'was_impossible': False}),\n",
       " Prediction(uid='TEST_102314', iid='BOOK_153453', r_ui=0.0, est=3.769134198000835, details={'was_impossible': False}),\n",
       " Prediction(uid='TEST_432279', iid='BOOK_160315', r_ui=6.0, est=2.823290021431215, details={'was_impossible': False}),\n",
       " Prediction(uid='TEST_149361', iid='BOOK_252722', r_ui=8.0, est=2.823290021431215, details={'was_impossible': False}),\n",
       " Prediction(uid='TEST_293848', iid='BOOK_244483', r_ui=0.0, est=3.380225129366069, details={'was_impossible': False}),\n",
       " Prediction(uid='TEST_354197', iid='BOOK_100551', r_ui=0.0, est=1.6848688829582725, details={'was_impossible': False}),\n",
       " Prediction(uid='TEST_513103', iid='BOOK_105486', r_ui=8.0, est=2.1561226313329316, details={'was_impossible': False}),\n",
       " Prediction(uid='TEST_853685', iid='BOOK_132100', r_ui=0.0, est=2.4490026962978573, details={'was_impossible': False}),\n",
       " Prediction(uid='TEST_416835', iid='BOOK_151733', r_ui=0.0, est=3.535807431741404, details={'was_impossible': False}),\n",
       " Prediction(uid='TEST_206806', iid='BOOK_121727', r_ui=10.0, est=2.823290021431215, details={'was_impossible': False}),\n",
       " Prediction(uid='TEST_238155', iid='BOOK_249146', r_ui=0.0, est=3.1729484242730446, details={'was_impossible': False}),\n",
       " Prediction(uid='TEST_276546', iid='BOOK_259246', r_ui=0.0, est=3.341457541487994, details={'was_impossible': False}),\n",
       " Prediction(uid='TEST_382390', iid='BOOK_050555', r_ui=0.0, est=4.482271022030352, details={'was_impossible': False}),\n",
       " Prediction(uid='TEST_464430', iid='BOOK_183926', r_ui=5.0, est=2.958815989934016, details={'was_impossible': False}),\n",
       " Prediction(uid='TEST_120170', iid='BOOK_089045', r_ui=0.0, est=3.4661004167444673, details={'was_impossible': False}),\n",
       " Prediction(uid='TEST_270247', iid='BOOK_216936', r_ui=0.0, est=2.361974138901964, details={'was_impossible': False}),\n",
       " Prediction(uid='TEST_469679', iid='BOOK_002111', r_ui=0.0, est=2.4480139169888417, details={'was_impossible': False}),\n",
       " Prediction(uid='TEST_676172', iid='BOOK_220093', r_ui=6.0, est=2.1061148549531, details={'was_impossible': False}),\n",
       " Prediction(uid='TEST_779909', iid='BOOK_005394', r_ui=0.0, est=2.823290021431215, details={'was_impossible': False}),\n",
       " Prediction(uid='TEST_027538', iid='BOOK_234910', r_ui=0.0, est=1.383160124941506, details={'was_impossible': False}),\n",
       " Prediction(uid='TEST_461528', iid='BOOK_218298', r_ui=0.0, est=1.503478628607284, details={'was_impossible': False}),\n",
       " Prediction(uid='TEST_353563', iid='BOOK_035158', r_ui=10.0, est=3.4515823538700308, details={'was_impossible': False}),\n",
       " Prediction(uid='TEST_344815', iid='BOOK_013743', r_ui=0.0, est=4.41365732636258, details={'was_impossible': False}),\n",
       " Prediction(uid='TEST_749692', iid='BOOK_251227', r_ui=0.0, est=1.9781008829241327, details={'was_impossible': False}),\n",
       " Prediction(uid='TEST_701855', iid='BOOK_189078', r_ui=0.0, est=3.864326429841333, details={'was_impossible': False}),\n",
       " Prediction(uid='TEST_186393', iid='BOOK_104092', r_ui=8.0, est=2.823290021431215, details={'was_impossible': False}),\n",
       " Prediction(uid='TEST_358624', iid='BOOK_206219', r_ui=0.0, est=2.823290021431215, details={'was_impossible': False}),\n",
       " Prediction(uid='TEST_245343', iid='BOOK_135679', r_ui=0.0, est=3.066868274795955, details={'was_impossible': False}),\n",
       " Prediction(uid='TEST_132921', iid='BOOK_149640', r_ui=0.0, est=2.461964814149991, details={'was_impossible': False}),\n",
       " Prediction(uid='TEST_713059', iid='BOOK_235090', r_ui=0.0, est=2.3727234726145747, details={'was_impossible': False}),\n",
       " Prediction(uid='TEST_615259', iid='BOOK_233649', r_ui=0.0, est=2.569976628299719, details={'was_impossible': False}),\n",
       " Prediction(uid='TEST_356443', iid='BOOK_079538', r_ui=0.0, est=2.935196228177563, details={'was_impossible': False}),\n",
       " Prediction(uid='TEST_600693', iid='BOOK_158597', r_ui=0.0, est=3.2767552259370394, details={'was_impossible': False}),\n",
       " Prediction(uid='TEST_137303', iid='BOOK_030594', r_ui=0.0, est=2.9942785843509827, details={'was_impossible': False}),\n",
       " Prediction(uid='TEST_485094', iid='BOOK_146884', r_ui=0.0, est=3.1803874586385925, details={'was_impossible': False}),\n",
       " Prediction(uid='TEST_455572', iid='BOOK_144729', r_ui=0.0, est=2.403570819238285, details={'was_impossible': False}),\n",
       " Prediction(uid='TEST_257951', iid='BOOK_003096', r_ui=0.0, est=2.823290021431215, details={'was_impossible': False}),\n",
       " Prediction(uid='TEST_742978', iid='BOOK_139338', r_ui=0.0, est=2.2346841420170263, details={'was_impossible': False}),\n",
       " Prediction(uid='TEST_729123', iid='BOOK_204043', r_ui=0.0, est=2.823290021431215, details={'was_impossible': False}),\n",
       " Prediction(uid='TEST_065853', iid='BOOK_136917', r_ui=0.0, est=1.2767510178643857, details={'was_impossible': False}),\n",
       " Prediction(uid='TEST_121224', iid='BOOK_209189', r_ui=0.0, est=2.3701445173935367, details={'was_impossible': False}),\n",
       " Prediction(uid='TEST_758032', iid='BOOK_028118', r_ui=8.0, est=1.9460541476503153, details={'was_impossible': False}),\n",
       " Prediction(uid='TEST_853068', iid='BOOK_078297', r_ui=0.0, est=2.838227331663234, details={'was_impossible': False}),\n",
       " Prediction(uid='TEST_485803', iid='BOOK_018450', r_ui=0.0, est=3.4999309874571343, details={'was_impossible': False}),\n",
       " Prediction(uid='TEST_557738', iid='BOOK_077004', r_ui=8.0, est=3.5554482441231716, details={'was_impossible': False}),\n",
       " Prediction(uid='TEST_155717', iid='BOOK_073043', r_ui=0.0, est=2.9208636937224144, details={'was_impossible': False}),\n",
       " Prediction(uid='TEST_515929', iid='BOOK_154354', r_ui=0.0, est=2.549957328608166, details={'was_impossible': False}),\n",
       " Prediction(uid='TEST_088994', iid='BOOK_146274', r_ui=8.0, est=3.5344567147518458, details={'was_impossible': False}),\n",
       " Prediction(uid='TEST_063846', iid='BOOK_145129', r_ui=8.0, est=3.158021784341507, details={'was_impossible': False}),\n",
       " Prediction(uid='TEST_086669', iid='BOOK_079634', r_ui=0.0, est=3.367365104339898, details={'was_impossible': False}),\n",
       " Prediction(uid='TEST_626774', iid='BOOK_053909', r_ui=0.0, est=2.275869816747287, details={'was_impossible': False}),\n",
       " Prediction(uid='TEST_629242', iid='BOOK_267877', r_ui=7.0, est=3.8178929896680835, details={'was_impossible': False}),\n",
       " Prediction(uid='TEST_832676', iid='BOOK_168366', r_ui=10.0, est=2.6678280817502307, details={'was_impossible': False}),\n",
       " Prediction(uid='TEST_319270', iid='BOOK_089237', r_ui=0.0, est=3.488446328227555, details={'was_impossible': False}),\n",
       " Prediction(uid='TEST_325511', iid='BOOK_088684', r_ui=0.0, est=1.2997538153213322, details={'was_impossible': False}),\n",
       " Prediction(uid='TEST_658588', iid='BOOK_090171', r_ui=0.0, est=1.760995985345299, details={'was_impossible': False}),\n",
       " Prediction(uid='TEST_292259', iid='BOOK_191971', r_ui=0.0, est=2.823290021431215, details={'was_impossible': False}),\n",
       " Prediction(uid='TEST_798879', iid='BOOK_138553', r_ui=0.0, est=3.0063840414596466, details={'was_impossible': False}),\n",
       " Prediction(uid='TEST_129391', iid='BOOK_232310', r_ui=0.0, est=2.823290021431215, details={'was_impossible': False}),\n",
       " Prediction(uid='TEST_524721', iid='BOOK_067125', r_ui=0.0, est=2.81053723633491, details={'was_impossible': False}),\n",
       " Prediction(uid='TEST_366277', iid='BOOK_000644', r_ui=0.0, est=3.411124195109299, details={'was_impossible': False}),\n",
       " Prediction(uid='TEST_360679', iid='BOOK_015234', r_ui=10.0, est=4.196353964308054, details={'was_impossible': False}),\n",
       " Prediction(uid='TEST_685136', iid='BOOK_165966', r_ui=0.0, est=2.823290021431215, details={'was_impossible': False}),\n",
       " Prediction(uid='TEST_858932', iid='BOOK_240731', r_ui=6.0, est=2.823290021431215, details={'was_impossible': False}),\n",
       " Prediction(uid='TEST_274749', iid='BOOK_071559', r_ui=0.0, est=2.341118068057588, details={'was_impossible': False}),\n",
       " Prediction(uid='TEST_168823', iid='BOOK_110779', r_ui=0.0, est=2.3715122197207172, details={'was_impossible': False}),\n",
       " Prediction(uid='TEST_650408', iid='BOOK_050897', r_ui=9.0, est=2.823290021431215, details={'was_impossible': False}),\n",
       " Prediction(uid='TEST_774948', iid='BOOK_169943', r_ui=6.0, est=4.751127959526466, details={'was_impossible': False}),\n",
       " Prediction(uid='TEST_055359', iid='BOOK_149355', r_ui=0.0, est=3.0847033469682965, details={'was_impossible': False}),\n",
       " Prediction(uid='TEST_565289', iid='BOOK_229308', r_ui=0.0, est=2.823290021431215, details={'was_impossible': False}),\n",
       " Prediction(uid='TEST_507131', iid='BOOK_097015', r_ui=8.0, est=2.7800948536891594, details={'was_impossible': False}),\n",
       " Prediction(uid='TEST_550090', iid='BOOK_184618', r_ui=5.0, est=2.393437428495678, details={'was_impossible': False}),\n",
       " Prediction(uid='TEST_135771', iid='BOOK_151782', r_ui=0.0, est=2.954126064725878, details={'was_impossible': False}),\n",
       " Prediction(uid='TEST_306745', iid='BOOK_037274', r_ui=0.0, est=2.577077958460051, details={'was_impossible': False}),\n",
       " Prediction(uid='TEST_079339', iid='BOOK_156273', r_ui=0.0, est=2.2779917247423707, details={'was_impossible': False}),\n",
       " Prediction(uid='TEST_619599', iid='BOOK_064080', r_ui=8.0, est=2.167462979145563, details={'was_impossible': False}),\n",
       " Prediction(uid='TEST_569287', iid='BOOK_134635', r_ui=0.0, est=3.338830025488462, details={'was_impossible': False}),\n",
       " Prediction(uid='TEST_488671', iid='BOOK_089084', r_ui=0.0, est=2.823290021431215, details={'was_impossible': False}),\n",
       " Prediction(uid='TEST_825390', iid='BOOK_177473', r_ui=0.0, est=3.215991022421734, details={'was_impossible': False}),\n",
       " Prediction(uid='TEST_395082', iid='BOOK_010940', r_ui=8.0, est=2.823290021431215, details={'was_impossible': False}),\n",
       " Prediction(uid='TEST_129769', iid='BOOK_091002', r_ui=0.0, est=1.9954476730028219, details={'was_impossible': False}),\n",
       " Prediction(uid='TEST_621400', iid='BOOK_220197', r_ui=0.0, est=3.1579502643529596, details={'was_impossible': False}),\n",
       " Prediction(uid='TEST_791199', iid='BOOK_075824', r_ui=6.0, est=2.0181767464402243, details={'was_impossible': False}),\n",
       " Prediction(uid='TEST_555308', iid='BOOK_091927', r_ui=0.0, est=3.2332662520715747, details={'was_impossible': False}),\n",
       " Prediction(uid='TEST_683714', iid='BOOK_255803', r_ui=0.0, est=1.8910159887872142, details={'was_impossible': False}),\n",
       " Prediction(uid='TEST_785171', iid='BOOK_026917', r_ui=9.0, est=2.823290021431215, details={'was_impossible': False}),\n",
       " Prediction(uid='TEST_839382', iid='BOOK_002075', r_ui=0.0, est=1.8645909944230388, details={'was_impossible': False}),\n",
       " Prediction(uid='TEST_591635', iid='BOOK_147481', r_ui=9.0, est=3.2803339877389868, details={'was_impossible': False}),\n",
       " Prediction(uid='TEST_556453', iid='BOOK_218046', r_ui=10.0, est=3.726745170839739, details={'was_impossible': False}),\n",
       " Prediction(uid='TEST_608124', iid='BOOK_036691', r_ui=6.0, est=2.823290021431215, details={'was_impossible': False}),\n",
       " Prediction(uid='TEST_611659', iid='BOOK_191005', r_ui=0.0, est=2.3281399946965133, details={'was_impossible': False}),\n",
       " Prediction(uid='TEST_398687', iid='BOOK_167068', r_ui=0.0, est=2.823290021431215, details={'was_impossible': False}),\n",
       " Prediction(uid='TEST_181869', iid='BOOK_082812', r_ui=0.0, est=2.9477221584270135, details={'was_impossible': False}),\n",
       " Prediction(uid='TEST_569304', iid='BOOK_224391', r_ui=0.0, est=2.7854317931132826, details={'was_impossible': False}),\n",
       " Prediction(uid='TEST_062114', iid='BOOK_017531', r_ui=9.0, est=2.823290021431215, details={'was_impossible': False}),\n",
       " Prediction(uid='TEST_725170', iid='BOOK_145896', r_ui=10.0, est=3.199465734014972, details={'was_impossible': False}),\n",
       " Prediction(uid='TEST_465997', iid='BOOK_008228', r_ui=0.0, est=2.9924591020372495, details={'was_impossible': False}),\n",
       " Prediction(uid='TEST_816752', iid='BOOK_032717', r_ui=0.0, est=2.823290021431215, details={'was_impossible': False}),\n",
       " Prediction(uid='TEST_866479', iid='BOOK_128337', r_ui=10.0, est=2.8176403572981505, details={'was_impossible': False}),\n",
       " Prediction(uid='TEST_641532', iid='BOOK_125377', r_ui=0.0, est=1.982919160418247, details={'was_impossible': False}),\n",
       " Prediction(uid='TEST_199487', iid='BOOK_140644', r_ui=0.0, est=2.823290021431215, details={'was_impossible': False}),\n",
       " Prediction(uid='TEST_394547', iid='BOOK_264376', r_ui=9.0, est=2.823290021431215, details={'was_impossible': False}),\n",
       " Prediction(uid='TEST_328190', iid='BOOK_253825', r_ui=0.0, est=3.0680317187782484, details={'was_impossible': False}),\n",
       " Prediction(uid='TEST_422385', iid='BOOK_100401', r_ui=10.0, est=2.823290021431215, details={'was_impossible': False}),\n",
       " Prediction(uid='TEST_378561', iid='BOOK_009967', r_ui=0.0, est=2.8475018049430383, details={'was_impossible': False}),\n",
       " Prediction(uid='TEST_347265', iid='BOOK_065327', r_ui=0.0, est=3.0209572543869645, details={'was_impossible': False}),\n",
       " Prediction(uid='TEST_535570', iid='BOOK_204222', r_ui=0.0, est=2.5790648626777672, details={'was_impossible': False}),\n",
       " Prediction(uid='TEST_007496', iid='BOOK_208957', r_ui=8.0, est=2.9852540853376346, details={'was_impossible': False}),\n",
       " Prediction(uid='TEST_540035', iid='BOOK_148414', r_ui=0.0, est=3.426047968307432, details={'was_impossible': False}),\n",
       " Prediction(uid='TEST_203676', iid='BOOK_190303', r_ui=0.0, est=2.823290021431215, details={'was_impossible': False}),\n",
       " Prediction(uid='TEST_789582', iid='BOOK_020063', r_ui=0.0, est=4.386209627780454, details={'was_impossible': False}),\n",
       " Prediction(uid='TEST_432146', iid='BOOK_244308', r_ui=0.0, est=2.823290021431215, details={'was_impossible': False}),\n",
       " Prediction(uid='TEST_476601', iid='BOOK_104472', r_ui=0.0, est=2.823290021431215, details={'was_impossible': False}),\n",
       " Prediction(uid='TEST_837369', iid='BOOK_104950', r_ui=0.0, est=2.962798617821564, details={'was_impossible': False}),\n",
       " Prediction(uid='TEST_449556', iid='BOOK_036532', r_ui=8.0, est=3.1167721643363535, details={'was_impossible': False}),\n",
       " Prediction(uid='TEST_699850', iid='BOOK_192773', r_ui=0.0, est=3.273150204052227, details={'was_impossible': False}),\n",
       " Prediction(uid='TEST_648438', iid='BOOK_105804', r_ui=8.0, est=4.132382835932475, details={'was_impossible': False}),\n",
       " Prediction(uid='TEST_612168', iid='BOOK_215417', r_ui=5.0, est=3.172580271110819, details={'was_impossible': False}),\n",
       " Prediction(uid='TEST_489395', iid='BOOK_123086', r_ui=0.0, est=3.3337566224653132, details={'was_impossible': False}),\n",
       " Prediction(uid='TEST_455751', iid='BOOK_199413', r_ui=0.0, est=2.8651250923537006, details={'was_impossible': False}),\n",
       " Prediction(uid='TEST_428954', iid='BOOK_149271', r_ui=0.0, est=2.9584601623996734, details={'was_impossible': False}),\n",
       " Prediction(uid='TEST_435507', iid='BOOK_119805', r_ui=0.0, est=3.665461527627541, details={'was_impossible': False}),\n",
       " Prediction(uid='TEST_101666', iid='BOOK_100728', r_ui=0.0, est=2.566889426858797, details={'was_impossible': False}),\n",
       " Prediction(uid='TEST_178159', iid='BOOK_243601', r_ui=10.0, est=3.831318638062302, details={'was_impossible': False}),\n",
       " Prediction(uid='TEST_070237', iid='BOOK_232077', r_ui=7.0, est=3.088851430480495, details={'was_impossible': False}),\n",
       " Prediction(uid='TEST_475867', iid='BOOK_230938', r_ui=9.0, est=1.536690999500448, details={'was_impossible': False}),\n",
       " Prediction(uid='TEST_188965', iid='BOOK_175101', r_ui=0.0, est=2.823290021431215, details={'was_impossible': False}),\n",
       " Prediction(uid='TEST_139849', iid='BOOK_153127', r_ui=8.0, est=2.5919977096144655, details={'was_impossible': False}),\n",
       " Prediction(uid='TEST_851325', iid='BOOK_176833', r_ui=0.0, est=2.823290021431215, details={'was_impossible': False}),\n",
       " Prediction(uid='TEST_133897', iid='BOOK_209440', r_ui=0.0, est=2.5868203177123363, details={'was_impossible': False}),\n",
       " Prediction(uid='TEST_020376', iid='BOOK_209035', r_ui=0.0, est=2.9141562218285224, details={'was_impossible': False}),\n",
       " Prediction(uid='TEST_357798', iid='BOOK_139061', r_ui=9.0, est=2.2906520104222254, details={'was_impossible': False}),\n",
       " Prediction(uid='TEST_813363', iid='BOOK_191486', r_ui=10.0, est=3.365320849876917, details={'was_impossible': False}),\n",
       " Prediction(uid='TEST_469677', iid='BOOK_000514', r_ui=0.0, est=2.5912578486466287, details={'was_impossible': False}),\n",
       " Prediction(uid='TEST_385842', iid='BOOK_264326', r_ui=0.0, est=2.526729431726794, details={'was_impossible': False}),\n",
       " Prediction(uid='TEST_322374', iid='BOOK_146502', r_ui=0.0, est=1.691200642531159, details={'was_impossible': False}),\n",
       " Prediction(uid='TEST_237921', iid='BOOK_117803', r_ui=0.0, est=2.7738537803528347, details={'was_impossible': False}),\n",
       " Prediction(uid='TEST_238688', iid='BOOK_017845', r_ui=0.0, est=3.1644555248181203, details={'was_impossible': False}),\n",
       " Prediction(uid='TEST_348544', iid='BOOK_267054', r_ui=0.0, est=3.5708869431151564, details={'was_impossible': False}),\n",
       " Prediction(uid='TEST_253446', iid='BOOK_014046', r_ui=7.0, est=3.1308556038853457, details={'was_impossible': False}),\n",
       " Prediction(uid='TEST_059276', iid='BOOK_111375', r_ui=0.0, est=2.823290021431215, details={'was_impossible': False}),\n",
       " Prediction(uid='TEST_457848', iid='BOOK_190349', r_ui=10.0, est=3.3620891394845827, details={'was_impossible': False}),\n",
       " Prediction(uid='TEST_798783', iid='BOOK_157027', r_ui=9.0, est=2.823290021431215, details={'was_impossible': False}),\n",
       " Prediction(uid='TEST_687013', iid='BOOK_081074', r_ui=10.0, est=3.7416868416799005, details={'was_impossible': False}),\n",
       " Prediction(uid='TEST_094247', iid='BOOK_094834', r_ui=9.0, est=2.8573819748046305, details={'was_impossible': False}),\n",
       " Prediction(uid='TEST_111129', iid='BOOK_111946', r_ui=10.0, est=2.3615792510292373, details={'was_impossible': False}),\n",
       " Prediction(uid='TEST_029115', iid='BOOK_140818', r_ui=0.0, est=4.003140291770889, details={'was_impossible': False}),\n",
       " Prediction(uid='TEST_073652', iid='BOOK_189120', r_ui=0.0, est=2.6250393834189514, details={'was_impossible': False}),\n",
       " Prediction(uid='TEST_335474', iid='BOOK_106394', r_ui=7.0, est=2.713054817547818, details={'was_impossible': False}),\n",
       " Prediction(uid='TEST_783602', iid='BOOK_041346', r_ui=10.0, est=2.823290021431215, details={'was_impossible': False}),\n",
       " Prediction(uid='TEST_664249', iid='BOOK_245046', r_ui=0.0, est=2.3756273312057457, details={'was_impossible': False}),\n",
       " Prediction(uid='TEST_753079', iid='BOOK_198592', r_ui=0.0, est=3.2401063249595774, details={'was_impossible': False}),\n",
       " Prediction(uid='TEST_105380', iid='BOOK_021507', r_ui=0.0, est=2.2193533609841043, details={'was_impossible': False}),\n",
       " Prediction(uid='TEST_070962', iid='BOOK_261962', r_ui=8.0, est=3.2215017129274663, details={'was_impossible': False}),\n",
       " Prediction(uid='TEST_861238', iid='BOOK_075013', r_ui=6.0, est=2.3973179998317726, details={'was_impossible': False}),\n",
       " Prediction(uid='TEST_037273', iid='BOOK_219706', r_ui=9.0, est=2.823290021431215, details={'was_impossible': False}),\n",
       " Prediction(uid='TEST_854971', iid='BOOK_240488', r_ui=0.0, est=2.5809710682832, details={'was_impossible': False}),\n",
       " Prediction(uid='TEST_458274', iid='BOOK_228563', r_ui=8.0, est=2.2400971408676758, details={'was_impossible': False}),\n",
       " Prediction(uid='TEST_474446', iid='BOOK_070906', r_ui=10.0, est=3.6278992888016344, details={'was_impossible': False}),\n",
       " Prediction(uid='TEST_545024', iid='BOOK_061433', r_ui=0.0, est=1.8721559193526143, details={'was_impossible': False}),\n",
       " Prediction(uid='TEST_197231', iid='BOOK_043694', r_ui=0.0, est=3.3619132581020263, details={'was_impossible': False}),\n",
       " Prediction(uid='TEST_432676', iid='BOOK_230002', r_ui=0.0, est=2.521732062751813, details={'was_impossible': False}),\n",
       " Prediction(uid='TEST_436453', iid='BOOK_216762', r_ui=0.0, est=3.0777310129084188, details={'was_impossible': False}),\n",
       " Prediction(uid='TEST_506629', iid='BOOK_243295', r_ui=0.0, est=4.27690323704116, details={'was_impossible': False}),\n",
       " Prediction(uid='TEST_320546', iid='BOOK_140443', r_ui=0.0, est=3.018161693316994, details={'was_impossible': False}),\n",
       " Prediction(uid='TEST_611372', iid='BOOK_119609', r_ui=0.0, est=2.5827161384409663, details={'was_impossible': False}),\n",
       " Prediction(uid='TEST_185375', iid='BOOK_255377', r_ui=0.0, est=3.409106878734211, details={'was_impossible': False}),\n",
       " Prediction(uid='TEST_368828', iid='BOOK_263374', r_ui=0.0, est=2.015822898998219, details={'was_impossible': False}),\n",
       " Prediction(uid='TEST_241934', iid='BOOK_111553', r_ui=0.0, est=2.54376389213504, details={'was_impossible': False}),\n",
       " Prediction(uid='TEST_137205', iid='BOOK_173087', r_ui=8.0, est=3.450559898997923, details={'was_impossible': False}),\n",
       " Prediction(uid='TEST_227246', iid='BOOK_143117', r_ui=0.0, est=2.823290021431215, details={'was_impossible': False}),\n",
       " Prediction(uid='TEST_010408', iid='BOOK_250939', r_ui=0.0, est=3.094837384771564, details={'was_impossible': False}),\n",
       " Prediction(uid='TEST_522467', iid='BOOK_184447', r_ui=0.0, est=2.823290021431215, details={'was_impossible': False}),\n",
       " Prediction(uid='TEST_455242', iid='BOOK_149388', r_ui=0.0, est=3.086991841671913, details={'was_impossible': False}),\n",
       " Prediction(uid='TEST_197470', iid='BOOK_253711', r_ui=0.0, est=3.425173338436143, details={'was_impossible': False}),\n",
       " Prediction(uid='TEST_369343', iid='BOOK_144508', r_ui=10.0, est=2.375796843057652, details={'was_impossible': False}),\n",
       " Prediction(uid='TEST_018372', iid='BOOK_103744', r_ui=0.0, est=2.73956722067254, details={'was_impossible': False}),\n",
       " Prediction(uid='TEST_857365', iid='BOOK_048938', r_ui=0.0, est=2.9911545081635813, details={'was_impossible': False}),\n",
       " Prediction(uid='TEST_033334', iid='BOOK_227253', r_ui=10.0, est=3.428560227194454, details={'was_impossible': False}),\n",
       " Prediction(uid='TEST_552878', iid='BOOK_253020', r_ui=7.0, est=2.5735313704983054, details={'was_impossible': False}),\n",
       " Prediction(uid='TEST_528914', iid='BOOK_124494', r_ui=0.0, est=4.640061893065613, details={'was_impossible': False}),\n",
       " Prediction(uid='TEST_447314', iid='BOOK_084390', r_ui=0.0, est=1.9137337946345094, details={'was_impossible': False}),\n",
       " Prediction(uid='TEST_001769', iid='BOOK_244667', r_ui=0.0, est=2.823290021431215, details={'was_impossible': False}),\n",
       " Prediction(uid='TEST_129326', iid='BOOK_204327', r_ui=0.0, est=1.949253103074035, details={'was_impossible': False}),\n",
       " Prediction(uid='TEST_710045', iid='BOOK_129682', r_ui=5.0, est=2.035982383914285, details={'was_impossible': False}),\n",
       " Prediction(uid='TEST_823210', iid='BOOK_124483', r_ui=0.0, est=3.737535819786235, details={'was_impossible': False}),\n",
       " Prediction(uid='TEST_341343', iid='BOOK_251219', r_ui=10.0, est=3.429782800316415, details={'was_impossible': False}),\n",
       " Prediction(uid='TEST_395074', iid='BOOK_205916', r_ui=10.0, est=1.8373013878560172, details={'was_impossible': False}),\n",
       " Prediction(uid='TEST_762669', iid='BOOK_214624', r_ui=0.0, est=3.855427852691504, details={'was_impossible': False}),\n",
       " Prediction(uid='TEST_700175', iid='BOOK_107558', r_ui=6.0, est=3.2111368606685424, details={'was_impossible': False}),\n",
       " Prediction(uid='TEST_414125', iid='BOOK_110811', r_ui=7.0, est=3.9720034156810846, details={'was_impossible': False}),\n",
       " Prediction(uid='TEST_554415', iid='BOOK_048713', r_ui=0.0, est=2.823290021431215, details={'was_impossible': False}),\n",
       " Prediction(uid='TEST_126505', iid='BOOK_227608', r_ui=0.0, est=2.823290021431215, details={'was_impossible': False}),\n",
       " Prediction(uid='TEST_191926', iid='BOOK_099657', r_ui=8.0, est=2.5971070717395377, details={'was_impossible': False}),\n",
       " Prediction(uid='TEST_664187', iid='BOOK_231420', r_ui=0.0, est=2.823290021431215, details={'was_impossible': False}),\n",
       " Prediction(uid='TEST_339613', iid='BOOK_108257', r_ui=8.0, est=3.1555929841261765, details={'was_impossible': False}),\n",
       " Prediction(uid='TEST_818139', iid='BOOK_053053', r_ui=0.0, est=2.871433128572939, details={'was_impossible': False}),\n",
       " Prediction(uid='TEST_048280', iid='BOOK_062280', r_ui=0.0, est=3.305354744437568, details={'was_impossible': False}),\n",
       " Prediction(uid='TEST_472548', iid='BOOK_122544', r_ui=9.0, est=2.937792563846854, details={'was_impossible': False}),\n",
       " Prediction(uid='TEST_554004', iid='BOOK_135414', r_ui=0.0, est=2.1095186514891835, details={'was_impossible': False}),\n",
       " Prediction(uid='TEST_499308', iid='BOOK_085982', r_ui=8.0, est=2.823290021431215, details={'was_impossible': False}),\n",
       " Prediction(uid='TEST_540816', iid='BOOK_236315', r_ui=0.0, est=2.371835833643314, details={'was_impossible': False}),\n",
       " Prediction(uid='TEST_434905', iid='BOOK_053902', r_ui=0.0, est=2.841741871644439, details={'was_impossible': False}),\n",
       " Prediction(uid='TEST_732329', iid='BOOK_026877', r_ui=7.0, est=2.7554458920225415, details={'was_impossible': False}),\n",
       " Prediction(uid='TEST_733781', iid='BOOK_110313', r_ui=0.0, est=2.577275900535822, details={'was_impossible': False}),\n",
       " Prediction(uid='TEST_662298', iid='BOOK_041938', r_ui=10.0, est=2.823290021431215, details={'was_impossible': False}),\n",
       " Prediction(uid='TEST_168883', iid='BOOK_205033', r_ui=0.0, est=3.2205474442075928, details={'was_impossible': False}),\n",
       " Prediction(uid='TEST_453409', iid='BOOK_227437', r_ui=0.0, est=1.3251039910655962, details={'was_impossible': False}),\n",
       " Prediction(uid='TEST_558412', iid='BOOK_038466', r_ui=0.0, est=2.701692699642967, details={'was_impossible': False}),\n",
       " Prediction(uid='TEST_259082', iid='BOOK_221102', r_ui=10.0, est=1.8915632515609158, details={'was_impossible': False}),\n",
       " Prediction(uid='TEST_809889', iid='BOOK_065259', r_ui=0.0, est=2.4979029670709507, details={'was_impossible': False}),\n",
       " Prediction(uid='TEST_868446', iid='BOOK_189916', r_ui=0.0, est=2.399127076937482, details={'was_impossible': False}),\n",
       " Prediction(uid='TEST_634005', iid='BOOK_131503', r_ui=0.0, est=2.823290021431215, details={'was_impossible': False}),\n",
       " Prediction(uid='TEST_789118', iid='BOOK_255451', r_ui=10.0, est=2.823290021431215, details={'was_impossible': False}),\n",
       " Prediction(uid='TEST_142229', iid='BOOK_052678', r_ui=9.0, est=4.048241095456634, details={'was_impossible': False}),\n",
       " Prediction(uid='TEST_517338', iid='BOOK_208095', r_ui=0.0, est=2.823290021431215, details={'was_impossible': False}),\n",
       " Prediction(uid='TEST_020337', iid='BOOK_152746', r_ui=0.0, est=1.6911227498877976, details={'was_impossible': False}),\n",
       " Prediction(uid='TEST_021749', iid='BOOK_084299', r_ui=7.0, est=3.3563360940943276, details={'was_impossible': False}),\n",
       " Prediction(uid='TEST_711772', iid='BOOK_060091', r_ui=0.0, est=2.9163022454795913, details={'was_impossible': False}),\n",
       " Prediction(uid='TEST_412480', iid='BOOK_196286', r_ui=0.0, est=3.6803696412628986, details={'was_impossible': False}),\n",
       " Prediction(uid='TEST_767529', iid='BOOK_182544', r_ui=0.0, est=3.0343486855017567, details={'was_impossible': False}),\n",
       " Prediction(uid='TEST_501424', iid='BOOK_012947', r_ui=10.0, est=4.481984166278329, details={'was_impossible': False}),\n",
       " Prediction(uid='TEST_337730', iid='BOOK_116853', r_ui=9.0, est=3.3950143094199854, details={'was_impossible': False}),\n",
       " Prediction(uid='TEST_535066', iid='BOOK_042098', r_ui=0.0, est=2.3171474897528217, details={'was_impossible': False}),\n",
       " Prediction(uid='TEST_530259', iid='BOOK_127403', r_ui=0.0, est=2.1806687391116375, details={'was_impossible': False}),\n",
       " Prediction(uid='TEST_349589', iid='BOOK_090492', r_ui=0.0, est=2.6000050699090744, details={'was_impossible': False}),\n",
       " Prediction(uid='TEST_800222', iid='BOOK_097055', r_ui=0.0, est=2.738635721525039, details={'was_impossible': False}),\n",
       " Prediction(uid='TEST_189708', iid='BOOK_009940', r_ui=10.0, est=3.352888960951398, details={'was_impossible': False}),\n",
       " ...]"
      ]
     },
     "execution_count": 38,
     "metadata": {},
     "output_type": "execute_result"
    }
   ],
   "source": [
    "predictions_svd = svd.test(X_test)\n",
    "predictions_svd"
   ]
  },
  {
   "cell_type": "code",
   "execution_count": 39,
   "metadata": {
    "id": "d52xP7XQL0uZ"
   },
   "outputs": [
    {
     "data": {
      "text/plain": [
       "Prediction(uid='TEST_858428', iid='BOOK_209704', r_ui=0.0, est=2.15857010802133, details={'was_impossible': False})"
      ]
     },
     "execution_count": 39,
     "metadata": {},
     "output_type": "execute_result"
    }
   ],
   "source": [
    "predictions_svd[1]"
   ]
  },
  {
   "cell_type": "code",
   "execution_count": 40,
   "metadata": {
    "id": "LEP0yJr4L5ql"
   },
   "outputs": [
    {
     "name": "stdout",
     "output_type": "stream",
     "text": [
      "RMSE: 3.8103\n"
     ]
    },
    {
     "data": {
      "text/plain": [
       "3.810328755850202"
      ]
     },
     "execution_count": 40,
     "metadata": {},
     "output_type": "execute_result"
    }
   ],
   "source": [
    "accuracy.rmse(predictions_svd)"
   ]
  },
  {
   "cell_type": "code",
   "execution_count": null,
   "metadata": {
    "id": "vbSbAWk2MSyp"
   },
   "outputs": [],
   "source": [
    "from surprise.model_selection import GridSearchCV, cross_validate\n",
    "\n",
    "param_grid = {'n_epochs': [5, 10], 'lr_all': [0.002, 0.005],\n",
    "              'reg_all': [0.4, 0.6]}\n",
    "\n",
    "gridcv = GridSearchCV(algo_class=SVD, \n",
    "                      param_grid=param_grid, \n",
    "                      measures=[\"rmse\"], cv=3)\n",
    "gridcv.fit(data)"
   ]
  },
  {
   "cell_type": "code",
   "execution_count": null,
   "metadata": {
    "id": "Xb8l_oXzMWZF"
   },
   "outputs": [],
   "source": [
    "gridcv.best_estimator"
   ]
  },
  {
   "cell_type": "code",
   "execution_count": null,
   "metadata": {
    "id": "1_g3FtniMiGY"
   },
   "outputs": [],
   "source": [
    "gridcv.best_params[\"rmse\"]"
   ]
  },
  {
   "cell_type": "code",
   "execution_count": null,
   "metadata": {
    "id": "saOg0VYHMjud"
   },
   "outputs": [],
   "source": [
    "gridcv.best_score"
   ]
  },
  {
   "cell_type": "code",
   "execution_count": null,
   "metadata": {
    "id": "ElkwBwNfMlih"
   },
   "outputs": [],
   "source": [
    "gridcv.algo_class"
   ]
  },
  {
   "cell_type": "code",
   "execution_count": null,
   "metadata": {
    "id": "m5hAb3ZQMn85"
   },
   "outputs": [],
   "source": [
    "best_svd = gridcv.best_estimator[\"rmse\"]\n",
    "best_svd.fit(X_train)"
   ]
  },
  {
   "cell_type": "code",
   "execution_count": null,
   "metadata": {
    "id": "-laACZWRMqQh"
   },
   "outputs": [],
   "source": [
    "predictions_bsvd = best_svd.test(X_test)"
   ]
  },
  {
   "cell_type": "code",
   "execution_count": null,
   "metadata": {
    "id": "4xzxmaTdMrwG"
   },
   "outputs": [],
   "source": [
    "predictions_bsvd[0]"
   ]
  },
  {
   "cell_type": "code",
   "execution_count": null,
   "metadata": {
    "id": "7i5jliwrMtlk"
   },
   "outputs": [],
   "source": [
    "accuracy.rmse(predictions_bsvd)"
   ]
  },
  {
   "cell_type": "code",
   "execution_count": null,
   "metadata": {
    "id": "gR1VJuvaMvsF"
   },
   "outputs": [],
   "source": [
    "df_pred_svd = pd.DataFrame(predictions_bsvd)\n",
    "df_pred_svd.head()"
   ]
  },
  {
   "cell_type": "code",
   "execution_count": null,
   "metadata": {
    "id": "zkOhnMvtMyLp"
   },
   "outputs": [],
   "source": [
    "y_pred_svd = df_pred_svd[\"est\"].unique()\n",
    "y_pred_svd"
   ]
  },
  {
   "cell_type": "code",
   "execution_count": null,
   "metadata": {},
   "outputs": [],
   "source": [
    "df_submit = pd.read_csv(f\"{base_path}/sample_submission.csv\", index_col='ID')\n",
    "df_submit.head()"
   ]
  },
  {
   "cell_type": "code",
   "execution_count": null,
   "metadata": {},
   "outputs": [],
   "source": [
    "df_submit.shape"
   ]
  },
  {
   "cell_type": "code",
   "execution_count": null,
   "metadata": {},
   "outputs": [],
   "source": [
    "df_submit.head()"
   ]
  },
  {
   "cell_type": "code",
   "execution_count": null,
   "metadata": {
    "scrolled": true
   },
   "outputs": [],
   "source": [
    "submission.shape"
   ]
  },
  {
   "cell_type": "code",
   "execution_count": null,
   "metadata": {
    "scrolled": false
   },
   "outputs": [],
   "source": [
    "df_submit.shape"
   ]
  },
  {
   "cell_type": "code",
   "execution_count": null,
   "metadata": {
    "id": "XHUBgsoAM0RD",
    "scrolled": true
   },
   "outputs": [],
   "source": [
    "cv_result = cross_validate(best_svd, data, measures=[\"rmse\"], n_jobs=2, verbose=True)"
   ]
  },
  {
   "cell_type": "code",
   "execution_count": null,
   "metadata": {
    "id": "C3a5gEMHM2Gp"
   },
   "outputs": [],
   "source": [
    "pd.DataFrame(cv_result)"
   ]
  },
  {
   "cell_type": "code",
   "execution_count": null,
   "metadata": {
    "id": "j1k5A1vGVej-"
   },
   "outputs": [],
   "source": [
    "def get_top_n(predictions, n=10):\n",
    "    # 각 사용자의 예측데이터를 defaultdict에 저장\n",
    "    top_n = defaultdict(list)\n",
    "    for uid, iid, true_r, est, _ in predictions:\n",
    "        top_n[uid].append((iid, est))\n",
    "\n",
    "    # 정렬 후 Top N 개만 저장\n",
    "    for uid, user_ratings in top_n.items():\n",
    "        user_ratings.sort(key=lambda x: x[1], reverse=True)\n",
    "        top_n[uid] = user_ratings[:n]\n",
    "\n",
    "    return top_n"
   ]
  },
  {
   "cell_type": "code",
   "execution_count": null,
   "metadata": {
    "id": "dfqWhK70Vg2v"
   },
   "outputs": [],
   "source": [
    "top_num = get_top_n(predictions_bsvd, 10)"
   ]
  },
  {
   "cell_type": "code",
   "execution_count": null,
   "metadata": {
    "id": "ilrWtCugViqC"
   },
   "outputs": [],
   "source": [
    "df_cust_recomm = pd.DataFrame(top_num.items())"
   ]
  },
  {
   "cell_type": "code",
   "execution_count": null,
   "metadata": {
    "id": "zrlRr7GZVkcW"
   },
   "outputs": [],
   "source": [
    "df_cust_recomm.head()"
   ]
  },
  {
   "cell_type": "code",
   "execution_count": null,
   "metadata": {
    "id": "FScj63r8VpCw"
   },
   "outputs": [],
   "source": [
    "stock_desc = df_valid[\n",
    "    [\"ID\", \"Book-Rating\"]].drop_duplicates(\"ID\").set_index(\"ID\")\n",
    "stock_desc"
   ]
  },
  {
   "cell_type": "code",
   "execution_count": null,
   "metadata": {
    "id": "x8vWTKxrydju"
   },
   "outputs": [],
   "source": [
    "df_submit = pd.read_csv(f\"{base_path}/sample_submission.csv\")\n",
    "df_submit"
   ]
  },
  {
   "cell_type": "code",
   "execution_count": null,
   "metadata": {
    "colab": {
     "base_uri": "https://localhost:8080/",
     "height": 112
    },
    "id": "qVXFD3_fvtyb",
    "outputId": "3393af6c-25fd-4ac6-e7c8-aeb6d871b612"
   },
   "outputs": [],
   "source": [
    "stock_desc.to_csv(file_name)\n",
    "pd.read_csv(file_name)"
   ]
  },
  {
   "cell_type": "code",
   "execution_count": null,
   "metadata": {
    "colab": {
     "base_uri": "https://localhost:8080/",
     "height": 35
    },
    "id": "RuyUc8SnpewL",
    "outputId": "1d0b825f-1eda-44b3-bc0b-e25651d062d7"
   },
   "outputs": [],
   "source": [
    "file_name = f\"{base_path}/submit.csv\"\n",
    "file_name"
   ]
  },
  {
   "cell_type": "code",
   "execution_count": null,
   "metadata": {
    "colab": {
     "base_uri": "https://localhost:8080/",
     "height": 17
    },
    "id": "r5wozy2bwDS0",
    "outputId": "09000d69-89f1-4951-ea56-bae509140891"
   },
   "outputs": [],
   "source": [
    "from google.colab import files\n",
    "\n",
    "files.download(file_name)"
   ]
  },
  {
   "cell_type": "code",
   "execution_count": null,
   "metadata": {
    "colab": {
     "base_uri": "https://localhost:8080/",
     "height": 230
    },
    "id": "pqyaAJT1l7Zr",
    "outputId": "1d8b32e6-0846-4621-f7e8-8c52fe4ef989"
   },
   "outputs": [],
   "source": [
    "train[categorical_feature] = train[categorical_feature].astype(\"category\")\n",
    "test[categorical_feature] = test[categorical_feature].astype(\"category\")\n",
    "\n",
    "train.info(), test.info()"
   ]
  },
  {
   "cell_type": "code",
   "execution_count": null,
   "metadata": {
    "id": "CeZvb8t6l_hm"
   },
   "outputs": [],
   "source": [
    "from sklearn.preprocessing import OrdinalEncoder\n",
    "\n",
    "oe = OrdinalEncoder(handle_unknown='use_encoded_value', unknown_value=-1)\n",
    "train[categorical_feature] = oe.fit_transform(train[categorical_feature])\n",
    "test[categorical_feature] = oe.transform(test[categorical_feature])"
   ]
  },
  {
   "cell_type": "code",
   "execution_count": null,
   "metadata": {
    "colab": {
     "base_uri": "https://localhost:8080/"
    },
    "id": "sqH1MjQNlCmS",
    "outputId": "86e2aa64-872b-40f2-8fd7-4efb4525b207"
   },
   "outputs": [],
   "source": [
    "from sklearn.model_selection import train_test_split\n",
    "\n",
    "# X_train, X_valid, y_train, y_valid\n",
    "X_train, X_valid, y_train, y_valid = train_test_split(\n",
    "    X, y, test_size=0.1, random_state=42)\n",
    "X_train.shape, X_valid.shape, y_train.shape, y_valid.shape"
   ]
  },
  {
   "cell_type": "code",
   "execution_count": null,
   "metadata": {
    "colab": {
     "base_uri": "https://localhost:8080/"
    },
    "id": "X8Sio59SpN_i",
    "outputId": "3d1345e1-ab12-4d36-f4a8-c04330748126"
   },
   "outputs": [],
   "source": [
    "X = train.drop(columns=\"Book-Rating\")\n",
    "y = train[\"Book-Rating\"]\n",
    "\n",
    "X.shape, y.shape"
   ]
  },
  {
   "cell_type": "code",
   "execution_count": null,
   "metadata": {
    "colab": {
     "base_uri": "https://localhost:8080/"
    },
    "id": "-av5TT6bmCTR",
    "outputId": "ee152a7c-ae27-4230-be66-146278050460"
   },
   "outputs": [],
   "source": [
    "from sklearn.model_selection import train_test_split\n",
    "\n",
    "X_train, X_valid, y_train, y_valid = train_test_split(\n",
    "    X, y, test_size = 0.1, random_state=42\n",
    ")\n",
    "\n",
    "X_train.shape, X_valid.shape, y_train.shape, y_valid.shape"
   ]
  },
  {
   "cell_type": "code",
   "execution_count": null,
   "metadata": {
    "colab": {
     "base_uri": "https://localhost:8080/"
    },
    "id": "Yo4yiDyZmD4Y",
    "outputId": "0de85eb2-b405-4209-dd2c-fb54e61b8ad5"
   },
   "outputs": [],
   "source": [
    "X_test = test\n",
    "X_test.shape"
   ]
  },
  {
   "cell_type": "code",
   "execution_count": null,
   "metadata": {
    "colab": {
     "base_uri": "https://localhost:8080/",
     "height": 248
    },
    "id": "iRxkpsdtmFbm",
    "outputId": "ec471f0e-66d9-4bed-9b8e-e0b63e3aa503"
   },
   "outputs": [],
   "source": [
    "import xgboost as xgb\n",
    "\n",
    "model_xgb = xgb.XGBRegressor(objective='reg:squarederror', n_estimators=250, \n",
    "                             max_depth=3,\n",
    "                             random_state=42, \n",
    "                             n_jobs=-1)\n",
    "                             \n",
    "model_xgb"
   ]
  },
  {
   "cell_type": "code",
   "execution_count": null,
   "metadata": {
    "id": "vSMrxfB4nMWQ"
   },
   "outputs": [],
   "source": [
    "dtrain = xgb.DMatrix(X, label=y)"
   ]
  },
  {
   "cell_type": "code",
   "execution_count": null,
   "metadata": {
    "colab": {
     "base_uri": "https://localhost:8080/",
     "height": 1000
    },
    "id": "iBqLkUXknRwJ",
    "outputId": "3752acdf-c877-412c-d0ac-19eb25fea00e"
   },
   "outputs": [],
   "source": [
    "from xgboost.callback import EarlyStopping\n",
    "# fit\n",
    "es = xgb.callback.EarlyStopping(\n",
    "    rounds=2,\n",
    "    save_best=True,\n",
    "    maximize=False,\n",
    "    data_name=\"validation_0\",\n",
    "    metric_name=\"rmse\",\n",
    ")\n",
    "\n",
    "model_xgb.fit(X_train, y_train, \n",
    "              eval_set=[(X_valid, y_valid)], callbacks=[es])"
   ]
  },
  {
   "cell_type": "code",
   "execution_count": null,
   "metadata": {
    "colab": {
     "base_uri": "https://localhost:8080/"
    },
    "id": "5D1rjY5RnTuc",
    "outputId": "208cc121-3d8b-40d5-8f5c-a2651de5464b"
   },
   "outputs": [],
   "source": [
    "y_valid_predict = model_xgb.predict(X_valid)\n",
    "y_valid_predict[:5]"
   ]
  },
  {
   "cell_type": "code",
   "execution_count": null,
   "metadata": {
    "colab": {
     "base_uri": "https://localhost:8080/",
     "height": 448
    },
    "id": "IHJhzPDu3uQl",
    "outputId": "c994f79f-16b5-40a0-bdcf-519fe61bffa8"
   },
   "outputs": [],
   "source": [
    "fi = pd.Series(model_xgb.feature_importances_)\n",
    "fi.index = model_xgb.feature_names_in_\n",
    "fi.nlargest(20).plot.barh()"
   ]
  },
  {
   "cell_type": "code",
   "execution_count": null,
   "metadata": {
    "colab": {
     "base_uri": "https://localhost:8080/",
     "height": 315
    },
    "id": "L2Km2vOc3ydO",
    "outputId": "007c93d5-836f-416b-bec2-110e480e1077"
   },
   "outputs": [],
   "source": [
    "xgb.plot_tree(model_xgb, num_trees=0)\n",
    "fig = plt.gcf()\n",
    "fig.set_size_inches(30, 20)"
   ]
  },
  {
   "cell_type": "code",
   "execution_count": null,
   "metadata": {
    "colab": {
     "base_uri": "https://localhost:8080/"
    },
    "id": "8V6OueVk31Wb",
    "outputId": "1ea7ab12-7fbb-4ac2-c370-28aa2e052275"
   },
   "outputs": [],
   "source": [
    "from sklearn.metrics import r2_score\n",
    "r2_score(y_valid, y_valid_predict)"
   ]
  },
  {
   "cell_type": "code",
   "execution_count": null,
   "metadata": {
    "colab": {
     "base_uri": "https://localhost:8080/"
    },
    "id": "wTswa-jV35cN",
    "outputId": "7b4e70b0-558c-4f40-b76c-febb82a2e75d"
   },
   "outputs": [],
   "source": [
    "score_xgb = model_xgb.score(X_valid, y_valid)\n",
    "score_xgb"
   ]
  },
  {
   "cell_type": "code",
   "execution_count": null,
   "metadata": {
    "colab": {
     "base_uri": "https://localhost:8080/"
    },
    "id": "9W9oLn4I39Mb",
    "outputId": "cf7a1acb-43e4-4088-d190-5147adf11687"
   },
   "outputs": [],
   "source": [
    "X_test.shape"
   ]
  },
  {
   "cell_type": "code",
   "execution_count": null,
   "metadata": {
    "colab": {
     "base_uri": "https://localhost:8080/"
    },
    "id": "N8cDDO8n4HnA",
    "outputId": "c701dfc9-c329-4364-c885-e52700eecbe6"
   },
   "outputs": [],
   "source": [
    "y_pred_xgb = model_xgb.predict(X_test)\n",
    "y_pred_xgb[:5]"
   ]
  },
  {
   "cell_type": "code",
   "execution_count": null,
   "metadata": {
    "colab": {
     "base_uri": "https://localhost:8080/",
     "height": 206
    },
    "id": "DAjhAOpX4LAY",
    "outputId": "e6755e23-ad83-4df4-d3fc-19acd4b3e602"
   },
   "outputs": [],
   "source": [
    "df_submit = pd.read_csv(f\"{base_path}/sample_submission.csv\")\n",
    "df_submit.head()"
   ]
  },
  {
   "cell_type": "code",
   "execution_count": null,
   "metadata": {
    "colab": {
     "base_uri": "https://localhost:8080/",
     "height": 112
    },
    "id": "L0LcTfqK4Vtx",
    "outputId": "5d623946-587e-4422-e050-92c1a2c2d64a"
   },
   "outputs": [],
   "source": [
    "df_submit[\"Book-Rating\"] = abs(y_pred_xgb)\n",
    "df_submit.head(2)"
   ]
  },
  {
   "cell_type": "code",
   "execution_count": null,
   "metadata": {
    "colab": {
     "base_uri": "https://localhost:8080/",
     "height": 35
    },
    "id": "WRIJaeWB7LYU",
    "outputId": "44ffbfd0-7b9f-4cbc-c101-aef035f41755"
   },
   "outputs": [],
   "source": [
    "file_name = f\"{base_path}/submit.csv\"\n",
    "file_name"
   ]
  },
  {
   "cell_type": "code",
   "execution_count": null,
   "metadata": {
    "id": "bSLOQLDO7NGR"
   },
   "outputs": [],
   "source": []
  }
 ],
 "metadata": {
  "colab": {
   "provenance": []
  },
  "kernelspec": {
   "display_name": "Python 3.8 (NGC 22.09 / TensorFlow 2.9.1) on Backend.AI",
   "language": "python",
   "name": "python3"
  },
  "language_info": {
   "codemirror_mode": {
    "name": "ipython",
    "version": 3
   },
   "file_extension": ".py",
   "mimetype": "text/x-python",
   "name": "python",
   "nbconvert_exporter": "python",
   "pygments_lexer": "ipython3",
   "version": "3.8.10"
  }
 },
 "nbformat": 4,
 "nbformat_minor": 1
}
