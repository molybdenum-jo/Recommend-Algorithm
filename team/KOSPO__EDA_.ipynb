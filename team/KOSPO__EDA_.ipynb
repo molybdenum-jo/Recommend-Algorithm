{
  "cells": [
    {
      "cell_type": "markdown",
      "metadata": {
        "id": "view-in-github",
        "colab_type": "text"
      },
      "source": [
        "<a href=\"https://colab.research.google.com/github/molybdenum-jo/Recommend-Algorithm/blob/main/KOSPO__EDA_.ipynb\" target=\"_parent\"><img src=\"https://colab.research.google.com/assets/colab-badge.svg\" alt=\"Open In Colab\"/></a>"
      ]
    },
    {
      "cell_type": "markdown",
      "id": "74f0e935",
      "metadata": {
        "id": "74f0e935"
      },
      "source": [
        "# 라이브러리 로드 "
      ]
    },
    {
      "cell_type": "code",
      "execution_count": null,
      "id": "afe89f10",
      "metadata": {
        "id": "afe89f10"
      },
      "outputs": [],
      "source": [
        "import pandas as pd\n",
        "import numpy as np\n",
        "import matplotlib.pyplot as plt\n",
        "import seaborn as sns\n",
        "import os"
      ]
    },
    {
      "cell_type": "markdown",
      "id": "6e00c34f",
      "metadata": {
        "id": "6e00c34f"
      },
      "source": [
        "# 파일 불러오기 "
      ]
    },
    {
      "cell_type": "code",
      "execution_count": null,
      "id": "8c134761",
      "metadata": {
        "id": "8c134761"
      },
      "outputs": [],
      "source": [
        "import zipfile\n",
        "\n",
        "with zipfile.ZipFile('./KOSPOXDACON.zip', 'r') as zip_ref:\n",
        "    zip_ref.extractall('./data')"
      ]
    },
    {
      "cell_type": "code",
      "execution_count": null,
      "id": "d4e49684",
      "metadata": {
        "id": "d4e49684",
        "outputId": "a20ce509-7104-4567-f62d-bb9bcbee24f9"
      },
      "outputs": [
        {
          "data": {
            "text/html": [
              "<div>\n",
              "<style scoped>\n",
              "    .dataframe tbody tr th:only-of-type {\n",
              "        vertical-align: middle;\n",
              "    }\n",
              "\n",
              "    .dataframe tbody tr th {\n",
              "        vertical-align: top;\n",
              "    }\n",
              "\n",
              "    .dataframe thead th {\n",
              "        text-align: right;\n",
              "    }\n",
              "</style>\n",
              "<table border=\"1\" class=\"dataframe\">\n",
              "  <thead>\n",
              "    <tr style=\"text-align: right;\">\n",
              "      <th></th>\n",
              "      <th>ID</th>\n",
              "      <th>User-ID</th>\n",
              "      <th>Book-ID</th>\n",
              "      <th>Book-Rating</th>\n",
              "      <th>Age</th>\n",
              "      <th>Location</th>\n",
              "      <th>Book-Title</th>\n",
              "      <th>Book-Author</th>\n",
              "      <th>Year-Of-Publication</th>\n",
              "      <th>Publisher</th>\n",
              "    </tr>\n",
              "  </thead>\n",
              "  <tbody>\n",
              "    <tr>\n",
              "      <th>0</th>\n",
              "      <td>TRAIN_000000</td>\n",
              "      <td>USER_00000</td>\n",
              "      <td>BOOK_044368</td>\n",
              "      <td>8</td>\n",
              "      <td>23.0</td>\n",
              "      <td>sackville, new brunswick, canada</td>\n",
              "      <td>Road Taken</td>\n",
              "      <td>Rona Jaffe</td>\n",
              "      <td>2001.0</td>\n",
              "      <td>Mira</td>\n",
              "    </tr>\n",
              "    <tr>\n",
              "      <th>1</th>\n",
              "      <td>TRAIN_000001</td>\n",
              "      <td>USER_00000</td>\n",
              "      <td>BOOK_081205</td>\n",
              "      <td>8</td>\n",
              "      <td>23.0</td>\n",
              "      <td>sackville, new brunswick, canada</td>\n",
              "      <td>Macbeth (New Penguin Shakespeare)</td>\n",
              "      <td>William Shakespeare</td>\n",
              "      <td>1981.0</td>\n",
              "      <td>Penguin Books</td>\n",
              "    </tr>\n",
              "  </tbody>\n",
              "</table>\n",
              "</div>"
            ],
            "text/plain": [
              "             ID     User-ID      Book-ID  Book-Rating   Age  \\\n",
              "0  TRAIN_000000  USER_00000  BOOK_044368            8  23.0   \n",
              "1  TRAIN_000001  USER_00000  BOOK_081205            8  23.0   \n",
              "\n",
              "                           Location                         Book-Title  \\\n",
              "0  sackville, new brunswick, canada                         Road Taken   \n",
              "1  sackville, new brunswick, canada  Macbeth (New Penguin Shakespeare)   \n",
              "\n",
              "           Book-Author  Year-Of-Publication      Publisher  \n",
              "0           Rona Jaffe               2001.0           Mira  \n",
              "1  William Shakespeare               1981.0  Penguin Books  "
            ]
          },
          "execution_count": 35,
          "metadata": {},
          "output_type": "execute_result"
        }
      ],
      "source": [
        "train = pd.read_csv('./data/train.csv')\n",
        "train.head(2)"
      ]
    },
    {
      "cell_type": "code",
      "execution_count": null,
      "id": "ca8d0a97",
      "metadata": {
        "id": "ca8d0a97",
        "outputId": "8a2d2309-3aff-4d40-ff39-f795bee7f0bc"
      },
      "outputs": [
        {
          "data": {
            "text/html": [
              "<div>\n",
              "<style scoped>\n",
              "    .dataframe tbody tr th:only-of-type {\n",
              "        vertical-align: middle;\n",
              "    }\n",
              "\n",
              "    .dataframe tbody tr th {\n",
              "        vertical-align: top;\n",
              "    }\n",
              "\n",
              "    .dataframe thead th {\n",
              "        text-align: right;\n",
              "    }\n",
              "</style>\n",
              "<table border=\"1\" class=\"dataframe\">\n",
              "  <thead>\n",
              "    <tr style=\"text-align: right;\">\n",
              "      <th></th>\n",
              "      <th>ID</th>\n",
              "      <th>User-ID</th>\n",
              "      <th>Book-ID</th>\n",
              "      <th>Age</th>\n",
              "      <th>Location</th>\n",
              "      <th>Book-Title</th>\n",
              "      <th>Book-Author</th>\n",
              "      <th>Year-Of-Publication</th>\n",
              "      <th>Publisher</th>\n",
              "    </tr>\n",
              "  </thead>\n",
              "  <tbody>\n",
              "    <tr>\n",
              "      <th>0</th>\n",
              "      <td>TEST_000000</td>\n",
              "      <td>USER_00008</td>\n",
              "      <td>BOOK_047966</td>\n",
              "      <td>37.0</td>\n",
              "      <td>vermilion, ohio, usa</td>\n",
              "      <td>Birds of Prey: A Novel of Suspense</td>\n",
              "      <td>J.A. Jance</td>\n",
              "      <td>2002.0</td>\n",
              "      <td>Avon</td>\n",
              "    </tr>\n",
              "    <tr>\n",
              "      <th>1</th>\n",
              "      <td>TEST_000001</td>\n",
              "      <td>USER_00008</td>\n",
              "      <td>BOOK_119494</td>\n",
              "      <td>37.0</td>\n",
              "      <td>vermilion, ohio, usa</td>\n",
              "      <td>Midnight Voices</td>\n",
              "      <td>JOHN SAUL</td>\n",
              "      <td>2003.0</td>\n",
              "      <td>Ballantine Books</td>\n",
              "    </tr>\n",
              "  </tbody>\n",
              "</table>\n",
              "</div>"
            ],
            "text/plain": [
              "            ID     User-ID      Book-ID   Age              Location  \\\n",
              "0  TEST_000000  USER_00008  BOOK_047966  37.0  vermilion, ohio, usa   \n",
              "1  TEST_000001  USER_00008  BOOK_119494  37.0  vermilion, ohio, usa   \n",
              "\n",
              "                           Book-Title Book-Author  Year-Of-Publication  \\\n",
              "0  Birds of Prey: A Novel of Suspense  J.A. Jance               2002.0   \n",
              "1                     Midnight Voices   JOHN SAUL               2003.0   \n",
              "\n",
              "          Publisher  \n",
              "0              Avon  \n",
              "1  Ballantine Books  "
            ]
          },
          "execution_count": 34,
          "metadata": {},
          "output_type": "execute_result"
        }
      ],
      "source": [
        "test = pd.read_csv('./data/test.csv')\n",
        "test.head(2)"
      ]
    },
    {
      "cell_type": "code",
      "execution_count": null,
      "id": "5b2c7876",
      "metadata": {
        "id": "5b2c7876",
        "outputId": "57dca228-c982-4401-b20d-991b5dc9a9f8"
      },
      "outputs": [
        {
          "data": {
            "text/plain": [
              "(871393, 10)"
            ]
          },
          "execution_count": 7,
          "metadata": {},
          "output_type": "execute_result"
        }
      ],
      "source": [
        "train.shape"
      ]
    },
    {
      "cell_type": "code",
      "execution_count": null,
      "id": "42b15d3f",
      "metadata": {
        "id": "42b15d3f",
        "outputId": "ff6471ee-06bd-410e-f45f-d326eb8f3bdb"
      },
      "outputs": [
        {
          "name": "stdout",
          "output_type": "stream",
          "text": [
            "<class 'pandas.core.frame.DataFrame'>\n",
            "RangeIndex: 871393 entries, 0 to 871392\n",
            "Data columns (total 10 columns):\n",
            " #   Column               Non-Null Count   Dtype  \n",
            "---  ------               --------------   -----  \n",
            " 0   ID                   871393 non-null  object \n",
            " 1   User-ID              871393 non-null  object \n",
            " 2   Book-ID              871393 non-null  object \n",
            " 3   Book-Rating          871393 non-null  int64  \n",
            " 4   Age                  871393 non-null  float64\n",
            " 5   Location             871393 non-null  object \n",
            " 6   Book-Title           871393 non-null  object \n",
            " 7   Book-Author          871393 non-null  object \n",
            " 8   Year-Of-Publication  871393 non-null  float64\n",
            " 9   Publisher            871393 non-null  object \n",
            "dtypes: float64(2), int64(1), object(7)\n",
            "memory usage: 66.5+ MB\n"
          ]
        }
      ],
      "source": [
        "train.info()"
      ]
    },
    {
      "cell_type": "code",
      "execution_count": null,
      "id": "cffa513c",
      "metadata": {
        "id": "cffa513c",
        "outputId": "3e7a1ef8-c9ee-44c8-d5d7-6d0d0719ef12"
      },
      "outputs": [
        {
          "data": {
            "text/plain": [
              "ID                     0\n",
              "User-ID                0\n",
              "Book-ID                0\n",
              "Book-Rating            0\n",
              "Age                    0\n",
              "Location               0\n",
              "Book-Title             0\n",
              "Book-Author            0\n",
              "Year-Of-Publication    0\n",
              "Publisher              0\n",
              "dtype: int64"
            ]
          },
          "execution_count": 9,
          "metadata": {},
          "output_type": "execute_result"
        }
      ],
      "source": [
        "train.isnull().sum()"
      ]
    },
    {
      "cell_type": "code",
      "execution_count": null,
      "id": "1b9bc6ef",
      "metadata": {
        "id": "1b9bc6ef",
        "outputId": "ec2cffd6-3f81-40fd-e1e1-1fd13b493b27"
      },
      "outputs": [
        {
          "data": {
            "text/plain": [
              "871393"
            ]
          },
          "execution_count": 10,
          "metadata": {},
          "output_type": "execute_result"
        }
      ],
      "source": [
        "train['ID'].nunique()"
      ]
    },
    {
      "cell_type": "markdown",
      "id": "5ac3748a",
      "metadata": {
        "id": "5ac3748a"
      },
      "source": [
        "# 전처리 및 EDA"
      ]
    },
    {
      "cell_type": "markdown",
      "id": "e644a302",
      "metadata": {
        "id": "e644a302"
      },
      "source": [
        "## 컬럼 별 내용요약"
      ]
    },
    {
      "cell_type": "markdown",
      "id": "8368ca77",
      "metadata": {
        "id": "8368ca77"
      },
      "source": [
        "ID : 샘플 고유 ID\n",
        "\n",
        "User-ID : 유저 고유 ID\n",
        "\n",
        "Book-ID : 도서 고유 ID\n",
        "\n",
        "Book-Rating : 유저가 도서에 부여한 평점 (0점 ~ 10점), \n",
        "단, 0점인 경우에는 유저가 해당 도서에 관심이 없고 관련이 없는 경우\n",
        "\n",
        "Age : 유저의 나이 . \n",
        "\n",
        "Location : 유저가 사는 지역 \n",
        "\n",
        " Book-Title : 도서명\n",
        "\n",
        " Book-Author : 저자 \n",
        "\n",
        " Year of publication :  도서 출판 년도 (-1일 경우 결측 혹은 알 수 없음)\n",
        "\n",
        " Publisher : 출판사 \n",
        "\n"
      ]
    },
    {
      "cell_type": "markdown",
      "id": "f347a8d4",
      "metadata": {
        "id": "f347a8d4"
      },
      "source": [
        "# 전체 데이터 확인 "
      ]
    },
    {
      "cell_type": "code",
      "execution_count": null,
      "id": "7ff20045",
      "metadata": {
        "id": "7ff20045"
      },
      "outputs": [],
      "source": [
        "# from pandas_profiling import ProfileReport\n",
        "\n",
        "# train.profile_report()"
      ]
    },
    {
      "cell_type": "code",
      "execution_count": null,
      "id": "79b7e43a",
      "metadata": {
        "id": "79b7e43a",
        "outputId": "67cb27bf-4265-4ada-c709-e90be40476c5"
      },
      "outputs": [
        {
          "data": {
            "text/plain": [
              "array([[<AxesSubplot:title={'center':'Book-Rating'}>,\n",
              "        <AxesSubplot:title={'center':'Age'}>],\n",
              "       [<AxesSubplot:title={'center':'Year-Of-Publication'}>,\n",
              "        <AxesSubplot:>]], dtype=object)"
            ]
          },
          "execution_count": 12,
          "metadata": {},
          "output_type": "execute_result"
        },
        {
          "data": {
            "image/png": "[encoded data removed]",
            "text/plain": [
              "<Figure size 1200x600 with 4 Axes>"
            ]
          },
          "metadata": {},
          "output_type": "display_data"
        }
      ],
      "source": [
        "train.hist(bins = 100, figsize = (12,6))"
      ]
    },
    {
      "cell_type": "markdown",
      "id": "f849b209",
      "metadata": {
        "id": "f849b209"
      },
      "source": [
        "컬럼간의 뚜렷한 상관관계가 없음"
      ]
    },
    {
      "cell_type": "code",
      "execution_count": null,
      "id": "05a5d598",
      "metadata": {
        "id": "05a5d598",
        "outputId": "ce4ef354-1c2a-4a33-a4d9-e5c24cc55e0c"
      },
      "outputs": [
        {
          "data": {
            "image/png": "[encoded data removed]",
            "text/plain": [
              "<Figure size 1000x1000 with 2 Axes>"
            ]
          },
          "metadata": {},
          "output_type": "display_data"
        }
      ],
      "source": [
        "plt.figure(figsize=(10,10))\n",
        "sns.heatmap(train.corr(), annot=True, annot_kws={'size': 20}) #annot 크기 조정\n",
        "plt.tick_params(labelsize=25)"
      ]
    },
    {
      "cell_type": "code",
      "execution_count": null,
      "id": "f984d5bd",
      "metadata": {
        "id": "f984d5bd"
      },
      "outputs": [],
      "source": [
        "train['Age'] = train['Age'].astype(int)\n",
        "train['Year-Of-Publication'] = train['Year-Of-Publication'].astype(int)"
      ]
    },
    {
      "cell_type": "markdown",
      "id": "80beb645",
      "metadata": {
        "id": "80beb645"
      },
      "source": [
        "'Age', 'Year-Of-Publication', 'BookRating'을 박스플롯으로 시각화하여 이상치확인  \n",
        "    - Age데이터에 불가능한 값이 있음을 확인  \n",
        "    - Year-Of-Publication에도 오류로 보이는 값이 들어있음을 확인  \n",
        "    "
      ]
    },
    {
      "cell_type": "code",
      "execution_count": null,
      "id": "f1a42345",
      "metadata": {
        "id": "f1a42345",
        "outputId": "34e59a88-386e-4908-b8c3-e4985bad5c45"
      },
      "outputs": [
        {
          "data": {
            "text/plain": [
              "<AxesSubplot:xlabel='Age'>"
            ]
          },
          "execution_count": 15,
          "metadata": {},
          "output_type": "execute_result"
        },
        {
          "data": {
            "image/png": "[encoded data removed]",
            "text/plain": [
              "<Figure size 640x480 with 1 Axes>"
            ]
          },
          "metadata": {},
          "output_type": "display_data"
        }
      ],
      "source": [
        "sns.boxplot(x='Age', data=train)"
      ]
    },
    {
      "cell_type": "code",
      "execution_count": null,
      "id": "05bcb589",
      "metadata": {
        "scrolled": true,
        "id": "05bcb589",
        "outputId": "2fb8b700-df76-4d09-a943-fa5a49c6b391"
      },
      "outputs": [
        {
          "data": {
            "text/plain": [
              "<AxesSubplot:xlabel='Year-Of-Publication'>"
            ]
          },
          "execution_count": 16,
          "metadata": {},
          "output_type": "execute_result"
        },
        {
          "data": {
            "image/png": "[encoded data removed]",
            "text/plain": [
              "<Figure size 640x480 with 1 Axes>"
            ]
          },
          "metadata": {},
          "output_type": "display_data"
        }
      ],
      "source": [
        "sns.boxplot(x='Year-Of-Publication', data=train)"
      ]
    },
    {
      "cell_type": "code",
      "execution_count": null,
      "id": "fae15a1b",
      "metadata": {
        "id": "fae15a1b",
        "outputId": "c01a5510-06b7-4c51-fb8d-48151a552612"
      },
      "outputs": [
        {
          "data": {
            "text/plain": [
              "<AxesSubplot:xlabel='Book-Rating'>"
            ]
          },
          "execution_count": 17,
          "metadata": {},
          "output_type": "execute_result"
        },
        {
          "data": {
            "image/png": "[encoded data removed]",
            "text/plain": [
              "<Figure size 640x480 with 1 Axes>"
            ]
          },
          "metadata": {},
          "output_type": "display_data"
        }
      ],
      "source": [
        "sns.boxplot(x='Book-Rating', data=train)"
      ]
    },
    {
      "cell_type": "markdown",
      "id": "2ab97353",
      "metadata": {
        "id": "2ab97353"
      },
      "source": [
        "# USER-ID 컬럼"
      ]
    },
    {
      "cell_type": "code",
      "execution_count": null,
      "id": "f189700e",
      "metadata": {
        "id": "f189700e",
        "outputId": "09d34625-a252-463c-c828-a8fe1a7200ea"
      },
      "outputs": [
        {
          "data": {
            "text/plain": [
              "USER_56601    11143\n",
              "USER_54845     6456\n",
              "USER_52453     5814\n",
              "USER_73501     4290\n",
              "USER_03411     3453\n",
              "              ...  \n",
              "USER_39404        1\n",
              "USER_39405        1\n",
              "USER_39406        1\n",
              "USER_39408        1\n",
              "USER_92100        1\n",
              "Name: User-ID, Length: 83256, dtype: int64"
            ]
          },
          "execution_count": 18,
          "metadata": {},
          "output_type": "execute_result"
        }
      ],
      "source": [
        "train['User-ID'].value_counts()"
      ]
    },
    {
      "cell_type": "markdown",
      "id": "90fc5c14",
      "metadata": {
        "id": "90fc5c14"
      },
      "source": [
        "전체 데이터중 고유 ID값의 갯수 시각화 "
      ]
    },
    {
      "cell_type": "code",
      "execution_count": null,
      "id": "1db283cb",
      "metadata": {
        "id": "1db283cb",
        "outputId": "86da2de9-e299-436f-e21b-0e23f1e68358"
      },
      "outputs": [
        {
          "data": {
            "image/png": "[encoded data removed]",
            "text/plain": [
              "<Figure size 400x300 with 1 Axes>"
            ]
          },
          "metadata": {},
          "output_type": "display_data"
        }
      ],
      "source": [
        "# \"User-ID\" 컬럼과 \"ID\" 컬럼의 갯수 구하기\n",
        "user_count = len(train['User-ID'].unique())\n",
        "id_count = len(train['ID'].unique())\n",
        "\n",
        "# 데이터프레임 만들기\n",
        "count_df = pd.DataFrame({'column': ['User-ID', 'total number of data rows'], 'count': [user_count, id_count]})\n",
        "\n",
        "# 그래프 그리기\n",
        "plt.figure(figsize=(4,3))\n",
        "plt.bar(count_df['column'], count_df['count'])\n",
        "plt.title('Number of unique values in train dataset')\n",
        "plt.xlabel('Column')\n",
        "plt.ylabel('Count')\n",
        "plt.show()"
      ]
    },
    {
      "cell_type": "markdown",
      "id": "983cd415",
      "metadata": {
        "id": "983cd415"
      },
      "source": [
        "평균적으로 USER-ID 별 책 10권에 대한 리뷰 남김 "
      ]
    },
    {
      "cell_type": "code",
      "execution_count": null,
      "id": "10e3482a",
      "metadata": {
        "id": "10e3482a",
        "outputId": "0f89e00f-4fd0-4a58-a92e-7d292842fe2c"
      },
      "outputs": [
        {
          "data": {
            "text/plain": [
              "10.466428845969059"
            ]
          },
          "execution_count": 19,
          "metadata": {},
          "output_type": "execute_result"
        }
      ],
      "source": [
        "train['User-ID'].value_counts().mean()"
      ]
    },
    {
      "cell_type": "markdown",
      "id": "fa179127",
      "metadata": {
        "id": "fa179127"
      },
      "source": [
        "# AGE 컬럼 "
      ]
    },
    {
      "cell_type": "markdown",
      "id": "e2df11b5",
      "metadata": {
        "id": "e2df11b5"
      },
      "source": [
        "데이터셋의 가장 작은 나이가 0, 가장 많은 나이가 244세로 잘못된 데이터입력이 있다는 것을 확인"
      ]
    },
    {
      "cell_type": "code",
      "execution_count": null,
      "id": "9eea9710",
      "metadata": {
        "id": "9eea9710",
        "outputId": "6a57f815-fb92-4f71-d639-ecf301c40141"
      },
      "outputs": [
        {
          "name": "stdout",
          "output_type": "stream",
          "text": [
            "Maximum Age: 244\n",
            "Minimum Age: 0\n"
          ]
        }
      ],
      "source": [
        "max_age = train['Age'].max() # Age 열의 최대값 찾기\n",
        "min_age = train['Age'].min() # Age 열의 최소값 찾기\n",
        "\n",
        "print('Maximum Age:', max_age)\n",
        "print('Minimum Age:', min_age)"
      ]
    },
    {
      "cell_type": "markdown",
      "id": "e9fb41c5",
      "metadata": {
        "id": "e9fb41c5"
      },
      "source": [
        "0세부터 244까지의 분포를 더 자세하게 확인함"
      ]
    },
    {
      "cell_type": "code",
      "execution_count": null,
      "id": "ffd2138f",
      "metadata": {
        "id": "ffd2138f",
        "outputId": "0937c3a7-6120-480d-af47-2b7b64713149"
      },
      "outputs": [
        {
          "name": "stdout",
          "output_type": "stream",
          "text": [
            "[0, 1, 2, 3, 4, 5, 6, 7, 8, 9, 10, 11, 12, 13, 14, 15, 16, 17, 18, 19, 20, 21, 22, 23, 24, 25, 26, 27, 28, 29, 30, 31, 32, 33, 34, 35, 36, 37, 38, 39, 40, 41, 42, 43, 44, 45, 46, 47, 48, 49, 50, 51, 52, 53, 54, 55, 56, 57, 58, 59, 60, 61, 62, 63, 64, 65, 66, 67, 68, 69, 70, 71, 72, 73, 74, 75, 76, 77, 78, 79, 80, 81, 82, 83, 84, 85, 86, 89, 90, 92, 93, 96, 97, 98, 99, 100, 101, 103, 104, 105, 107, 108, 109, 114, 116, 118, 123, 124, 127, 128, 132, 136, 138, 140, 141, 146, 147, 148, 151, 152, 157, 168, 199, 200, 201, 204, 209, 212, 219, 220, 223, 226, 228, 229, 237, 239, 244]\n"
          ]
        }
      ],
      "source": [
        "sorted_age = sorted(train['Age'].unique())\n",
        "age_list = list(sorted_age)\n",
        "print(age_list)"
      ]
    },
    {
      "cell_type": "markdown",
      "id": "0f5a3084",
      "metadata": {
        "id": "0f5a3084"
      },
      "source": [
        "Age 분포 plotly를 통한 시각화"
      ]
    },
    {
      "cell_type": "code",
      "execution_count": null,
      "id": "99dbd165",
      "metadata": {
        "id": "99dbd165",
        "outputId": "fee39e1f-120c-4e27-d19e-c6109abfc13d"
      },
      "outputs": [
        {
          "data": {
            "application/vnd.plotly.v1+json": {
              "config": {
                "plotlyServerURL": "https://plot.ly"
              },
              "data": [
                {
                  "hoverinfo": "text",
                  "hovertext": [
                    "Age: 35.0<br>Count: 251455",
                    "Age: 33.0<br>Count: 27349",
                    "Age: 29.0<br>Count: 25456",
                    "Age: 30.0<br>Count: 23085",
                    "Age: 31.0<br>Count: 22515",
                    "Age: 32.0<br>Count: 22261",
                    "Age: 34.0<br>Count: 22162",
                    "Age: 28.0<br>Count: 21990",
                    "Age: 36.0<br>Count: 21713",
                    "Age: 44.0<br>Count: 19164",
                    "Age: 27.0<br>Count: 19013",
                    "Age: 38.0<br>Count: 18590",
                    "Age: 25.0<br>Count: 18536",
                    "Age: 26.0<br>Count: 18476",
                    "Age: 37.0<br>Count: 18106",
                    "Age: 43.0<br>Count: 17733",
                    "Age: 23.0<br>Count: 15609",
                    "Age: 24.0<br>Count: 15326",
                    "Age: 47.0<br>Count: 15010",
                    "Age: 46.0<br>Count: 15010",
                    "Age: 39.0<br>Count: 14860",
                    "Age: 52.0<br>Count: 13750",
                    "Age: 41.0<br>Count: 13591",
                    "Age: 40.0<br>Count: 12383",
                    "Age: 51.0<br>Count: 12013",
                    "Age: 49.0<br>Count: 11728",
                    "Age: 45.0<br>Count: 10547",
                    "Age: 22.0<br>Count: 9885",
                    "Age: 42.0<br>Count: 9194",
                    "Age: 21.0<br>Count: 8866",
                    "Age: 58.0<br>Count: 8297",
                    "Age: 62.0<br>Count: 8110",
                    "Age: 50.0<br>Count: 8023",
                    "Age: 54.0<br>Count: 8000",
                    "Age: 56.0<br>Count: 7415",
                    "Age: 57.0<br>Count: 7372",
                    "Age: 18.0<br>Count: 7160",
                    "Age: 48.0<br>Count: 6387",
                    "Age: 53.0<br>Count: 5754",
                    "Age: 20.0<br>Count: 5515",
                    "Age: 55.0<br>Count: 4469",
                    "Age: 17.0<br>Count: 4453",
                    "Age: 19.0<br>Count: 4274",
                    "Age: 61.0<br>Count: 3820",
                    "Age: 80.0<br>Count: 3514",
                    "Age: 15.0<br>Count: 3284",
                    "Age: 60.0<br>Count: 2921",
                    "Age: 16.0<br>Count: 2791",
                    "Age: 65.0<br>Count: 2661",
                    "Age: 14.0<br>Count: 2661",
                    "Age: 67.0<br>Count: 2595",
                    "Age: 63.0<br>Count: 2577",
                    "Age: 59.0<br>Count: 2447",
                    "Age: 9.0<br>Count: 1307",
                    "Age: 13.0<br>Count: 1085",
                    "Age: 66.0<br>Count: 1056",
                    "Age: 69.0<br>Count: 976",
                    "Age: 64.0<br>Count: 941",
                    "Age: 71.0<br>Count: 698",
                    "Age: 68.0<br>Count: 591",
                    "Age: 12.0<br>Count: 586",
                    "Age: 8.0<br>Count: 448",
                    "Age: 70.0<br>Count: 434",
                    "Age: 11.0<br>Count: 418",
                    "Age: 72.0<br>Count: 415",
                    "Age: 1.0<br>Count: 361",
                    "Age: 2.0<br>Count: 278",
                    "Age: 4.0<br>Count: 250",
                    "Age: 73.0<br>Count: 248",
                    "Age: 76.0<br>Count: 214",
                    "Age: 74.0<br>Count: 184",
                    "Age: 75.0<br>Count: 178",
                    "Age: 10.0<br>Count: 168",
                    "Age: 77.0<br>Count: 133",
                    "Age: 3.0<br>Count: 128",
                    "Age: 7.0<br>Count: 108",
                    "Age: 78.0<br>Count: 104",
                    "Age: 5.0<br>Count: 101",
                    "Age: 79.0<br>Count: 95",
                    "Age: 6.0<br>Count: 12"
                  ],
                  "type": "bar",
                  "x": [
                    35,
                    33,
                    29,
                    30,
                    31,
                    32,
                    34,
                    28,
                    36,
                    44,
                    27,
                    38,
                    25,
                    26,
                    37,
                    43,
                    23,
                    24,
                    47,
                    46,
                    39,
                    52,
                    41,
                    40,
                    51,
                    49,
                    45,
                    22,
                    42,
                    21,
                    58,
                    62,
                    50,
                    54,
                    56,
                    57,
                    18,
                    48,
                    53,
                    20,
                    55,
                    17,
                    19,
                    61,
                    80,
                    15,
                    60,
                    16,
                    65,
                    14,
                    67,
                    63,
                    59,
                    9,
                    13,
                    66,
                    69,
                    64,
                    71,
                    68,
                    12,
                    8,
                    70,
                    11,
                    72,
                    1,
                    2,
                    4,
                    73,
                    76,
                    74,
                    75,
                    10,
                    77,
                    3,
                    7,
                    78,
                    5,
                    79,
                    6
                  ],
                  "y": [
                    251455,
                    27349,
                    25456,
                    23085,
                    22515,
                    22261,
                    22162,
                    21990,
                    21713,
                    19164,
                    19013,
                    18590,
                    18536,
                    18476,
                    18106,
                    17733,
                    15609,
                    15326,
                    15010,
                    15010,
                    14860,
                    13750,
                    13591,
                    12383,
                    12013,
                    11728,
                    10547,
                    9885,
                    9194,
                    8866,
                    8297,
                    8110,
                    8023,
                    8000,
                    7415,
                    7372,
                    7160,
                    6387,
                    5754,
                    5515,
                    4469,
                    4453,
                    4274,
                    3820,
                    3514,
                    3284,
                    2921,
                    2791,
                    2661,
                    2661,
                    2595,
                    2577,
                    2447,
                    1307,
                    1085,
                    1056,
                    976,
                    941,
                    698,
                    591,
                    586,
                    448,
                    434,
                    418,
                    415,
                    361,
                    278,
                    250,
                    248,
                    214,
                    184,
                    178,
                    168,
                    133,
                    128,
                    108,
                    104,
                    101,
                    95,
                    12
                  ]
                }
              ],
              "layout": {
                "template": {
                  "data": {
                    "bar": [
                      {
                        "error_x": {
                          "color": "#2a3f5f"
                        },
                        "error_y": {
                          "color": "#2a3f5f"
                        },
                        "marker": {
                          "line": {
                            "color": "#E5ECF6",
                            "width": 0.5
                          }
                        },
                        "type": "bar"
                      }
                    ],
                    "barpolar": [
                      {
                        "marker": {
                          "line": {
                            "color": "#E5ECF6",
                            "width": 0.5
                          }
                        },
                        "type": "barpolar"
                      }
                    ],
                    "carpet": [
                      {
                        "aaxis": {
                          "endlinecolor": "#2a3f5f",
                          "gridcolor": "white",
                          "linecolor": "white",
                          "minorgridcolor": "white",
                          "startlinecolor": "#2a3f5f"
                        },
                        "baxis": {
                          "endlinecolor": "#2a3f5f",
                          "gridcolor": "white",
                          "linecolor": "white",
                          "minorgridcolor": "white",
                          "startlinecolor": "#2a3f5f"
                        },
                        "type": "carpet"
                      }
                    ],
                    "choropleth": [
                      {
                        "colorbar": {
                          "outlinewidth": 0,
                          "ticks": ""
                        },
                        "type": "choropleth"
                      }
                    ],
                    "contour": [
                      {
                        "colorbar": {
                          "outlinewidth": 0,
                          "ticks": ""
                        },
                        "colorscale": [
                          [
                            0,
                            "#0d0887"
                          ],
                          [
                            0.1111111111111111,
                            "#46039f"
                          ],
                          [
                            0.2222222222222222,
                            "#7201a8"
                          ],
                          [
                            0.3333333333333333,
                            "#9c179e"
                          ],
                          [
                            0.4444444444444444,
                            "#bd3786"
                          ],
                          [
                            0.5555555555555556,
                            "#d8576b"
                          ],
                          [
                            0.6666666666666666,
                            "#ed7953"
                          ],
                          [
                            0.7777777777777778,
                            "#fb9f3a"
                          ],
                          [
                            0.8888888888888888,
                            "#fdca26"
                          ],
                          [
                            1,
                            "#f0f921"
                          ]
                        ],
                        "type": "contour"
                      }
                    ],
                    "contourcarpet": [
                      {
                        "colorbar": {
                          "outlinewidth": 0,
                          "ticks": ""
                        },
                        "type": "contourcarpet"
                      }
                    ],
                    "heatmap": [
                      {
                        "colorbar": {
                          "outlinewidth": 0,
                          "ticks": ""
                        },
                        "colorscale": [
                          [
                            0,
                            "#0d0887"
                          ],
                          [
                            0.1111111111111111,
                            "#46039f"
                          ],
                          [
                            0.2222222222222222,
                            "#7201a8"
                          ],
                          [
                            0.3333333333333333,
                            "#9c179e"
                          ],
                          [
                            0.4444444444444444,
                            "#bd3786"
                          ],
                          [
                            0.5555555555555556,
                            "#d8576b"
                          ],
                          [
                            0.6666666666666666,
                            "#ed7953"
                          ],
                          [
                            0.7777777777777778,
                            "#fb9f3a"
                          ],
                          [
                            0.8888888888888888,
                            "#fdca26"
                          ],
                          [
                            1,
                            "#f0f921"
                          ]
                        ],
                        "type": "heatmap"
                      }
                    ],
                    "heatmapgl": [
                      {
                        "colorbar": {
                          "outlinewidth": 0,
                          "ticks": ""
                        },
                        "colorscale": [
                          [
                            0,
                            "#0d0887"
                          ],
                          [
                            0.1111111111111111,
                            "#46039f"
                          ],
                          [
                            0.2222222222222222,
                            "#7201a8"
                          ],
                          [
                            0.3333333333333333,
                            "#9c179e"
                          ],
                          [
                            0.4444444444444444,
                            "#bd3786"
                          ],
                          [
                            0.5555555555555556,
                            "#d8576b"
                          ],
                          [
                            0.6666666666666666,
                            "#ed7953"
                          ],
                          [
                            0.7777777777777778,
                            "#fb9f3a"
                          ],
                          [
                            0.8888888888888888,
                            "#fdca26"
                          ],
                          [
                            1,
                            "#f0f921"
                          ]
                        ],
                        "type": "heatmapgl"
                      }
                    ],
                    "histogram": [
                      {
                        "marker": {
                          "colorbar": {
                            "outlinewidth": 0,
                            "ticks": ""
                          }
                        },
                        "type": "histogram"
                      }
                    ],
                    "histogram2d": [
                      {
                        "colorbar": {
                          "outlinewidth": 0,
                          "ticks": ""
                        },
                        "colorscale": [
                          [
                            0,
                            "#0d0887"
                          ],
                          [
                            0.1111111111111111,
                            "#46039f"
                          ],
                          [
                            0.2222222222222222,
                            "#7201a8"
                          ],
                          [
                            0.3333333333333333,
                            "#9c179e"
                          ],
                          [
                            0.4444444444444444,
                            "#bd3786"
                          ],
                          [
                            0.5555555555555556,
                            "#d8576b"
                          ],
                          [
                            0.6666666666666666,
                            "#ed7953"
                          ],
                          [
                            0.7777777777777778,
                            "#fb9f3a"
                          ],
                          [
                            0.8888888888888888,
                            "#fdca26"
                          ],
                          [
                            1,
                            "#f0f921"
                          ]
                        ],
                        "type": "histogram2d"
                      }
                    ],
                    "histogram2dcontour": [
                      {
                        "colorbar": {
                          "outlinewidth": 0,
                          "ticks": ""
                        },
                        "colorscale": [
                          [
                            0,
                            "#0d0887"
                          ],
                          [
                            0.1111111111111111,
                            "#46039f"
                          ],
                          [
                            0.2222222222222222,
                            "#7201a8"
                          ],
                          [
                            0.3333333333333333,
                            "#9c179e"
                          ],
                          [
                            0.4444444444444444,
                            "#bd3786"
                          ],
                          [
                            0.5555555555555556,
                            "#d8576b"
                          ],
                          [
                            0.6666666666666666,
                            "#ed7953"
                          ],
                          [
                            0.7777777777777778,
                            "#fb9f3a"
                          ],
                          [
                            0.8888888888888888,
                            "#fdca26"
                          ],
                          [
                            1,
                            "#f0f921"
                          ]
                        ],
                        "type": "histogram2dcontour"
                      }
                    ],
                    "mesh3d": [
                      {
                        "colorbar": {
                          "outlinewidth": 0,
                          "ticks": ""
                        },
                        "type": "mesh3d"
                      }
                    ],
                    "parcoords": [
                      {
                        "line": {
                          "colorbar": {
                            "outlinewidth": 0,
                            "ticks": ""
                          }
                        },
                        "type": "parcoords"
                      }
                    ],
                    "pie": [
                      {
                        "automargin": true,
                        "type": "pie"
                      }
                    ],
                    "scatter": [
                      {
                        "marker": {
                          "colorbar": {
                            "outlinewidth": 0,
                            "ticks": ""
                          }
                        },
                        "type": "scatter"
                      }
                    ],
                    "scatter3d": [
                      {
                        "line": {
                          "colorbar": {
                            "outlinewidth": 0,
                            "ticks": ""
                          }
                        },
                        "marker": {
                          "colorbar": {
                            "outlinewidth": 0,
                            "ticks": ""
                          }
                        },
                        "type": "scatter3d"
                      }
                    ],
                    "scattercarpet": [
                      {
                        "marker": {
                          "colorbar": {
                            "outlinewidth": 0,
                            "ticks": ""
                          }
                        },
                        "type": "scattercarpet"
                      }
                    ],
                    "scattergeo": [
                      {
                        "marker": {
                          "colorbar": {
                            "outlinewidth": 0,
                            "ticks": ""
                          }
                        },
                        "type": "scattergeo"
                      }
                    ],
                    "scattergl": [
                      {
                        "marker": {
                          "colorbar": {
                            "outlinewidth": 0,
                            "ticks": ""
                          }
                        },
                        "type": "scattergl"
                      }
                    ],
                    "scattermapbox": [
                      {
                        "marker": {
                          "colorbar": {
                            "outlinewidth": 0,
                            "ticks": ""
                          }
                        },
                        "type": "scattermapbox"
                      }
                    ],
                    "scatterpolar": [
                      {
                        "marker": {
                          "colorbar": {
                            "outlinewidth": 0,
                            "ticks": ""
                          }
                        },
                        "type": "scatterpolar"
                      }
                    ],
                    "scatterpolargl": [
                      {
                        "marker": {
                          "colorbar": {
                            "outlinewidth": 0,
                            "ticks": ""
                          }
                        },
                        "type": "scatterpolargl"
                      }
                    ],
                    "scatterternary": [
                      {
                        "marker": {
                          "colorbar": {
                            "outlinewidth": 0,
                            "ticks": ""
                          }
                        },
                        "type": "scatterternary"
                      }
                    ],
                    "surface": [
                      {
                        "colorbar": {
                          "outlinewidth": 0,
                          "ticks": ""
                        },
                        "colorscale": [
                          [
                            0,
                            "#0d0887"
                          ],
                          [
                            0.1111111111111111,
                            "#46039f"
                          ],
                          [
                            0.2222222222222222,
                            "#7201a8"
                          ],
                          [
                            0.3333333333333333,
                            "#9c179e"
                          ],
                          [
                            0.4444444444444444,
                            "#bd3786"
                          ],
                          [
                            0.5555555555555556,
                            "#d8576b"
                          ],
                          [
                            0.6666666666666666,
                            "#ed7953"
                          ],
                          [
                            0.7777777777777778,
                            "#fb9f3a"
                          ],
                          [
                            0.8888888888888888,
                            "#fdca26"
                          ],
                          [
                            1,
                            "#f0f921"
                          ]
                        ],
                        "type": "surface"
                      }
                    ],
                    "table": [
                      {
                        "cells": {
                          "fill": {
                            "color": "#EBF0F8"
                          },
                          "line": {
                            "color": "white"
                          }
                        },
                        "header": {
                          "fill": {
                            "color": "#C8D4E3"
                          },
                          "line": {
                            "color": "white"
                          }
                        },
                        "type": "table"
                      }
                    ]
                  },
                  "layout": {
                    "annotationdefaults": {
                      "arrowcolor": "#2a3f5f",
                      "arrowhead": 0,
                      "arrowwidth": 1
                    },
                    "coloraxis": {
                      "colorbar": {
                        "outlinewidth": 0,
                        "ticks": ""
                      }
                    },
                    "colorscale": {
                      "diverging": [
                        [
                          0,
                          "#8e0152"
                        ],
                        [
                          0.1,
                          "#c51b7d"
                        ],
                        [
                          0.2,
                          "#de77ae"
                        ],
                        [
                          0.3,
                          "#f1b6da"
                        ],
                        [
                          0.4,
                          "#fde0ef"
                        ],
                        [
                          0.5,
                          "#f7f7f7"
                        ],
                        [
                          0.6,
                          "#e6f5d0"
                        ],
                        [
                          0.7,
                          "#b8e186"
                        ],
                        [
                          0.8,
                          "#7fbc41"
                        ],
                        [
                          0.9,
                          "#4d9221"
                        ],
                        [
                          1,
                          "#276419"
                        ]
                      ],
                      "sequential": [
                        [
                          0,
                          "#0d0887"
                        ],
                        [
                          0.1111111111111111,
                          "#46039f"
                        ],
                        [
                          0.2222222222222222,
                          "#7201a8"
                        ],
                        [
                          0.3333333333333333,
                          "#9c179e"
                        ],
                        [
                          0.4444444444444444,
                          "#bd3786"
                        ],
                        [
                          0.5555555555555556,
                          "#d8576b"
                        ],
                        [
                          0.6666666666666666,
                          "#ed7953"
                        ],
                        [
                          0.7777777777777778,
                          "#fb9f3a"
                        ],
                        [
                          0.8888888888888888,
                          "#fdca26"
                        ],
                        [
                          1,
                          "#f0f921"
                        ]
                      ],
                      "sequentialminus": [
                        [
                          0,
                          "#0d0887"
                        ],
                        [
                          0.1111111111111111,
                          "#46039f"
                        ],
                        [
                          0.2222222222222222,
                          "#7201a8"
                        ],
                        [
                          0.3333333333333333,
                          "#9c179e"
                        ],
                        [
                          0.4444444444444444,
                          "#bd3786"
                        ],
                        [
                          0.5555555555555556,
                          "#d8576b"
                        ],
                        [
                          0.6666666666666666,
                          "#ed7953"
                        ],
                        [
                          0.7777777777777778,
                          "#fb9f3a"
                        ],
                        [
                          0.8888888888888888,
                          "#fdca26"
                        ],
                        [
                          1,
                          "#f0f921"
                        ]
                      ]
                    },
                    "colorway": [
                      "#636efa",
                      "#EF553B",
                      "#00cc96",
                      "#ab63fa",
                      "#FFA15A",
                      "#19d3f3",
                      "#FF6692",
                      "#B6E880",
                      "#FF97FF",
                      "#FECB52"
                    ],
                    "font": {
                      "color": "#2a3f5f"
                    },
                    "geo": {
                      "bgcolor": "white",
                      "lakecolor": "white",
                      "landcolor": "#E5ECF6",
                      "showlakes": true,
                      "showland": true,
                      "subunitcolor": "white"
                    },
                    "hoverlabel": {
                      "align": "left"
                    },
                    "hovermode": "closest",
                    "mapbox": {
                      "style": "light"
                    },
                    "paper_bgcolor": "white",
                    "plot_bgcolor": "#E5ECF6",
                    "polar": {
                      "angularaxis": {
                        "gridcolor": "white",
                        "linecolor": "white",
                        "ticks": ""
                      },
                      "bgcolor": "#E5ECF6",
                      "radialaxis": {
                        "gridcolor": "white",
                        "linecolor": "white",
                        "ticks": ""
                      }
                    },
                    "scene": {
                      "xaxis": {
                        "backgroundcolor": "#E5ECF6",
                        "gridcolor": "white",
                        "gridwidth": 2,
                        "linecolor": "white",
                        "showbackground": true,
                        "ticks": "",
                        "zerolinecolor": "white"
                      },
                      "yaxis": {
                        "backgroundcolor": "#E5ECF6",
                        "gridcolor": "white",
                        "gridwidth": 2,
                        "linecolor": "white",
                        "showbackground": true,
                        "ticks": "",
                        "zerolinecolor": "white"
                      },
                      "zaxis": {
                        "backgroundcolor": "#E5ECF6",
                        "gridcolor": "white",
                        "gridwidth": 2,
                        "linecolor": "white",
                        "showbackground": true,
                        "ticks": "",
                        "zerolinecolor": "white"
                      }
                    },
                    "shapedefaults": {
                      "line": {
                        "color": "#2a3f5f"
                      }
                    },
                    "ternary": {
                      "aaxis": {
                        "gridcolor": "white",
                        "linecolor": "white",
                        "ticks": ""
                      },
                      "baxis": {
                        "gridcolor": "white",
                        "linecolor": "white",
                        "ticks": ""
                      },
                      "bgcolor": "#E5ECF6",
                      "caxis": {
                        "gridcolor": "white",
                        "linecolor": "white",
                        "ticks": ""
                      }
                    },
                    "title": {
                      "x": 0.05
                    },
                    "xaxis": {
                      "automargin": true,
                      "gridcolor": "white",
                      "linecolor": "white",
                      "ticks": "",
                      "title": {
                        "standoff": 15
                      },
                      "zerolinecolor": "white",
                      "zerolinewidth": 2
                    },
                    "yaxis": {
                      "automargin": true,
                      "gridcolor": "white",
                      "linecolor": "white",
                      "ticks": "",
                      "title": {
                        "standoff": 15
                      },
                      "zerolinecolor": "white",
                      "zerolinewidth": 2
                    }
                  }
                },
                "title": {
                  "text": "Age distribution"
                },
                "xaxis": {
                  "title": {
                    "text": "Age"
                  }
                },
                "yaxis": {
                  "title": {
                    "text": "Count"
                  }
                }
              }
            },
            "text/html": [
              "<div>\n",
              "        \n",
              "        \n",
              "            <div id=\"4156d21e-ed3f-4915-8b6a-0ad86aa75e2d\" class=\"plotly-graph-div\" style=\"height:525px; width:100%;\"></div>\n",
              "            <script type=\"text/javascript\">\n",
              "                require([\"plotly\"], function(Plotly) {\n",
              "                    window.PLOTLYENV=window.PLOTLYENV || {};\n",
              "                    \n",
              "                if (document.getElementById(\"4156d21e-ed3f-4915-8b6a-0ad86aa75e2d\")) {\n",
              "                    Plotly.newPlot(\n",
              "                        '4156d21e-ed3f-4915-8b6a-0ad86aa75e2d',\n",
              "                        [{\"hoverinfo\": \"text\", \"hovertext\": [\"Age: 35.0<br>Count: 251455\", \"Age: 33.0<br>Count: 27349\", \"Age: 29.0<br>Count: 25456\", \"Age: 30.0<br>Count: 23085\", \"Age: 31.0<br>Count: 22515\", \"Age: 32.0<br>Count: 22261\", \"Age: 34.0<br>Count: 22162\", \"Age: 28.0<br>Count: 21990\", \"Age: 36.0<br>Count: 21713\", \"Age: 44.0<br>Count: 19164\", \"Age: 27.0<br>Count: 19013\", \"Age: 38.0<br>Count: 18590\", \"Age: 25.0<br>Count: 18536\", \"Age: 26.0<br>Count: 18476\", \"Age: 37.0<br>Count: 18106\", \"Age: 43.0<br>Count: 17733\", \"Age: 23.0<br>Count: 15609\", \"Age: 24.0<br>Count: 15326\", \"Age: 47.0<br>Count: 15010\", \"Age: 46.0<br>Count: 15010\", \"Age: 39.0<br>Count: 14860\", \"Age: 52.0<br>Count: 13750\", \"Age: 41.0<br>Count: 13591\", \"Age: 40.0<br>Count: 12383\", \"Age: 51.0<br>Count: 12013\", \"Age: 49.0<br>Count: 11728\", \"Age: 45.0<br>Count: 10547\", \"Age: 22.0<br>Count: 9885\", \"Age: 42.0<br>Count: 9194\", \"Age: 21.0<br>Count: 8866\", \"Age: 58.0<br>Count: 8297\", \"Age: 62.0<br>Count: 8110\", \"Age: 50.0<br>Count: 8023\", \"Age: 54.0<br>Count: 8000\", \"Age: 56.0<br>Count: 7415\", \"Age: 57.0<br>Count: 7372\", \"Age: 18.0<br>Count: 7160\", \"Age: 48.0<br>Count: 6387\", \"Age: 53.0<br>Count: 5754\", \"Age: 20.0<br>Count: 5515\", \"Age: 55.0<br>Count: 4469\", \"Age: 17.0<br>Count: 4453\", \"Age: 19.0<br>Count: 4274\", \"Age: 61.0<br>Count: 3820\", \"Age: 80.0<br>Count: 3514\", \"Age: 15.0<br>Count: 3284\", \"Age: 60.0<br>Count: 2921\", \"Age: 16.0<br>Count: 2791\", \"Age: 65.0<br>Count: 2661\", \"Age: 14.0<br>Count: 2661\", \"Age: 67.0<br>Count: 2595\", \"Age: 63.0<br>Count: 2577\", \"Age: 59.0<br>Count: 2447\", \"Age: 9.0<br>Count: 1307\", \"Age: 13.0<br>Count: 1085\", \"Age: 66.0<br>Count: 1056\", \"Age: 69.0<br>Count: 976\", \"Age: 64.0<br>Count: 941\", \"Age: 71.0<br>Count: 698\", \"Age: 68.0<br>Count: 591\", \"Age: 12.0<br>Count: 586\", \"Age: 8.0<br>Count: 448\", \"Age: 70.0<br>Count: 434\", \"Age: 11.0<br>Count: 418\", \"Age: 72.0<br>Count: 415\", \"Age: 1.0<br>Count: 361\", \"Age: 2.0<br>Count: 278\", \"Age: 4.0<br>Count: 250\", \"Age: 73.0<br>Count: 248\", \"Age: 76.0<br>Count: 214\", \"Age: 74.0<br>Count: 184\", \"Age: 75.0<br>Count: 178\", \"Age: 10.0<br>Count: 168\", \"Age: 77.0<br>Count: 133\", \"Age: 3.0<br>Count: 128\", \"Age: 7.0<br>Count: 108\", \"Age: 78.0<br>Count: 104\", \"Age: 5.0<br>Count: 101\", \"Age: 79.0<br>Count: 95\", \"Age: 6.0<br>Count: 12\"], \"type\": \"bar\", \"x\": [35.0, 33.0, 29.0, 30.0, 31.0, 32.0, 34.0, 28.0, 36.0, 44.0, 27.0, 38.0, 25.0, 26.0, 37.0, 43.0, 23.0, 24.0, 47.0, 46.0, 39.0, 52.0, 41.0, 40.0, 51.0, 49.0, 45.0, 22.0, 42.0, 21.0, 58.0, 62.0, 50.0, 54.0, 56.0, 57.0, 18.0, 48.0, 53.0, 20.0, 55.0, 17.0, 19.0, 61.0, 80.0, 15.0, 60.0, 16.0, 65.0, 14.0, 67.0, 63.0, 59.0, 9.0, 13.0, 66.0, 69.0, 64.0, 71.0, 68.0, 12.0, 8.0, 70.0, 11.0, 72.0, 1.0, 2.0, 4.0, 73.0, 76.0, 74.0, 75.0, 10.0, 77.0, 3.0, 7.0, 78.0, 5.0, 79.0, 6.0], \"y\": [251455, 27349, 25456, 23085, 22515, 22261, 22162, 21990, 21713, 19164, 19013, 18590, 18536, 18476, 18106, 17733, 15609, 15326, 15010, 15010, 14860, 13750, 13591, 12383, 12013, 11728, 10547, 9885, 9194, 8866, 8297, 8110, 8023, 8000, 7415, 7372, 7160, 6387, 5754, 5515, 4469, 4453, 4274, 3820, 3514, 3284, 2921, 2791, 2661, 2661, 2595, 2577, 2447, 1307, 1085, 1056, 976, 941, 698, 591, 586, 448, 434, 418, 415, 361, 278, 250, 248, 214, 184, 178, 168, 133, 128, 108, 104, 101, 95, 12]}],\n",
              "                        {\"template\": {\"data\": {\"bar\": [{\"error_x\": {\"color\": \"#2a3f5f\"}, \"error_y\": {\"color\": \"#2a3f5f\"}, \"marker\": {\"line\": {\"color\": \"#E5ECF6\", \"width\": 0.5}}, \"type\": \"bar\"}], \"barpolar\": [{\"marker\": {\"line\": {\"color\": \"#E5ECF6\", \"width\": 0.5}}, \"type\": \"barpolar\"}], \"carpet\": [{\"aaxis\": {\"endlinecolor\": \"#2a3f5f\", \"gridcolor\": \"white\", \"linecolor\": \"white\", \"minorgridcolor\": \"white\", \"startlinecolor\": \"#2a3f5f\"}, \"baxis\": {\"endlinecolor\": \"#2a3f5f\", \"gridcolor\": \"white\", \"linecolor\": \"white\", \"minorgridcolor\": \"white\", \"startlinecolor\": \"#2a3f5f\"}, \"type\": \"carpet\"}], \"choropleth\": [{\"colorbar\": {\"outlinewidth\": 0, \"ticks\": \"\"}, \"type\": \"choropleth\"}], \"contour\": [{\"colorbar\": {\"outlinewidth\": 0, \"ticks\": \"\"}, \"colorscale\": [[0.0, \"#0d0887\"], [0.1111111111111111, \"#46039f\"], [0.2222222222222222, \"#7201a8\"], [0.3333333333333333, \"#9c179e\"], [0.4444444444444444, \"#bd3786\"], [0.5555555555555556, \"#d8576b\"], [0.6666666666666666, \"#ed7953\"], [0.7777777777777778, \"#fb9f3a\"], [0.8888888888888888, \"#fdca26\"], [1.0, \"#f0f921\"]], \"type\": \"contour\"}], \"contourcarpet\": [{\"colorbar\": {\"outlinewidth\": 0, \"ticks\": \"\"}, \"type\": \"contourcarpet\"}], \"heatmap\": [{\"colorbar\": {\"outlinewidth\": 0, \"ticks\": \"\"}, \"colorscale\": [[0.0, \"#0d0887\"], [0.1111111111111111, \"#46039f\"], [0.2222222222222222, \"#7201a8\"], [0.3333333333333333, \"#9c179e\"], [0.4444444444444444, \"#bd3786\"], [0.5555555555555556, \"#d8576b\"], [0.6666666666666666, \"#ed7953\"], [0.7777777777777778, \"#fb9f3a\"], [0.8888888888888888, \"#fdca26\"], [1.0, \"#f0f921\"]], \"type\": \"heatmap\"}], \"heatmapgl\": [{\"colorbar\": {\"outlinewidth\": 0, \"ticks\": \"\"}, \"colorscale\": [[0.0, \"#0d0887\"], [0.1111111111111111, \"#46039f\"], [0.2222222222222222, \"#7201a8\"], [0.3333333333333333, \"#9c179e\"], [0.4444444444444444, \"#bd3786\"], [0.5555555555555556, \"#d8576b\"], [0.6666666666666666, \"#ed7953\"], [0.7777777777777778, \"#fb9f3a\"], [0.8888888888888888, \"#fdca26\"], [1.0, \"#f0f921\"]], \"type\": \"heatmapgl\"}], \"histogram\": [{\"marker\": {\"colorbar\": {\"outlinewidth\": 0, \"ticks\": \"\"}}, \"type\": \"histogram\"}], \"histogram2d\": [{\"colorbar\": {\"outlinewidth\": 0, \"ticks\": \"\"}, \"colorscale\": [[0.0, \"#0d0887\"], [0.1111111111111111, \"#46039f\"], [0.2222222222222222, \"#7201a8\"], [0.3333333333333333, \"#9c179e\"], [0.4444444444444444, \"#bd3786\"], [0.5555555555555556, \"#d8576b\"], [0.6666666666666666, \"#ed7953\"], [0.7777777777777778, \"#fb9f3a\"], [0.8888888888888888, \"#fdca26\"], [1.0, \"#f0f921\"]], \"type\": \"histogram2d\"}], \"histogram2dcontour\": [{\"colorbar\": {\"outlinewidth\": 0, \"ticks\": \"\"}, \"colorscale\": [[0.0, \"#0d0887\"], [0.1111111111111111, \"#46039f\"], [0.2222222222222222, \"#7201a8\"], [0.3333333333333333, \"#9c179e\"], [0.4444444444444444, \"#bd3786\"], [0.5555555555555556, \"#d8576b\"], [0.6666666666666666, \"#ed7953\"], [0.7777777777777778, \"#fb9f3a\"], [0.8888888888888888, \"#fdca26\"], [1.0, \"#f0f921\"]], \"type\": \"histogram2dcontour\"}], \"mesh3d\": [{\"colorbar\": {\"outlinewidth\": 0, \"ticks\": \"\"}, \"type\": \"mesh3d\"}], \"parcoords\": [{\"line\": {\"colorbar\": {\"outlinewidth\": 0, \"ticks\": \"\"}}, \"type\": \"parcoords\"}], \"pie\": [{\"automargin\": true, \"type\": \"pie\"}], \"scatter\": [{\"marker\": {\"colorbar\": {\"outlinewidth\": 0, \"ticks\": \"\"}}, \"type\": \"scatter\"}], \"scatter3d\": [{\"line\": {\"colorbar\": {\"outlinewidth\": 0, \"ticks\": \"\"}}, \"marker\": {\"colorbar\": {\"outlinewidth\": 0, \"ticks\": \"\"}}, \"type\": \"scatter3d\"}], \"scattercarpet\": [{\"marker\": {\"colorbar\": {\"outlinewidth\": 0, \"ticks\": \"\"}}, \"type\": \"scattercarpet\"}], \"scattergeo\": [{\"marker\": {\"colorbar\": {\"outlinewidth\": 0, \"ticks\": \"\"}}, \"type\": \"scattergeo\"}], \"scattergl\": [{\"marker\": {\"colorbar\": {\"outlinewidth\": 0, \"ticks\": \"\"}}, \"type\": \"scattergl\"}], \"scattermapbox\": [{\"marker\": {\"colorbar\": {\"outlinewidth\": 0, \"ticks\": \"\"}}, \"type\": \"scattermapbox\"}], \"scatterpolar\": [{\"marker\": {\"colorbar\": {\"outlinewidth\": 0, \"ticks\": \"\"}}, \"type\": \"scatterpolar\"}], \"scatterpolargl\": [{\"marker\": {\"colorbar\": {\"outlinewidth\": 0, \"ticks\": \"\"}}, \"type\": \"scatterpolargl\"}], \"scatterternary\": [{\"marker\": {\"colorbar\": {\"outlinewidth\": 0, \"ticks\": \"\"}}, \"type\": \"scatterternary\"}], \"surface\": [{\"colorbar\": {\"outlinewidth\": 0, \"ticks\": \"\"}, \"colorscale\": [[0.0, \"#0d0887\"], [0.1111111111111111, \"#46039f\"], [0.2222222222222222, \"#7201a8\"], [0.3333333333333333, \"#9c179e\"], [0.4444444444444444, \"#bd3786\"], [0.5555555555555556, \"#d8576b\"], [0.6666666666666666, \"#ed7953\"], [0.7777777777777778, \"#fb9f3a\"], [0.8888888888888888, \"#fdca26\"], [1.0, \"#f0f921\"]], \"type\": \"surface\"}], \"table\": [{\"cells\": {\"fill\": {\"color\": \"#EBF0F8\"}, \"line\": {\"color\": \"white\"}}, \"header\": {\"fill\": {\"color\": \"#C8D4E3\"}, \"line\": {\"color\": \"white\"}}, \"type\": \"table\"}]}, \"layout\": {\"annotationdefaults\": {\"arrowcolor\": \"#2a3f5f\", \"arrowhead\": 0, \"arrowwidth\": 1}, \"coloraxis\": {\"colorbar\": {\"outlinewidth\": 0, \"ticks\": \"\"}}, \"colorscale\": {\"diverging\": [[0, \"#8e0152\"], [0.1, \"#c51b7d\"], [0.2, \"#de77ae\"], [0.3, \"#f1b6da\"], [0.4, \"#fde0ef\"], [0.5, \"#f7f7f7\"], [0.6, \"#e6f5d0\"], [0.7, \"#b8e186\"], [0.8, \"#7fbc41\"], [0.9, \"#4d9221\"], [1, \"#276419\"]], \"sequential\": [[0.0, \"#0d0887\"], [0.1111111111111111, \"#46039f\"], [0.2222222222222222, \"#7201a8\"], [0.3333333333333333, \"#9c179e\"], [0.4444444444444444, \"#bd3786\"], [0.5555555555555556, \"#d8576b\"], [0.6666666666666666, \"#ed7953\"], [0.7777777777777778, \"#fb9f3a\"], [0.8888888888888888, \"#fdca26\"], [1.0, \"#f0f921\"]], \"sequentialminus\": [[0.0, \"#0d0887\"], [0.1111111111111111, \"#46039f\"], [0.2222222222222222, \"#7201a8\"], [0.3333333333333333, \"#9c179e\"], [0.4444444444444444, \"#bd3786\"], [0.5555555555555556, \"#d8576b\"], [0.6666666666666666, \"#ed7953\"], [0.7777777777777778, \"#fb9f3a\"], [0.8888888888888888, \"#fdca26\"], [1.0, \"#f0f921\"]]}, \"colorway\": [\"#636efa\", \"#EF553B\", \"#00cc96\", \"#ab63fa\", \"#FFA15A\", \"#19d3f3\", \"#FF6692\", \"#B6E880\", \"#FF97FF\", \"#FECB52\"], \"font\": {\"color\": \"#2a3f5f\"}, \"geo\": {\"bgcolor\": \"white\", \"lakecolor\": \"white\", \"landcolor\": \"#E5ECF6\", \"showlakes\": true, \"showland\": true, \"subunitcolor\": \"white\"}, \"hoverlabel\": {\"align\": \"left\"}, \"hovermode\": \"closest\", \"mapbox\": {\"style\": \"light\"}, \"paper_bgcolor\": \"white\", \"plot_bgcolor\": \"#E5ECF6\", \"polar\": {\"angularaxis\": {\"gridcolor\": \"white\", \"linecolor\": \"white\", \"ticks\": \"\"}, \"bgcolor\": \"#E5ECF6\", \"radialaxis\": {\"gridcolor\": \"white\", \"linecolor\": \"white\", \"ticks\": \"\"}}, \"scene\": {\"xaxis\": {\"backgroundcolor\": \"#E5ECF6\", \"gridcolor\": \"white\", \"gridwidth\": 2, \"linecolor\": \"white\", \"showbackground\": true, \"ticks\": \"\", \"zerolinecolor\": \"white\"}, \"yaxis\": {\"backgroundcolor\": \"#E5ECF6\", \"gridcolor\": \"white\", \"gridwidth\": 2, \"linecolor\": \"white\", \"showbackground\": true, \"ticks\": \"\", \"zerolinecolor\": \"white\"}, \"zaxis\": {\"backgroundcolor\": \"#E5ECF6\", \"gridcolor\": \"white\", \"gridwidth\": 2, \"linecolor\": \"white\", \"showbackground\": true, \"ticks\": \"\", \"zerolinecolor\": \"white\"}}, \"shapedefaults\": {\"line\": {\"color\": \"#2a3f5f\"}}, \"ternary\": {\"aaxis\": {\"gridcolor\": \"white\", \"linecolor\": \"white\", \"ticks\": \"\"}, \"baxis\": {\"gridcolor\": \"white\", \"linecolor\": \"white\", \"ticks\": \"\"}, \"bgcolor\": \"#E5ECF6\", \"caxis\": {\"gridcolor\": \"white\", \"linecolor\": \"white\", \"ticks\": \"\"}}, \"title\": {\"x\": 0.05}, \"xaxis\": {\"automargin\": true, \"gridcolor\": \"white\", \"linecolor\": \"white\", \"ticks\": \"\", \"title\": {\"standoff\": 15}, \"zerolinecolor\": \"white\", \"zerolinewidth\": 2}, \"yaxis\": {\"automargin\": true, \"gridcolor\": \"white\", \"linecolor\": \"white\", \"ticks\": \"\", \"title\": {\"standoff\": 15}, \"zerolinecolor\": \"white\", \"zerolinewidth\": 2}}}, \"title\": {\"text\": \"Age distribution\"}, \"xaxis\": {\"title\": {\"text\": \"Age\"}}, \"yaxis\": {\"title\": {\"text\": \"Count\"}}},\n",
              "                        {\"responsive\": true}\n",
              "                    ).then(function(){\n",
              "                            \n",
              "var gd = document.getElementById('4156d21e-ed3f-4915-8b6a-0ad86aa75e2d');\n",
              "var x = new MutationObserver(function (mutations, observer) {{\n",
              "        var display = window.getComputedStyle(gd).display;\n",
              "        if (!display || display === 'none') {{\n",
              "            console.log([gd, 'removed!']);\n",
              "            Plotly.purge(gd);\n",
              "            observer.disconnect();\n",
              "        }}\n",
              "}});\n",
              "\n",
              "// Listen for the removal of the full notebook cells\n",
              "var notebookContainer = gd.closest('#notebook-container');\n",
              "if (notebookContainer) {{\n",
              "    x.observe(notebookContainer, {childList: true});\n",
              "}}\n",
              "\n",
              "// Listen for the clearing of the current output cell\n",
              "var outputEl = gd.closest('.output');\n",
              "if (outputEl) {{\n",
              "    x.observe(outputEl, {childList: true});\n",
              "}}\n",
              "\n",
              "                        })\n",
              "                };\n",
              "                });\n",
              "            </script>\n",
              "        </div>"
            ]
          },
          "metadata": {},
          "output_type": "display_data"
        }
      ],
      "source": [
        "import plotly.graph_objs as go\n",
        "\n",
        "# Create the data for the bar chart\n",
        "data = [go.Bar(\n",
        "            x=train['Age'].value_counts().index,\n",
        "            y=train['Age'].value_counts().values,\n",
        "            hovertext=['Age: ' + str(age) + '<br>Count: ' + str(count) for age, count in zip(train['Age'].value_counts().index, train['Age'].value_counts().values)],\n",
        "            hoverinfo='text'\n",
        "    )]\n",
        "\n",
        "# Set the layout of the figure\n",
        "layout = go.Layout(title='Age distribution',\n",
        "                   xaxis=dict(title='Age'),\n",
        "                   yaxis=dict(title='Count'))\n",
        "\n",
        "# Create the figure object\n",
        "fig = go.Figure(data=data, layout=layout)\n",
        "\n",
        "# Show the figure\n",
        "fig.show()"
      ]
    },
    {
      "cell_type": "code",
      "execution_count": null,
      "id": "e5a03161",
      "metadata": {
        "id": "e5a03161",
        "outputId": "865aa9d0-b420-4b24-ef5f-a912057c3668"
      },
      "outputs": [
        {
          "data": {
            "image/png": "[encoded data removed]",
            "text/plain": [
              "<Figure size 640x480 with 1 Axes>"
            ]
          },
          "metadata": {},
          "output_type": "display_data"
        }
      ],
      "source": [
        "train['Age'].plot.hist(bins=30) # 히스토그램 그리기\n",
        "plt.title('Age Distribution') # 그래프 제목 설정\n",
        "plt.xlabel('Age') # x축 레이블 설정\n",
        "plt.ylabel('Count') # y축 레이블 설정\n",
        "plt.show() # 그래프 보이기"
      ]
    },
    {
      "cell_type": "markdown",
      "id": "fc52a99d",
      "metadata": {
        "id": "fc52a99d"
      },
      "source": [
        "35세의 유저들이 가장 많았고, 유저들의 평균나이는 약 36.7세 이다. "
      ]
    },
    {
      "cell_type": "code",
      "execution_count": null,
      "id": "85fb8297",
      "metadata": {
        "id": "85fb8297",
        "outputId": "21472b80-01f1-4715-889e-2d13966f0d13"
      },
      "outputs": [
        {
          "data": {
            "text/html": [
              "<div>\n",
              "<style scoped>\n",
              "    .dataframe tbody tr th:only-of-type {\n",
              "        vertical-align: middle;\n",
              "    }\n",
              "\n",
              "    .dataframe tbody tr th {\n",
              "        vertical-align: top;\n",
              "    }\n",
              "\n",
              "    .dataframe thead th {\n",
              "        text-align: right;\n",
              "    }\n",
              "</style>\n",
              "<table border=\"1\" class=\"dataframe\">\n",
              "  <thead>\n",
              "    <tr style=\"text-align: right;\">\n",
              "      <th></th>\n",
              "      <th>Age</th>\n",
              "    </tr>\n",
              "  </thead>\n",
              "  <tbody>\n",
              "    <tr>\n",
              "      <th>35</th>\n",
              "      <td>251455</td>\n",
              "    </tr>\n",
              "    <tr>\n",
              "      <th>33</th>\n",
              "      <td>27349</td>\n",
              "    </tr>\n",
              "    <tr>\n",
              "      <th>29</th>\n",
              "      <td>25456</td>\n",
              "    </tr>\n",
              "    <tr>\n",
              "      <th>30</th>\n",
              "      <td>23085</td>\n",
              "    </tr>\n",
              "    <tr>\n",
              "      <th>31</th>\n",
              "      <td>22515</td>\n",
              "    </tr>\n",
              "    <tr>\n",
              "      <th>...</th>\n",
              "      <td>...</td>\n",
              "    </tr>\n",
              "    <tr>\n",
              "      <th>118</th>\n",
              "      <td>1</td>\n",
              "    </tr>\n",
              "    <tr>\n",
              "      <th>109</th>\n",
              "      <td>1</td>\n",
              "    </tr>\n",
              "    <tr>\n",
              "      <th>147</th>\n",
              "      <td>1</td>\n",
              "    </tr>\n",
              "    <tr>\n",
              "      <th>123</th>\n",
              "      <td>1</td>\n",
              "    </tr>\n",
              "    <tr>\n",
              "      <th>132</th>\n",
              "      <td>1</td>\n",
              "    </tr>\n",
              "  </tbody>\n",
              "</table>\n",
              "<p>137 rows × 1 columns</p>\n",
              "</div>"
            ],
            "text/plain": [
              "        Age\n",
              "35   251455\n",
              "33    27349\n",
              "29    25456\n",
              "30    23085\n",
              "31    22515\n",
              "..      ...\n",
              "118       1\n",
              "109       1\n",
              "147       1\n",
              "123       1\n",
              "132       1\n",
              "\n",
              "[137 rows x 1 columns]"
            ]
          },
          "execution_count": 24,
          "metadata": {},
          "output_type": "execute_result"
        }
      ],
      "source": [
        "pd.DataFrame(train[\"Age\"].value_counts())"
      ]
    },
    {
      "cell_type": "code",
      "execution_count": null,
      "id": "c887d118",
      "metadata": {
        "id": "c887d118",
        "outputId": "28b55e49-2b67-4f82-8e54-968350a29aab"
      },
      "outputs": [
        {
          "data": {
            "text/plain": [
              "36.79986068283771"
            ]
          },
          "execution_count": 25,
          "metadata": {},
          "output_type": "execute_result"
        }
      ],
      "source": [
        "train[\"Age\"].mean()"
      ]
    },
    {
      "cell_type": "markdown",
      "id": "4f4235fa",
      "metadata": {
        "id": "4f4235fa"
      },
      "source": [
        "# AGE 컬럼 전처리"
      ]
    },
    {
      "cell_type": "markdown",
      "id": "74e9c46b",
      "metadata": {
        "id": "74e9c46b"
      },
      "source": [
        "전처리 논의   \n",
        "* 의견1) 0세는 상위1% 값이 15세로 대체. 모두 하위 4%와 3% 구간 사이에서 비교적 급격한 나이 변화가 일어났으므로 급격한 나이변화가 일어나는 구간부터는 모두 이상치로 판단, 따라서 하위4% 이하인 80세 이상은 모두 80세로 대체  \n",
        "* 의견2) 상위 1%인 0-15세를 모두 15세로 대체하며, 하위1%에 해당하는 67세-244세는 모두 67세로 대체\n",
        "* 의견3) 나이별 사분위수 와 threshold사용"
      ]
    },
    {
      "cell_type": "markdown",
      "id": "68b5ca11",
      "metadata": {
        "id": "68b5ca11"
      },
      "source": [
        "-> 모델 예측점수 결과가 가장 좋았던 의견 1)을 사용하기로 함 "
      ]
    },
    {
      "cell_type": "code",
      "execution_count": null,
      "id": "ad347811",
      "metadata": {
        "id": "ad347811",
        "outputId": "8cce5a1e-ed90-4faf-f91a-6bf62c82656d"
      },
      "outputs": [
        {
          "data": {
            "text/plain": [
              "15.0"
            ]
          },
          "execution_count": 26,
          "metadata": {},
          "output_type": "execute_result"
        }
      ],
      "source": [
        "#\"Age\" 컬럼의 1% 분위수\n",
        "age_quantile_1pct = train[\"Age\"].quantile(0.01)\n",
        "age_quantile_1pct "
      ]
    },
    {
      "cell_type": "code",
      "execution_count": null,
      "id": "61c43667",
      "metadata": {
        "id": "61c43667",
        "outputId": "ba983fc6-9d5a-4c07-e7c4-3c9393116bd5"
      },
      "outputs": [
        {
          "data": {
            "text/plain": [
              "70.0"
            ]
          },
          "execution_count": 27,
          "metadata": {},
          "output_type": "execute_result"
        }
      ],
      "source": [
        "age_quantile_993pct = train[\"Age\"].quantile(0.993)\n",
        "age_quantile_993pct"
      ]
    },
    {
      "cell_type": "code",
      "execution_count": null,
      "id": "fe645a18",
      "metadata": {
        "id": "fe645a18",
        "outputId": "9d7c9905-c63d-4326-f56c-7bffd55e9cf0"
      },
      "outputs": [
        {
          "data": {
            "text/plain": [
              "80.0"
            ]
          },
          "execution_count": 28,
          "metadata": {},
          "output_type": "execute_result"
        }
      ],
      "source": [
        "age_quantile_996pct = train[\"Age\"].quantile(0.996)\n",
        "age_quantile_996pct"
      ]
    },
    {
      "cell_type": "code",
      "execution_count": null,
      "id": "d032916d",
      "metadata": {
        "id": "d032916d",
        "outputId": "8077700f-955f-4649-b37f-b88a35ceca76"
      },
      "outputs": [
        {
          "data": {
            "text/plain": [
              "100.0"
            ]
          },
          "execution_count": 29,
          "metadata": {},
          "output_type": "execute_result"
        }
      ],
      "source": [
        "age_quantile_997pct = train[\"Age\"].quantile(0.997)\n",
        "age_quantile_997pct"
      ]
    },
    {
      "cell_type": "code",
      "execution_count": null,
      "id": "b7023d2f",
      "metadata": {
        "id": "b7023d2f",
        "outputId": "54bfd99e-4ad2-4eeb-9d7e-04ddf29b8a68"
      },
      "outputs": [
        {
          "data": {
            "text/plain": [
              "116.0"
            ]
          },
          "execution_count": 30,
          "metadata": {},
          "output_type": "execute_result"
        }
      ],
      "source": [
        "age_quantile_998pct = train[\"Age\"].quantile(0.998)\n",
        "age_quantile_998pct"
      ]
    },
    {
      "cell_type": "code",
      "execution_count": null,
      "id": "2d8891c4",
      "metadata": {
        "id": "2d8891c4",
        "outputId": "93307867-6c0f-4f60-d315-20ec56a58db3"
      },
      "outputs": [
        {
          "data": {
            "text/plain": [
              "127.60800000012387"
            ]
          },
          "execution_count": 31,
          "metadata": {},
          "output_type": "execute_result"
        }
      ],
      "source": [
        "age_quantile_999pct  = train[\"Age\"].quantile(0.999)\n",
        "age_quantile_999pct"
      ]
    },
    {
      "cell_type": "code",
      "execution_count": null,
      "id": "11c738ac",
      "metadata": {
        "id": "11c738ac"
      },
      "outputs": [],
      "source": [
        "train['Age'] = np.where(train['Age'] == 0, 15, np.where(train['Age'] >= 80, 80, train['Age']))\n",
        "test['Age'] = np.where(test['Age'] == 0, 15, np.where(test['Age'] >= 80, 80, test['Age']))"
      ]
    },
    {
      "cell_type": "markdown",
      "id": "c681f062",
      "metadata": {
        "id": "c681f062"
      },
      "source": [
        "# Year-Of-Publication"
      ]
    },
    {
      "cell_type": "code",
      "execution_count": null,
      "id": "340a5c81",
      "metadata": {
        "id": "340a5c81",
        "outputId": "2f676a27-bcd8-4a40-8210-f1279c3a02b4"
      },
      "outputs": [
        {
          "data": {
            "image/png": "[encoded data removed]",
            "text/plain": [
              "<Figure size 640x480 with 1 Axes>"
            ]
          },
          "metadata": {},
          "output_type": "display_data"
        }
      ],
      "source": [
        "import matplotlib.pyplot as plt\n",
        "\n",
        "plt.hist(train['Year-Of-Publication'], bins=50)\n",
        "plt.xlabel('Year of Publication')\n",
        "plt.ylabel('Count')\n",
        "plt.show()\n"
      ]
    },
    {
      "cell_type": "markdown",
      "id": "2a7a46f7",
      "metadata": {
        "id": "2a7a46f7"
      },
      "source": [
        "출판년도에 -1값이 11515 개 있음"
      ]
    },
    {
      "cell_type": "code",
      "execution_count": null,
      "id": "52d0dbea",
      "metadata": {
        "id": "52d0dbea",
        "outputId": "8472c24a-b3c3-417d-f5b0-ffc1d2e585a8"
      },
      "outputs": [
        {
          "data": {
            "text/plain": [
              "1997.0"
            ]
          },
          "execution_count": 41,
          "metadata": {},
          "output_type": "execute_result"
        }
      ],
      "source": [
        "train[\"Year-Of-Publication\"].median()"
      ]
    },
    {
      "cell_type": "code",
      "execution_count": null,
      "id": "52c75261",
      "metadata": {
        "scrolled": true,
        "id": "52c75261",
        "outputId": "82072bcd-dee1-46bd-8755-9fbed4de0ff4"
      },
      "outputs": [
        {
          "data": {
            "text/html": [
              "<div>\n",
              "<style scoped>\n",
              "    .dataframe tbody tr th:only-of-type {\n",
              "        vertical-align: middle;\n",
              "    }\n",
              "\n",
              "    .dataframe tbody tr th {\n",
              "        vertical-align: top;\n",
              "    }\n",
              "\n",
              "    .dataframe thead th {\n",
              "        text-align: right;\n",
              "    }\n",
              "</style>\n",
              "<table border=\"1\" class=\"dataframe\">\n",
              "  <thead>\n",
              "    <tr style=\"text-align: right;\">\n",
              "      <th></th>\n",
              "      <th>ID</th>\n",
              "      <th>User-ID</th>\n",
              "      <th>Book-ID</th>\n",
              "      <th>Book-Rating</th>\n",
              "      <th>Age</th>\n",
              "      <th>Location</th>\n",
              "      <th>Book-Title</th>\n",
              "      <th>Book-Author</th>\n",
              "      <th>Year-Of-Publication</th>\n",
              "      <th>Publisher</th>\n",
              "    </tr>\n",
              "  </thead>\n",
              "  <tbody>\n",
              "    <tr>\n",
              "      <th>184</th>\n",
              "      <td>TRAIN_000184</td>\n",
              "      <td>USER_00049</td>\n",
              "      <td>BOOK_121460</td>\n",
              "      <td>0</td>\n",
              "      <td>37.0</td>\n",
              "      <td>gaylord, michigan, usa</td>\n",
              "      <td>Bxc Blue Bay Mystery</td>\n",
              "      <td>Gertrude Cha Warner</td>\n",
              "      <td>-1.0</td>\n",
              "      <td>Scholastic Inc</td>\n",
              "    </tr>\n",
              "    <tr>\n",
              "      <th>186</th>\n",
              "      <td>TRAIN_000186</td>\n",
              "      <td>USER_00049</td>\n",
              "      <td>BOOK_175661</td>\n",
              "      <td>10</td>\n",
              "      <td>37.0</td>\n",
              "      <td>gaylord, michigan, usa</td>\n",
              "      <td>Lighthouse Mystery</td>\n",
              "      <td>Gertrude C Warner</td>\n",
              "      <td>-1.0</td>\n",
              "      <td>Scholastic Inc</td>\n",
              "    </tr>\n",
              "    <tr>\n",
              "      <th>191</th>\n",
              "      <td>TRAIN_000191</td>\n",
              "      <td>USER_00049</td>\n",
              "      <td>BOOK_230275</td>\n",
              "      <td>0</td>\n",
              "      <td>37.0</td>\n",
              "      <td>gaylord, michigan, usa</td>\n",
              "      <td>Mike's Mystery</td>\n",
              "      <td>Gertrude Cha Warner</td>\n",
              "      <td>-1.0</td>\n",
              "      <td>Scholastic Inc</td>\n",
              "    </tr>\n",
              "    <tr>\n",
              "      <th>231</th>\n",
              "      <td>TRAIN_000231</td>\n",
              "      <td>USER_00054</td>\n",
              "      <td>BOOK_122689</td>\n",
              "      <td>0</td>\n",
              "      <td>39.0</td>\n",
              "      <td>spring, texas, usa</td>\n",
              "      <td>Charming Billy</td>\n",
              "      <td>Alice Mcdermott</td>\n",
              "      <td>-1.0</td>\n",
              "      <td>Farrar, Straus Giroux</td>\n",
              "    </tr>\n",
              "    <tr>\n",
              "      <th>290</th>\n",
              "      <td>TRAIN_000290</td>\n",
              "      <td>USER_00060</td>\n",
              "      <td>BOOK_165427</td>\n",
              "      <td>0</td>\n",
              "      <td>27.0</td>\n",
              "      <td>los angeles, california, usa</td>\n",
              "      <td>Moon Palace</td>\n",
              "      <td>Paul Auster</td>\n",
              "      <td>-1.0</td>\n",
              "      <td>Faber Faber Inc</td>\n",
              "    </tr>\n",
              "    <tr>\n",
              "      <th>...</th>\n",
              "      <td>...</td>\n",
              "      <td>...</td>\n",
              "      <td>...</td>\n",
              "      <td>...</td>\n",
              "      <td>...</td>\n",
              "      <td>...</td>\n",
              "      <td>...</td>\n",
              "      <td>...</td>\n",
              "      <td>...</td>\n",
              "      <td>...</td>\n",
              "    </tr>\n",
              "    <tr>\n",
              "      <th>870700</th>\n",
              "      <td>TRAIN_870700</td>\n",
              "      <td>USER_92056</td>\n",
              "      <td>BOOK_093874</td>\n",
              "      <td>5</td>\n",
              "      <td>35.0</td>\n",
              "      <td>leucadia, california, usa</td>\n",
              "      <td>High Ground</td>\n",
              "      <td>John Mcgahern</td>\n",
              "      <td>-1.0</td>\n",
              "      <td>Faber Faber Inc</td>\n",
              "    </tr>\n",
              "    <tr>\n",
              "      <th>870751</th>\n",
              "      <td>TRAIN_870751</td>\n",
              "      <td>USER_92058</td>\n",
              "      <td>BOOK_117063</td>\n",
              "      <td>0</td>\n",
              "      <td>24.0</td>\n",
              "      <td>halifax, nova scotia, canada</td>\n",
              "      <td>Hotel Du Lac</td>\n",
              "      <td>Anita Brookner</td>\n",
              "      <td>-1.0</td>\n",
              "      <td>Penguin Putnam~trade</td>\n",
              "    </tr>\n",
              "    <tr>\n",
              "      <th>870776</th>\n",
              "      <td>TRAIN_870776</td>\n",
              "      <td>USER_92058</td>\n",
              "      <td>BOOK_181486</td>\n",
              "      <td>8</td>\n",
              "      <td>24.0</td>\n",
              "      <td>halifax, nova scotia, canada</td>\n",
              "      <td>Laurels Kitchen a Handbook for Vegetarian Co</td>\n",
              "      <td>Laurel Robertson</td>\n",
              "      <td>-1.0</td>\n",
              "      <td>Bantam Doubleday Dell</td>\n",
              "    </tr>\n",
              "    <tr>\n",
              "      <th>870895</th>\n",
              "      <td>TRAIN_870895</td>\n",
              "      <td>USER_92080</td>\n",
              "      <td>BOOK_045027</td>\n",
              "      <td>10</td>\n",
              "      <td>35.0</td>\n",
              "      <td>brookhaven, mississippi, usa</td>\n",
              "      <td>Best of Sisters In Crime</td>\n",
              "      <td>Marilyn Wallace</td>\n",
              "      <td>-1.0</td>\n",
              "      <td>Penguin Putnam~childrens Hc</td>\n",
              "    </tr>\n",
              "    <tr>\n",
              "      <th>871300</th>\n",
              "      <td>TRAIN_871300</td>\n",
              "      <td>USER_92093</td>\n",
              "      <td>BOOK_216824</td>\n",
              "      <td>0</td>\n",
              "      <td>37.0</td>\n",
              "      <td>lakewood, colorado, usa</td>\n",
              "      <td>Girlfriends</td>\n",
              "      <td>Jayne Wexler</td>\n",
              "      <td>-1.0</td>\n",
              "      <td>Running Press</td>\n",
              "    </tr>\n",
              "  </tbody>\n",
              "</table>\n",
              "<p>11515 rows × 10 columns</p>\n",
              "</div>"
            ],
            "text/plain": [
              "                  ID     User-ID      Book-ID  Book-Rating   Age  \\\n",
              "184     TRAIN_000184  USER_00049  BOOK_121460            0  37.0   \n",
              "186     TRAIN_000186  USER_00049  BOOK_175661           10  37.0   \n",
              "191     TRAIN_000191  USER_00049  BOOK_230275            0  37.0   \n",
              "231     TRAIN_000231  USER_00054  BOOK_122689            0  39.0   \n",
              "290     TRAIN_000290  USER_00060  BOOK_165427            0  27.0   \n",
              "...              ...         ...          ...          ...   ...   \n",
              "870700  TRAIN_870700  USER_92056  BOOK_093874            5  35.0   \n",
              "870751  TRAIN_870751  USER_92058  BOOK_117063            0  24.0   \n",
              "870776  TRAIN_870776  USER_92058  BOOK_181486            8  24.0   \n",
              "870895  TRAIN_870895  USER_92080  BOOK_045027           10  35.0   \n",
              "871300  TRAIN_871300  USER_92093  BOOK_216824            0  37.0   \n",
              "\n",
              "                            Location  \\\n",
              "184           gaylord, michigan, usa   \n",
              "186           gaylord, michigan, usa   \n",
              "191           gaylord, michigan, usa   \n",
              "231               spring, texas, usa   \n",
              "290     los angeles, california, usa   \n",
              "...                              ...   \n",
              "870700     leucadia, california, usa   \n",
              "870751  halifax, nova scotia, canada   \n",
              "870776  halifax, nova scotia, canada   \n",
              "870895  brookhaven, mississippi, usa   \n",
              "871300       lakewood, colorado, usa   \n",
              "\n",
              "                                          Book-Title          Book-Author  \\\n",
              "184                             Bxc Blue Bay Mystery  Gertrude Cha Warner   \n",
              "186                               Lighthouse Mystery    Gertrude C Warner   \n",
              "191                                   Mike's Mystery  Gertrude Cha Warner   \n",
              "231                                   Charming Billy      Alice Mcdermott   \n",
              "290                                      Moon Palace          Paul Auster   \n",
              "...                                              ...                  ...   \n",
              "870700                                   High Ground        John Mcgahern   \n",
              "870751                                  Hotel Du Lac       Anita Brookner   \n",
              "870776  Laurels Kitchen a Handbook for Vegetarian Co     Laurel Robertson   \n",
              "870895                      Best of Sisters In Crime      Marilyn Wallace   \n",
              "871300                                   Girlfriends         Jayne Wexler   \n",
              "\n",
              "        Year-Of-Publication                    Publisher  \n",
              "184                    -1.0               Scholastic Inc  \n",
              "186                    -1.0               Scholastic Inc  \n",
              "191                    -1.0               Scholastic Inc  \n",
              "231                    -1.0        Farrar, Straus Giroux  \n",
              "290                    -1.0              Faber Faber Inc  \n",
              "...                     ...                          ...  \n",
              "870700                 -1.0              Faber Faber Inc  \n",
              "870751                 -1.0         Penguin Putnam~trade  \n",
              "870776                 -1.0        Bantam Doubleday Dell  \n",
              "870895                 -1.0  Penguin Putnam~childrens Hc  \n",
              "871300                 -1.0                Running Press  \n",
              "\n",
              "[11515 rows x 10 columns]"
            ]
          },
          "execution_count": 42,
          "metadata": {},
          "output_type": "execute_result"
        }
      ],
      "source": [
        "year_error = -1\n",
        "train[train[\"Year-Of-Publication\"] == year_error]"
      ]
    },
    {
      "cell_type": "code",
      "execution_count": null,
      "id": "ef95e58e",
      "metadata": {
        "id": "ef95e58e"
      },
      "outputs": [],
      "source": [
        "# train['Year-Of-Publication'] = np.where((train['Year-Of-Publication'] < 1950) | (train['Year-Of-Publication'] > 2010), np.nan, train['Year-Of-Publication'])\n",
        "\n",
        "# 결측치를 평균값으로 대체하기\n",
        "mean_Year = train['Year-Of-Publication'].mean()\n",
        "train['Year-Of-Publication'] = train['Year-Of-Publication'].fillna(mean_Year)\n",
        "\n"
      ]
    },
    {
      "cell_type": "markdown",
      "id": "3081f7e1",
      "metadata": {
        "id": "3081f7e1"
      },
      "source": [
        "# Year-Of-Publication 전처리논의 "
      ]
    },
    {
      "cell_type": "markdown",
      "id": "99b81178",
      "metadata": {
        "id": "99b81178"
      },
      "source": [
        "* 의견1) -1값은 최빈값인 1997로 대체    \n",
        "* 의견2)  이상치 확인, 1950년보다 작거나 2010년보다 큰 값을 가지는 셀에 대해, 해당 셀을 NaN으로 변환 후,해당 결측치를 평균값으로 대체  \n",
        "* 의견3) 변동 없음  "
      ]
    },
    {
      "cell_type": "markdown",
      "id": "d0067b0c",
      "metadata": {
        "id": "d0067b0c"
      },
      "source": [
        "# Book-Author"
      ]
    },
    {
      "cell_type": "markdown",
      "id": "3837fe26",
      "metadata": {
        "id": "3837fe26"
      },
      "source": [
        "### 유저들이 가장 많이 찾은 상위 10위 작가"
      ]
    },
    {
      "cell_type": "code",
      "execution_count": null,
      "id": "cdc57aef",
      "metadata": {
        "id": "cdc57aef",
        "outputId": "274c2936-9e74-4f71-9662-bf82f39927c1"
      },
      "outputs": [
        {
          "data": {
            "image/png": "[encoded data removed]",
            "text/plain": [
              "<Figure size 800x900 with 1 Axes>"
            ]
          },
          "metadata": {},
          "output_type": "display_data"
        }
      ],
      "source": [
        "ds = train['Book-Author'].value_counts().reset_index()\n",
        "ds.columns = ['author', 'count']\n",
        "ds = ds.sort_values('count', ascending=False).head(10)\n",
        "\n",
        "plt.figure(figsize=(8, 9))\n",
        "sns.barplot(x='count', y='author', data=ds, orient='h')\n",
        "plt.title('Top 10 Book-Author')\n",
        "plt.show()"
      ]
    },
    {
      "cell_type": "code",
      "execution_count": null,
      "id": "4b3f215c",
      "metadata": {
        "id": "4b3f215c",
        "outputId": "10b15d22-a9cf-4a0b-f960-76039eee9619"
      },
      "outputs": [
        {
          "data": {
            "text/html": [
              "<div>\n",
              "<style scoped>\n",
              "    .dataframe tbody tr th:only-of-type {\n",
              "        vertical-align: middle;\n",
              "    }\n",
              "\n",
              "    .dataframe tbody tr th {\n",
              "        vertical-align: top;\n",
              "    }\n",
              "\n",
              "    .dataframe thead th {\n",
              "        text-align: right;\n",
              "    }\n",
              "</style>\n",
              "<table border=\"1\" class=\"dataframe\">\n",
              "  <thead>\n",
              "    <tr style=\"text-align: right;\">\n",
              "      <th></th>\n",
              "      <th>author</th>\n",
              "      <th>count</th>\n",
              "    </tr>\n",
              "  </thead>\n",
              "  <tbody>\n",
              "    <tr>\n",
              "      <th>0</th>\n",
              "      <td>Stephen King</td>\n",
              "      <td>8467</td>\n",
              "    </tr>\n",
              "    <tr>\n",
              "      <th>1</th>\n",
              "      <td>Nora Roberts</td>\n",
              "      <td>6934</td>\n",
              "    </tr>\n",
              "    <tr>\n",
              "      <th>2</th>\n",
              "      <td>John Grisham</td>\n",
              "      <td>5283</td>\n",
              "    </tr>\n",
              "    <tr>\n",
              "      <th>3</th>\n",
              "      <td>James Patterson</td>\n",
              "      <td>5020</td>\n",
              "    </tr>\n",
              "    <tr>\n",
              "      <th>4</th>\n",
              "      <td>Mary Higgins Clark</td>\n",
              "      <td>3983</td>\n",
              "    </tr>\n",
              "    <tr>\n",
              "      <th>5</th>\n",
              "      <td>Dean R. Koontz</td>\n",
              "      <td>3615</td>\n",
              "    </tr>\n",
              "    <tr>\n",
              "      <th>6</th>\n",
              "      <td>Tom Clancy</td>\n",
              "      <td>3373</td>\n",
              "    </tr>\n",
              "    <tr>\n",
              "      <th>7</th>\n",
              "      <td>Danielle Steel</td>\n",
              "      <td>3165</td>\n",
              "    </tr>\n",
              "    <tr>\n",
              "      <th>8</th>\n",
              "      <td>Sue Grafton</td>\n",
              "      <td>3011</td>\n",
              "    </tr>\n",
              "    <tr>\n",
              "      <th>9</th>\n",
              "      <td>Janet Evanovich</td>\n",
              "      <td>2969</td>\n",
              "    </tr>\n",
              "  </tbody>\n",
              "</table>\n",
              "</div>"
            ],
            "text/plain": [
              "               author  count\n",
              "0        Stephen King   8467\n",
              "1        Nora Roberts   6934\n",
              "2        John Grisham   5283\n",
              "3     James Patterson   5020\n",
              "4  Mary Higgins Clark   3983\n",
              "5      Dean R. Koontz   3615\n",
              "6          Tom Clancy   3373\n",
              "7      Danielle Steel   3165\n",
              "8         Sue Grafton   3011\n",
              "9     Janet Evanovich   2969"
            ]
          },
          "execution_count": 107,
          "metadata": {},
          "output_type": "execute_result"
        }
      ],
      "source": [
        "ds"
      ]
    },
    {
      "cell_type": "markdown",
      "id": "9430ca93",
      "metadata": {
        "id": "9430ca93"
      },
      "source": [
        "평균 평점이 좋은 상위10위 작가"
      ]
    },
    {
      "cell_type": "code",
      "execution_count": null,
      "id": "85ed76e3",
      "metadata": {
        "id": "85ed76e3",
        "outputId": "15e9a3fc-5113-4fde-ec22-9bf1188d6804"
      },
      "outputs": [
        {
          "data": {
            "image/png": "[encoded data removed]",
            "text/plain": [
              "<Figure size 1000x900 with 1 Axes>"
            ]
          },
          "metadata": {},
          "output_type": "display_data"
        }
      ],
      "source": [
        "author = train['Book-Author'].value_counts().reset_index()\n",
        "author.columns = ['Book-Author', 'author_evaluation_count']\n",
        "df = pd.merge(train, author)\n",
        "\n",
        "mean_df = df[df['author_evaluation_count']>100]\n",
        "mean_df = mean_df.groupby('Book-Author')['Book-Rating'].mean().reset_index().sort_values('Book-Rating', ascending=False)\n",
        "\n",
        "top_50_mean_df = mean_df.head(10)\n",
        "\n",
        "plt.figure(figsize=(10,9))\n",
        "sns.barplot(x='Book-Rating', y='Book-Author', data=top_50_mean_df, orient='h')\n",
        "plt.title('Top 10 Book-Author with highest avarage Book-Rating')\n",
        "plt.show()"
      ]
    },
    {
      "cell_type": "markdown",
      "id": "bbeb645c",
      "metadata": {
        "id": "bbeb645c"
      },
      "source": [
        "# Publisher"
      ]
    },
    {
      "cell_type": "markdown",
      "id": "ab2e5421",
      "metadata": {
        "id": "ab2e5421"
      },
      "source": [
        "### 평균평점이 높은 도서의 상위10위 출판사"
      ]
    },
    {
      "cell_type": "code",
      "execution_count": null,
      "id": "411e5ca4",
      "metadata": {
        "id": "411e5ca4",
        "outputId": "e9e7dfce-dd04-46d8-86f7-26353ece0f0e"
      },
      "outputs": [
        {
          "data": {
            "text/plain": [
              "638"
            ]
          },
          "execution_count": 115,
          "metadata": {},
          "output_type": "execute_result"
        }
      ],
      "source": [
        "books = train['Publisher'].value_counts().reset_index()\n",
        "books.columns = ['Publisher', 'Publisher_evaluation_count']\n",
        "df = pd.merge(train, books)\n",
        "mean_df = df[df['Publisher_evaluation_count']>100]\n",
        "mean_df = mean_df.groupby('Publisher')['Book-Rating'].mean().reset_index().sort_values('Book-Rating', ascending=False)\n",
        "\n",
        "mean_df['Publisher'].nunique()"
      ]
    },
    {
      "cell_type": "code",
      "execution_count": null,
      "id": "ebe744f3",
      "metadata": {
        "id": "ebe744f3",
        "outputId": "73803619-bab3-42c1-b1d9-ca08eb0389b1"
      },
      "outputs": [
        {
          "data": {
            "image/png": "[encoded data removed]",
            "text/plain": [
              "<Figure size 1000x900 with 1 Axes>"
            ]
          },
          "metadata": {},
          "output_type": "display_data"
        }
      ],
      "source": [
        "publisher = train['Publisher'].value_counts().reset_index()\n",
        "publisher.columns = ['Publisher', 'Publisher_evaluation_count']\n",
        "df = pd.merge(train, publisher)\n",
        "df['Publisher'] = df['Publisher'].replace('TokyoPop', 'Tokyopop')  # 'TokyoPop'을 'Tokyopop'으로 변경\n",
        "mean_df = df[df['Publisher_evaluation_count'] > 100]\n",
        "mean_df = mean_df.groupby('Publisher')['Book-Rating'].mean().reset_index().sort_values('Book-Rating', ascending=False)\n",
        "\n",
        "sns.set_style(\"whitegrid\")\n",
        "plt.figure(figsize=(10, 9))\n",
        "sns.barplot(x='Book-Rating', y='Publisher', data=mean_df.head(10), orient='h')\n",
        "plt.title('Top 10 Publishers with highest avarage Book-Rating', fontsize=16)\n",
        "plt.show()\n"
      ]
    },
    {
      "cell_type": "markdown",
      "id": "a56fe633",
      "metadata": {
        "id": "a56fe633"
      },
      "source": [
        "# 유저별 도서이용 횟수 및 평균 평점"
      ]
    },
    {
      "cell_type": "code",
      "execution_count": null,
      "id": "86bbf742",
      "metadata": {
        "id": "86bbf742"
      },
      "outputs": [],
      "source": [
        "# \"Book-ID\" string타입으로 변환\n",
        "train['Book-ID'] = train['Book-ID'].astype(str)\n",
        "\n",
        "# \"Book-ID\"에서 \"BOOK_\" 부분제거\n",
        "train['Book-ID'] = train['Book-ID'].str.replace('BOOK_', '')\n",
        "\n",
        "# \"Book-ID\" 정수로 변환 \n",
        "train['Book-ID'] = train['Book-ID'].astype(int)"
      ]
    },
    {
      "cell_type": "code",
      "execution_count": null,
      "id": "bb1caa91",
      "metadata": {
        "id": "bb1caa91",
        "outputId": "c60484a6-4fe5-4378-9b65-f7cdaba77398"
      },
      "outputs": [
        {
          "data": {
            "text/plain": [
              "0          44368\n",
              "1          81205\n",
              "2          86781\n",
              "3          98622\n",
              "4         180810\n",
              "           ...  \n",
              "871388     81138\n",
              "871389    258124\n",
              "871390     71848\n",
              "871391    252599\n",
              "871392    130798\n",
              "Name: Book-ID, Length: 871393, dtype: int64"
            ]
          },
          "execution_count": 48,
          "metadata": {},
          "output_type": "execute_result"
        }
      ],
      "source": [
        "train['Book-ID']"
      ]
    },
    {
      "cell_type": "code",
      "execution_count": null,
      "id": "60c65084",
      "metadata": {
        "id": "60c65084",
        "outputId": "f473556c-a092-43fd-b449-2b5ff07910f6"
      },
      "outputs": [
        {
          "data": {
            "text/plain": [
              "0         USER_00000\n",
              "1         USER_00000\n",
              "2         USER_00000\n",
              "3         USER_00000\n",
              "4         USER_00000\n",
              "             ...    \n",
              "871388    USER_92096\n",
              "871389    USER_92097\n",
              "871390    USER_92098\n",
              "871391    USER_92099\n",
              "871392    USER_92100\n",
              "Name: User-ID, Length: 871393, dtype: object"
            ]
          },
          "execution_count": 49,
          "metadata": {},
          "output_type": "execute_result"
        }
      ],
      "source": [
        "train['User-ID']"
      ]
    },
    {
      "cell_type": "code",
      "execution_count": null,
      "id": "9729c741",
      "metadata": {
        "id": "9729c741"
      },
      "outputs": [],
      "source": [
        "user_groupby = train.groupby(\"User-ID\")\n",
        "book_groupby = train.groupby(\"Book-ID\")\n",
        "average_user_rating = user_groupby[\"Book-Rating\"].mean() # 각 유저가 매기는 책 평점의 평균\n",
        "number_of_rating_by_user = user_groupby[\"Book-Rating\"].count() #각 유저별 책 평점 매긴 횟수 \n",
        "average_book_rating = book_groupby[\"Book-Rating\"].mean() # 책 별 평균 평점\n",
        "number_of_book_ratings = book_groupby[\"Book-Rating\"].count() # 각 책 별 평균 평점의 개수 "
      ]
    },
    {
      "cell_type": "code",
      "execution_count": null,
      "id": "b15bffd6",
      "metadata": {
        "id": "b15bffd6",
        "outputId": "b264b6d0-f418-4ea7-c662-d17755bfada2"
      },
      "outputs": [
        {
          "data": {
            "text/plain": [
              "Book-ID\n",
              "1          1\n",
              "2          1\n",
              "3          1\n",
              "4         30\n",
              "5          3\n",
              "          ..\n",
              "270051     1\n",
              "270052    15\n",
              "270053     3\n",
              "270054     1\n",
              "270055     5\n",
              "Name: Book-Rating, Length: 243441, dtype: int64"
            ]
          },
          "execution_count": 51,
          "metadata": {},
          "output_type": "execute_result"
        }
      ],
      "source": [
        "number_of_book_ratings"
      ]
    },
    {
      "cell_type": "code",
      "execution_count": null,
      "id": "fac5c7a0",
      "metadata": {
        "id": "fac5c7a0"
      },
      "outputs": [],
      "source": [
        "average_user_rating.name = \"avg_rating\"\n",
        "number_of_rating_by_user.name = \"N_ratings\"\n",
        "average_book_rating.name = \"avg_rating\"\n",
        "number_of_book_ratings.name = \"N_ratings\""
      ]
    },
    {
      "cell_type": "code",
      "execution_count": null,
      "id": "63c78771",
      "metadata": {
        "id": "63c78771",
        "outputId": "42084dd1-cc04-4304-8c77-8dd280cd74ad"
      },
      "outputs": [
        {
          "data": {
            "text/html": [
              "<div>\n",
              "<style scoped>\n",
              "    .dataframe tbody tr th:only-of-type {\n",
              "        vertical-align: middle;\n",
              "    }\n",
              "\n",
              "    .dataframe tbody tr th {\n",
              "        vertical-align: top;\n",
              "    }\n",
              "\n",
              "    .dataframe thead th {\n",
              "        text-align: right;\n",
              "    }\n",
              "</style>\n",
              "<table border=\"1\" class=\"dataframe\">\n",
              "  <thead>\n",
              "    <tr style=\"text-align: right;\">\n",
              "      <th></th>\n",
              "      <th>User-ID</th>\n",
              "      <th>N_ratings</th>\n",
              "      <th>avg_rating</th>\n",
              "    </tr>\n",
              "  </thead>\n",
              "  <tbody>\n",
              "    <tr>\n",
              "      <th>0</th>\n",
              "      <td>USER_00000</td>\n",
              "      <td>8</td>\n",
              "      <td>4.750000</td>\n",
              "    </tr>\n",
              "    <tr>\n",
              "      <th>1</th>\n",
              "      <td>USER_00001</td>\n",
              "      <td>3</td>\n",
              "      <td>4.000000</td>\n",
              "    </tr>\n",
              "    <tr>\n",
              "      <th>2</th>\n",
              "      <td>USER_00002</td>\n",
              "      <td>1</td>\n",
              "      <td>0.000000</td>\n",
              "    </tr>\n",
              "    <tr>\n",
              "      <th>3</th>\n",
              "      <td>USER_00003</td>\n",
              "      <td>22</td>\n",
              "      <td>5.954545</td>\n",
              "    </tr>\n",
              "    <tr>\n",
              "      <th>4</th>\n",
              "      <td>USER_00004</td>\n",
              "      <td>8</td>\n",
              "      <td>6.500000</td>\n",
              "    </tr>\n",
              "    <tr>\n",
              "      <th>...</th>\n",
              "      <td>...</td>\n",
              "      <td>...</td>\n",
              "      <td>...</td>\n",
              "    </tr>\n",
              "    <tr>\n",
              "      <th>83251</th>\n",
              "      <td>USER_92096</td>\n",
              "      <td>1</td>\n",
              "      <td>0.000000</td>\n",
              "    </tr>\n",
              "    <tr>\n",
              "      <th>83252</th>\n",
              "      <td>USER_92097</td>\n",
              "      <td>1</td>\n",
              "      <td>0.000000</td>\n",
              "    </tr>\n",
              "    <tr>\n",
              "      <th>83253</th>\n",
              "      <td>USER_92098</td>\n",
              "      <td>1</td>\n",
              "      <td>0.000000</td>\n",
              "    </tr>\n",
              "    <tr>\n",
              "      <th>83254</th>\n",
              "      <td>USER_92099</td>\n",
              "      <td>1</td>\n",
              "      <td>8.000000</td>\n",
              "    </tr>\n",
              "    <tr>\n",
              "      <th>83255</th>\n",
              "      <td>USER_92100</td>\n",
              "      <td>1</td>\n",
              "      <td>0.000000</td>\n",
              "    </tr>\n",
              "  </tbody>\n",
              "</table>\n",
              "<p>83256 rows × 3 columns</p>\n",
              "</div>"
            ],
            "text/plain": [
              "          User-ID  N_ratings  avg_rating\n",
              "0      USER_00000          8    4.750000\n",
              "1      USER_00001          3    4.000000\n",
              "2      USER_00002          1    0.000000\n",
              "3      USER_00003         22    5.954545\n",
              "4      USER_00004          8    6.500000\n",
              "...           ...        ...         ...\n",
              "83251  USER_92096          1    0.000000\n",
              "83252  USER_92097          1    0.000000\n",
              "83253  USER_92098          1    0.000000\n",
              "83254  USER_92099          1    8.000000\n",
              "83255  USER_92100          1    0.000000\n",
              "\n",
              "[83256 rows x 3 columns]"
            ]
          },
          "execution_count": 53,
          "metadata": {},
          "output_type": "execute_result"
        }
      ],
      "source": [
        "users = train[[\"User-ID\"]].drop_duplicates().merge(number_of_rating_by_user, on=\"User-ID\")\n",
        "users = users.join(average_user_rating, on=\"User-ID\")\n",
        "users"
      ]
    },
    {
      "cell_type": "markdown",
      "id": "266545eb",
      "metadata": {
        "id": "266545eb"
      },
      "source": [
        "* 예를들어 User-ID가 USER_00000인 사람의 도서이용횟수는 8회이며 평균적으로 4.75 평점을 남김 \n",
        "* 가장 많은 도서기록 횟수는 1145회이다. "
      ]
    },
    {
      "cell_type": "code",
      "execution_count": null,
      "id": "ad3fdf38",
      "metadata": {
        "id": "ad3fdf38",
        "outputId": "d062c343-f697-4192-9eab-822e065395df"
      },
      "outputs": [
        {
          "data": {
            "text/plain": [
              "11143"
            ]
          },
          "execution_count": 54,
          "metadata": {},
          "output_type": "execute_result"
        }
      ],
      "source": [
        "users['N_ratings'].max()"
      ]
    },
    {
      "cell_type": "markdown",
      "id": "5fdc52e1",
      "metadata": {
        "id": "5fdc52e1"
      },
      "source": [
        "# 도서별 이용 횟수와 평균 평점  "
      ]
    },
    {
      "cell_type": "markdown",
      "id": "cdec5250",
      "metadata": {
        "id": "cdec5250"
      },
      "source": [
        "도서의 정보 및 이용 횟수와 평균 평점 추가한 데이터셋 생성"
      ]
    },
    {
      "cell_type": "code",
      "execution_count": null,
      "id": "9b9af82b",
      "metadata": {
        "id": "9b9af82b",
        "outputId": "3625566f-623c-4396-e375-5f58c59fab5c"
      },
      "outputs": [
        {
          "data": {
            "text/html": [
              "<div>\n",
              "<style scoped>\n",
              "    .dataframe tbody tr th:only-of-type {\n",
              "        vertical-align: middle;\n",
              "    }\n",
              "\n",
              "    .dataframe tbody tr th {\n",
              "        vertical-align: top;\n",
              "    }\n",
              "\n",
              "    .dataframe thead th {\n",
              "        text-align: right;\n",
              "    }\n",
              "</style>\n",
              "<table border=\"1\" class=\"dataframe\">\n",
              "  <thead>\n",
              "    <tr style=\"text-align: right;\">\n",
              "      <th></th>\n",
              "      <th>Book-ID</th>\n",
              "      <th>Book-Title</th>\n",
              "      <th>Book-Author</th>\n",
              "      <th>Year-Of-Publication</th>\n",
              "      <th>N_ratings</th>\n",
              "      <th>avg_rating</th>\n",
              "    </tr>\n",
              "  </thead>\n",
              "  <tbody>\n",
              "    <tr>\n",
              "      <th>0</th>\n",
              "      <td>44368</td>\n",
              "      <td>Road Taken</td>\n",
              "      <td>Rona Jaffe</td>\n",
              "      <td>2001.0</td>\n",
              "      <td>14</td>\n",
              "      <td>2.428571</td>\n",
              "    </tr>\n",
              "    <tr>\n",
              "      <th>1</th>\n",
              "      <td>81205</td>\n",
              "      <td>Macbeth (New Penguin Shakespeare)</td>\n",
              "      <td>William Shakespeare</td>\n",
              "      <td>1981.0</td>\n",
              "      <td>6</td>\n",
              "      <td>4.000000</td>\n",
              "    </tr>\n",
              "    <tr>\n",
              "      <th>2</th>\n",
              "      <td>86781</td>\n",
              "      <td>Waverley (Penguin English Library)</td>\n",
              "      <td>Walter Scott</td>\n",
              "      <td>1981.0</td>\n",
              "      <td>2</td>\n",
              "      <td>0.000000</td>\n",
              "    </tr>\n",
              "    <tr>\n",
              "      <th>3</th>\n",
              "      <td>98622</td>\n",
              "      <td>Mother Earth Father Sky</td>\n",
              "      <td>Sue Harrison</td>\n",
              "      <td>1991.0</td>\n",
              "      <td>23</td>\n",
              "      <td>3.086957</td>\n",
              "    </tr>\n",
              "    <tr>\n",
              "      <th>4</th>\n",
              "      <td>180810</td>\n",
              "      <td>She Who Remembers</td>\n",
              "      <td>Linda Lay Shuler</td>\n",
              "      <td>1989.0</td>\n",
              "      <td>53</td>\n",
              "      <td>1.698113</td>\n",
              "    </tr>\n",
              "    <tr>\n",
              "      <th>...</th>\n",
              "      <td>...</td>\n",
              "      <td>...</td>\n",
              "      <td>...</td>\n",
              "      <td>...</td>\n",
              "      <td>...</td>\n",
              "      <td>...</td>\n",
              "    </tr>\n",
              "    <tr>\n",
              "      <th>243436</th>\n",
              "      <td>264287</td>\n",
              "      <td>Prodigals and Those Who Love Them: Study Guide</td>\n",
              "      <td>Stephen Griffith</td>\n",
              "      <td>1991.0</td>\n",
              "      <td>1</td>\n",
              "      <td>0.000000</td>\n",
              "    </tr>\n",
              "    <tr>\n",
              "      <th>243437</th>\n",
              "      <td>264484</td>\n",
              "      <td>A Transatlantic Love Affair: Letters to Nelson...</td>\n",
              "      <td>Simone De Beauvoir</td>\n",
              "      <td>1999.0</td>\n",
              "      <td>1</td>\n",
              "      <td>0.000000</td>\n",
              "    </tr>\n",
              "    <tr>\n",
              "      <th>243438</th>\n",
              "      <td>265220</td>\n",
              "      <td>He's My Brother: Former Racial Foes Offer Stra...</td>\n",
              "      <td>John Perkins</td>\n",
              "      <td>1994.0</td>\n",
              "      <td>1</td>\n",
              "      <td>0.000000</td>\n",
              "    </tr>\n",
              "    <tr>\n",
              "      <th>243439</th>\n",
              "      <td>266941</td>\n",
              "      <td>Creme De Colorado Cookbook (Celebrating Twenty...</td>\n",
              "      <td>Junior League of Denver</td>\n",
              "      <td>1987.0</td>\n",
              "      <td>1</td>\n",
              "      <td>10.000000</td>\n",
              "    </tr>\n",
              "    <tr>\n",
              "      <th>243440</th>\n",
              "      <td>130798</td>\n",
              "      <td>The Coffin Quilt: The Feud between the Hatfiel...</td>\n",
              "      <td>Ann Rinaldi</td>\n",
              "      <td>1999.0</td>\n",
              "      <td>1</td>\n",
              "      <td>0.000000</td>\n",
              "    </tr>\n",
              "  </tbody>\n",
              "</table>\n",
              "<p>243441 rows × 6 columns</p>\n",
              "</div>"
            ],
            "text/plain": [
              "        Book-ID                                         Book-Title  \\\n",
              "0         44368                                         Road Taken   \n",
              "1         81205                  Macbeth (New Penguin Shakespeare)   \n",
              "2         86781                 Waverley (Penguin English Library)   \n",
              "3         98622                            Mother Earth Father Sky   \n",
              "4        180810                                  She Who Remembers   \n",
              "...         ...                                                ...   \n",
              "243436   264287     Prodigals and Those Who Love Them: Study Guide   \n",
              "243437   264484  A Transatlantic Love Affair: Letters to Nelson...   \n",
              "243438   265220  He's My Brother: Former Racial Foes Offer Stra...   \n",
              "243439   266941  Creme De Colorado Cookbook (Celebrating Twenty...   \n",
              "243440   130798  The Coffin Quilt: The Feud between the Hatfiel...   \n",
              "\n",
              "                    Book-Author  Year-Of-Publication  N_ratings  avg_rating  \n",
              "0                    Rona Jaffe               2001.0         14    2.428571  \n",
              "1           William Shakespeare               1981.0          6    4.000000  \n",
              "2                  Walter Scott               1981.0          2    0.000000  \n",
              "3                  Sue Harrison               1991.0         23    3.086957  \n",
              "4              Linda Lay Shuler               1989.0         53    1.698113  \n",
              "...                         ...                  ...        ...         ...  \n",
              "243436         Stephen Griffith               1991.0          1    0.000000  \n",
              "243437       Simone De Beauvoir               1999.0          1    0.000000  \n",
              "243438             John Perkins               1994.0          1    0.000000  \n",
              "243439  Junior League of Denver               1987.0          1   10.000000  \n",
              "243440              Ann Rinaldi               1999.0          1    0.000000  \n",
              "\n",
              "[243441 rows x 6 columns]"
            ]
          },
          "execution_count": 117,
          "metadata": {},
          "output_type": "execute_result"
        }
      ],
      "source": [
        "books =  train[[\"Book-ID\",\"Book-Title\", \"Book-Author\", \"Year-Of-Publication\"]].drop_duplicates().merge(number_of_book_ratings, on=\"Book-ID\")\n",
        "books = books.join(average_book_rating, on=\"Book-ID\")\n",
        "books"
      ]
    },
    {
      "cell_type": "code",
      "execution_count": null,
      "id": "a7ff4d3b",
      "metadata": {
        "id": "a7ff4d3b",
        "outputId": "11037953-903e-45ac-84ee-fa6554a4e7e2"
      },
      "outputs": [
        {
          "data": {
            "text/plain": [
              "3.5794833245016244"
            ]
          },
          "execution_count": 141,
          "metadata": {},
          "output_type": "execute_result"
        }
      ],
      "source": [
        "books['N_ratings'].mean()"
      ]
    },
    {
      "cell_type": "code",
      "execution_count": null,
      "id": "21e7bb0a",
      "metadata": {
        "id": "21e7bb0a",
        "outputId": "2061c24e-9167-450e-ad81-2cd723a25504"
      },
      "outputs": [
        {
          "data": {
            "text/html": [
              "<div>\n",
              "<style scoped>\n",
              "    .dataframe tbody tr th:only-of-type {\n",
              "        vertical-align: middle;\n",
              "    }\n",
              "\n",
              "    .dataframe tbody tr th {\n",
              "        vertical-align: top;\n",
              "    }\n",
              "\n",
              "    .dataframe thead th {\n",
              "        text-align: right;\n",
              "    }\n",
              "</style>\n",
              "<table border=\"1\" class=\"dataframe\">\n",
              "  <thead>\n",
              "    <tr style=\"text-align: right;\">\n",
              "      <th></th>\n",
              "      <th>Book-ID</th>\n",
              "      <th>Book-Title</th>\n",
              "      <th>Book-Author</th>\n",
              "      <th>Year-Of-Publication</th>\n",
              "      <th>N_ratings</th>\n",
              "      <th>avg_rating</th>\n",
              "    </tr>\n",
              "  </thead>\n",
              "  <tbody>\n",
              "    <tr>\n",
              "      <th>85</th>\n",
              "      <td>97861</td>\n",
              "      <td>Wild Animus</td>\n",
              "      <td>Rich Shapero</td>\n",
              "      <td>2004.0</td>\n",
              "      <td>2502</td>\n",
              "      <td>1.019584</td>\n",
              "    </tr>\n",
              "    <tr>\n",
              "      <th>640</th>\n",
              "      <td>50555</td>\n",
              "      <td>The Da Vinci Code</td>\n",
              "      <td>Dan Brown</td>\n",
              "      <td>2003.0</td>\n",
              "      <td>883</td>\n",
              "      <td>4.652322</td>\n",
              "    </tr>\n",
              "    <tr>\n",
              "      <th>226</th>\n",
              "      <td>114855</td>\n",
              "      <td>The Lovely Bones: A Novel</td>\n",
              "      <td>Alice Sebold</td>\n",
              "      <td>2002.0</td>\n",
              "      <td>768</td>\n",
              "      <td>4.378906</td>\n",
              "    </tr>\n",
              "    <tr>\n",
              "      <th>3579</th>\n",
              "      <td>206174</td>\n",
              "      <td>Divine Secrets of the Ya-Ya Sisterhood: A Novel</td>\n",
              "      <td>Rebecca Wells</td>\n",
              "      <td>1997.0</td>\n",
              "      <td>732</td>\n",
              "      <td>3.448087</td>\n",
              "    </tr>\n",
              "    <tr>\n",
              "      <th>366</th>\n",
              "      <td>84346</td>\n",
              "      <td>The Red Tent (Bestselling Backlist)</td>\n",
              "      <td>Anita Diamant</td>\n",
              "      <td>1998.0</td>\n",
              "      <td>723</td>\n",
              "      <td>4.334716</td>\n",
              "    </tr>\n",
              "    <tr>\n",
              "      <th>610</th>\n",
              "      <td>176344</td>\n",
              "      <td>A Painted House</td>\n",
              "      <td>John Grisham</td>\n",
              "      <td>2001.0</td>\n",
              "      <td>647</td>\n",
              "      <td>3.187017</td>\n",
              "    </tr>\n",
              "    <tr>\n",
              "      <th>1095</th>\n",
              "      <td>163526</td>\n",
              "      <td>The Secret Life of Bees</td>\n",
              "      <td>Sue Monk Kidd</td>\n",
              "      <td>2003.0</td>\n",
              "      <td>615</td>\n",
              "      <td>4.219512</td>\n",
              "    </tr>\n",
              "    <tr>\n",
              "      <th>856</th>\n",
              "      <td>77238</td>\n",
              "      <td>Angels &amp;amp; Demons</td>\n",
              "      <td>Dan Brown</td>\n",
              "      <td>2001.0</td>\n",
              "      <td>586</td>\n",
              "      <td>3.718430</td>\n",
              "    </tr>\n",
              "    <tr>\n",
              "      <th>258</th>\n",
              "      <td>261787</td>\n",
              "      <td>Where the Heart Is (Oprah's Book Club (Paperba...</td>\n",
              "      <td>Billie Letts</td>\n",
              "      <td>1998.0</td>\n",
              "      <td>585</td>\n",
              "      <td>4.105983</td>\n",
              "    </tr>\n",
              "    <tr>\n",
              "      <th>1515</th>\n",
              "      <td>152477</td>\n",
              "      <td>House of Sand and Fog</td>\n",
              "      <td>Andre Dubus III</td>\n",
              "      <td>2000.0</td>\n",
              "      <td>552</td>\n",
              "      <td>3.039855</td>\n",
              "    </tr>\n",
              "  </tbody>\n",
              "</table>\n",
              "</div>"
            ],
            "text/plain": [
              "      Book-ID                                         Book-Title  \\\n",
              "85      97861                                        Wild Animus   \n",
              "640     50555                                  The Da Vinci Code   \n",
              "226    114855                          The Lovely Bones: A Novel   \n",
              "3579   206174    Divine Secrets of the Ya-Ya Sisterhood: A Novel   \n",
              "366     84346                The Red Tent (Bestselling Backlist)   \n",
              "610    176344                                    A Painted House   \n",
              "1095   163526                            The Secret Life of Bees   \n",
              "856     77238                                Angels &amp; Demons   \n",
              "258    261787  Where the Heart Is (Oprah's Book Club (Paperba...   \n",
              "1515   152477                              House of Sand and Fog   \n",
              "\n",
              "          Book-Author  Year-Of-Publication  N_ratings  avg_rating  \n",
              "85       Rich Shapero               2004.0       2502    1.019584  \n",
              "640         Dan Brown               2003.0        883    4.652322  \n",
              "226      Alice Sebold               2002.0        768    4.378906  \n",
              "3579    Rebecca Wells               1997.0        732    3.448087  \n",
              "366     Anita Diamant               1998.0        723    4.334716  \n",
              "610      John Grisham               2001.0        647    3.187017  \n",
              "1095    Sue Monk Kidd               2003.0        615    4.219512  \n",
              "856         Dan Brown               2001.0        586    3.718430  \n",
              "258      Billie Letts               1998.0        585    4.105983  \n",
              "1515  Andre Dubus III               2000.0        552    3.039855  "
            ]
          },
          "execution_count": 124,
          "metadata": {},
          "output_type": "execute_result"
        }
      ],
      "source": [
        "popbooks = books.sort_values(by=\"N_ratings\", ascending=False).nlargest(10, 'N_ratings')\n",
        "popbooks"
      ]
    },
    {
      "cell_type": "markdown",
      "id": "a26c41e3",
      "metadata": {
        "id": "a26c41e3"
      },
      "source": [
        "가장 많이 이용한 상위 10개 도서"
      ]
    },
    {
      "cell_type": "code",
      "execution_count": null,
      "id": "c5bf60cc",
      "metadata": {
        "scrolled": true,
        "id": "c5bf60cc",
        "outputId": "3581704e-3363-4ffa-9781-e0618eb4083a"
      },
      "outputs": [
        {
          "data": {
            "image/png": "[encoded data removed]",
            "text/plain": [
              "<Figure size 1000x900 with 1 Axes>"
            ]
          },
          "metadata": {},
          "output_type": "display_data"
        }
      ],
      "source": [
        "from matplotlib import pyplot as plt\n",
        "from matplotlib import rcParams\n",
        "\n",
        "rcParams['figure.figsize'] = 10, 9\n",
        "\n",
        "# seaborn 패키지로 barplot 그리기\n",
        "sns.barplot(x='N_ratings', y='Book-Title', data=popbooks,palette='Set1')\n",
        "\n",
        "# x축 레이블 90도 회전\n",
        "plt.xticks(rotation=50)\n",
        "\n",
        "# 그래프 제목 추가\n",
        "plt.title('Top10 Books most read by users', fontsize=16)\n",
        "\n",
        "# 그래프 출력\n",
        "plt.show()\n"
      ]
    },
    {
      "cell_type": "markdown",
      "id": "a55a0fc1",
      "metadata": {
        "id": "a55a0fc1"
      },
      "source": [
        "도서당 평점의 갯수의 평균이 3.57이므로 N_ratings가 4 이상인 평점좋은 도서는 다음과 같다 "
      ]
    },
    {
      "cell_type": "code",
      "execution_count": null,
      "id": "a3c10790",
      "metadata": {
        "id": "a3c10790",
        "outputId": "fcb1097f-809a-4fc1-ece7-fedd13159e8b"
      },
      "outputs": [
        {
          "data": {
            "text/html": [
              "<div>\n",
              "<style scoped>\n",
              "    .dataframe tbody tr th:only-of-type {\n",
              "        vertical-align: middle;\n",
              "    }\n",
              "\n",
              "    .dataframe tbody tr th {\n",
              "        vertical-align: top;\n",
              "    }\n",
              "\n",
              "    .dataframe thead th {\n",
              "        text-align: right;\n",
              "    }\n",
              "</style>\n",
              "<table border=\"1\" class=\"dataframe\">\n",
              "  <thead>\n",
              "    <tr style=\"text-align: right;\">\n",
              "      <th></th>\n",
              "      <th>Book-ID</th>\n",
              "      <th>Book-Title</th>\n",
              "      <th>Book-Author</th>\n",
              "      <th>Year-Of-Publication</th>\n",
              "      <th>N_ratings</th>\n",
              "      <th>avg_rating</th>\n",
              "    </tr>\n",
              "  </thead>\n",
              "  <tbody>\n",
              "    <tr>\n",
              "      <th>141922</th>\n",
              "      <td>90187</td>\n",
              "      <td>Betsy and Joe (Betsy &amp;amp; Tacy)</td>\n",
              "      <td>Maud Hart Lovelace</td>\n",
              "      <td>1995.0</td>\n",
              "      <td>4</td>\n",
              "      <td>10.00</td>\n",
              "    </tr>\n",
              "    <tr>\n",
              "      <th>99690</th>\n",
              "      <td>75152</td>\n",
              "      <td>The Lord of the Rings (Leatherette Collector's...</td>\n",
              "      <td>J. R. R. Tolkien</td>\n",
              "      <td>1974.0</td>\n",
              "      <td>6</td>\n",
              "      <td>10.00</td>\n",
              "    </tr>\n",
              "    <tr>\n",
              "      <th>184969</th>\n",
              "      <td>11976</td>\n",
              "      <td>Cinder Edna</td>\n",
              "      <td>Ellen Jackson</td>\n",
              "      <td>1994.0</td>\n",
              "      <td>4</td>\n",
              "      <td>10.00</td>\n",
              "    </tr>\n",
              "    <tr>\n",
              "      <th>82883</th>\n",
              "      <td>124743</td>\n",
              "      <td>Charlottes Web Special Read Along Edition</td>\n",
              "      <td>E B White</td>\n",
              "      <td>1997.0</td>\n",
              "      <td>4</td>\n",
              "      <td>10.00</td>\n",
              "    </tr>\n",
              "    <tr>\n",
              "      <th>80194</th>\n",
              "      <td>215100</td>\n",
              "      <td>Dinotopia: A Land Apart from Time (Dinotopia)</td>\n",
              "      <td>James Gurney</td>\n",
              "      <td>1998.0</td>\n",
              "      <td>4</td>\n",
              "      <td>10.00</td>\n",
              "    </tr>\n",
              "    <tr>\n",
              "      <th>49550</th>\n",
              "      <td>143000</td>\n",
              "      <td>Ain't Nobody's Business If You Do : The Absurd...</td>\n",
              "      <td>Peter McWilliams</td>\n",
              "      <td>1996.0</td>\n",
              "      <td>5</td>\n",
              "      <td>9.80</td>\n",
              "    </tr>\n",
              "    <tr>\n",
              "      <th>77463</th>\n",
              "      <td>14110</td>\n",
              "      <td>Encounters with the Archdruid</td>\n",
              "      <td>John McPhee</td>\n",
              "      <td>1977.0</td>\n",
              "      <td>4</td>\n",
              "      <td>9.75</td>\n",
              "    </tr>\n",
              "    <tr>\n",
              "      <th>116320</th>\n",
              "      <td>191739</td>\n",
              "      <td>Interpreter of Maladies</td>\n",
              "      <td>Jhumpa Lahiri</td>\n",
              "      <td>1999.0</td>\n",
              "      <td>4</td>\n",
              "      <td>9.75</td>\n",
              "    </tr>\n",
              "    <tr>\n",
              "      <th>108798</th>\n",
              "      <td>245282</td>\n",
              "      <td>The Diaries of Adam and Eve</td>\n",
              "      <td>Mark Twain</td>\n",
              "      <td>1998.0</td>\n",
              "      <td>4</td>\n",
              "      <td>9.75</td>\n",
              "    </tr>\n",
              "    <tr>\n",
              "      <th>2124</th>\n",
              "      <td>246686</td>\n",
              "      <td>We Are Experiencing Parental Difficulties...Pl...</td>\n",
              "      <td>Rick Kirkman</td>\n",
              "      <td>1995.0</td>\n",
              "      <td>4</td>\n",
              "      <td>9.75</td>\n",
              "    </tr>\n",
              "  </tbody>\n",
              "</table>\n",
              "</div>"
            ],
            "text/plain": [
              "        Book-ID                                         Book-Title  \\\n",
              "141922    90187                   Betsy and Joe (Betsy &amp; Tacy)   \n",
              "99690     75152  The Lord of the Rings (Leatherette Collector's...   \n",
              "184969    11976                                        Cinder Edna   \n",
              "82883    124743          Charlottes Web Special Read Along Edition   \n",
              "80194    215100      Dinotopia: A Land Apart from Time (Dinotopia)   \n",
              "49550    143000  Ain't Nobody's Business If You Do : The Absurd...   \n",
              "77463     14110                      Encounters with the Archdruid   \n",
              "116320   191739                            Interpreter of Maladies   \n",
              "108798   245282                        The Diaries of Adam and Eve   \n",
              "2124     246686  We Are Experiencing Parental Difficulties...Pl...   \n",
              "\n",
              "               Book-Author  Year-Of-Publication  N_ratings  avg_rating  \n",
              "141922  Maud Hart Lovelace               1995.0          4       10.00  \n",
              "99690     J. R. R. Tolkien               1974.0          6       10.00  \n",
              "184969       Ellen Jackson               1994.0          4       10.00  \n",
              "82883            E B White               1997.0          4       10.00  \n",
              "80194         James Gurney               1998.0          4       10.00  \n",
              "49550     Peter McWilliams               1996.0          5        9.80  \n",
              "77463          John McPhee               1977.0          4        9.75  \n",
              "116320       Jhumpa Lahiri               1999.0          4        9.75  \n",
              "108798          Mark Twain               1998.0          4        9.75  \n",
              "2124          Rick Kirkman               1995.0          4        9.75  "
            ]
          },
          "execution_count": 142,
          "metadata": {},
          "output_type": "execute_result"
        }
      ],
      "source": [
        "goodratingbooks = books[(books['N_ratings'] >= 4)].sort_values(by=\"avg_rating\", ascending=False).nlargest(10, 'avg_rating')\n",
        "goodratingbooks"
      ]
    },
    {
      "cell_type": "markdown",
      "id": "a1a45520",
      "metadata": {
        "id": "a1a45520"
      },
      "source": [
        "* 예를들어 Harry Potter 단어가 포함된 단어를 찾으면 해당 정보를 아래와 같이 찾을 수 있음\n",
        "* 같은 책이라도 에디션에 따라 나뉘는 종류가 다르게 경우가 있다\n",
        "* 같은 저자라도 J.K Rowling, Joanne K,Rowling, Joanne K.Rowling과 같이 다른 방식으로 표기가 되어있는 경우가 있다 "
      ]
    },
    {
      "cell_type": "code",
      "execution_count": null,
      "id": "cba4760a",
      "metadata": {
        "id": "cba4760a",
        "outputId": "ad770739-4fa8-49f9-e719-ff84a3bf9a79"
      },
      "outputs": [
        {
          "data": {
            "text/html": [
              "<div>\n",
              "<style scoped>\n",
              "    .dataframe tbody tr th:only-of-type {\n",
              "        vertical-align: middle;\n",
              "    }\n",
              "\n",
              "    .dataframe tbody tr th {\n",
              "        vertical-align: top;\n",
              "    }\n",
              "\n",
              "    .dataframe thead th {\n",
              "        text-align: right;\n",
              "    }\n",
              "</style>\n",
              "<table border=\"1\" class=\"dataframe\">\n",
              "  <thead>\n",
              "    <tr style=\"text-align: right;\">\n",
              "      <th></th>\n",
              "      <th>Book-ID</th>\n",
              "      <th>Book-Title</th>\n",
              "      <th>Book-Author</th>\n",
              "      <th>Year-Of-Publication</th>\n",
              "      <th>N_ratings</th>\n",
              "      <th>avg_rating</th>\n",
              "    </tr>\n",
              "  </thead>\n",
              "  <tbody>\n",
              "    <tr>\n",
              "      <th>753</th>\n",
              "      <td>172130</td>\n",
              "      <td>Harry Potter and the Sorcerer's Stone (Book 1)</td>\n",
              "      <td>J. K. Rowling</td>\n",
              "      <td>1998.0</td>\n",
              "      <td>97</td>\n",
              "      <td>6.917526</td>\n",
              "    </tr>\n",
              "    <tr>\n",
              "      <th>763</th>\n",
              "      <td>183360</td>\n",
              "      <td>Harry Potter and the Chamber of Secrets (Book 2)</td>\n",
              "      <td>J. K. Rowling</td>\n",
              "      <td>1999.0</td>\n",
              "      <td>103</td>\n",
              "      <td>6.485437</td>\n",
              "    </tr>\n",
              "    <tr>\n",
              "      <th>1206</th>\n",
              "      <td>116632</td>\n",
              "      <td>Harry Potter and the Prisoner of Azkaban (Book 3)</td>\n",
              "      <td>J. K. Rowling</td>\n",
              "      <td>2001.0</td>\n",
              "      <td>226</td>\n",
              "      <td>5.345133</td>\n",
              "    </tr>\n",
              "    <tr>\n",
              "      <th>1345</th>\n",
              "      <td>232482</td>\n",
              "      <td>Harry Potter and the Chamber of Secrets (Book 2)</td>\n",
              "      <td>J. K. Rowling</td>\n",
              "      <td>2000.0</td>\n",
              "      <td>351</td>\n",
              "      <td>4.729345</td>\n",
              "    </tr>\n",
              "    <tr>\n",
              "      <th>1702</th>\n",
              "      <td>70570</td>\n",
              "      <td>Harry Potter and the Goblet of Fire (Book 4)</td>\n",
              "      <td>J. K. Rowling</td>\n",
              "      <td>2002.0</td>\n",
              "      <td>120</td>\n",
              "      <td>5.041667</td>\n",
              "    </tr>\n",
              "    <tr>\n",
              "      <th>...</th>\n",
              "      <td>...</td>\n",
              "      <td>...</td>\n",
              "      <td>...</td>\n",
              "      <td>...</td>\n",
              "      <td>...</td>\n",
              "      <td>...</td>\n",
              "    </tr>\n",
              "    <tr>\n",
              "      <th>203352</th>\n",
              "      <td>38852</td>\n",
              "      <td>Harry Potter and the Chamber of Secrets (Book ...</td>\n",
              "      <td>J. K. Rowling</td>\n",
              "      <td>1999.0</td>\n",
              "      <td>1</td>\n",
              "      <td>8.000000</td>\n",
              "    </tr>\n",
              "    <tr>\n",
              "      <th>207933</th>\n",
              "      <td>261432</td>\n",
              "      <td>Harry Potter. Magisches Tagebuch. Ausgabe grÃ?...</td>\n",
              "      <td>Joanne K. Rowling</td>\n",
              "      <td>2001.0</td>\n",
              "      <td>1</td>\n",
              "      <td>0.000000</td>\n",
              "    </tr>\n",
              "    <tr>\n",
              "      <th>228034</th>\n",
              "      <td>156747</td>\n",
              "      <td>Harry Potter and the Sorcerer's Stone (Book 1)</td>\n",
              "      <td>J. K. Rowling</td>\n",
              "      <td>2001.0</td>\n",
              "      <td>2</td>\n",
              "      <td>5.000000</td>\n",
              "    </tr>\n",
              "    <tr>\n",
              "      <th>231928</th>\n",
              "      <td>92164</td>\n",
              "      <td>Harry Potter, tome 2 : Harry Potter et la Cham...</td>\n",
              "      <td>Joanne K. Rowling</td>\n",
              "      <td>1999.0</td>\n",
              "      <td>1</td>\n",
              "      <td>6.000000</td>\n",
              "    </tr>\n",
              "    <tr>\n",
              "      <th>241680</th>\n",
              "      <td>214770</td>\n",
              "      <td>Harry Potter and the Order of the Phoenix (Boo...</td>\n",
              "      <td>J. K. Rowling</td>\n",
              "      <td>2003.0</td>\n",
              "      <td>1</td>\n",
              "      <td>8.000000</td>\n",
              "    </tr>\n",
              "  </tbody>\n",
              "</table>\n",
              "<p>83 rows × 6 columns</p>\n",
              "</div>"
            ],
            "text/plain": [
              "        Book-ID                                         Book-Title  \\\n",
              "753      172130     Harry Potter and the Sorcerer's Stone (Book 1)   \n",
              "763      183360   Harry Potter and the Chamber of Secrets (Book 2)   \n",
              "1206     116632  Harry Potter and the Prisoner of Azkaban (Book 3)   \n",
              "1345     232482   Harry Potter and the Chamber of Secrets (Book 2)   \n",
              "1702      70570       Harry Potter and the Goblet of Fire (Book 4)   \n",
              "...         ...                                                ...   \n",
              "203352    38852  Harry Potter and the Chamber of Secrets (Book ...   \n",
              "207933   261432  Harry Potter. Magisches Tagebuch. Ausgabe grÃ?...   \n",
              "228034   156747     Harry Potter and the Sorcerer's Stone (Book 1)   \n",
              "231928    92164  Harry Potter, tome 2 : Harry Potter et la Cham...   \n",
              "241680   214770  Harry Potter and the Order of the Phoenix (Boo...   \n",
              "\n",
              "              Book-Author  Year-Of-Publication  N_ratings  avg_rating  \n",
              "753         J. K. Rowling               1998.0         97    6.917526  \n",
              "763         J. K. Rowling               1999.0        103    6.485437  \n",
              "1206        J. K. Rowling               2001.0        226    5.345133  \n",
              "1345        J. K. Rowling               2000.0        351    4.729345  \n",
              "1702        J. K. Rowling               2002.0        120    5.041667  \n",
              "...                   ...                  ...        ...         ...  \n",
              "203352      J. K. Rowling               1999.0          1    8.000000  \n",
              "207933  Joanne K. Rowling               2001.0          1    0.000000  \n",
              "228034      J. K. Rowling               2001.0          2    5.000000  \n",
              "231928  Joanne K. Rowling               1999.0          1    6.000000  \n",
              "241680      J. K. Rowling               2003.0          1    8.000000  \n",
              "\n",
              "[83 rows x 6 columns]"
            ]
          },
          "execution_count": 56,
          "metadata": {},
          "output_type": "execute_result"
        }
      ],
      "source": [
        "books[books[\"Book-Title\"].str.contains(\"Harry Potter\") & books[\"Book-Author\"].str.contains(\"Rowling\")]"
      ]
    },
    {
      "cell_type": "markdown",
      "id": "4bc3ebb6",
      "metadata": {
        "id": "4bc3ebb6"
      },
      "source": [
        "# Location"
      ]
    },
    {
      "cell_type": "markdown",
      "id": "a02adade",
      "metadata": {
        "id": "a02adade"
      },
      "source": [
        "- city, state, country 로 구성."
      ]
    },
    {
      "cell_type": "markdown",
      "id": "815b2852",
      "metadata": {
        "id": "815b2852"
      },
      "source": [
        "국가 정보만 있는 새로운 열 생성"
      ]
    },
    {
      "cell_type": "code",
      "execution_count": null,
      "id": "68c9874a",
      "metadata": {
        "id": "68c9874a"
      },
      "outputs": [],
      "source": [
        "# Location 변수에서 \"vermilion\", \"ohio\", \"usa\" 추출하여 새로운 변수 생성\n",
        "new_train = train.copy()\n",
        "# new_trains = count_null_values(new_train, \"\")\n",
        "# new_train['City'] = train['Location'].str.split(', ').str[0]\n",
        "# new_train['State'] = train['Location'].str.split(', ').str[1]\n",
        "# new_train['Country'] = train['Location'].str.split(', ').str[-1]\n",
        "countries = []\n",
        "cond = new_train['Location'].str.split(',')\n",
        "\n",
        "for cont in cond:\n",
        "    \n",
        "    countries.append(cont[-1].strip().title())"
      ]
    },
    {
      "cell_type": "code",
      "execution_count": null,
      "id": "01a971cc",
      "metadata": {
        "id": "01a971cc"
      },
      "outputs": [],
      "source": [
        "countries = []\n",
        "cond = new_train['Location'].str.split(',')\n",
        "\n",
        "for cont in cond:\n",
        "    \n",
        "    countries.append(cont[-1].strip().title())"
      ]
    },
    {
      "cell_type": "code",
      "execution_count": null,
      "id": "0092058f",
      "metadata": {
        "id": "0092058f",
        "outputId": "b796136c-f8ce-465f-a177-a3bbb0e8af67"
      },
      "outputs": [
        {
          "data": {
            "text/html": [
              "<div>\n",
              "<style scoped>\n",
              "    .dataframe tbody tr th:only-of-type {\n",
              "        vertical-align: middle;\n",
              "    }\n",
              "\n",
              "    .dataframe tbody tr th {\n",
              "        vertical-align: top;\n",
              "    }\n",
              "\n",
              "    .dataframe thead th {\n",
              "        text-align: right;\n",
              "    }\n",
              "</style>\n",
              "<table border=\"1\" class=\"dataframe\">\n",
              "  <thead>\n",
              "    <tr style=\"text-align: right;\">\n",
              "      <th></th>\n",
              "      <th>ID</th>\n",
              "      <th>User-ID</th>\n",
              "      <th>Book-ID</th>\n",
              "      <th>Book-Rating</th>\n",
              "      <th>Age</th>\n",
              "      <th>Location</th>\n",
              "      <th>Book-Title</th>\n",
              "      <th>Book-Author</th>\n",
              "      <th>Year-Of-Publication</th>\n",
              "      <th>Publisher</th>\n",
              "      <th>Country</th>\n",
              "    </tr>\n",
              "  </thead>\n",
              "  <tbody>\n",
              "    <tr>\n",
              "      <th>0</th>\n",
              "      <td>TRAIN_000000</td>\n",
              "      <td>USER_00000</td>\n",
              "      <td>44368</td>\n",
              "      <td>8</td>\n",
              "      <td>23.0</td>\n",
              "      <td>sackville, new brunswick, canada</td>\n",
              "      <td>Road Taken</td>\n",
              "      <td>Rona Jaffe</td>\n",
              "      <td>2001.0</td>\n",
              "      <td>Mira</td>\n",
              "      <td>Canada</td>\n",
              "    </tr>\n",
              "    <tr>\n",
              "      <th>1</th>\n",
              "      <td>TRAIN_000001</td>\n",
              "      <td>USER_00000</td>\n",
              "      <td>81205</td>\n",
              "      <td>8</td>\n",
              "      <td>23.0</td>\n",
              "      <td>sackville, new brunswick, canada</td>\n",
              "      <td>Macbeth (New Penguin Shakespeare)</td>\n",
              "      <td>William Shakespeare</td>\n",
              "      <td>1981.0</td>\n",
              "      <td>Penguin Books</td>\n",
              "      <td>Canada</td>\n",
              "    </tr>\n",
              "    <tr>\n",
              "      <th>2</th>\n",
              "      <td>TRAIN_000002</td>\n",
              "      <td>USER_00000</td>\n",
              "      <td>86781</td>\n",
              "      <td>0</td>\n",
              "      <td>23.0</td>\n",
              "      <td>sackville, new brunswick, canada</td>\n",
              "      <td>Waverley (Penguin English Library)</td>\n",
              "      <td>Walter Scott</td>\n",
              "      <td>1981.0</td>\n",
              "      <td>Penguin Books</td>\n",
              "      <td>Canada</td>\n",
              "    </tr>\n",
              "    <tr>\n",
              "      <th>3</th>\n",
              "      <td>TRAIN_000003</td>\n",
              "      <td>USER_00000</td>\n",
              "      <td>98622</td>\n",
              "      <td>0</td>\n",
              "      <td>23.0</td>\n",
              "      <td>sackville, new brunswick, canada</td>\n",
              "      <td>Mother Earth Father Sky</td>\n",
              "      <td>Sue Harrison</td>\n",
              "      <td>1991.0</td>\n",
              "      <td>Avon</td>\n",
              "      <td>Canada</td>\n",
              "    </tr>\n",
              "    <tr>\n",
              "      <th>4</th>\n",
              "      <td>TRAIN_000004</td>\n",
              "      <td>USER_00000</td>\n",
              "      <td>180810</td>\n",
              "      <td>8</td>\n",
              "      <td>23.0</td>\n",
              "      <td>sackville, new brunswick, canada</td>\n",
              "      <td>She Who Remembers</td>\n",
              "      <td>Linda Lay Shuler</td>\n",
              "      <td>1989.0</td>\n",
              "      <td>Signet Book</td>\n",
              "      <td>Canada</td>\n",
              "    </tr>\n",
              "  </tbody>\n",
              "</table>\n",
              "</div>"
            ],
            "text/plain": [
              "             ID     User-ID  Book-ID  Book-Rating   Age  \\\n",
              "0  TRAIN_000000  USER_00000    44368            8  23.0   \n",
              "1  TRAIN_000001  USER_00000    81205            8  23.0   \n",
              "2  TRAIN_000002  USER_00000    86781            0  23.0   \n",
              "3  TRAIN_000003  USER_00000    98622            0  23.0   \n",
              "4  TRAIN_000004  USER_00000   180810            8  23.0   \n",
              "\n",
              "                           Location                          Book-Title  \\\n",
              "0  sackville, new brunswick, canada                          Road Taken   \n",
              "1  sackville, new brunswick, canada   Macbeth (New Penguin Shakespeare)   \n",
              "2  sackville, new brunswick, canada  Waverley (Penguin English Library)   \n",
              "3  sackville, new brunswick, canada             Mother Earth Father Sky   \n",
              "4  sackville, new brunswick, canada                   She Who Remembers   \n",
              "\n",
              "           Book-Author  Year-Of-Publication      Publisher Country  \n",
              "0           Rona Jaffe               2001.0           Mira  Canada  \n",
              "1  William Shakespeare               1981.0  Penguin Books  Canada  \n",
              "2         Walter Scott               1981.0  Penguin Books  Canada  \n",
              "3         Sue Harrison               1991.0           Avon  Canada  \n",
              "4     Linda Lay Shuler               1989.0    Signet Book  Canada  "
            ]
          },
          "execution_count": 60,
          "metadata": {},
          "output_type": "execute_result"
        }
      ],
      "source": [
        "new_train[\"Country\"] = countries\n",
        "new_train.head()"
      ]
    },
    {
      "cell_type": "markdown",
      "id": "1843697e",
      "metadata": {
        "id": "1843697e"
      },
      "source": [
        "\"Usa\", \"United Sates\"와 같이 동일 국가여도 다르게 표기된 데이터들이 있어 해당 정보 통일해주는 전처리 진행"
      ]
    },
    {
      "cell_type": "code",
      "execution_count": null,
      "id": "9ef154ad",
      "metadata": {
        "id": "9ef154ad"
      },
      "outputs": [],
      "source": [
        "new_train.loc[new_train[\"Country\"] == \"Usa\", \"Country\"] = \"United States\"\n",
        "new_train.loc[new_train[\"Country\"] == \"España\", \"Country\"] = \"Spain\"\n",
        "new_train.loc[new_train[\"Country\"] == \"England\", \"Country\"] = \"United Kingdom\"\n",
        "new_train.loc[new_train[\"Country\"] == \"Trinidad And Tobago\", \"Country\"] = \"Trinidad and Tobago\"\n",
        "new_train.loc[new_train[\"Country\"] == \"Deutschland\", \"Country\"] = \"Germany\"\n",
        "new_train.loc[new_train[\"Country\"] == \"Tanzania\", \"Country\"] = \"Tanzania, United Republic of\"\n",
        "new_train.loc[new_train[\"Country\"] == \"Moldova\", \"Country\"] = \"Moldova, Republic of\"\n",
        "new_train.loc[new_train[\"Country\"] == \"Czech Republic\", \"Country\"] = \"Czechia\"\n",
        "new_train.loc[new_train[\"Country\"] == \"South Korea\", \"Country\"] = \"Korea, Republic of\"\n",
        "new_train.loc[new_train[\"Country\"] == \"Venezuela\", \"Country\"] = \"Venezuela, Bolivarian Republic of\"\n",
        "new_train.loc[new_train[\"Country\"] == \"Galiza\", \"Country\"] = \"Spain\"\n",
        "new_train.loc[new_train[\"Country\"] == \"Taiwan\", \"Country\"] = \"Taiwan, Province of China\"\n",
        "new_train.loc[new_train[\"Country\"] == \"Scotland\", \"Country\"] = \"United Kingdom\"\n",
        "new_train.loc[new_train[\"Country\"] == \"Bolivia\", \"Country\"] = \"Bolivia, Plurinational State of\"\n",
        "new_train.loc[new_train[\"Country\"] == \"Iran\", \"Country\"] = \"Iran, Islamic Republic of\"\n",
        "new_train.loc[new_train[\"Country\"] == \"United Sates\", \"Country\"] = \"United States\"\n",
        "new_train.loc[new_train[\"Country\"] == \"Maricopa\", \"Country\"] = \"United States\"\n",
        "new_train.loc[new_train[\"Country\"] == \"Galiza Neghra\", \"Country\"] = \"Spain\"\n",
        "new_train.loc[new_train[\"Country\"] == \"Richmond Country\", \"Country\"] = \"United States\"\n",
        "new_train.loc[new_train[\"Country\"] == \"Catalunya\", \"Country\"] = \"Spain\"\n",
        "new_train.loc[new_train[\"Country\"] == \"Vietnam\", \"Country\"] = \"Viet Nam\"\n",
        "new_train.loc[new_train[\"Country\"] == \"La Chine Éternelle\", \"Country\"] = \"China\"\n",
        "new_train.loc[new_train[\"Country\"] == \"Lleida\", \"Country\"] = \"Spain\"\n",
        "new_train.loc[new_train[\"Country\"] == \"La Chine Éternelle !\", \"Country\"] = \"China\"\n",
        "new_train.loc[new_train[\"Country\"] == \"La Chine Éternelle!\", \"Country\"] = \"China\"\n",
        "new_train.loc[new_train[\"Country\"] == \"Framingham\", \"Country\"] = \"United States\"\n",
        "new_train.loc[new_train[\"Country\"] == \"Usa (Currently Living In England)\", \"Country\"] = \"United Kingdom\"\n",
        "new_train.loc[new_train[\"Country\"] == \"Alderney\", \"Country\"] = \"United Kingdom\"\n",
        "new_train.loc[new_train[\"Country\"] == \"Saint Loius\", \"Country\"] = \"United States\"\n",
        "new_train.loc[new_train[\"Country\"] == \"Laos\", \"Country\"] = \"LA\"\n",
        "new_train.loc[new_train[\"Country\"] == \"Collin\", \"Country\"] = \"United States\"\n",
        "new_train.loc[new_train[\"Country\"] == \"Burma\", \"Country\"] = \"Myanmar\"\n",
        "new_train.loc[new_train[\"Country\"] == \"Shelby\", \"Country\"] = \"United States\"\n",
        "new_train.loc[new_train[\"Country\"] == \"Worcester\", \"Country\"] = \"United States\"\n",
        "new_train.loc[new_train[\"Country\"] == \"Los Estados Unidos De Norte America\", \"Country\"] = \"United States\"\n",
        "new_train.loc[new_train[\"Country\"] == \"Russia\", \"Country\"] = \"Russian Federation\"\n",
        "new_train.loc[new_train[\"Country\"] == \"Polk\", \"Country\"] = \"United States\"\n",
        "new_train.loc[new_train[\"Country\"] == \"U.A.E\", \"Country\"] = \"United Arab Emirates\"\n",
        "new_train.loc[new_train[\"Country\"] == \"U.S.A.\", \"Country\"] = \"United States\"\n",
        "new_train.loc[new_train[\"Country\"] == \"Cherokee\", \"Country\"] = \"United States\"\n",
        "new_train.loc[new_train[\"Country\"] == \"Cananda\", \"Country\"] = \"Canada\"\n",
        "new_train.loc[new_train[\"Country\"] == \"Morgan\", \"Country\"] = \"France\"\n",
        "new_train.loc[new_train[\"Country\"] == \"Cape Verde\", \"Country\"] = \"Cabo Verde\"\n",
        "new_train.loc[new_train[\"Country\"] == \"Antigua And Barbuda\", \"Country\"] = \"Antigua and Barbuda\"\n",
        "new_train.loc[new_train[\"Country\"] == \"Us\", \"Country\"] = \"United States\"\n",
        "new_train.loc[new_train[\"Country\"] == \"Euskal Herria\", \"Country\"] = \"Spain\"\n",
        "new_train.loc[new_train[\"Country\"] == \"Bosnia And Herzegovina\", \"Country\"] = \"Bosnia and Herzegovina\"\n",
        "new_train.loc[new_train[\"Country\"] == \"Ventura County\", \"Country\"] = \"United States\"\n",
        "new_train.loc[new_train[\"Country\"] == \"Csa\", \"Country\"] = \"Canada\"\n",
        "new_train.loc[new_train[\"Country\"] == \"Hernando\", \"Country\"] = \"United States\"\n",
        "new_train.loc[new_train[\"Country\"] == \"Prince William\", \"Country\"] = \"United Kingdom\"\n",
        "new_train.loc[new_train[\"Country\"] == \"Onondaga Nation\", \"Country\"] = \"United States\"\n",
        "new_train.loc[new_train[\"Country\"] == \"Tobago\", \"Country\"] = \"Trinidad and Tobago\"\n",
        "new_train.loc[new_train[\"Country\"] == \"Catalonia\", \"Country\"] = \"Spain\"\n",
        "new_train.loc[new_train[\"Country\"] == \"Urugua\", \"Country\"] = \"Uruguay\"\n",
        "new_train.loc[new_train[\"Country\"] == \"Phillipines\", \"Country\"] = \"Philippines\"\n",
        "new_train.loc[new_train[\"Country\"] == \"San Mateo\", \"Country\"] = \"United States\"\n",
        "new_train.loc[new_train[\"Country\"] == \"Nz\", \"Country\"] = \"New Zealand\"\n",
        "new_train.loc[new_train[\"Country\"] == \"Italia\", \"Country\"] = \"Italy\"\n",
        "new_train.loc[new_train[\"Country\"] == \"Berguedà\", \"Country\"] = \"Spain\"\n",
        "new_train.loc[new_train[\"Country\"] == \"Ferrara\", \"Country\"] = \"Italy\"\n",
        "new_train.loc[new_train[\"Country\"] == \"L`Italia\", \"Country\"] = \"Italy\"\n",
        "new_train.loc[new_train[\"Country\"] == \"Wales\", \"Country\"] = \"United Kingdom\"\n",
        "new_train.loc[new_train[\"Country\"] == \"Macau\", \"Country\"] = \"China\"\n",
        "new_train.loc[new_train[\"Country\"] == \"Macedonia\", \"Country\"] = \"North Macedonia\"\n",
        "new_train.loc[new_train[\"Country\"] == \"Channel Islands\", \"Country\"] = \"United Kingdom\"\n",
        "new_train.loc[new_train[\"Country\"] == \"United Kindgonm\", \"Country\"] = \"United Kingdom\"\n",
        "new_train.loc[new_train[\"Country\"] == \"Brunei\", \"Country\"] = \"Brunei Darussalam\"\n",
        "new_train.loc[new_train[\"Country\"] == \"K1C7B1\", \"Country\"] = \"Canada\"\n",
        "new_train.loc[new_train[\"Country\"] == \"St.Thomasi\", \"Country\"] = \"Canada\"\n",
        "new_train.loc[new_train[\"Country\"] == \"Catalunya Spain\", \"Country\"] = \"Spain\"\n",
        "new_train.loc[new_train[\"Country\"] == \"La Belgique\", \"Country\"] = \"Belgium\"\n",
        "new_train.loc[new_train[\"Country\"] == \"Aroostook\", \"Country\"] = \"United States\"\n",
        "new_train.loc[new_train[\"Country\"] == \"Rutherford\", \"Country\"] = \"United States\"\n",
        "new_train.loc[new_train[\"Country\"] == \"Fort Bend\", \"Country\"] = \"United States\"\n",
        "new_train.loc[new_train[\"Country\"] == \"Syria\", \"Country\"] = \"Syrian Arab Republic\"\n",
        "new_train.loc[new_train[\"Country\"] == \"U.K.\", \"Country\"] = \"United Kingdom\"\n",
        "new_train.loc[new_train[\"Country\"] == \"Madrid\", \"Country\"] = \"Spain\"\n",
        "new_train.loc[new_train[\"Country\"] == \"Orense\", \"Country\"] = \"Spain\"\n",
        "new_train.loc[new_train[\"Country\"] == \"St. Helena\", \"Country\"] = \"United Kingdom\"\n",
        "new_train.loc[new_train[\"Country\"] == \"La France\", \"Country\"] = \"France\"\n",
        "new_train.loc[new_train[\"Country\"] == \"U.S. Of A.\", \"Country\"] = \"United States\"\n",
        "new_train.loc[new_train[\"Country\"] == \"United Staes\", \"Country\"] = \"United States\"\n",
        "new_train.loc[new_train[\"Country\"] == \"Ee.Uu\", \"Country\"] = \"United States\"\n",
        "new_train.loc[new_train[\"Country\"] == \"Alachua\", \"Country\"] = \"United States\"\n",
        "new_train.loc[new_train[\"Country\"] == \"Burlington\", \"Country\"] = \"United States\"\n",
        "new_train.loc[new_train[\"Country\"] == \"Van Wert\", \"Country\"] = \"United States\"\n",
        "new_train.loc[new_train[\"Country\"] == \"Camden\", \"Country\"] = \"United Kingdom\"\n",
        "new_train.loc[new_train[\"Country\"] == \"U.S>\", \"Country\"] = \"United States\"\n",
        "new_train.loc[new_train[\"Country\"] == \"America\", \"Country\"] = \"United States\"\n",
        "new_train.loc[new_train[\"Country\"] == \"United State\", \"Country\"] = \"United States\""
      ]
    },
    {
      "cell_type": "code",
      "execution_count": null,
      "id": "8299f1e8",
      "metadata": {
        "scrolled": true,
        "id": "8299f1e8",
        "outputId": "2d561168-be4e-416c-fb4b-fcc5154ee194"
      },
      "outputs": [
        {
          "data": {
            "text/html": [
              "<div>\n",
              "<style scoped>\n",
              "    .dataframe tbody tr th:only-of-type {\n",
              "        vertical-align: middle;\n",
              "    }\n",
              "\n",
              "    .dataframe tbody tr th {\n",
              "        vertical-align: top;\n",
              "    }\n",
              "\n",
              "    .dataframe thead th {\n",
              "        text-align: right;\n",
              "    }\n",
              "</style>\n",
              "<table border=\"1\" class=\"dataframe\">\n",
              "  <thead>\n",
              "    <tr style=\"text-align: right;\">\n",
              "      <th></th>\n",
              "      <th>ID</th>\n",
              "      <th>User-ID</th>\n",
              "      <th>Book-ID</th>\n",
              "      <th>Book-Rating</th>\n",
              "      <th>Age</th>\n",
              "      <th>Location</th>\n",
              "      <th>Book-Title</th>\n",
              "      <th>Book-Author</th>\n",
              "      <th>Year-Of-Publication</th>\n",
              "      <th>Publisher</th>\n",
              "      <th>Country</th>\n",
              "    </tr>\n",
              "  </thead>\n",
              "  <tbody>\n",
              "    <tr>\n",
              "      <th>0</th>\n",
              "      <td>TRAIN_000000</td>\n",
              "      <td>USER_00000</td>\n",
              "      <td>44368</td>\n",
              "      <td>8</td>\n",
              "      <td>23.0</td>\n",
              "      <td>sackville, new brunswick, canada</td>\n",
              "      <td>Road Taken</td>\n",
              "      <td>Rona Jaffe</td>\n",
              "      <td>2001.0</td>\n",
              "      <td>Mira</td>\n",
              "      <td>Canada</td>\n",
              "    </tr>\n",
              "    <tr>\n",
              "      <th>1</th>\n",
              "      <td>TRAIN_000001</td>\n",
              "      <td>USER_00000</td>\n",
              "      <td>81205</td>\n",
              "      <td>8</td>\n",
              "      <td>23.0</td>\n",
              "      <td>sackville, new brunswick, canada</td>\n",
              "      <td>Macbeth (New Penguin Shakespeare)</td>\n",
              "      <td>William Shakespeare</td>\n",
              "      <td>1981.0</td>\n",
              "      <td>Penguin Books</td>\n",
              "      <td>Canada</td>\n",
              "    </tr>\n",
              "    <tr>\n",
              "      <th>2</th>\n",
              "      <td>TRAIN_000002</td>\n",
              "      <td>USER_00000</td>\n",
              "      <td>86781</td>\n",
              "      <td>0</td>\n",
              "      <td>23.0</td>\n",
              "      <td>sackville, new brunswick, canada</td>\n",
              "      <td>Waverley (Penguin English Library)</td>\n",
              "      <td>Walter Scott</td>\n",
              "      <td>1981.0</td>\n",
              "      <td>Penguin Books</td>\n",
              "      <td>Canada</td>\n",
              "    </tr>\n",
              "    <tr>\n",
              "      <th>3</th>\n",
              "      <td>TRAIN_000003</td>\n",
              "      <td>USER_00000</td>\n",
              "      <td>98622</td>\n",
              "      <td>0</td>\n",
              "      <td>23.0</td>\n",
              "      <td>sackville, new brunswick, canada</td>\n",
              "      <td>Mother Earth Father Sky</td>\n",
              "      <td>Sue Harrison</td>\n",
              "      <td>1991.0</td>\n",
              "      <td>Avon</td>\n",
              "      <td>Canada</td>\n",
              "    </tr>\n",
              "    <tr>\n",
              "      <th>4</th>\n",
              "      <td>TRAIN_000004</td>\n",
              "      <td>USER_00000</td>\n",
              "      <td>180810</td>\n",
              "      <td>8</td>\n",
              "      <td>23.0</td>\n",
              "      <td>sackville, new brunswick, canada</td>\n",
              "      <td>She Who Remembers</td>\n",
              "      <td>Linda Lay Shuler</td>\n",
              "      <td>1989.0</td>\n",
              "      <td>Signet Book</td>\n",
              "      <td>Canada</td>\n",
              "    </tr>\n",
              "    <tr>\n",
              "      <th>...</th>\n",
              "      <td>...</td>\n",
              "      <td>...</td>\n",
              "      <td>...</td>\n",
              "      <td>...</td>\n",
              "      <td>...</td>\n",
              "      <td>...</td>\n",
              "      <td>...</td>\n",
              "      <td>...</td>\n",
              "      <td>...</td>\n",
              "      <td>...</td>\n",
              "      <td>...</td>\n",
              "    </tr>\n",
              "    <tr>\n",
              "      <th>871388</th>\n",
              "      <td>TRAIN_871388</td>\n",
              "      <td>USER_92096</td>\n",
              "      <td>81138</td>\n",
              "      <td>0</td>\n",
              "      <td>34.0</td>\n",
              "      <td>minneapolis, minnesota, usa</td>\n",
              "      <td>Healing Words: The Power of Prayer and the Pra...</td>\n",
              "      <td>Larry Dossey</td>\n",
              "      <td>1993.0</td>\n",
              "      <td>Harpercollins</td>\n",
              "      <td>United States</td>\n",
              "    </tr>\n",
              "    <tr>\n",
              "      <th>871389</th>\n",
              "      <td>TRAIN_871389</td>\n",
              "      <td>USER_92097</td>\n",
              "      <td>258124</td>\n",
              "      <td>0</td>\n",
              "      <td>35.0</td>\n",
              "      <td>temple, texas, usa</td>\n",
              "      <td>The Salmon of Doubt: Hitchhiking the Galaxy On...</td>\n",
              "      <td>DOUGLAS ADAMS</td>\n",
              "      <td>2002.0</td>\n",
              "      <td>Harmony</td>\n",
              "      <td>United States</td>\n",
              "    </tr>\n",
              "    <tr>\n",
              "      <th>871390</th>\n",
              "      <td>TRAIN_871390</td>\n",
              "      <td>USER_92098</td>\n",
              "      <td>71848</td>\n",
              "      <td>0</td>\n",
              "      <td>45.0</td>\n",
              "      <td>ottawa, ontario, canada</td>\n",
              "      <td>Harry Potter and the Prisoner of Azkaban (Book 3)</td>\n",
              "      <td>J. K. Rowling</td>\n",
              "      <td>2000.0</td>\n",
              "      <td>Thorndike Press</td>\n",
              "      <td>Canada</td>\n",
              "    </tr>\n",
              "    <tr>\n",
              "      <th>871391</th>\n",
              "      <td>TRAIN_871391</td>\n",
              "      <td>USER_92099</td>\n",
              "      <td>252599</td>\n",
              "      <td>8</td>\n",
              "      <td>43.0</td>\n",
              "      <td>maple grove, minnesota, usa</td>\n",
              "      <td>Heartbreak Hill: Anatomy of a Ryder Cup</td>\n",
              "      <td>Tim Rosaforte</td>\n",
              "      <td>1996.0</td>\n",
              "      <td>St Martins Pr</td>\n",
              "      <td>United States</td>\n",
              "    </tr>\n",
              "    <tr>\n",
              "      <th>871392</th>\n",
              "      <td>TRAIN_871392</td>\n",
              "      <td>USER_92100</td>\n",
              "      <td>130798</td>\n",
              "      <td>0</td>\n",
              "      <td>35.0</td>\n",
              "      <td>castiglion fiorentino, toscana, italy</td>\n",
              "      <td>The Coffin Quilt: The Feud between the Hatfiel...</td>\n",
              "      <td>Ann Rinaldi</td>\n",
              "      <td>1999.0</td>\n",
              "      <td>Harcourt Children's Books</td>\n",
              "      <td>Italy</td>\n",
              "    </tr>\n",
              "  </tbody>\n",
              "</table>\n",
              "<p>871393 rows × 11 columns</p>\n",
              "</div>"
            ],
            "text/plain": [
              "                  ID     User-ID  Book-ID  Book-Rating   Age  \\\n",
              "0       TRAIN_000000  USER_00000    44368            8  23.0   \n",
              "1       TRAIN_000001  USER_00000    81205            8  23.0   \n",
              "2       TRAIN_000002  USER_00000    86781            0  23.0   \n",
              "3       TRAIN_000003  USER_00000    98622            0  23.0   \n",
              "4       TRAIN_000004  USER_00000   180810            8  23.0   \n",
              "...              ...         ...      ...          ...   ...   \n",
              "871388  TRAIN_871388  USER_92096    81138            0  34.0   \n",
              "871389  TRAIN_871389  USER_92097   258124            0  35.0   \n",
              "871390  TRAIN_871390  USER_92098    71848            0  45.0   \n",
              "871391  TRAIN_871391  USER_92099   252599            8  43.0   \n",
              "871392  TRAIN_871392  USER_92100   130798            0  35.0   \n",
              "\n",
              "                                     Location  \\\n",
              "0            sackville, new brunswick, canada   \n",
              "1            sackville, new brunswick, canada   \n",
              "2            sackville, new brunswick, canada   \n",
              "3            sackville, new brunswick, canada   \n",
              "4            sackville, new brunswick, canada   \n",
              "...                                       ...   \n",
              "871388            minneapolis, minnesota, usa   \n",
              "871389                     temple, texas, usa   \n",
              "871390                ottawa, ontario, canada   \n",
              "871391            maple grove, minnesota, usa   \n",
              "871392  castiglion fiorentino, toscana, italy   \n",
              "\n",
              "                                               Book-Title  \\\n",
              "0                                              Road Taken   \n",
              "1                       Macbeth (New Penguin Shakespeare)   \n",
              "2                      Waverley (Penguin English Library)   \n",
              "3                                 Mother Earth Father Sky   \n",
              "4                                       She Who Remembers   \n",
              "...                                                   ...   \n",
              "871388  Healing Words: The Power of Prayer and the Pra...   \n",
              "871389  The Salmon of Doubt: Hitchhiking the Galaxy On...   \n",
              "871390  Harry Potter and the Prisoner of Azkaban (Book 3)   \n",
              "871391            Heartbreak Hill: Anatomy of a Ryder Cup   \n",
              "871392  The Coffin Quilt: The Feud between the Hatfiel...   \n",
              "\n",
              "                Book-Author  Year-Of-Publication                  Publisher  \\\n",
              "0                Rona Jaffe               2001.0                       Mira   \n",
              "1       William Shakespeare               1981.0              Penguin Books   \n",
              "2              Walter Scott               1981.0              Penguin Books   \n",
              "3              Sue Harrison               1991.0                       Avon   \n",
              "4          Linda Lay Shuler               1989.0                Signet Book   \n",
              "...                     ...                  ...                        ...   \n",
              "871388         Larry Dossey               1993.0              Harpercollins   \n",
              "871389        DOUGLAS ADAMS               2002.0                    Harmony   \n",
              "871390        J. K. Rowling               2000.0            Thorndike Press   \n",
              "871391        Tim Rosaforte               1996.0              St Martins Pr   \n",
              "871392          Ann Rinaldi               1999.0  Harcourt Children's Books   \n",
              "\n",
              "              Country  \n",
              "0              Canada  \n",
              "1              Canada  \n",
              "2              Canada  \n",
              "3              Canada  \n",
              "4              Canada  \n",
              "...               ...  \n",
              "871388  United States  \n",
              "871389  United States  \n",
              "871390         Canada  \n",
              "871391  United States  \n",
              "871392          Italy  \n",
              "\n",
              "[871393 rows x 11 columns]"
            ]
          },
          "execution_count": 62,
          "metadata": {},
          "output_type": "execute_result"
        }
      ],
      "source": [
        "new_train"
      ]
    },
    {
      "cell_type": "markdown",
      "id": "9e87e41d",
      "metadata": {
        "id": "9e87e41d"
      },
      "source": [
        "올바르지 않은 명칭으로 표기된 국가정보를 찾기 위해 pycountry 라이브러리 사용"
      ]
    },
    {
      "cell_type": "code",
      "execution_count": null,
      "id": "c52a8827",
      "metadata": {
        "id": "c52a8827",
        "outputId": "5c8fcc9d-2b56-4b50-ff2d-6e5d2e166739"
      },
      "outputs": [
        {
          "name": "stdout",
          "output_type": "stream",
          "text": [
            "Defaulting to user installation because normal site-packages is not writeable\n",
            "Collecting pycountry\n",
            "  Downloading pycountry-22.3.5.tar.gz (10.1 MB)\n",
            "     |████████████████████████████████| 10.1 MB 21.0 MB/s            \n",
            "\u001b[?25h  Installing build dependencies ... \u001b[?25ldone\n",
            "\u001b[?25h  Getting requirements to build wheel ... \u001b[?25ldone\n",
            "\u001b[?25h  Preparing metadata (pyproject.toml) ... \u001b[?25ldone\n",
            "\u001b[?25hRequirement already satisfied: setuptools in /usr/local/lib/python3.8/dist-packages (from pycountry) (65.5.1)\n",
            "Building wheels for collected packages: pycountry\n",
            "  Building wheel for pycountry (pyproject.toml) ... \u001b[?25ldone\n",
            "\u001b[?25h  Created wheel for pycountry: filename=pycountry-22.3.5-py2.py3-none-any.whl size=10681832 sha256=139c8830d22d73a3180b06bd7589645277e5157a6a187463b4c155dce7adb2c7\n",
            "  Stored in directory: /home/work/.cache/pip/wheels/e2/aa/0f/c224e473b464387170b83ca7c66947b4a7e33e8d903a679748\n",
            "Successfully built pycountry\n",
            "Installing collected packages: pycountry\n",
            "Successfully installed pycountry-22.3.5\n"
          ]
        }
      ],
      "source": [
        "#!pip install pycountry"
      ]
    },
    {
      "cell_type": "code",
      "execution_count": null,
      "id": "f0e78ebc",
      "metadata": {
        "id": "f0e78ebc"
      },
      "outputs": [],
      "source": [
        "import pycountry\n",
        "\n",
        "countries = [country.name for country in pycountry.countries]"
      ]
    },
    {
      "cell_type": "code",
      "execution_count": null,
      "id": "a5a6ef35",
      "metadata": {
        "id": "a5a6ef35"
      },
      "outputs": [],
      "source": [
        "country_values = new_train[\"Country\"].unique()"
      ]
    },
    {
      "cell_type": "code",
      "execution_count": null,
      "id": "6f9ba57c",
      "metadata": {
        "id": "6f9ba57c",
        "outputId": "775d80b2-8e37-4bed-8caa-781cf67d3d66"
      },
      "outputs": [
        {
          "name": "stdout",
          "output_type": "stream",
          "text": [
            "Belgium\n"
          ]
        }
      ],
      "source": [
        "import pycountry\n",
        "\n",
        "country = pycountry.countries.lookup('BE')\n",
        "print(country.name)"
      ]
    },
    {
      "cell_type": "markdown",
      "id": "9a2bd2c1",
      "metadata": {
        "id": "9a2bd2c1"
      },
      "source": [
        "해당 데이터는 사용자가 자유롭게 지역을 기입하는 방식으로 구성되어 있어 아래와 같이 국가정보 파악이 힘든 데이터가 있음을 발견 "
      ]
    },
    {
      "cell_type": "code",
      "execution_count": null,
      "id": "86224562",
      "metadata": {
        "id": "86224562",
        "outputId": "c687aad9-f755-46ed-8757-11bdfd45dc35"
      },
      "outputs": [
        {
          "name": "stdout",
          "output_type": "stream",
          "text": [
            "Invalid country name: \n",
            "Invalid country name: Petrolwar Nation\n",
            "Invalid country name: The World Tomorrow\n",
            "Invalid country name: Universe\n",
            "Invalid country name: LA\n",
            "Invalid country name: N/A\n",
            "Invalid country name: Tdzimi\n",
            "Invalid country name: Space\n",
            "Invalid country name: Here And There\n",
            "Invalid country name: Pender\n",
            "Invalid country name: Yugoslavia\n",
            "Invalid country name: X\n",
            "Invalid country name: Kern\n",
            "Invalid country name: We`Re Global!\n",
            "Invalid country name: Disgruntled States Of America\n",
            "Invalid country name: Unknown\n",
            "Invalid country name: Ysa\n",
            "Invalid country name: N/A - On The Road\n",
            "Invalid country name: The Great White North\n",
            "Invalid country name: Caribbean Sea\n",
            "Invalid country name: \"N/A\"\n",
            "Invalid country name: The\n",
            "Invalid country name: Far Away...\n",
            "Invalid country name: Quit\n",
            "Invalid country name: Hungary And Usa\n",
            "Invalid country name: C\n",
            "Invalid country name: Everywhere And Anywhere\n"
          ]
        }
      ],
      "source": [
        "invalid_countries = []\n",
        "\n",
        "for country in country_values:\n",
        "    if country not in countries:\n",
        "        print(f\"Invalid country name: {country}\")\n",
        "        invalid_countries.append(country)\n"
      ]
    },
    {
      "cell_type": "markdown",
      "id": "a329a3e9",
      "metadata": {
        "id": "a329a3e9"
      },
      "source": [
        "위 국가 정보 삭제 "
      ]
    },
    {
      "cell_type": "code",
      "execution_count": null,
      "id": "8cfaee0f",
      "metadata": {
        "id": "8cfaee0f"
      },
      "outputs": [],
      "source": [
        "for country in invalid_countries:\n",
        "    new_train = new_train[new_train['Country'] != country]"
      ]
    },
    {
      "cell_type": "markdown",
      "id": "e959e24a",
      "metadata": {
        "id": "e959e24a"
      },
      "source": [
        "국가명(Country)을 ISO-3166-1 alpha-3 국가 코드로 변환"
      ]
    },
    {
      "cell_type": "code",
      "execution_count": null,
      "id": "a8ec94a8",
      "metadata": {
        "id": "a8ec94a8",
        "outputId": "92f0c698-b714-4162-c4e8-35d8db4ed469"
      },
      "outputs": [
        {
          "name": "stdout",
          "output_type": "stream",
          "text": [
            "Defaulting to user installation because normal site-packages is not writeable\n",
            "Collecting country_converter\n",
            "  Downloading country_converter-1.0.0-py3-none-any.whl (44 kB)\n",
            "     |████████████████████████████████| 44 kB 6.2 MB/s             \n",
            "\u001b[?25hRequirement already satisfied: pandas>=1.0 in /usr/local/lib/python3.8/dist-packages (from country_converter) (1.3.4)\n",
            "Requirement already satisfied: pytz>=2017.3 in /usr/local/lib/python3.8/dist-packages (from pandas>=1.0->country_converter) (2022.2.1)\n",
            "Requirement already satisfied: python-dateutil>=2.7.3 in /usr/local/lib/python3.8/dist-packages (from pandas>=1.0->country_converter) (2.8.2)\n",
            "Requirement already satisfied: numpy>=1.17.3 in /usr/local/lib/python3.8/dist-packages (from pandas>=1.0->country_converter) (1.21.1)\n",
            "Requirement already satisfied: six>=1.5 in /usr/local/lib/python3.8/dist-packages (from python-dateutil>=2.7.3->pandas>=1.0->country_converter) (1.15.0)\n",
            "Installing collected packages: country-converter\n",
            "\u001b[33m  WARNING: The script coco is installed in '/home/work/.local/bin' which is not on PATH.\n",
            "  Consider adding this directory to PATH or, if you prefer to suppress this warning, use --no-warn-script-location.\n",
            "  NOTE: The current PATH contains path(s) starting with `~`, which may not be expanded by all applications.\u001b[0m\n",
            "Successfully installed country-converter-1.0.0\n"
          ]
        }
      ],
      "source": [
        "#!pip install country_converter\n"
      ]
    },
    {
      "cell_type": "code",
      "execution_count": null,
      "id": "5feef103",
      "metadata": {
        "id": "5feef103"
      },
      "outputs": [],
      "source": [
        "import country_converter as coco"
      ]
    },
    {
      "cell_type": "code",
      "execution_count": null,
      "id": "9d9afbee",
      "metadata": {
        "id": "9d9afbee"
      },
      "outputs": [],
      "source": [
        "converted_country=coco.convert(names=new_train[\"Country\"], to=\"ISO3\")\n",
        "new_train[\"Country\"]=converted_country"
      ]
    },
    {
      "cell_type": "code",
      "execution_count": null,
      "id": "15e1c951",
      "metadata": {
        "id": "15e1c951",
        "outputId": "67fc7151-6c36-4581-fe84-786078e788fd"
      },
      "outputs": [
        {
          "data": {
            "text/html": [
              "<div>\n",
              "<style scoped>\n",
              "    .dataframe tbody tr th:only-of-type {\n",
              "        vertical-align: middle;\n",
              "    }\n",
              "\n",
              "    .dataframe tbody tr th {\n",
              "        vertical-align: top;\n",
              "    }\n",
              "\n",
              "    .dataframe thead th {\n",
              "        text-align: right;\n",
              "    }\n",
              "</style>\n",
              "<table border=\"1\" class=\"dataframe\">\n",
              "  <thead>\n",
              "    <tr style=\"text-align: right;\">\n",
              "      <th></th>\n",
              "      <th>index</th>\n",
              "      <th>Country</th>\n",
              "    </tr>\n",
              "  </thead>\n",
              "  <tbody>\n",
              "    <tr>\n",
              "      <th>0</th>\n",
              "      <td>USA</td>\n",
              "      <td>630647</td>\n",
              "    </tr>\n",
              "    <tr>\n",
              "      <th>1</th>\n",
              "      <td>CAN</td>\n",
              "      <td>78576</td>\n",
              "    </tr>\n",
              "    <tr>\n",
              "      <th>2</th>\n",
              "      <td>GBR</td>\n",
              "      <td>27202</td>\n",
              "    </tr>\n",
              "    <tr>\n",
              "      <th>3</th>\n",
              "      <td>DEU</td>\n",
              "      <td>23481</td>\n",
              "    </tr>\n",
              "    <tr>\n",
              "      <th>4</th>\n",
              "      <td>AUS</td>\n",
              "      <td>15270</td>\n",
              "    </tr>\n",
              "    <tr>\n",
              "      <th>5</th>\n",
              "      <td>ESP</td>\n",
              "      <td>12638</td>\n",
              "    </tr>\n",
              "    <tr>\n",
              "      <th>6</th>\n",
              "      <td>FRA</td>\n",
              "      <td>8969</td>\n",
              "    </tr>\n",
              "    <tr>\n",
              "      <th>7</th>\n",
              "      <td>PRT</td>\n",
              "      <td>5974</td>\n",
              "    </tr>\n",
              "    <tr>\n",
              "      <th>8</th>\n",
              "      <td>NZL</td>\n",
              "      <td>4691</td>\n",
              "    </tr>\n",
              "    <tr>\n",
              "      <th>9</th>\n",
              "      <td>MYS</td>\n",
              "      <td>4551</td>\n",
              "    </tr>\n",
              "  </tbody>\n",
              "</table>\n",
              "</div>"
            ],
            "text/plain": [
              "  index  Country\n",
              "0   USA   630647\n",
              "1   CAN    78576\n",
              "2   GBR    27202\n",
              "3   DEU    23481\n",
              "4   AUS    15270\n",
              "5   ESP    12638\n",
              "6   FRA     8969\n",
              "7   PRT     5974\n",
              "8   NZL     4691\n",
              "9   MYS     4551"
            ]
          },
          "execution_count": 92,
          "metadata": {},
          "output_type": "execute_result"
        }
      ],
      "source": [
        "countriestop10=new_train['Country'].value_counts().reset_index().head(10)\n",
        "countriestop10.set_index('index')"
      ]
    },
    {
      "cell_type": "code",
      "execution_count": null,
      "id": "5fc77f8c",
      "metadata": {
        "id": "5fc77f8c",
        "outputId": "7abe3fb0-f5c5-4087-a83a-5017524973a2"
      },
      "outputs": [
        {
          "data": {
            "text/html": [
              "<div>\n",
              "<style scoped>\n",
              "    .dataframe tbody tr th:only-of-type {\n",
              "        vertical-align: middle;\n",
              "    }\n",
              "\n",
              "    .dataframe tbody tr th {\n",
              "        vertical-align: top;\n",
              "    }\n",
              "\n",
              "    .dataframe thead th {\n",
              "        text-align: right;\n",
              "    }\n",
              "</style>\n",
              "<table border=\"1\" class=\"dataframe\">\n",
              "  <thead>\n",
              "    <tr style=\"text-align: right;\">\n",
              "      <th></th>\n",
              "      <th>Country</th>\n",
              "    </tr>\n",
              "    <tr>\n",
              "      <th>index</th>\n",
              "      <th></th>\n",
              "    </tr>\n",
              "  </thead>\n",
              "  <tbody>\n",
              "    <tr>\n",
              "      <th>USA</th>\n",
              "      <td>0.751758</td>\n",
              "    </tr>\n",
              "    <tr>\n",
              "      <th>CAN</th>\n",
              "      <td>0.093666</td>\n",
              "    </tr>\n",
              "    <tr>\n",
              "      <th>GBR</th>\n",
              "      <td>0.032426</td>\n",
              "    </tr>\n",
              "    <tr>\n",
              "      <th>DEU</th>\n",
              "      <td>0.027990</td>\n",
              "    </tr>\n",
              "    <tr>\n",
              "      <th>AUS</th>\n",
              "      <td>0.018202</td>\n",
              "    </tr>\n",
              "    <tr>\n",
              "      <th>ESP</th>\n",
              "      <td>0.015065</td>\n",
              "    </tr>\n",
              "    <tr>\n",
              "      <th>FRA</th>\n",
              "      <td>0.010691</td>\n",
              "    </tr>\n",
              "    <tr>\n",
              "      <th>PRT</th>\n",
              "      <td>0.007121</td>\n",
              "    </tr>\n",
              "    <tr>\n",
              "      <th>NZL</th>\n",
              "      <td>0.005592</td>\n",
              "    </tr>\n",
              "    <tr>\n",
              "      <th>MYS</th>\n",
              "      <td>0.005425</td>\n",
              "    </tr>\n",
              "  </tbody>\n",
              "</table>\n",
              "</div>"
            ],
            "text/plain": [
              "        Country\n",
              "index          \n",
              "USA    0.751758\n",
              "CAN    0.093666\n",
              "GBR    0.032426\n",
              "DEU    0.027990\n",
              "AUS    0.018202\n",
              "ESP    0.015065\n",
              "FRA    0.010691\n",
              "PRT    0.007121\n",
              "NZL    0.005592\n",
              "MYS    0.005425"
            ]
          },
          "execution_count": 105,
          "metadata": {},
          "output_type": "execute_result"
        }
      ],
      "source": [
        "countriestop10pct=new_train['Country'].value_counts(1).reset_index().head(10)\n",
        "countriestop10pct.set_index('index')"
      ]
    },
    {
      "cell_type": "code",
      "execution_count": null,
      "id": "a2248482",
      "metadata": {
        "id": "a2248482",
        "outputId": "72013299-fb99-453e-f2ec-2b7ef157b955"
      },
      "outputs": [
        {
          "data": {
            "text/plain": [
              "<AxesSubplot:xlabel='index', ylabel='Country'>"
            ]
          },
          "execution_count": 102,
          "metadata": {},
          "output_type": "execute_result"
        },
        {
          "data": {
            "image/png": "[encoded data removed]",
            "text/plain": [
              "<Figure size 640x480 with 1 Axes>"
            ]
          },
          "metadata": {},
          "output_type": "display_data"
        }
      ],
      "source": [
        "sns.barplot(x=countriestop10.index, y=countriestop10.Country)"
      ]
    },
    {
      "cell_type": "markdown",
      "id": "3108ab4d",
      "metadata": {
        "id": "3108ab4d"
      },
      "source": [
        "* USA =  미국\n",
        "* CAN =  캐나다\n",
        "* GBR =  영국 \n",
        "* DEU =  독일\n",
        "* AUS =  호주\n",
        "* ESP = 스페인\n",
        "* FRA = 프랑스\n",
        "* PRT = 포르투갈\n",
        "* NZL = 뉴질랜드\n",
        "* MYS =  말레이시아 "
      ]
    },
    {
      "cell_type": "markdown",
      "id": "8613351c",
      "metadata": {
        "id": "8613351c"
      },
      "source": [
        "도서이용량이 많은 나라는 미국이 압도적으로 가장 많으며 캐나다, 영국, 독일, 호주 등으로 분포되어있다"
      ]
    },
    {
      "cell_type": "code",
      "execution_count": null,
      "id": "79f2953c",
      "metadata": {
        "id": "79f2953c",
        "outputId": "ede9f568-e8f8-4d79-e5de-60af6ef8e94b"
      },
      "outputs": [
        {
          "name": "stdout",
          "output_type": "stream",
          "text": [
            "Defaulting to user installation because normal site-packages is not writeable\n",
            "Collecting plotly-express\n",
            "  Downloading plotly_express-0.4.1-py2.py3-none-any.whl (2.9 kB)\n",
            "Requirement already satisfied: scipy>=0.18 in /usr/local/lib/python3.8/dist-packages (from plotly-express) (1.4.1)\n",
            "Requirement already satisfied: patsy>=0.5 in /usr/local/lib/python3.8/dist-packages (from plotly-express) (0.5.1)\n",
            "Requirement already satisfied: statsmodels>=0.9.0 in /usr/local/lib/python3.8/dist-packages (from plotly-express) (0.11.1)\n",
            "Requirement already satisfied: plotly>=4.1.0 in /usr/local/lib/python3.8/dist-packages (from plotly-express) (4.5.3)\n",
            "Requirement already satisfied: numpy>=1.11 in /usr/local/lib/python3.8/dist-packages (from plotly-express) (1.21.1)\n",
            "Requirement already satisfied: pandas>=0.20.0 in /usr/local/lib/python3.8/dist-packages (from plotly-express) (1.3.4)\n",
            "Requirement already satisfied: pytz>=2017.3 in /usr/local/lib/python3.8/dist-packages (from pandas>=0.20.0->plotly-express) (2022.2.1)\n",
            "Requirement already satisfied: python-dateutil>=2.7.3 in /usr/local/lib/python3.8/dist-packages (from pandas>=0.20.0->plotly-express) (2.8.2)\n",
            "Requirement already satisfied: six in /usr/local/lib/python3.8/dist-packages (from patsy>=0.5->plotly-express) (1.15.0)\n",
            "Requirement already satisfied: retrying>=1.3.3 in /usr/local/lib/python3.8/dist-packages (from plotly>=4.1.0->plotly-express) (1.3.3)\n",
            "Installing collected packages: plotly-express\n",
            "Successfully installed plotly-express-0.4.1\n"
          ]
        }
      ],
      "source": [
        "#!pip install plotly-express\n",
        "import plotly.express as px"
      ]
    },
    {
      "cell_type": "code",
      "execution_count": null,
      "id": "3b646146",
      "metadata": {
        "id": "3b646146",
        "outputId": "38f3fb58-251c-46c2-c49e-785269d65518"
      },
      "outputs": [
        {
          "data": {
            "text/html": [
              "        <script type=\"text/javascript\">\n",
              "        window.PlotlyConfig = {MathJaxConfig: 'local'};\n",
              "        if (window.MathJax) {MathJax.Hub.Config({SVG: {font: \"STIX-Web\"}});}\n",
              "        if (typeof require !== 'undefined') {\n",
              "        require.undef(\"plotly\");\n",
              "        requirejs.config({\n",
              "            paths: {\n",
              "                'plotly': ['https://cdn.plot.ly/plotly-latest.min']\n",
              "            }\n",
              "        });\n",
              "        require(['plotly'], function(Plotly) {\n",
              "            window._Plotly = Plotly;\n",
              "        });\n",
              "        }\n",
              "        </script>\n",
              "        "
            ]
          },
          "metadata": {},
          "output_type": "display_data"
        },
        {
          "data": {
            "application/vnd.plotly.v1+json": {
              "config": {
                "plotlyServerURL": "https://plot.ly"
              },
              "data": [
                {
                  "coloraxis": "coloraxis",
                  "geo": "geo",
                  "hoverlabel": {
                    "namelength": 0
                  },
                  "hovertemplate": "locations=%{location}<br>color=%{z}",
                  "locations": [
                    "USA",
                    "CAN",
                    "GBR",
                    "DEU",
                    "AUS",
                    "ESP",
                    "FRA",
                    "PRT",
                    "NZL",
                    "MYS",
                    "NLD",
                    "CHE",
                    "ITA",
                    "AUT",
                    "IRN",
                    "ROU",
                    "FIN",
                    "SGP",
                    "DOM",
                    "BRA",
                    "SWE",
                    "IRL",
                    "PHL",
                    "JPN",
                    "BEL",
                    "CHN",
                    "NOR",
                    "DNK",
                    "HKG",
                    "POL",
                    "MEX",
                    "ARG",
                    "QAT",
                    "ZAF",
                    "GRC",
                    "ISR",
                    "CRI",
                    "BGR",
                    "ABW",
                    "TWN",
                    "IND",
                    "KWT",
                    "LUX",
                    "EGY",
                    "CHL",
                    "MMR",
                    "CZE",
                    "KOR",
                    "GGY",
                    "TUR",
                    "ATA",
                    "ISL",
                    "TTO",
                    "SVN",
                    "VEN",
                    "CYP",
                    "IDN",
                    "SVK",
                    "RUS",
                    "HUN",
                    "LCA",
                    "MDG",
                    "LTU",
                    "MLT",
                    "CUB",
                    "BHS",
                    "BMU",
                    "SAU",
                    "HRV",
                    "ZWE",
                    "PNG",
                    "VNM",
                    "PAK",
                    "PER",
                    "PAN",
                    "UKR",
                    "IRQ",
                    "AND",
                    "KEN",
                    "KAZ",
                    "LKA",
                    "CYM",
                    "COL",
                    "HND",
                    "ARE",
                    "SLB",
                    "ALB",
                    "JAM",
                    "BLZ",
                    "MDA",
                    "HTI",
                    "BHR",
                    "THA",
                    "CPV",
                    "BRB",
                    "URY",
                    "GRD",
                    "TZA",
                    "GTM",
                    "BEN",
                    "BOL",
                    "NGA",
                    "ECU",
                    "NPL",
                    "GIN",
                    "GHA",
                    "JEY",
                    "UZB",
                    "OMN",
                    "PRI",
                    "BRN",
                    "MAR",
                    "AFG",
                    "GAB",
                    "MUS",
                    "TUN",
                    "FJI",
                    "EST",
                    "PRY",
                    "CMR",
                    "ATG",
                    "LVA",
                    "GEO",
                    "GNB",
                    "TJK",
                    "UGA",
                    "MOZ",
                    "SYR",
                    "SLV",
                    "MNG",
                    "GUM",
                    "LBN",
                    "MCO",
                    "BGD",
                    "BIH",
                    "DZA",
                    "ZMB",
                    "PLW",
                    "MKD",
                    "ETH",
                    "NER",
                    "RWA",
                    "MHL",
                    "TKM",
                    "BFA",
                    "KHM"
                  ],
                  "name": "",
                  "type": "choropleth",
                  "z": [
                    630647,
                    78576,
                    27202,
                    23481,
                    15270,
                    12638,
                    8969,
                    5974,
                    4691,
                    4551,
                    4031,
                    3437,
                    2906,
                    2307,
                    1268,
                    1058,
                    1057,
                    1049,
                    902,
                    761,
                    711,
                    697,
                    600,
                    520,
                    443,
                    430,
                    362,
                    300,
                    277,
                    264,
                    238,
                    205,
                    202,
                    186,
                    173,
                    171,
                    142,
                    136,
                    126,
                    119,
                    114,
                    97,
                    92,
                    92,
                    78,
                    77,
                    75,
                    71,
                    68,
                    55,
                    54,
                    53,
                    48,
                    44,
                    41,
                    39,
                    32,
                    32,
                    32,
                    31,
                    24,
                    22,
                    19,
                    19,
                    18,
                    18,
                    17,
                    17,
                    17,
                    16,
                    16,
                    16,
                    16,
                    15,
                    15,
                    15,
                    14,
                    13,
                    12,
                    11,
                    11,
                    11,
                    10,
                    10,
                    10,
                    10,
                    9,
                    9,
                    9,
                    9,
                    9,
                    8,
                    8,
                    8,
                    7,
                    7,
                    7,
                    7,
                    6,
                    6,
                    5,
                    5,
                    5,
                    5,
                    4,
                    4,
                    4,
                    3,
                    3,
                    3,
                    3,
                    3,
                    3,
                    2,
                    2,
                    2,
                    2,
                    2,
                    2,
                    2,
                    2,
                    2,
                    2,
                    1,
                    1,
                    1,
                    1,
                    1,
                    1,
                    1,
                    1,
                    1,
                    1,
                    1,
                    1,
                    1,
                    1,
                    1,
                    1,
                    1,
                    1,
                    1,
                    1,
                    1,
                    1,
                    1
                  ]
                }
              ],
              "layout": {
                "coloraxis": {
                  "colorbar": {
                    "title": {
                      "text": "color"
                    }
                  },
                  "colorscale": [
                    [
                      0,
                      "rgb(230, 240, 240)"
                    ],
                    [
                      0.09090909090909091,
                      "rgb(191, 221, 229)"
                    ],
                    [
                      0.18181818181818182,
                      "rgb(156, 201, 226)"
                    ],
                    [
                      0.2727272727272727,
                      "rgb(129, 180, 227)"
                    ],
                    [
                      0.36363636363636365,
                      "rgb(115, 154, 228)"
                    ],
                    [
                      0.45454545454545453,
                      "rgb(117, 127, 221)"
                    ],
                    [
                      0.5454545454545454,
                      "rgb(120, 100, 202)"
                    ],
                    [
                      0.6363636363636364,
                      "rgb(119, 74, 175)"
                    ],
                    [
                      0.7272727272727273,
                      "rgb(113, 50, 141)"
                    ],
                    [
                      0.8181818181818182,
                      "rgb(100, 31, 104)"
                    ],
                    [
                      0.9090909090909091,
                      "rgb(80, 20, 66)"
                    ],
                    [
                      1,
                      "rgb(54, 14, 36)"
                    ]
                  ]
                },
                "font": {
                  "family": "Franklin Gothic",
                  "size": 17
                },
                "geo": {
                  "center": {},
                  "domain": {
                    "x": [
                      0,
                      1
                    ],
                    "y": [
                      0,
                      1
                    ]
                  }
                },
                "legend": {
                  "tracegroupgap": 0
                },
                "template": {
                  "data": {
                    "bar": [
                      {
                        "error_x": {
                          "color": "#f2f5fa"
                        },
                        "error_y": {
                          "color": "#f2f5fa"
                        },
                        "marker": {
                          "line": {
                            "color": "rgb(17,17,17)",
                            "width": 0.5
                          }
                        },
                        "type": "bar"
                      }
                    ],
                    "barpolar": [
                      {
                        "marker": {
                          "line": {
                            "color": "rgb(17,17,17)",
                            "width": 0.5
                          }
                        },
                        "type": "barpolar"
                      }
                    ],
                    "carpet": [
                      {
                        "aaxis": {
                          "endlinecolor": "#A2B1C6",
                          "gridcolor": "#506784",
                          "linecolor": "#506784",
                          "minorgridcolor": "#506784",
                          "startlinecolor": "#A2B1C6"
                        },
                        "baxis": {
                          "endlinecolor": "#A2B1C6",
                          "gridcolor": "#506784",
                          "linecolor": "#506784",
                          "minorgridcolor": "#506784",
                          "startlinecolor": "#A2B1C6"
                        },
                        "type": "carpet"
                      }
                    ],
                    "choropleth": [
                      {
                        "colorbar": {
                          "outlinewidth": 0,
                          "ticks": ""
                        },
                        "type": "choropleth"
                      }
                    ],
                    "contour": [
                      {
                        "colorbar": {
                          "outlinewidth": 0,
                          "ticks": ""
                        },
                        "colorscale": [
                          [
                            0,
                            "#0d0887"
                          ],
                          [
                            0.1111111111111111,
                            "#46039f"
                          ],
                          [
                            0.2222222222222222,
                            "#7201a8"
                          ],
                          [
                            0.3333333333333333,
                            "#9c179e"
                          ],
                          [
                            0.4444444444444444,
                            "#bd3786"
                          ],
                          [
                            0.5555555555555556,
                            "#d8576b"
                          ],
                          [
                            0.6666666666666666,
                            "#ed7953"
                          ],
                          [
                            0.7777777777777778,
                            "#fb9f3a"
                          ],
                          [
                            0.8888888888888888,
                            "#fdca26"
                          ],
                          [
                            1,
                            "#f0f921"
                          ]
                        ],
                        "type": "contour"
                      }
                    ],
                    "contourcarpet": [
                      {
                        "colorbar": {
                          "outlinewidth": 0,
                          "ticks": ""
                        },
                        "type": "contourcarpet"
                      }
                    ],
                    "heatmap": [
                      {
                        "colorbar": {
                          "outlinewidth": 0,
                          "ticks": ""
                        },
                        "colorscale": [
                          [
                            0,
                            "#0d0887"
                          ],
                          [
                            0.1111111111111111,
                            "#46039f"
                          ],
                          [
                            0.2222222222222222,
                            "#7201a8"
                          ],
                          [
                            0.3333333333333333,
                            "#9c179e"
                          ],
                          [
                            0.4444444444444444,
                            "#bd3786"
                          ],
                          [
                            0.5555555555555556,
                            "#d8576b"
                          ],
                          [
                            0.6666666666666666,
                            "#ed7953"
                          ],
                          [
                            0.7777777777777778,
                            "#fb9f3a"
                          ],
                          [
                            0.8888888888888888,
                            "#fdca26"
                          ],
                          [
                            1,
                            "#f0f921"
                          ]
                        ],
                        "type": "heatmap"
                      }
                    ],
                    "heatmapgl": [
                      {
                        "colorbar": {
                          "outlinewidth": 0,
                          "ticks": ""
                        },
                        "colorscale": [
                          [
                            0,
                            "#0d0887"
                          ],
                          [
                            0.1111111111111111,
                            "#46039f"
                          ],
                          [
                            0.2222222222222222,
                            "#7201a8"
                          ],
                          [
                            0.3333333333333333,
                            "#9c179e"
                          ],
                          [
                            0.4444444444444444,
                            "#bd3786"
                          ],
                          [
                            0.5555555555555556,
                            "#d8576b"
                          ],
                          [
                            0.6666666666666666,
                            "#ed7953"
                          ],
                          [
                            0.7777777777777778,
                            "#fb9f3a"
                          ],
                          [
                            0.8888888888888888,
                            "#fdca26"
                          ],
                          [
                            1,
                            "#f0f921"
                          ]
                        ],
                        "type": "heatmapgl"
                      }
                    ],
                    "histogram": [
                      {
                        "marker": {
                          "colorbar": {
                            "outlinewidth": 0,
                            "ticks": ""
                          }
                        },
                        "type": "histogram"
                      }
                    ],
                    "histogram2d": [
                      {
                        "colorbar": {
                          "outlinewidth": 0,
                          "ticks": ""
                        },
                        "colorscale": [
                          [
                            0,
                            "#0d0887"
                          ],
                          [
                            0.1111111111111111,
                            "#46039f"
                          ],
                          [
                            0.2222222222222222,
                            "#7201a8"
                          ],
                          [
                            0.3333333333333333,
                            "#9c179e"
                          ],
                          [
                            0.4444444444444444,
                            "#bd3786"
                          ],
                          [
                            0.5555555555555556,
                            "#d8576b"
                          ],
                          [
                            0.6666666666666666,
                            "#ed7953"
                          ],
                          [
                            0.7777777777777778,
                            "#fb9f3a"
                          ],
                          [
                            0.8888888888888888,
                            "#fdca26"
                          ],
                          [
                            1,
                            "#f0f921"
                          ]
                        ],
                        "type": "histogram2d"
                      }
                    ],
                    "histogram2dcontour": [
                      {
                        "colorbar": {
                          "outlinewidth": 0,
                          "ticks": ""
                        },
                        "colorscale": [
                          [
                            0,
                            "#0d0887"
                          ],
                          [
                            0.1111111111111111,
                            "#46039f"
                          ],
                          [
                            0.2222222222222222,
                            "#7201a8"
                          ],
                          [
                            0.3333333333333333,
                            "#9c179e"
                          ],
                          [
                            0.4444444444444444,
                            "#bd3786"
                          ],
                          [
                            0.5555555555555556,
                            "#d8576b"
                          ],
                          [
                            0.6666666666666666,
                            "#ed7953"
                          ],
                          [
                            0.7777777777777778,
                            "#fb9f3a"
                          ],
                          [
                            0.8888888888888888,
                            "#fdca26"
                          ],
                          [
                            1,
                            "#f0f921"
                          ]
                        ],
                        "type": "histogram2dcontour"
                      }
                    ],
                    "mesh3d": [
                      {
                        "colorbar": {
                          "outlinewidth": 0,
                          "ticks": ""
                        },
                        "type": "mesh3d"
                      }
                    ],
                    "parcoords": [
                      {
                        "line": {
                          "colorbar": {
                            "outlinewidth": 0,
                            "ticks": ""
                          }
                        },
                        "type": "parcoords"
                      }
                    ],
                    "pie": [
                      {
                        "automargin": true,
                        "type": "pie"
                      }
                    ],
                    "scatter": [
                      {
                        "marker": {
                          "line": {
                            "color": "#283442"
                          }
                        },
                        "type": "scatter"
                      }
                    ],
                    "scatter3d": [
                      {
                        "line": {
                          "colorbar": {
                            "outlinewidth": 0,
                            "ticks": ""
                          }
                        },
                        "marker": {
                          "colorbar": {
                            "outlinewidth": 0,
                            "ticks": ""
                          }
                        },
                        "type": "scatter3d"
                      }
                    ],
                    "scattercarpet": [
                      {
                        "marker": {
                          "colorbar": {
                            "outlinewidth": 0,
                            "ticks": ""
                          }
                        },
                        "type": "scattercarpet"
                      }
                    ],
                    "scattergeo": [
                      {
                        "marker": {
                          "colorbar": {
                            "outlinewidth": 0,
                            "ticks": ""
                          }
                        },
                        "type": "scattergeo"
                      }
                    ],
                    "scattergl": [
                      {
                        "marker": {
                          "line": {
                            "color": "#283442"
                          }
                        },
                        "type": "scattergl"
                      }
                    ],
                    "scattermapbox": [
                      {
                        "marker": {
                          "colorbar": {
                            "outlinewidth": 0,
                            "ticks": ""
                          }
                        },
                        "type": "scattermapbox"
                      }
                    ],
                    "scatterpolar": [
                      {
                        "marker": {
                          "colorbar": {
                            "outlinewidth": 0,
                            "ticks": ""
                          }
                        },
                        "type": "scatterpolar"
                      }
                    ],
                    "scatterpolargl": [
                      {
                        "marker": {
                          "colorbar": {
                            "outlinewidth": 0,
                            "ticks": ""
                          }
                        },
                        "type": "scatterpolargl"
                      }
                    ],
                    "scatterternary": [
                      {
                        "marker": {
                          "colorbar": {
                            "outlinewidth": 0,
                            "ticks": ""
                          }
                        },
                        "type": "scatterternary"
                      }
                    ],
                    "surface": [
                      {
                        "colorbar": {
                          "outlinewidth": 0,
                          "ticks": ""
                        },
                        "colorscale": [
                          [
                            0,
                            "#0d0887"
                          ],
                          [
                            0.1111111111111111,
                            "#46039f"
                          ],
                          [
                            0.2222222222222222,
                            "#7201a8"
                          ],
                          [
                            0.3333333333333333,
                            "#9c179e"
                          ],
                          [
                            0.4444444444444444,
                            "#bd3786"
                          ],
                          [
                            0.5555555555555556,
                            "#d8576b"
                          ],
                          [
                            0.6666666666666666,
                            "#ed7953"
                          ],
                          [
                            0.7777777777777778,
                            "#fb9f3a"
                          ],
                          [
                            0.8888888888888888,
                            "#fdca26"
                          ],
                          [
                            1,
                            "#f0f921"
                          ]
                        ],
                        "type": "surface"
                      }
                    ],
                    "table": [
                      {
                        "cells": {
                          "fill": {
                            "color": "#506784"
                          },
                          "line": {
                            "color": "rgb(17,17,17)"
                          }
                        },
                        "header": {
                          "fill": {
                            "color": "#2a3f5f"
                          },
                          "line": {
                            "color": "rgb(17,17,17)"
                          }
                        },
                        "type": "table"
                      }
                    ]
                  },
                  "layout": {
                    "annotationdefaults": {
                      "arrowcolor": "#f2f5fa",
                      "arrowhead": 0,
                      "arrowwidth": 1
                    },
                    "coloraxis": {
                      "colorbar": {
                        "outlinewidth": 0,
                        "ticks": ""
                      }
                    },
                    "colorscale": {
                      "diverging": [
                        [
                          0,
                          "#8e0152"
                        ],
                        [
                          0.1,
                          "#c51b7d"
                        ],
                        [
                          0.2,
                          "#de77ae"
                        ],
                        [
                          0.3,
                          "#f1b6da"
                        ],
                        [
                          0.4,
                          "#fde0ef"
                        ],
                        [
                          0.5,
                          "#f7f7f7"
                        ],
                        [
                          0.6,
                          "#e6f5d0"
                        ],
                        [
                          0.7,
                          "#b8e186"
                        ],
                        [
                          0.8,
                          "#7fbc41"
                        ],
                        [
                          0.9,
                          "#4d9221"
                        ],
                        [
                          1,
                          "#276419"
                        ]
                      ],
                      "sequential": [
                        [
                          0,
                          "#0d0887"
                        ],
                        [
                          0.1111111111111111,
                          "#46039f"
                        ],
                        [
                          0.2222222222222222,
                          "#7201a8"
                        ],
                        [
                          0.3333333333333333,
                          "#9c179e"
                        ],
                        [
                          0.4444444444444444,
                          "#bd3786"
                        ],
                        [
                          0.5555555555555556,
                          "#d8576b"
                        ],
                        [
                          0.6666666666666666,
                          "#ed7953"
                        ],
                        [
                          0.7777777777777778,
                          "#fb9f3a"
                        ],
                        [
                          0.8888888888888888,
                          "#fdca26"
                        ],
                        [
                          1,
                          "#f0f921"
                        ]
                      ],
                      "sequentialminus": [
                        [
                          0,
                          "#0d0887"
                        ],
                        [
                          0.1111111111111111,
                          "#46039f"
                        ],
                        [
                          0.2222222222222222,
                          "#7201a8"
                        ],
                        [
                          0.3333333333333333,
                          "#9c179e"
                        ],
                        [
                          0.4444444444444444,
                          "#bd3786"
                        ],
                        [
                          0.5555555555555556,
                          "#d8576b"
                        ],
                        [
                          0.6666666666666666,
                          "#ed7953"
                        ],
                        [
                          0.7777777777777778,
                          "#fb9f3a"
                        ],
                        [
                          0.8888888888888888,
                          "#fdca26"
                        ],
                        [
                          1,
                          "#f0f921"
                        ]
                      ]
                    },
                    "colorway": [
                      "#636efa",
                      "#EF553B",
                      "#00cc96",
                      "#ab63fa",
                      "#FFA15A",
                      "#19d3f3",
                      "#FF6692",
                      "#B6E880",
                      "#FF97FF",
                      "#FECB52"
                    ],
                    "font": {
                      "color": "#f2f5fa"
                    },
                    "geo": {
                      "bgcolor": "rgb(17,17,17)",
                      "lakecolor": "rgb(17,17,17)",
                      "landcolor": "rgb(17,17,17)",
                      "showlakes": true,
                      "showland": true,
                      "subunitcolor": "#506784"
                    },
                    "hoverlabel": {
                      "align": "left"
                    },
                    "hovermode": "closest",
                    "mapbox": {
                      "style": "dark"
                    },
                    "paper_bgcolor": "rgb(17,17,17)",
                    "plot_bgcolor": "rgb(17,17,17)",
                    "polar": {
                      "angularaxis": {
                        "gridcolor": "#506784",
                        "linecolor": "#506784",
                        "ticks": ""
                      },
                      "bgcolor": "rgb(17,17,17)",
                      "radialaxis": {
                        "gridcolor": "#506784",
                        "linecolor": "#506784",
                        "ticks": ""
                      }
                    },
                    "scene": {
                      "xaxis": {
                        "backgroundcolor": "rgb(17,17,17)",
                        "gridcolor": "#506784",
                        "gridwidth": 2,
                        "linecolor": "#506784",
                        "showbackground": true,
                        "ticks": "",
                        "zerolinecolor": "#C8D4E3"
                      },
                      "yaxis": {
                        "backgroundcolor": "rgb(17,17,17)",
                        "gridcolor": "#506784",
                        "gridwidth": 2,
                        "linecolor": "#506784",
                        "showbackground": true,
                        "ticks": "",
                        "zerolinecolor": "#C8D4E3"
                      },
                      "zaxis": {
                        "backgroundcolor": "rgb(17,17,17)",
                        "gridcolor": "#506784",
                        "gridwidth": 2,
                        "linecolor": "#506784",
                        "showbackground": true,
                        "ticks": "",
                        "zerolinecolor": "#C8D4E3"
                      }
                    },
                    "shapedefaults": {
                      "line": {
                        "color": "#f2f5fa"
                      }
                    },
                    "sliderdefaults": {
                      "bgcolor": "#C8D4E3",
                      "bordercolor": "rgb(17,17,17)",
                      "borderwidth": 1,
                      "tickwidth": 0
                    },
                    "ternary": {
                      "aaxis": {
                        "gridcolor": "#506784",
                        "linecolor": "#506784",
                        "ticks": ""
                      },
                      "baxis": {
                        "gridcolor": "#506784",
                        "linecolor": "#506784",
                        "ticks": ""
                      },
                      "bgcolor": "rgb(17,17,17)",
                      "caxis": {
                        "gridcolor": "#506784",
                        "linecolor": "#506784",
                        "ticks": ""
                      }
                    },
                    "title": {
                      "x": 0.05
                    },
                    "updatemenudefaults": {
                      "bgcolor": "#506784",
                      "borderwidth": 0
                    },
                    "xaxis": {
                      "automargin": true,
                      "gridcolor": "#283442",
                      "linecolor": "#506784",
                      "ticks": "",
                      "title": {
                        "standoff": 15
                      },
                      "zerolinecolor": "#283442",
                      "zerolinewidth": 2
                    },
                    "yaxis": {
                      "automargin": true,
                      "gridcolor": "#283442",
                      "linecolor": "#506784",
                      "ticks": "",
                      "title": {
                        "standoff": 15
                      },
                      "zerolinecolor": "#283442",
                      "zerolinewidth": 2
                    }
                  }
                },
                "title": {
                  "text": "Distribution of users by countries"
                }
              }
            },
            "text/html": [
              "<div>\n",
              "        \n",
              "        \n",
              "            <div id=\"40a2b0ef-58bb-4658-983a-97b3ad61fa35\" class=\"plotly-graph-div\" style=\"height:525px; width:100%;\"></div>\n",
              "            <script type=\"text/javascript\">\n",
              "                require([\"plotly\"], function(Plotly) {\n",
              "                    window.PLOTLYENV=window.PLOTLYENV || {};\n",
              "                    \n",
              "                if (document.getElementById(\"40a2b0ef-58bb-4658-983a-97b3ad61fa35\")) {\n",
              "                    Plotly.newPlot(\n",
              "                        '40a2b0ef-58bb-4658-983a-97b3ad61fa35',\n",
              "                        [{\"coloraxis\": \"coloraxis\", \"geo\": \"geo\", \"hoverlabel\": {\"namelength\": 0}, \"hovertemplate\": \"locations=%{location}<br>color=%{z}\", \"locations\": [\"USA\", \"CAN\", \"GBR\", \"DEU\", \"AUS\", \"ESP\", \"FRA\", \"PRT\", \"NZL\", \"MYS\", \"NLD\", \"CHE\", \"ITA\", \"AUT\", \"IRN\", \"ROU\", \"FIN\", \"SGP\", \"DOM\", \"BRA\", \"SWE\", \"IRL\", \"PHL\", \"JPN\", \"BEL\", \"CHN\", \"NOR\", \"DNK\", \"HKG\", \"POL\", \"MEX\", \"ARG\", \"QAT\", \"ZAF\", \"GRC\", \"ISR\", \"CRI\", \"BGR\", \"ABW\", \"TWN\", \"IND\", \"KWT\", \"LUX\", \"EGY\", \"CHL\", \"MMR\", \"CZE\", \"KOR\", \"GGY\", \"TUR\", \"ATA\", \"ISL\", \"TTO\", \"SVN\", \"VEN\", \"CYP\", \"IDN\", \"SVK\", \"RUS\", \"HUN\", \"LCA\", \"MDG\", \"LTU\", \"MLT\", \"CUB\", \"BHS\", \"BMU\", \"SAU\", \"HRV\", \"ZWE\", \"PNG\", \"VNM\", \"PAK\", \"PER\", \"PAN\", \"UKR\", \"IRQ\", \"AND\", \"KEN\", \"KAZ\", \"LKA\", \"CYM\", \"COL\", \"HND\", \"ARE\", \"SLB\", \"ALB\", \"JAM\", \"BLZ\", \"MDA\", \"HTI\", \"BHR\", \"THA\", \"CPV\", \"BRB\", \"URY\", \"GRD\", \"TZA\", \"GTM\", \"BEN\", \"BOL\", \"NGA\", \"ECU\", \"NPL\", \"GIN\", \"GHA\", \"JEY\", \"UZB\", \"OMN\", \"PRI\", \"BRN\", \"MAR\", \"AFG\", \"GAB\", \"MUS\", \"TUN\", \"FJI\", \"EST\", \"PRY\", \"CMR\", \"ATG\", \"LVA\", \"GEO\", \"GNB\", \"TJK\", \"UGA\", \"MOZ\", \"SYR\", \"SLV\", \"MNG\", \"GUM\", \"LBN\", \"MCO\", \"BGD\", \"BIH\", \"DZA\", \"ZMB\", \"PLW\", \"MKD\", \"ETH\", \"NER\", \"RWA\", \"MHL\", \"TKM\", \"BFA\", \"KHM\"], \"name\": \"\", \"type\": \"choropleth\", \"z\": [630647, 78576, 27202, 23481, 15270, 12638, 8969, 5974, 4691, 4551, 4031, 3437, 2906, 2307, 1268, 1058, 1057, 1049, 902, 761, 711, 697, 600, 520, 443, 430, 362, 300, 277, 264, 238, 205, 202, 186, 173, 171, 142, 136, 126, 119, 114, 97, 92, 92, 78, 77, 75, 71, 68, 55, 54, 53, 48, 44, 41, 39, 32, 32, 32, 31, 24, 22, 19, 19, 18, 18, 17, 17, 17, 16, 16, 16, 16, 15, 15, 15, 14, 13, 12, 11, 11, 11, 10, 10, 10, 10, 9, 9, 9, 9, 9, 8, 8, 8, 7, 7, 7, 7, 6, 6, 5, 5, 5, 5, 4, 4, 4, 3, 3, 3, 3, 3, 3, 2, 2, 2, 2, 2, 2, 2, 2, 2, 2, 1, 1, 1, 1, 1, 1, 1, 1, 1, 1, 1, 1, 1, 1, 1, 1, 1, 1, 1, 1, 1, 1, 1]}],\n",
              "                        {\"coloraxis\": {\"colorbar\": {\"title\": {\"text\": \"color\"}}, \"colorscale\": [[0.0, \"rgb(230, 240, 240)\"], [0.09090909090909091, \"rgb(191, 221, 229)\"], [0.18181818181818182, \"rgb(156, 201, 226)\"], [0.2727272727272727, \"rgb(129, 180, 227)\"], [0.36363636363636365, \"rgb(115, 154, 228)\"], [0.45454545454545453, \"rgb(117, 127, 221)\"], [0.5454545454545454, \"rgb(120, 100, 202)\"], [0.6363636363636364, \"rgb(119, 74, 175)\"], [0.7272727272727273, \"rgb(113, 50, 141)\"], [0.8181818181818182, \"rgb(100, 31, 104)\"], [0.9090909090909091, \"rgb(80, 20, 66)\"], [1.0, \"rgb(54, 14, 36)\"]]}, \"font\": {\"family\": \"Franklin Gothic\", \"size\": 17}, \"geo\": {\"center\": {}, \"domain\": {\"x\": [0.0, 1.0], \"y\": [0.0, 1.0]}}, \"legend\": {\"tracegroupgap\": 0}, \"template\": {\"data\": {\"bar\": [{\"error_x\": {\"color\": \"#f2f5fa\"}, \"error_y\": {\"color\": \"#f2f5fa\"}, \"marker\": {\"line\": {\"color\": \"rgb(17,17,17)\", \"width\": 0.5}}, \"type\": \"bar\"}], \"barpolar\": [{\"marker\": {\"line\": {\"color\": \"rgb(17,17,17)\", \"width\": 0.5}}, \"type\": \"barpolar\"}], \"carpet\": [{\"aaxis\": {\"endlinecolor\": \"#A2B1C6\", \"gridcolor\": \"#506784\", \"linecolor\": \"#506784\", \"minorgridcolor\": \"#506784\", \"startlinecolor\": \"#A2B1C6\"}, \"baxis\": {\"endlinecolor\": \"#A2B1C6\", \"gridcolor\": \"#506784\", \"linecolor\": \"#506784\", \"minorgridcolor\": \"#506784\", \"startlinecolor\": \"#A2B1C6\"}, \"type\": \"carpet\"}], \"choropleth\": [{\"colorbar\": {\"outlinewidth\": 0, \"ticks\": \"\"}, \"type\": \"choropleth\"}], \"contour\": [{\"colorbar\": {\"outlinewidth\": 0, \"ticks\": \"\"}, \"colorscale\": [[0.0, \"#0d0887\"], [0.1111111111111111, \"#46039f\"], [0.2222222222222222, \"#7201a8\"], [0.3333333333333333, \"#9c179e\"], [0.4444444444444444, \"#bd3786\"], [0.5555555555555556, \"#d8576b\"], [0.6666666666666666, \"#ed7953\"], [0.7777777777777778, \"#fb9f3a\"], [0.8888888888888888, \"#fdca26\"], [1.0, \"#f0f921\"]], \"type\": \"contour\"}], \"contourcarpet\": [{\"colorbar\": {\"outlinewidth\": 0, \"ticks\": \"\"}, \"type\": \"contourcarpet\"}], \"heatmap\": [{\"colorbar\": {\"outlinewidth\": 0, \"ticks\": \"\"}, \"colorscale\": [[0.0, \"#0d0887\"], [0.1111111111111111, \"#46039f\"], [0.2222222222222222, \"#7201a8\"], [0.3333333333333333, \"#9c179e\"], [0.4444444444444444, \"#bd3786\"], [0.5555555555555556, \"#d8576b\"], [0.6666666666666666, \"#ed7953\"], [0.7777777777777778, \"#fb9f3a\"], [0.8888888888888888, \"#fdca26\"], [1.0, \"#f0f921\"]], \"type\": \"heatmap\"}], \"heatmapgl\": [{\"colorbar\": {\"outlinewidth\": 0, \"ticks\": \"\"}, \"colorscale\": [[0.0, \"#0d0887\"], [0.1111111111111111, \"#46039f\"], [0.2222222222222222, \"#7201a8\"], [0.3333333333333333, \"#9c179e\"], [0.4444444444444444, \"#bd3786\"], [0.5555555555555556, \"#d8576b\"], [0.6666666666666666, \"#ed7953\"], [0.7777777777777778, \"#fb9f3a\"], [0.8888888888888888, \"#fdca26\"], [1.0, \"#f0f921\"]], \"type\": \"heatmapgl\"}], \"histogram\": [{\"marker\": {\"colorbar\": {\"outlinewidth\": 0, \"ticks\": \"\"}}, \"type\": \"histogram\"}], \"histogram2d\": [{\"colorbar\": {\"outlinewidth\": 0, \"ticks\": \"\"}, \"colorscale\": [[0.0, \"#0d0887\"], [0.1111111111111111, \"#46039f\"], [0.2222222222222222, \"#7201a8\"], [0.3333333333333333, \"#9c179e\"], [0.4444444444444444, \"#bd3786\"], [0.5555555555555556, \"#d8576b\"], [0.6666666666666666, \"#ed7953\"], [0.7777777777777778, \"#fb9f3a\"], [0.8888888888888888, \"#fdca26\"], [1.0, \"#f0f921\"]], \"type\": \"histogram2d\"}], \"histogram2dcontour\": [{\"colorbar\": {\"outlinewidth\": 0, \"ticks\": \"\"}, \"colorscale\": [[0.0, \"#0d0887\"], [0.1111111111111111, \"#46039f\"], [0.2222222222222222, \"#7201a8\"], [0.3333333333333333, \"#9c179e\"], [0.4444444444444444, \"#bd3786\"], [0.5555555555555556, \"#d8576b\"], [0.6666666666666666, \"#ed7953\"], [0.7777777777777778, \"#fb9f3a\"], [0.8888888888888888, \"#fdca26\"], [1.0, \"#f0f921\"]], \"type\": \"histogram2dcontour\"}], \"mesh3d\": [{\"colorbar\": {\"outlinewidth\": 0, \"ticks\": \"\"}, \"type\": \"mesh3d\"}], \"parcoords\": [{\"line\": {\"colorbar\": {\"outlinewidth\": 0, \"ticks\": \"\"}}, \"type\": \"parcoords\"}], \"pie\": [{\"automargin\": true, \"type\": \"pie\"}], \"scatter\": [{\"marker\": {\"line\": {\"color\": \"#283442\"}}, \"type\": \"scatter\"}], \"scatter3d\": [{\"line\": {\"colorbar\": {\"outlinewidth\": 0, \"ticks\": \"\"}}, \"marker\": {\"colorbar\": {\"outlinewidth\": 0, \"ticks\": \"\"}}, \"type\": \"scatter3d\"}], \"scattercarpet\": [{\"marker\": {\"colorbar\": {\"outlinewidth\": 0, \"ticks\": \"\"}}, \"type\": \"scattercarpet\"}], \"scattergeo\": [{\"marker\": {\"colorbar\": {\"outlinewidth\": 0, \"ticks\": \"\"}}, \"type\": \"scattergeo\"}], \"scattergl\": [{\"marker\": {\"line\": {\"color\": \"#283442\"}}, \"type\": \"scattergl\"}], \"scattermapbox\": [{\"marker\": {\"colorbar\": {\"outlinewidth\": 0, \"ticks\": \"\"}}, \"type\": \"scattermapbox\"}], \"scatterpolar\": [{\"marker\": {\"colorbar\": {\"outlinewidth\": 0, \"ticks\": \"\"}}, \"type\": \"scatterpolar\"}], \"scatterpolargl\": [{\"marker\": {\"colorbar\": {\"outlinewidth\": 0, \"ticks\": \"\"}}, \"type\": \"scatterpolargl\"}], \"scatterternary\": [{\"marker\": {\"colorbar\": {\"outlinewidth\": 0, \"ticks\": \"\"}}, \"type\": \"scatterternary\"}], \"surface\": [{\"colorbar\": {\"outlinewidth\": 0, \"ticks\": \"\"}, \"colorscale\": [[0.0, \"#0d0887\"], [0.1111111111111111, \"#46039f\"], [0.2222222222222222, \"#7201a8\"], [0.3333333333333333, \"#9c179e\"], [0.4444444444444444, \"#bd3786\"], [0.5555555555555556, \"#d8576b\"], [0.6666666666666666, \"#ed7953\"], [0.7777777777777778, \"#fb9f3a\"], [0.8888888888888888, \"#fdca26\"], [1.0, \"#f0f921\"]], \"type\": \"surface\"}], \"table\": [{\"cells\": {\"fill\": {\"color\": \"#506784\"}, \"line\": {\"color\": \"rgb(17,17,17)\"}}, \"header\": {\"fill\": {\"color\": \"#2a3f5f\"}, \"line\": {\"color\": \"rgb(17,17,17)\"}}, \"type\": \"table\"}]}, \"layout\": {\"annotationdefaults\": {\"arrowcolor\": \"#f2f5fa\", \"arrowhead\": 0, \"arrowwidth\": 1}, \"coloraxis\": {\"colorbar\": {\"outlinewidth\": 0, \"ticks\": \"\"}}, \"colorscale\": {\"diverging\": [[0, \"#8e0152\"], [0.1, \"#c51b7d\"], [0.2, \"#de77ae\"], [0.3, \"#f1b6da\"], [0.4, \"#fde0ef\"], [0.5, \"#f7f7f7\"], [0.6, \"#e6f5d0\"], [0.7, \"#b8e186\"], [0.8, \"#7fbc41\"], [0.9, \"#4d9221\"], [1, \"#276419\"]], \"sequential\": [[0.0, \"#0d0887\"], [0.1111111111111111, \"#46039f\"], [0.2222222222222222, \"#7201a8\"], [0.3333333333333333, \"#9c179e\"], [0.4444444444444444, \"#bd3786\"], [0.5555555555555556, \"#d8576b\"], [0.6666666666666666, \"#ed7953\"], [0.7777777777777778, \"#fb9f3a\"], [0.8888888888888888, \"#fdca26\"], [1.0, \"#f0f921\"]], \"sequentialminus\": [[0.0, \"#0d0887\"], [0.1111111111111111, \"#46039f\"], [0.2222222222222222, \"#7201a8\"], [0.3333333333333333, \"#9c179e\"], [0.4444444444444444, \"#bd3786\"], [0.5555555555555556, \"#d8576b\"], [0.6666666666666666, \"#ed7953\"], [0.7777777777777778, \"#fb9f3a\"], [0.8888888888888888, \"#fdca26\"], [1.0, \"#f0f921\"]]}, \"colorway\": [\"#636efa\", \"#EF553B\", \"#00cc96\", \"#ab63fa\", \"#FFA15A\", \"#19d3f3\", \"#FF6692\", \"#B6E880\", \"#FF97FF\", \"#FECB52\"], \"font\": {\"color\": \"#f2f5fa\"}, \"geo\": {\"bgcolor\": \"rgb(17,17,17)\", \"lakecolor\": \"rgb(17,17,17)\", \"landcolor\": \"rgb(17,17,17)\", \"showlakes\": true, \"showland\": true, \"subunitcolor\": \"#506784\"}, \"hoverlabel\": {\"align\": \"left\"}, \"hovermode\": \"closest\", \"mapbox\": {\"style\": \"dark\"}, \"paper_bgcolor\": \"rgb(17,17,17)\", \"plot_bgcolor\": \"rgb(17,17,17)\", \"polar\": {\"angularaxis\": {\"gridcolor\": \"#506784\", \"linecolor\": \"#506784\", \"ticks\": \"\"}, \"bgcolor\": \"rgb(17,17,17)\", \"radialaxis\": {\"gridcolor\": \"#506784\", \"linecolor\": \"#506784\", \"ticks\": \"\"}}, \"scene\": {\"xaxis\": {\"backgroundcolor\": \"rgb(17,17,17)\", \"gridcolor\": \"#506784\", \"gridwidth\": 2, \"linecolor\": \"#506784\", \"showbackground\": true, \"ticks\": \"\", \"zerolinecolor\": \"#C8D4E3\"}, \"yaxis\": {\"backgroundcolor\": \"rgb(17,17,17)\", \"gridcolor\": \"#506784\", \"gridwidth\": 2, \"linecolor\": \"#506784\", \"showbackground\": true, \"ticks\": \"\", \"zerolinecolor\": \"#C8D4E3\"}, \"zaxis\": {\"backgroundcolor\": \"rgb(17,17,17)\", \"gridcolor\": \"#506784\", \"gridwidth\": 2, \"linecolor\": \"#506784\", \"showbackground\": true, \"ticks\": \"\", \"zerolinecolor\": \"#C8D4E3\"}}, \"shapedefaults\": {\"line\": {\"color\": \"#f2f5fa\"}}, \"sliderdefaults\": {\"bgcolor\": \"#C8D4E3\", \"bordercolor\": \"rgb(17,17,17)\", \"borderwidth\": 1, \"tickwidth\": 0}, \"ternary\": {\"aaxis\": {\"gridcolor\": \"#506784\", \"linecolor\": \"#506784\", \"ticks\": \"\"}, \"baxis\": {\"gridcolor\": \"#506784\", \"linecolor\": \"#506784\", \"ticks\": \"\"}, \"bgcolor\": \"rgb(17,17,17)\", \"caxis\": {\"gridcolor\": \"#506784\", \"linecolor\": \"#506784\", \"ticks\": \"\"}}, \"title\": {\"x\": 0.05}, \"updatemenudefaults\": {\"bgcolor\": \"#506784\", \"borderwidth\": 0}, \"xaxis\": {\"automargin\": true, \"gridcolor\": \"#283442\", \"linecolor\": \"#506784\", \"ticks\": \"\", \"title\": {\"standoff\": 15}, \"zerolinecolor\": \"#283442\", \"zerolinewidth\": 2}, \"yaxis\": {\"automargin\": true, \"gridcolor\": \"#283442\", \"linecolor\": \"#506784\", \"ticks\": \"\", \"title\": {\"standoff\": 15}, \"zerolinecolor\": \"#283442\", \"zerolinewidth\": 2}}}, \"title\": {\"text\": \"Distribution of users by countries\"}},\n",
              "                        {\"responsive\": true}\n",
              "                    ).then(function(){\n",
              "                            \n",
              "var gd = document.getElementById('40a2b0ef-58bb-4658-983a-97b3ad61fa35');\n",
              "var x = new MutationObserver(function (mutations, observer) {{\n",
              "        var display = window.getComputedStyle(gd).display;\n",
              "        if (!display || display === 'none') {{\n",
              "            console.log([gd, 'removed!']);\n",
              "            Plotly.purge(gd);\n",
              "            observer.disconnect();\n",
              "        }}\n",
              "}});\n",
              "\n",
              "// Listen for the removal of the full notebook cells\n",
              "var notebookContainer = gd.closest('#notebook-container');\n",
              "if (notebookContainer) {{\n",
              "    x.observe(notebookContainer, {childList: true});\n",
              "}}\n",
              "\n",
              "// Listen for the clearing of the current output cell\n",
              "var outputEl = gd.closest('.output');\n",
              "if (outputEl) {{\n",
              "    x.observe(outputEl, {childList: true});\n",
              "}}\n",
              "\n",
              "                        })\n",
              "                };\n",
              "                });\n",
              "            </script>\n",
              "        </div>"
            ]
          },
          "metadata": {},
          "output_type": "display_data"
        }
      ],
      "source": [
        "import plotly.offline as pyo\n",
        "pyo.init_notebook_mode(connected=True)\n",
        "\n",
        "\n",
        "country=new_train[\"Country\"].value_counts()\n",
        "fig=px.choropleth(locations=country.index,\n",
        "                  color=country.values,\n",
        "                  color_continuous_scale=px.colors.sequential.dense,\n",
        "                  template='plotly_dark',\n",
        "                  title='Distribution of users by countries')\n",
        "\n",
        "fig.update_layout(font=dict(size=17, family=\"Franklin Gothic\"))\n",
        "fig.show()"
      ]
    },
    {
      "cell_type": "markdown",
      "id": "9c2fdff1",
      "metadata": {
        "id": "9c2fdff1"
      },
      "source": [
        "# 나라별 도서 평균 평점 "
      ]
    },
    {
      "cell_type": "code",
      "execution_count": null,
      "id": "73663e74",
      "metadata": {
        "id": "73663e74"
      },
      "outputs": [],
      "source": [
        "book_count = new_train.groupby('Book-ID')['Book-Rating'].count().reset_index(name='Count')\n",
        "book_rating = new_train.groupby('Book-ID')['Book-Rating'].mean().reset_index(name='Avg-Rating')\n",
        "book = pd.merge(book_count, book_rating, on='Book-ID')\n",
        "book['Rating-Per-Count'] = book['Avg-Rating'] / book['Count']\n",
        "country_rating = new_train.merge(book, on='Book-ID').groupby('Country')['Rating-Per-Count'].mean()\n",
        "country_rating = country_rating.sort_values(ascending=False).head(10)"
      ]
    },
    {
      "cell_type": "code",
      "execution_count": null,
      "id": "32a01563",
      "metadata": {
        "id": "32a01563",
        "outputId": "df13fe46-57ab-4946-e5aa-3a0991b450e1"
      },
      "outputs": [
        {
          "data": {
            "image/png": "[encoded data removed]",
            "text/plain": [
              "<Figure size 1500x800 with 1 Axes>"
            ]
          },
          "metadata": {},
          "output_type": "display_data"
        }
      ],
      "source": [
        "plt.figure(figsize=(15, 8))\n",
        "sns.barplot(x=country_rating.index, y=country_rating.values)\n",
        "plt.xticks(rotation=90)\n",
        "plt.title('Average Rating per Book Count by Country')\n",
        "plt.xlabel('Country')\n",
        "plt.ylabel('Average Rating per Book Count')\n",
        "plt.show()\n"
      ]
    },
    {
      "cell_type": "markdown",
      "id": "e27667a3",
      "metadata": {
        "id": "e27667a3"
      },
      "source": [
        "- UGA = 우간다\n",
        "- GAB = 가봉\n",
        "- LTU = 리투아니아\n",
        "- GTM = 과테말라\n",
        "- MUS = 모리셔스공화국\n",
        "- VNM = 베트남\n",
        "- BGD = 방글라데스\n",
        "- GNB = 기니비사우\n",
        "- AND = 안다우스\n",
        "- BRN = 브루나이"
      ]
    },
    {
      "cell_type": "markdown",
      "id": "8a9ec74f",
      "metadata": {
        "id": "8a9ec74f"
      },
      "source": [
        "나라별 도서평균평점을 가장 높게 준 나라는 순서대로 우간다이며 가봉 리투아니아 과테말라가 뒤를 잇는다."
      ]
    }
  ],
  "metadata": {
    "kernelspec": {
      "display_name": "Python 3.8 (NGC 22.09 / TensorFlow 2.9.1) on Backend.AI",
      "language": "python",
      "name": "python3"
    },
    "language_info": {
      "codemirror_mode": {
        "name": "ipython",
        "version": 3
      },
      "file_extension": ".py",
      "mimetype": "text/x-python",
      "name": "python",
      "nbconvert_exporter": "python",
      "pygments_lexer": "ipython3",
      "version": "3.8.10"
    },
    "toc": {
      "base_numbering": 1,
      "nav_menu": {},
      "number_sections": true,
      "sideBar": true,
      "skip_h1_title": false,
      "title_cell": "Table of Contents",
      "title_sidebar": "Contents",
      "toc_cell": false,
      "toc_position": {},
      "toc_section_display": true,
      "toc_window_display": true
    },
    "colab": {
      "provenance": [],
      "include_colab_link": true
    }
  },
  "nbformat": 4,
  "nbformat_minor": 5
}
